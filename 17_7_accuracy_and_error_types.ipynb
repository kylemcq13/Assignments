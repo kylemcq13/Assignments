{
  "nbformat": 4,
  "nbformat_minor": 0,
  "metadata": {
    "hide_input": false,
    "kernelspec": {
      "display_name": "Python 3",
      "language": "python",
      "name": "python3"
    },
    "language_info": {
      "codemirror_mode": {
        "name": "ipython",
        "version": 3
      },
      "file_extension": ".py",
      "mimetype": "text/x-python",
      "name": "python",
      "nbconvert_exporter": "python",
      "pygments_lexer": "ipython3",
      "version": "3.7.1"
    },
    "toc": {
      "colors": {
        "hover_highlight": "#DAA520",
        "running_highlight": "#FF0000",
        "selected_highlight": "#FFD700"
      },
      "moveMenuLeft": true,
      "nav_menu": {
        "height": "96px",
        "width": "252px"
      },
      "navigate_menu": true,
      "number_sections": true,
      "sideBar": true,
      "threshold": 4,
      "toc_cell": false,
      "toc_section_display": "block",
      "toc_window_display": false
    },
    "colab": {
      "name": "17.7 accuracy_and_error_types.ipynb",
      "provenance": [],
      "include_colab_link": true
    }
  },
  "cells": [
    {
      "cell_type": "markdown",
      "metadata": {
        "id": "view-in-github",
        "colab_type": "text"
      },
      "source": [
        "<a href=\"https://colab.research.google.com/github/kylemcq13/Projects/blob/master/17_7_accuracy_and_error_types.ipynb\" target=\"_parent\"><img src=\"https://colab.research.google.com/assets/colab-badge.svg\" alt=\"Open In Colab\"/></a>"
      ]
    },
    {
      "cell_type": "code",
      "metadata": {
        "run_control": {
          "frozen": false,
          "read_only": false
        },
        "id": "RpbWhjl_yL60",
        "colab_type": "code",
        "colab": {}
      },
      "source": [
        "%matplotlib inline\n",
        "import numpy as np\n",
        "import pandas as pd\n",
        "import scipy\n",
        "import sklearn\n",
        "import matplotlib.pyplot as plt\n",
        "import seaborn as sns"
      ],
      "execution_count": 0,
      "outputs": []
    },
    {
      "cell_type": "markdown",
      "metadata": {
        "run_control": {
          "frozen": false,
          "read_only": false
        },
        "id": "rkvRA-RDyL65",
        "colab_type": "text"
      },
      "source": [
        "## Reload our Naive Bayes Classifier from 2.2\n",
        "\n",
        "Here we'll quickly reload the Naive Bayes classifier from earlier. This is all code you've seen before. It is worth noting how little code is actually required to generate this model. It's a relatively simple exercise, and SKLearn makes it impressively easy."
      ]
    },
    {
      "cell_type": "code",
      "metadata": {
        "run_control": {
          "frozen": false,
          "read_only": false
        },
        "id": "F11FgsK2yL66",
        "colab_type": "code",
        "colab": {}
      },
      "source": [
        "# Grab and process the raw data.\n",
        "data_path = (\"https://raw.githubusercontent.com/Thinkful-Ed/data-201-resources/\"\n",
        "             \"master/sms_spam_collection/SMSSpamCollection\"\n",
        "            )\n",
        "sms_raw = pd.read_csv(data_path, delimiter= '\\t', header=None)\n",
        "sms_raw.columns = ['spam', 'message']\n",
        "\n",
        "# Enumerate our spammy keywords.\n",
        "keywords = ['click', 'offer', 'winner', 'buy', 'free', 'cash', 'urgent']\n",
        "\n",
        "for key in keywords:\n",
        "    sms_raw[str(key)] = sms_raw.message.str.contains(\n",
        "        ' ' + str(key) + ' ',\n",
        "        case=False\n",
        ")\n",
        "\n",
        "sms_raw['allcaps'] = sms_raw.message.str.isupper()\n",
        "sms_raw['spam'] = (sms_raw['spam'] == 'spam')\n",
        "data = sms_raw[keywords + ['allcaps']]\n",
        "target = sms_raw['spam']\n",
        "\n",
        "from sklearn.naive_bayes import BernoulliNB\n",
        "bnb = BernoulliNB()\n",
        "y_pred = bnb.fit(data, target).predict(data)"
      ],
      "execution_count": 0,
      "outputs": []
    },
    {
      "cell_type": "markdown",
      "metadata": {
        "run_control": {
          "frozen": false,
          "read_only": false
        },
        "id": "JPcSdg-SyL69",
        "colab_type": "text"
      },
      "source": [
        "## Success Rate"
      ]
    },
    {
      "cell_type": "markdown",
      "metadata": {
        "run_control": {
          "frozen": false,
          "read_only": false
        },
        "id": "BphI-TcyyL6-",
        "colab_type": "text"
      },
      "source": [
        "Now we have our model as well as our returned predictions. \n",
        "\n",
        "The first thing to note is what data is directly comparable for model evaluation: our target and y_pred variables. Target is the actual outcomes, whether something was spam or ham. The y_pred is the predicted outcomes from our classifier. Both are ordered arrays with the results from each row of the dataframe. When the two agree that means our model was able to successfully predict whether a given message was spam or ham. When they disagree our model was incorrect.\n",
        "\n",
        "The most basic measure of success, then, is how often our model was correct. This is called the accuracy. It's a metric you've seen before as it was our method of evaluation in the past lesson, but translated from a count to a rate or percentage.\n",
        "\n",
        "Go ahead and calculate it in the cell below. If you're stuck look back at the previous lesson. If you haven't yet, make your own copy of this notebook to work with locally so you don't lose your work."
      ]
    },
    {
      "cell_type": "code",
      "metadata": {
        "run_control": {
          "frozen": false,
          "read_only": false
        },
        "id": "5TOQBRAhyL6_",
        "colab_type": "code",
        "colab": {},
        "outputId": "fbe698c6-737c-4514-dac0-afbdca68ba96"
      },
      "source": [
        "# Calculate the accuracy of your model here.\n",
        "\n",
        "print('Number of mislabeled points out of a total {} points: {}'.format(\n",
        "    data.shape[0],\n",
        "    (target != y_pred).sum()\n",
        "    ))\n",
        "\n",
        "print('Accuracy:', \n",
        "      ((data.shape[0] - (target != y_pred).sum()) / data.shape[0]*100),\n",
        "       '%')"
      ],
      "execution_count": 0,
      "outputs": [
        {
          "output_type": "stream",
          "text": [
            "Number of mislabeled points out of a total 5572 points: 604\n",
            "Accuracy: 89.16008614501077 %\n"
          ],
          "name": "stdout"
        }
      ]
    },
    {
      "cell_type": "markdown",
      "metadata": {
        "run_control": {
          "frozen": false,
          "read_only": false
        },
        "id": "YpgoELQoyL7C",
        "colab_type": "text"
      },
      "source": [
        "You should be getting __89.16%__ off of 4968 correctly classified messages and 604 incorrectly classified.\n",
        "\n",
        "___If not consult with your mentor before moving on.___\n",
        "\n",
        "Now success rate is a popular way to evaluate a model, and what most people get excited about when discussing a model. However, for a data scientist, success rate is usually not sufficient. There are several reasons for this, but we'll mention two of them here.\n",
        "\n",
        "Firstly, not all errors are created equal. Think of the situation we're currently working with: a spam filter. Are all types of errors equal here? Certainly not! If you were using this to remove messages from your inbox, letting in a spam message is not nearly as egregious as throwing out a real (and quite possibly very important) message. Knowing more about the kinds of errors you're generating can therefore be incredibly useful.\n",
        "\n",
        "Secondly, understanding how your model is failing can be key to improving it. If a certain outcome is not being predicted accurately you may want to focus on engineering more features to identify that outcome.\n"
      ]
    },
    {
      "cell_type": "markdown",
      "metadata": {
        "run_control": {
          "frozen": false,
          "read_only": false
        },
        "id": "Jz8jBHiDyL7D",
        "colab_type": "text"
      },
      "source": [
        "## Confusion Matrix\n",
        "\n",
        "The next level of analysis of your classifier is often something called a Confusion Matrix. This is a matrix that shows the count of each possible permutation of target and prediction. So in our case, it will show the counts for when a message was ham and we predicted ham, when a message was ham and we predicted spam, when a message was spam and we predicted ham, and when a message was spam and we predicted spam.\n",
        "\n",
        "SKLearn has a built in confusion matrix function, so let's quickly import that and generate one here."
      ]
    },
    {
      "cell_type": "code",
      "metadata": {
        "run_control": {
          "frozen": false,
          "read_only": false
        },
        "id": "UgnmW1XqyL7E",
        "colab_type": "code",
        "colab": {},
        "outputId": "771a5c37-533e-4259-e438-e7147624a5c5"
      },
      "source": [
        "from sklearn.metrics import confusion_matrix\n",
        "confusion_matrix(target, y_pred)"
      ],
      "execution_count": 0,
      "outputs": [
        {
          "output_type": "execute_result",
          "data": {
            "text/plain": [
              "array([[4770,   55],\n",
              "       [ 549,  198]])"
            ]
          },
          "metadata": {
            "tags": []
          },
          "execution_count": 4
        }
      ]
    },
    {
      "cell_type": "markdown",
      "metadata": {
        "run_control": {
          "frozen": false,
          "read_only": false
        },
        "id": "lWnKX1PJyL7H",
        "colab_type": "text"
      },
      "source": [
        "Here the columns are prediction and the rows are actual.\n",
        "\n",
        "So what do we learn?\n",
        "\n",
        "We learn the majority of our error is coming from times where we failed to identify a spam message. 549 of our 604 errors are from failing to identify spam. So we need to get a little bit better at identifying spam messages.\n",
        "\n",
        "But before we move on or iterate on the model, let's talk about some key terms that you may run into when thinking about this kind of matrix.\n",
        "\n",
        "Let's assume our goal is to identify spam (rather than identify ham).\n",
        "\n",
        "Firstly, when we talk about errors in a binary classifier (where there are only two outcomes) we're generally referring to two kinds of errors. A __false positive__ is when we identify something as spam that is not. In this case we had 55 of these. This is sometimes also called a \"Type I Error\" or a \"false alarm\".\n",
        "\n",
        "A __false negative__ is therefore when we mistakenly identify something as not spam when it is. We had 549 of these. This is also called a \"Type II Error\" or a \"miss\".\n",
        "\n",
        "This also brings us to a conversation of sensitivity vs specificity.\n",
        "\n",
        "__Sensitivity__ is the percentage of positives correctly identified, in our case 198/747 or 27%. This shows how good we are at catching positives, or how sensitive our model is to identifying positives.\n",
        "\n",
        "__Specificity__ is just the opposite, the percentage of negatives correctly identified, 4770/4825 or 99%.\n",
        "\n",
        "Again this confirms that we're not great at identifying spam, though we do label ham quite accurately. You should get familiar with these terms as in the practicing world they will often be used with little explanation and you will be expected to understand them.\n",
        "\n",
        "\n",
        "## DRILL:\n",
        "\n",
        "It's worth calculating these with code so that you fully understand how these statistics work, so here is your task for the cell below. Manually generate (__meaning don't use the SKLearn function__) your own confusion matrix and print it along with the sensitivity and specificity."
      ]
    },
    {
      "cell_type": "code",
      "metadata": {
        "run_control": {
          "frozen": false,
          "read_only": false
        },
        "id": "7wvz7BWbyL7H",
        "colab_type": "code",
        "colab": {},
        "outputId": "9f3874c1-d083-4bd6-ee6f-dab5eebb5167"
      },
      "source": [
        "# Build your confusion matrix and calculate sensitivity and specificity here.\n",
        "\n",
        "y_real = pd.Series(sms_raw['spam'], name = 'Real')\n",
        "y_pred = pd.Series(y_pred, name = 'Predicted')\n",
        "confusion = pd.crosstab(y_real, y_pred, margins=True)\n",
        "confusion"
      ],
      "execution_count": 0,
      "outputs": [
        {
          "output_type": "execute_result",
          "data": {
            "text/html": [
              "<div>\n",
              "<style scoped>\n",
              "    .dataframe tbody tr th:only-of-type {\n",
              "        vertical-align: middle;\n",
              "    }\n",
              "\n",
              "    .dataframe tbody tr th {\n",
              "        vertical-align: top;\n",
              "    }\n",
              "\n",
              "    .dataframe thead th {\n",
              "        text-align: right;\n",
              "    }\n",
              "</style>\n",
              "<table border=\"1\" class=\"dataframe\">\n",
              "  <thead>\n",
              "    <tr style=\"text-align: right;\">\n",
              "      <th>Predicted</th>\n",
              "      <th>False</th>\n",
              "      <th>True</th>\n",
              "      <th>All</th>\n",
              "    </tr>\n",
              "    <tr>\n",
              "      <th>Real</th>\n",
              "      <th></th>\n",
              "      <th></th>\n",
              "      <th></th>\n",
              "    </tr>\n",
              "  </thead>\n",
              "  <tbody>\n",
              "    <tr>\n",
              "      <th>False</th>\n",
              "      <td>4770</td>\n",
              "      <td>55</td>\n",
              "      <td>4825</td>\n",
              "    </tr>\n",
              "    <tr>\n",
              "      <th>True</th>\n",
              "      <td>549</td>\n",
              "      <td>198</td>\n",
              "      <td>747</td>\n",
              "    </tr>\n",
              "    <tr>\n",
              "      <th>All</th>\n",
              "      <td>5319</td>\n",
              "      <td>253</td>\n",
              "      <td>5572</td>\n",
              "    </tr>\n",
              "  </tbody>\n",
              "</table>\n",
              "</div>"
            ],
            "text/plain": [
              "Predicted  False  True   All\n",
              "Real                        \n",
              "False       4770    55  4825\n",
              "True         549   198   747\n",
              "All         5319   253  5572"
            ]
          },
          "metadata": {
            "tags": []
          },
          "execution_count": 28
        }
      ]
    },
    {
      "cell_type": "code",
      "metadata": {
        "id": "UkrZ1VGKyL7K",
        "colab_type": "code",
        "colab": {}
      },
      "source": [
        ""
      ],
      "execution_count": 0,
      "outputs": []
    },
    {
      "cell_type": "code",
      "metadata": {
        "id": "_m2zXxYSyL7N",
        "colab_type": "code",
        "colab": {}
      },
      "source": [
        ""
      ],
      "execution_count": 0,
      "outputs": []
    }
  ]
}