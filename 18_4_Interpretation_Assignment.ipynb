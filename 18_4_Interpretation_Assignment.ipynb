{
  "nbformat": 4,
  "nbformat_minor": 0,
  "metadata": {
    "kernelspec": {
      "display_name": "Python 3",
      "language": "python",
      "name": "python3"
    },
    "language_info": {
      "codemirror_mode": {
        "name": "ipython",
        "version": 3
      },
      "file_extension": ".py",
      "mimetype": "text/x-python",
      "name": "python",
      "nbconvert_exporter": "python",
      "pygments_lexer": "ipython3",
      "version": "3.7.1"
    },
    "colab": {
      "name": "18.4 Interpretation Assignment.ipynb",
      "provenance": [],
      "include_colab_link": true
    }
  },
  "cells": [
    {
      "cell_type": "markdown",
      "metadata": {
        "id": "view-in-github",
        "colab_type": "text"
      },
      "source": [
        "<a href=\"https://colab.research.google.com/github/kylemcq13/Assignments/blob/master/18_4_Interpretation_Assignment.ipynb\" target=\"_parent\"><img src=\"https://colab.research.google.com/assets/colab-badge.svg\" alt=\"Open In Colab\"/></a>"
      ]
    },
    {
      "cell_type": "markdown",
      "metadata": {
        "id": "VfUCf5rFFsSr",
        "colab_type": "text"
      },
      "source": [
        "### 1. Interpretation and significance\n",
        "\n",
        "Suppose that we would like to know how much families in the US are spending on recreation annually. We've estimated the following model:\n",
        "\n",
        "$$ expenditure = 873 + 0.0012annual\\_income + 0.00002annual\\_income^2 - 223.57have\\_kids $$\n",
        "\n",
        "*expenditure* is the annual spending on recreation in US dollars, *annual_income* is the annual income in US dollars, and *have_kids* is a dummy variable indicating the families with children. Interpret the estimated coefficients. What additional statistics should be given in order to make sure that your interpretations make sense statistically. Write up your answer."
      ]
    },
    {
      "cell_type": "markdown",
      "metadata": {
        "id": "h9pfoBllFsSt",
        "colab_type": "text"
      },
      "source": [
        "---"
      ]
    },
    {
      "cell_type": "markdown",
      "metadata": {
        "id": "LPRRojPYFsSu",
        "colab_type": "text"
      },
      "source": [
        "Statistical significance between the coefficients is not given, we would need this information to make sense of the interpretation. For this exercise, we will assume they are statsticially significant. \n",
        "\n",
        "Coefficient Interpretation\n",
        "\n",
        "Bias term = 873\n",
        "\n",
        "First thing noticed is that the equation is quadratic. This means that the second term increases as annual income increases.\n",
        "\n",
        "Families with kids spend, on average, 223.57 less on recreation than families without a child. According to the equation, an increase in income would increase the recreational expenditure by 0.0012 times annual income plus  0.00002 times the annual income squared. Again, as noted, the relation is quadratic, so the second term (0.00002 times annual income squared) will increase as annual income increases. \n",
        "\n",
        "If we were to graph this, we would get two curved lines (kids/no kids) with no kids running slightly above the with kids line with a positive correlation between recreation expenditure (Y) and annual income (x)."
      ]
    },
    {
      "cell_type": "markdown",
      "metadata": {
        "id": "SefhahFkFsSv",
        "colab_type": "text"
      },
      "source": [
        "---"
      ]
    },
    {
      "cell_type": "markdown",
      "metadata": {
        "id": "Yzs3ePlPFsSw",
        "colab_type": "text"
      },
      "source": [
        "### 2. Weather model\n",
        "\n",
        "In this exercise, you'll work with the historical temperature data from the previous checkpoint. To complete this assignment, submit a link to a Jupyter notebook containing your solutions to the following tasks:\n",
        "\n",
        "* First, load the dataset from the **weatherinszeged** table from Thinkful's database.\n",
        "* Build a linear regression model where your target variable is the difference between the *apparenttemperature* and the *temperature*. As explanatory variables, use *humidity* and *windspeed*. Now, estimate your model using OLS. Are the estimated coefficients statistically significant? Are the signs of the estimated coefficients in line with your previous expectations? Interpret the estimated coefficients. What are the relations between the target and the explanatory variables? \n",
        "* Next, include the interaction of *humidity* and *windspeed* to the model above and estimate the model using OLS. Are the coefficients statistically significant? Did the signs of the estimated coefficients for *humidity* and *windspeed* change? Interpret the estimated coefficients."
      ]
    },
    {
      "cell_type": "code",
      "metadata": {
        "id": "Lt8xBZgoFsSx",
        "colab_type": "code",
        "colab": {}
      },
      "source": [
        "\n",
        "import numpy as np\n",
        "import pandas as pd\n",
        "import matplotlib.pyplot as plt\n",
        "from sqlalchemy import create_engine\n",
        "import statsmodels.api as sm\n",
        "\n",
        "import warnings\n",
        "warnings.filterwarnings('ignore')\n",
        "\n",
        "postgres_user = 'dsbc_student'\n",
        "postgres_pw = '7*.8G9QH21'\n",
        "postgres_host = '142.93.121.174'\n",
        "postgres_port = '5432'\n",
        "postgres_db = 'weatherinszeged'"
      ],
      "execution_count": 0,
      "outputs": []
    },
    {
      "cell_type": "code",
      "metadata": {
        "id": "vacpm781FsSz",
        "colab_type": "code",
        "colab": {}
      },
      "source": [
        "engine = create_engine('postgresql://{}:{}@{}:{}/{}'.format(\n",
        "    postgres_user, postgres_pw, postgres_host, postgres_port, postgres_db))\n",
        "weather_df = pd.read_sql_query('select * from weatherinszeged',con=engine)\n",
        "\n",
        "engine.dispose()"
      ],
      "execution_count": 0,
      "outputs": []
    },
    {
      "cell_type": "code",
      "metadata": {
        "id": "jGDDTDiCFsS1",
        "colab_type": "code",
        "colab": {},
        "outputId": "024bea8b-5e35-4940-c6d5-5ad32bcac3aa"
      },
      "source": [
        "#create target variable\n",
        "Y = weather_df['apparenttemperature'] - weather_df['temperature']\n",
        "#create explanatory variables\n",
        "X = weather_df[['humidity', 'windspeed']]\n",
        "\n",
        "X = sm.add_constant(X)\n",
        "\n",
        "results = sm.OLS(Y, X).fit()\n",
        "\n",
        "results.summary()"
      ],
      "execution_count": 0,
      "outputs": [
        {
          "output_type": "execute_result",
          "data": {
            "text/html": [
              "<table class=\"simpletable\">\n",
              "<caption>OLS Regression Results</caption>\n",
              "<tr>\n",
              "  <th>Dep. Variable:</th>            <td>y</td>        <th>  R-squared:         </th>  <td>   0.288</td>  \n",
              "</tr>\n",
              "<tr>\n",
              "  <th>Model:</th>                   <td>OLS</td>       <th>  Adj. R-squared:    </th>  <td>   0.288</td>  \n",
              "</tr>\n",
              "<tr>\n",
              "  <th>Method:</th>             <td>Least Squares</td>  <th>  F-statistic:       </th>  <td>1.949e+04</td> \n",
              "</tr>\n",
              "<tr>\n",
              "  <th>Date:</th>             <td>Mon, 11 Nov 2019</td> <th>  Prob (F-statistic):</th>   <td>  0.00</td>   \n",
              "</tr>\n",
              "<tr>\n",
              "  <th>Time:</th>                 <td>11:57:30</td>     <th>  Log-Likelihood:    </th> <td>-1.7046e+05</td>\n",
              "</tr>\n",
              "<tr>\n",
              "  <th>No. Observations:</th>      <td> 96453</td>      <th>  AIC:               </th>  <td>3.409e+05</td> \n",
              "</tr>\n",
              "<tr>\n",
              "  <th>Df Residuals:</th>          <td> 96450</td>      <th>  BIC:               </th>  <td>3.409e+05</td> \n",
              "</tr>\n",
              "<tr>\n",
              "  <th>Df Model:</th>              <td>     2</td>      <th>                     </th>      <td> </td>     \n",
              "</tr>\n",
              "<tr>\n",
              "  <th>Covariance Type:</th>      <td>nonrobust</td>    <th>                     </th>      <td> </td>     \n",
              "</tr>\n",
              "</table>\n",
              "<table class=\"simpletable\">\n",
              "<tr>\n",
              "      <td></td>         <th>coef</th>     <th>std err</th>      <th>t</th>      <th>P>|t|</th>  <th>[0.025</th>    <th>0.975]</th>  \n",
              "</tr>\n",
              "<tr>\n",
              "  <th>const</th>     <td>    2.4381</td> <td>    0.021</td> <td>  115.948</td> <td> 0.000</td> <td>    2.397</td> <td>    2.479</td>\n",
              "</tr>\n",
              "<tr>\n",
              "  <th>humidity</th>  <td>   -3.0292</td> <td>    0.024</td> <td> -126.479</td> <td> 0.000</td> <td>   -3.076</td> <td>   -2.982</td>\n",
              "</tr>\n",
              "<tr>\n",
              "  <th>windspeed</th> <td>   -0.1193</td> <td>    0.001</td> <td> -176.164</td> <td> 0.000</td> <td>   -0.121</td> <td>   -0.118</td>\n",
              "</tr>\n",
              "</table>\n",
              "<table class=\"simpletable\">\n",
              "<tr>\n",
              "  <th>Omnibus:</th>       <td>3935.747</td> <th>  Durbin-Watson:     </th> <td>   0.267</td>\n",
              "</tr>\n",
              "<tr>\n",
              "  <th>Prob(Omnibus):</th>  <td> 0.000</td>  <th>  Jarque-Bera (JB):  </th> <td>4613.311</td>\n",
              "</tr>\n",
              "<tr>\n",
              "  <th>Skew:</th>           <td>-0.478</td>  <th>  Prob(JB):          </th> <td>    0.00</td>\n",
              "</tr>\n",
              "<tr>\n",
              "  <th>Kurtosis:</th>       <td> 3.484</td>  <th>  Cond. No.          </th> <td>    88.1</td>\n",
              "</tr>\n",
              "</table><br/><br/>Warnings:<br/>[1] Standard Errors assume that the covariance matrix of the errors is correctly specified."
            ],
            "text/plain": [
              "<class 'statsmodels.iolib.summary.Summary'>\n",
              "\"\"\"\n",
              "                            OLS Regression Results                            \n",
              "==============================================================================\n",
              "Dep. Variable:                      y   R-squared:                       0.288\n",
              "Model:                            OLS   Adj. R-squared:                  0.288\n",
              "Method:                 Least Squares   F-statistic:                 1.949e+04\n",
              "Date:                Mon, 11 Nov 2019   Prob (F-statistic):               0.00\n",
              "Time:                        11:57:30   Log-Likelihood:            -1.7046e+05\n",
              "No. Observations:               96453   AIC:                         3.409e+05\n",
              "Df Residuals:                   96450   BIC:                         3.409e+05\n",
              "Df Model:                           2                                         \n",
              "Covariance Type:            nonrobust                                         \n",
              "==============================================================================\n",
              "                 coef    std err          t      P>|t|      [0.025      0.975]\n",
              "------------------------------------------------------------------------------\n",
              "const          2.4381      0.021    115.948      0.000       2.397       2.479\n",
              "humidity      -3.0292      0.024   -126.479      0.000      -3.076      -2.982\n",
              "windspeed     -0.1193      0.001   -176.164      0.000      -0.121      -0.118\n",
              "==============================================================================\n",
              "Omnibus:                     3935.747   Durbin-Watson:                   0.267\n",
              "Prob(Omnibus):                  0.000   Jarque-Bera (JB):             4613.311\n",
              "Skew:                          -0.478   Prob(JB):                         0.00\n",
              "Kurtosis:                       3.484   Cond. No.                         88.1\n",
              "==============================================================================\n",
              "\n",
              "Warnings:\n",
              "[1] Standard Errors assume that the covariance matrix of the errors is correctly specified.\n",
              "\"\"\""
            ]
          },
          "metadata": {
            "tags": []
          },
          "execution_count": 3
        }
      ]
    },
    {
      "cell_type": "markdown",
      "metadata": {
        "id": "WaufFi7oFsS5",
        "colab_type": "text"
      },
      "source": [
        "- All estimated coefficients are statistically significant as their P values are less than 0.05\n",
        "- According to our estimations, the sign of the humidity coefficient is negative. We would expect that as humidity increases, our target would increase. It seems as if our windspeed variable is negatively correlated with the target variable as we would expect. \n",
        "- According to this model, a one point (?) increase in humidity results 3.0292 points decrease in our target (apparent temp - temp). A one point increase in the windspeed results in 0.1193 points decrease in the target. "
      ]
    },
    {
      "cell_type": "code",
      "metadata": {
        "id": "fS3a0TxwFsS5",
        "colab_type": "code",
        "colab": {},
        "outputId": "b5e14699-b441-4dde-f060-f6fc1b840cf4"
      },
      "source": [
        "#create interaction\n",
        "weather_df['interaction'] = weather_df.humidity * weather_df.windspeed\n",
        "\n",
        "#create target variable\n",
        "Y = weather_df['apparenttemperature'] - weather_df['temperature']\n",
        "#create explanatory variables\n",
        "X = weather_df[['humidity', 'windspeed', 'interaction']]\n",
        "\n",
        "X = sm.add_constant(X)\n",
        "\n",
        "results = sm.OLS(Y, X).fit()\n",
        "\n",
        "results.summary()"
      ],
      "execution_count": 0,
      "outputs": [
        {
          "output_type": "execute_result",
          "data": {
            "text/html": [
              "<table class=\"simpletable\">\n",
              "<caption>OLS Regression Results</caption>\n",
              "<tr>\n",
              "  <th>Dep. Variable:</th>            <td>y</td>        <th>  R-squared:         </th>  <td>   0.341</td>  \n",
              "</tr>\n",
              "<tr>\n",
              "  <th>Model:</th>                   <td>OLS</td>       <th>  Adj. R-squared:    </th>  <td>   0.341</td>  \n",
              "</tr>\n",
              "<tr>\n",
              "  <th>Method:</th>             <td>Least Squares</td>  <th>  F-statistic:       </th>  <td>1.666e+04</td> \n",
              "</tr>\n",
              "<tr>\n",
              "  <th>Date:</th>             <td>Mon, 11 Nov 2019</td> <th>  Prob (F-statistic):</th>   <td>  0.00</td>   \n",
              "</tr>\n",
              "<tr>\n",
              "  <th>Time:</th>                 <td>12:08:44</td>     <th>  Log-Likelihood:    </th> <td>-1.6669e+05</td>\n",
              "</tr>\n",
              "<tr>\n",
              "  <th>No. Observations:</th>      <td> 96453</td>      <th>  AIC:               </th>  <td>3.334e+05</td> \n",
              "</tr>\n",
              "<tr>\n",
              "  <th>Df Residuals:</th>          <td> 96449</td>      <th>  BIC:               </th>  <td>3.334e+05</td> \n",
              "</tr>\n",
              "<tr>\n",
              "  <th>Df Model:</th>              <td>     3</td>      <th>                     </th>      <td> </td>     \n",
              "</tr>\n",
              "<tr>\n",
              "  <th>Covariance Type:</th>      <td>nonrobust</td>    <th>                     </th>      <td> </td>     \n",
              "</tr>\n",
              "</table>\n",
              "<table class=\"simpletable\">\n",
              "<tr>\n",
              "       <td></td>          <th>coef</th>     <th>std err</th>      <th>t</th>      <th>P>|t|</th>  <th>[0.025</th>    <th>0.975]</th>  \n",
              "</tr>\n",
              "<tr>\n",
              "  <th>const</th>       <td>    0.0839</td> <td>    0.033</td> <td>    2.511</td> <td> 0.012</td> <td>    0.018</td> <td>    0.149</td>\n",
              "</tr>\n",
              "<tr>\n",
              "  <th>humidity</th>    <td>    0.1775</td> <td>    0.043</td> <td>    4.133</td> <td> 0.000</td> <td>    0.093</td> <td>    0.262</td>\n",
              "</tr>\n",
              "<tr>\n",
              "  <th>windspeed</th>   <td>    0.0905</td> <td>    0.002</td> <td>   36.797</td> <td> 0.000</td> <td>    0.086</td> <td>    0.095</td>\n",
              "</tr>\n",
              "<tr>\n",
              "  <th>interaction</th> <td>   -0.2971</td> <td>    0.003</td> <td>  -88.470</td> <td> 0.000</td> <td>   -0.304</td> <td>   -0.291</td>\n",
              "</tr>\n",
              "</table>\n",
              "<table class=\"simpletable\">\n",
              "<tr>\n",
              "  <th>Omnibus:</th>       <td>4849.937</td> <th>  Durbin-Watson:     </th> <td>   0.265</td>\n",
              "</tr>\n",
              "<tr>\n",
              "  <th>Prob(Omnibus):</th>  <td> 0.000</td>  <th>  Jarque-Bera (JB):  </th> <td>9295.404</td>\n",
              "</tr>\n",
              "<tr>\n",
              "  <th>Skew:</th>           <td>-0.378</td>  <th>  Prob(JB):          </th> <td>    0.00</td>\n",
              "</tr>\n",
              "<tr>\n",
              "  <th>Kurtosis:</th>       <td> 4.320</td>  <th>  Cond. No.          </th> <td>    193.</td>\n",
              "</tr>\n",
              "</table><br/><br/>Warnings:<br/>[1] Standard Errors assume that the covariance matrix of the errors is correctly specified."
            ],
            "text/plain": [
              "<class 'statsmodels.iolib.summary.Summary'>\n",
              "\"\"\"\n",
              "                            OLS Regression Results                            \n",
              "==============================================================================\n",
              "Dep. Variable:                      y   R-squared:                       0.341\n",
              "Model:                            OLS   Adj. R-squared:                  0.341\n",
              "Method:                 Least Squares   F-statistic:                 1.666e+04\n",
              "Date:                Mon, 11 Nov 2019   Prob (F-statistic):               0.00\n",
              "Time:                        12:08:44   Log-Likelihood:            -1.6669e+05\n",
              "No. Observations:               96453   AIC:                         3.334e+05\n",
              "Df Residuals:                   96449   BIC:                         3.334e+05\n",
              "Df Model:                           3                                         \n",
              "Covariance Type:            nonrobust                                         \n",
              "===============================================================================\n",
              "                  coef    std err          t      P>|t|      [0.025      0.975]\n",
              "-------------------------------------------------------------------------------\n",
              "const           0.0839      0.033      2.511      0.012       0.018       0.149\n",
              "humidity        0.1775      0.043      4.133      0.000       0.093       0.262\n",
              "windspeed       0.0905      0.002     36.797      0.000       0.086       0.095\n",
              "interaction    -0.2971      0.003    -88.470      0.000      -0.304      -0.291\n",
              "==============================================================================\n",
              "Omnibus:                     4849.937   Durbin-Watson:                   0.265\n",
              "Prob(Omnibus):                  0.000   Jarque-Bera (JB):             9295.404\n",
              "Skew:                          -0.378   Prob(JB):                         0.00\n",
              "Kurtosis:                       4.320   Cond. No.                         193.\n",
              "==============================================================================\n",
              "\n",
              "Warnings:\n",
              "[1] Standard Errors assume that the covariance matrix of the errors is correctly specified.\n",
              "\"\"\""
            ]
          },
          "metadata": {
            "tags": []
          },
          "execution_count": 4
        }
      ]
    },
    {
      "cell_type": "markdown",
      "metadata": {
        "id": "w26g-jA0FsS7",
        "colab_type": "text"
      },
      "source": [
        "- All coefficients are statistically significant as their p values are less than 0.05\n",
        "- The signs of humidity and windspeed did change in this case.\n",
        "- In this model, a one point increase in humidity results in a 0.1775 point increase in our target variable. A one point increase in windspeed would result in a 0.0905 point increase in our target variable. \n",
        "- Our interaction term is valued at -0.2971. This means that given a humidity level, a 1 point increase in windspeed would result in a 0.0905 - 0.2971X humidity increase in the target variable. And, given a windspeed, a one point increase in humidity would result in a 0.1775 - 0.2971X winsdspeed increase in the target. This tells us that humidity and windspeed have effects on each other on the target ie winsdspeed will have an effect on humidity increase on the target. "
      ]
    },
    {
      "cell_type": "markdown",
      "metadata": {
        "id": "UOKA0hB8FsS8",
        "colab_type": "text"
      },
      "source": [
        "---"
      ]
    },
    {
      "cell_type": "markdown",
      "metadata": {
        "id": "gSBMjvWFFsS9",
        "colab_type": "text"
      },
      "source": [
        "###  3. House prices model\n",
        "\n",
        "In this exercise, you'll interpret your house prices model. To complete this assignment, submit a link to a Jupyter notebook containing your solutions to the following tasks:\n",
        "\n",
        "* Load the **houseprices** data from Thinkful's database.\n",
        "* Run your house prices model again and interpret the results. Which features are statistically significant, and which are not?\n",
        "* Now, exclude the insignificant features from your model. Did anything change?\n",
        "* Interpret the statistically significant coefficients by quantifying their relations with the house prices. Which features have a more prominent effect on house prices?\n",
        "* Do the results sound reasonable to you? If not, try to explain the potential reasons."
      ]
    },
    {
      "cell_type": "code",
      "metadata": {
        "id": "y4RBZF0tFsS9",
        "colab_type": "code",
        "colab": {}
      },
      "source": [
        "import numpy as np\n",
        "import pandas as pd\n",
        "import matplotlib.pyplot as plt\n",
        "from sqlalchemy import create_engine\n",
        "import statsmodels.api as sm\n",
        "\n",
        "import warnings\n",
        "warnings.filterwarnings('ignore')\n",
        "\n",
        "postgres_user = 'dsbc_student'\n",
        "postgres_pw = '7*.8G9QH21'\n",
        "postgres_host = '142.93.121.174'\n",
        "postgres_port = '5432'\n",
        "postgres_db = 'houseprices'"
      ],
      "execution_count": 0,
      "outputs": []
    },
    {
      "cell_type": "code",
      "metadata": {
        "id": "XPiNYaKpFsTA",
        "colab_type": "code",
        "colab": {}
      },
      "source": [
        "engine = create_engine('postgresql://{}:{}@{}:{}/{}'.format(\n",
        "    postgres_user, postgres_pw, postgres_host, postgres_port, postgres_db))\n",
        "houses_df = pd.read_sql_query('select * from houseprices',con=engine)\n",
        "\n",
        "engine.dispose()"
      ],
      "execution_count": 0,
      "outputs": []
    },
    {
      "cell_type": "code",
      "metadata": {
        "id": "Ijs4xp8fFsTC",
        "colab_type": "code",
        "colab": {}
      },
      "source": [
        "#convert to numeric and add our categorical variables back to our dataframe\n",
        "\n",
        "houses_df = pd.concat([houses_df,pd.get_dummies(houses_df.mszoning, prefix=\"mszoning\", drop_first=True)], axis=1)\n",
        "houses_df = pd.concat([houses_df,pd.get_dummies(houses_df.street, prefix=\"street\", drop_first=True)], axis=1)\n",
        "houses_df = pd.concat([houses_df,pd.get_dummies(houses_df.street, prefix=\"kitchenqual\", drop_first=True)], axis=1)\n",
        "\n",
        "cat_column_names = list(pd.get_dummies(houses_df.mszoning, prefix=\"mszoning\", drop_first=True).columns)\n",
        "cat_column_names = cat_column_names + list(pd.get_dummies(houses_df.street, prefix=\"street\", drop_first=True).columns)\n",
        "cat_column_names2 = cat_column_names + list(pd.get_dummies(houses_df.street, prefix=\"kitchenqual\", drop_first=True).columns)"
      ],
      "execution_count": 0,
      "outputs": []
    },
    {
      "cell_type": "code",
      "metadata": {
        "id": "vZRgQQ1SFsTF",
        "colab_type": "code",
        "colab": {},
        "outputId": "561d5d6b-b945-4643-e157-56392ab146ae"
      },
      "source": [
        "# Y is the target variable\n",
        "Y = houses_df['saleprice']\n",
        "# X is the feature set which includes\n",
        "X = houses_df[['overallqual', 'grlivarea', 'garagecars', 'garagearea', 'totalbsmtsf']  + cat_column_names2]\n",
        "\n",
        "X = sm.add_constant(X)\n",
        "\n",
        "results = sm.OLS(Y, X).fit()\n",
        "\n",
        "results.summary()"
      ],
      "execution_count": 0,
      "outputs": [
        {
          "output_type": "execute_result",
          "data": {
            "text/html": [
              "<table class=\"simpletable\">\n",
              "<caption>OLS Regression Results</caption>\n",
              "<tr>\n",
              "  <th>Dep. Variable:</th>        <td>saleprice</td>    <th>  R-squared:         </th> <td>   0.769</td> \n",
              "</tr>\n",
              "<tr>\n",
              "  <th>Model:</th>                   <td>OLS</td>       <th>  Adj. R-squared:    </th> <td>   0.767</td> \n",
              "</tr>\n",
              "<tr>\n",
              "  <th>Method:</th>             <td>Least Squares</td>  <th>  F-statistic:       </th> <td>   482.0</td> \n",
              "</tr>\n",
              "<tr>\n",
              "  <th>Date:</th>             <td>Mon, 11 Nov 2019</td> <th>  Prob (F-statistic):</th>  <td>  0.00</td>  \n",
              "</tr>\n",
              "<tr>\n",
              "  <th>Time:</th>                 <td>12:24:39</td>     <th>  Log-Likelihood:    </th> <td> -17475.</td> \n",
              "</tr>\n",
              "<tr>\n",
              "  <th>No. Observations:</th>      <td>  1460</td>      <th>  AIC:               </th> <td>3.497e+04</td>\n",
              "</tr>\n",
              "<tr>\n",
              "  <th>Df Residuals:</th>          <td>  1449</td>      <th>  BIC:               </th> <td>3.503e+04</td>\n",
              "</tr>\n",
              "<tr>\n",
              "  <th>Df Model:</th>              <td>    10</td>      <th>                     </th>     <td> </td>    \n",
              "</tr>\n",
              "<tr>\n",
              "  <th>Covariance Type:</th>      <td>nonrobust</td>    <th>                     </th>     <td> </td>    \n",
              "</tr>\n",
              "</table>\n",
              "<table class=\"simpletable\">\n",
              "<tr>\n",
              "          <td></td>            <th>coef</th>     <th>std err</th>      <th>t</th>      <th>P>|t|</th>  <th>[0.025</th>    <th>0.975]</th>  \n",
              "</tr>\n",
              "<tr>\n",
              "  <th>const</th>            <td>-1.173e+05</td> <td>  1.8e+04</td> <td>   -6.502</td> <td> 0.000</td> <td>-1.53e+05</td> <td>-8.19e+04</td>\n",
              "</tr>\n",
              "<tr>\n",
              "  <th>overallqual</th>      <td> 2.333e+04</td> <td> 1088.506</td> <td>   21.430</td> <td> 0.000</td> <td> 2.12e+04</td> <td> 2.55e+04</td>\n",
              "</tr>\n",
              "<tr>\n",
              "  <th>grlivarea</th>        <td>   45.6344</td> <td>    2.468</td> <td>   18.494</td> <td> 0.000</td> <td>   40.794</td> <td>   50.475</td>\n",
              "</tr>\n",
              "<tr>\n",
              "  <th>garagecars</th>       <td> 1.345e+04</td> <td> 2990.453</td> <td>    4.498</td> <td> 0.000</td> <td> 7584.056</td> <td> 1.93e+04</td>\n",
              "</tr>\n",
              "<tr>\n",
              "  <th>garagearea</th>       <td>   16.4082</td> <td>   10.402</td> <td>    1.577</td> <td> 0.115</td> <td>   -3.997</td> <td>   36.813</td>\n",
              "</tr>\n",
              "<tr>\n",
              "  <th>totalbsmtsf</th>      <td>   28.3816</td> <td>    2.931</td> <td>    9.684</td> <td> 0.000</td> <td>   22.633</td> <td>   34.131</td>\n",
              "</tr>\n",
              "<tr>\n",
              "  <th>mszoning_FV</th>      <td> 2.509e+04</td> <td> 1.37e+04</td> <td>    1.833</td> <td> 0.067</td> <td>-1761.679</td> <td> 5.19e+04</td>\n",
              "</tr>\n",
              "<tr>\n",
              "  <th>mszoning_RH</th>      <td> 1.342e+04</td> <td> 1.58e+04</td> <td>    0.847</td> <td> 0.397</td> <td>-1.77e+04</td> <td> 4.45e+04</td>\n",
              "</tr>\n",
              "<tr>\n",
              "  <th>mszoning_RL</th>      <td> 2.857e+04</td> <td> 1.27e+04</td> <td>    2.246</td> <td> 0.025</td> <td> 3612.782</td> <td> 5.35e+04</td>\n",
              "</tr>\n",
              "<tr>\n",
              "  <th>mszoning_RM</th>      <td> 9047.7894</td> <td> 1.29e+04</td> <td>    0.702</td> <td> 0.483</td> <td>-1.62e+04</td> <td> 3.43e+04</td>\n",
              "</tr>\n",
              "<tr>\n",
              "  <th>street_Pave</th>      <td>   75.5188</td> <td> 8145.750</td> <td>    0.009</td> <td> 0.993</td> <td>-1.59e+04</td> <td> 1.61e+04</td>\n",
              "</tr>\n",
              "<tr>\n",
              "  <th>kitchenqual_Pave</th> <td>   75.5188</td> <td> 8145.750</td> <td>    0.009</td> <td> 0.993</td> <td>-1.59e+04</td> <td> 1.61e+04</td>\n",
              "</tr>\n",
              "</table>\n",
              "<table class=\"simpletable\">\n",
              "<tr>\n",
              "  <th>Omnibus:</th>       <td>415.883</td> <th>  Durbin-Watson:     </th> <td>   1.979</td> \n",
              "</tr>\n",
              "<tr>\n",
              "  <th>Prob(Omnibus):</th> <td> 0.000</td>  <th>  Jarque-Bera (JB):  </th> <td>41281.526</td>\n",
              "</tr>\n",
              "<tr>\n",
              "  <th>Skew:</th>          <td>-0.115</td>  <th>  Prob(JB):          </th> <td>    0.00</td> \n",
              "</tr>\n",
              "<tr>\n",
              "  <th>Kurtosis:</th>      <td>29.049</td>  <th>  Cond. No.          </th> <td>1.24e+21</td> \n",
              "</tr>\n",
              "</table><br/><br/>Warnings:<br/>[1] Standard Errors assume that the covariance matrix of the errors is correctly specified.<br/>[2] The smallest eigenvalue is 3.81e-33. This might indicate that there are<br/>strong multicollinearity problems or that the design matrix is singular."
            ],
            "text/plain": [
              "<class 'statsmodels.iolib.summary.Summary'>\n",
              "\"\"\"\n",
              "                            OLS Regression Results                            \n",
              "==============================================================================\n",
              "Dep. Variable:              saleprice   R-squared:                       0.769\n",
              "Model:                            OLS   Adj. R-squared:                  0.767\n",
              "Method:                 Least Squares   F-statistic:                     482.0\n",
              "Date:                Mon, 11 Nov 2019   Prob (F-statistic):               0.00\n",
              "Time:                        12:24:39   Log-Likelihood:                -17475.\n",
              "No. Observations:                1460   AIC:                         3.497e+04\n",
              "Df Residuals:                    1449   BIC:                         3.503e+04\n",
              "Df Model:                          10                                         \n",
              "Covariance Type:            nonrobust                                         \n",
              "====================================================================================\n",
              "                       coef    std err          t      P>|t|      [0.025      0.975]\n",
              "------------------------------------------------------------------------------------\n",
              "const            -1.173e+05    1.8e+04     -6.502      0.000   -1.53e+05   -8.19e+04\n",
              "overallqual       2.333e+04   1088.506     21.430      0.000    2.12e+04    2.55e+04\n",
              "grlivarea           45.6344      2.468     18.494      0.000      40.794      50.475\n",
              "garagecars        1.345e+04   2990.453      4.498      0.000    7584.056    1.93e+04\n",
              "garagearea          16.4082     10.402      1.577      0.115      -3.997      36.813\n",
              "totalbsmtsf         28.3816      2.931      9.684      0.000      22.633      34.131\n",
              "mszoning_FV       2.509e+04   1.37e+04      1.833      0.067   -1761.679    5.19e+04\n",
              "mszoning_RH       1.342e+04   1.58e+04      0.847      0.397   -1.77e+04    4.45e+04\n",
              "mszoning_RL       2.857e+04   1.27e+04      2.246      0.025    3612.782    5.35e+04\n",
              "mszoning_RM       9047.7894   1.29e+04      0.702      0.483   -1.62e+04    3.43e+04\n",
              "street_Pave         75.5188   8145.750      0.009      0.993   -1.59e+04    1.61e+04\n",
              "kitchenqual_Pave    75.5188   8145.750      0.009      0.993   -1.59e+04    1.61e+04\n",
              "==============================================================================\n",
              "Omnibus:                      415.883   Durbin-Watson:                   1.979\n",
              "Prob(Omnibus):                  0.000   Jarque-Bera (JB):            41281.526\n",
              "Skew:                          -0.115   Prob(JB):                         0.00\n",
              "Kurtosis:                      29.049   Cond. No.                     1.24e+21\n",
              "==============================================================================\n",
              "\n",
              "Warnings:\n",
              "[1] Standard Errors assume that the covariance matrix of the errors is correctly specified.\n",
              "[2] The smallest eigenvalue is 3.81e-33. This might indicate that there are\n",
              "strong multicollinearity problems or that the design matrix is singular.\n",
              "\"\"\""
            ]
          },
          "metadata": {
            "tags": []
          },
          "execution_count": 10
        }
      ]
    },
    {
      "cell_type": "markdown",
      "metadata": {
        "id": "vXQl67YEFsTI",
        "colab_type": "text"
      },
      "source": [
        "- Significant features include: overallqual, grlivarea, garagecars, totalbsmtsf, and mszoning_RL."
      ]
    },
    {
      "cell_type": "code",
      "metadata": {
        "id": "pHiNxMx5FsTJ",
        "colab_type": "code",
        "colab": {},
        "outputId": "21eabffe-df4c-41bb-e2f4-de907bb800f3"
      },
      "source": [
        "# Y is the target variable\n",
        "Y = houses_df['saleprice']\n",
        "# X is the feature set which includes\n",
        "X = houses_df[['overallqual', 'grlivarea', 'garagecars', 'totalbsmtsf', 'mszoning_RL']]\n",
        "\n",
        "X = sm.add_constant(X)\n",
        "\n",
        "results = sm.OLS(Y, X).fit()\n",
        "\n",
        "results.summary()"
      ],
      "execution_count": 0,
      "outputs": [
        {
          "output_type": "execute_result",
          "data": {
            "text/html": [
              "<table class=\"simpletable\">\n",
              "<caption>OLS Regression Results</caption>\n",
              "<tr>\n",
              "  <th>Dep. Variable:</th>        <td>saleprice</td>    <th>  R-squared:         </th> <td>   0.767</td> \n",
              "</tr>\n",
              "<tr>\n",
              "  <th>Model:</th>                   <td>OLS</td>       <th>  Adj. R-squared:    </th> <td>   0.766</td> \n",
              "</tr>\n",
              "<tr>\n",
              "  <th>Method:</th>             <td>Least Squares</td>  <th>  F-statistic:       </th> <td>   956.8</td> \n",
              "</tr>\n",
              "<tr>\n",
              "  <th>Date:</th>             <td>Mon, 11 Nov 2019</td> <th>  Prob (F-statistic):</th>  <td>  0.00</td>  \n",
              "</tr>\n",
              "<tr>\n",
              "  <th>Time:</th>                 <td>12:28:23</td>     <th>  Log-Likelihood:    </th> <td> -17481.</td> \n",
              "</tr>\n",
              "<tr>\n",
              "  <th>No. Observations:</th>      <td>  1460</td>      <th>  AIC:               </th> <td>3.497e+04</td>\n",
              "</tr>\n",
              "<tr>\n",
              "  <th>Df Residuals:</th>          <td>  1454</td>      <th>  BIC:               </th> <td>3.501e+04</td>\n",
              "</tr>\n",
              "<tr>\n",
              "  <th>Df Model:</th>              <td>     5</td>      <th>                     </th>     <td> </td>    \n",
              "</tr>\n",
              "<tr>\n",
              "  <th>Covariance Type:</th>      <td>nonrobust</td>    <th>                     </th>     <td> </td>    \n",
              "</tr>\n",
              "</table>\n",
              "<table class=\"simpletable\">\n",
              "<tr>\n",
              "       <td></td>          <th>coef</th>     <th>std err</th>      <th>t</th>      <th>P>|t|</th>  <th>[0.025</th>    <th>0.975]</th>  \n",
              "</tr>\n",
              "<tr>\n",
              "  <th>const</th>       <td>-1.083e+05</td> <td> 4804.236</td> <td>  -22.540</td> <td> 0.000</td> <td>-1.18e+05</td> <td>-9.89e+04</td>\n",
              "</tr>\n",
              "<tr>\n",
              "  <th>overallqual</th> <td> 2.396e+04</td> <td> 1060.549</td> <td>   22.588</td> <td> 0.000</td> <td> 2.19e+04</td> <td>  2.6e+04</td>\n",
              "</tr>\n",
              "<tr>\n",
              "  <th>grlivarea</th>   <td>   45.4093</td> <td>    2.452</td> <td>   18.517</td> <td> 0.000</td> <td>   40.599</td> <td>   50.220</td>\n",
              "</tr>\n",
              "<tr>\n",
              "  <th>garagecars</th>  <td> 1.763e+04</td> <td> 1731.766</td> <td>   10.183</td> <td> 0.000</td> <td> 1.42e+04</td> <td>  2.1e+04</td>\n",
              "</tr>\n",
              "<tr>\n",
              "  <th>totalbsmtsf</th> <td>   28.8729</td> <td>    2.862</td> <td>   10.088</td> <td> 0.000</td> <td>   23.259</td> <td>   34.487</td>\n",
              "</tr>\n",
              "<tr>\n",
              "  <th>mszoning_RL</th> <td> 1.596e+04</td> <td> 2558.589</td> <td>    6.238</td> <td> 0.000</td> <td> 1.09e+04</td> <td>  2.1e+04</td>\n",
              "</tr>\n",
              "</table>\n",
              "<table class=\"simpletable\">\n",
              "<tr>\n",
              "  <th>Omnibus:</th>       <td>402.656</td> <th>  Durbin-Watson:     </th> <td>   1.979</td> \n",
              "</tr>\n",
              "<tr>\n",
              "  <th>Prob(Omnibus):</th> <td> 0.000</td>  <th>  Jarque-Bera (JB):  </th> <td>35429.680</td>\n",
              "</tr>\n",
              "<tr>\n",
              "  <th>Skew:</th>          <td>-0.080</td>  <th>  Prob(JB):          </th> <td>    0.00</td> \n",
              "</tr>\n",
              "<tr>\n",
              "  <th>Kurtosis:</th>      <td>27.133</td>  <th>  Cond. No.          </th> <td>9.53e+03</td> \n",
              "</tr>\n",
              "</table><br/><br/>Warnings:<br/>[1] Standard Errors assume that the covariance matrix of the errors is correctly specified.<br/>[2] The condition number is large, 9.53e+03. This might indicate that there are<br/>strong multicollinearity or other numerical problems."
            ],
            "text/plain": [
              "<class 'statsmodels.iolib.summary.Summary'>\n",
              "\"\"\"\n",
              "                            OLS Regression Results                            \n",
              "==============================================================================\n",
              "Dep. Variable:              saleprice   R-squared:                       0.767\n",
              "Model:                            OLS   Adj. R-squared:                  0.766\n",
              "Method:                 Least Squares   F-statistic:                     956.8\n",
              "Date:                Mon, 11 Nov 2019   Prob (F-statistic):               0.00\n",
              "Time:                        12:28:23   Log-Likelihood:                -17481.\n",
              "No. Observations:                1460   AIC:                         3.497e+04\n",
              "Df Residuals:                    1454   BIC:                         3.501e+04\n",
              "Df Model:                           5                                         \n",
              "Covariance Type:            nonrobust                                         \n",
              "===============================================================================\n",
              "                  coef    std err          t      P>|t|      [0.025      0.975]\n",
              "-------------------------------------------------------------------------------\n",
              "const       -1.083e+05   4804.236    -22.540      0.000   -1.18e+05   -9.89e+04\n",
              "overallqual  2.396e+04   1060.549     22.588      0.000    2.19e+04     2.6e+04\n",
              "grlivarea      45.4093      2.452     18.517      0.000      40.599      50.220\n",
              "garagecars   1.763e+04   1731.766     10.183      0.000    1.42e+04     2.1e+04\n",
              "totalbsmtsf    28.8729      2.862     10.088      0.000      23.259      34.487\n",
              "mszoning_RL  1.596e+04   2558.589      6.238      0.000    1.09e+04     2.1e+04\n",
              "==============================================================================\n",
              "Omnibus:                      402.656   Durbin-Watson:                   1.979\n",
              "Prob(Omnibus):                  0.000   Jarque-Bera (JB):            35429.680\n",
              "Skew:                          -0.080   Prob(JB):                         0.00\n",
              "Kurtosis:                      27.133   Cond. No.                     9.53e+03\n",
              "==============================================================================\n",
              "\n",
              "Warnings:\n",
              "[1] Standard Errors assume that the covariance matrix of the errors is correctly specified.\n",
              "[2] The condition number is large, 9.53e+03. This might indicate that there are\n",
              "strong multicollinearity or other numerical problems.\n",
              "\"\"\""
            ]
          },
          "metadata": {
            "tags": []
          },
          "execution_count": 12
        }
      ]
    },
    {
      "cell_type": "markdown",
      "metadata": {
        "id": "XMRCaTrnFsTL",
        "colab_type": "text"
      },
      "source": [
        "After excluding insignificant features we can interpret the model as follows:\n",
        "\n",
        "- A 1 point increase in overallqual results in a 23960 increase in sale price.\n",
        "- A 1 point increase in grlivarea results in a 45.4093 increase in sale price.\n",
        "- A 1 point increase in garagecars results in a 17360 increase in sale price.\n",
        "- A 1 point increase in totalbsmtsf results in a 28.8729 increase in sale price.\n",
        "- A 1 point increase in mszoning_RL results in a 15960 in increase in sale price. \n",
        "\n",
        "According to our model, overallqual, garagecars and mszoning_RL have the most significant impact on house sale prices. These results sound reasonable as the overall quality of the build material and finish (overallqual) should have a significant impact on sale price. The higher the quality of the house, the more it should sell for. The size of the garage was a little surprising to me but it makes sense it has a big impact on the sale of a house. I just wasn't expecting it to be that big. The mszoning_RL variable makes sense as low density residential areas are probably in high demand. I know I would rather have a big lot than sit on top of my neighbors."
      ]
    },
    {
      "cell_type": "code",
      "metadata": {
        "id": "BTwfyeYuFsTM",
        "colab_type": "code",
        "colab": {}
      },
      "source": [
        ""
      ],
      "execution_count": 0,
      "outputs": []
    }
  ]
}