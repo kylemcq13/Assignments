{
  "nbformat": 4,
  "nbformat_minor": 0,
  "metadata": {
    "kernelspec": {
      "display_name": "Python 3",
      "language": "python",
      "name": "python3"
    },
    "language_info": {
      "codemirror_mode": {
        "name": "ipython",
        "version": 3
      },
      "file_extension": ".py",
      "mimetype": "text/x-python",
      "name": "python",
      "nbconvert_exporter": "python",
      "pygments_lexer": "ipython3",
      "version": "3.7.1"
    },
    "colab": {
      "name": "18.3 Predicting Temperature.ipynb",
      "provenance": [],
      "include_colab_link": true
    }
  },
  "cells": [
    {
      "cell_type": "markdown",
      "metadata": {
        "id": "view-in-github",
        "colab_type": "text"
      },
      "source": [
        "<a href=\"https://colab.research.google.com/github/kylemcq13/Projects/blob/master/18_3_Predicting_Temperature.ipynb\" target=\"_parent\"><img src=\"https://colab.research.google.com/assets/colab-badge.svg\" alt=\"Open In Colab\"/></a>"
      ]
    },
    {
      "cell_type": "markdown",
      "metadata": {
        "id": "4Q_DxeeU7WLd",
        "colab_type": "text"
      },
      "source": [
        "* First, load the dataset from the **weatherinszeged** table from Thinkful's database.\n",
        "* Build a regression model where the target variable is *temperature*. As explanatory variables, use *humidity*, *windspeed*, *windbearing*, and *pressure*. Estimate the model using OLS.\n",
        "* Now, check if your model meets the Gauss-Markov Conditions above. If some of the assumptions are not met, discuss the implications of the violations for the correctness of your model."
      ]
    },
    {
      "cell_type": "markdown",
      "metadata": {
        "id": "6mXyUnmm7WLf",
        "colab_type": "text"
      },
      "source": [
        "# Load the Dataset"
      ]
    },
    {
      "cell_type": "code",
      "metadata": {
        "id": "PCTIIWPr7WLg",
        "colab_type": "code",
        "colab": {}
      },
      "source": [
        "import numpy as np\n",
        "import pandas as pd\n",
        "from sklearn import linear_model\n",
        "import matplotlib.pyplot as plt\n",
        "from sqlalchemy import create_engine\n",
        "import seaborn as sns\n",
        "import statsmodels.api as sm\n",
        "\n",
        "import warnings\n",
        "warnings.filterwarnings('ignore')\n",
        "\n",
        "postgres_user = 'dsbc_student'\n",
        "postgres_pw = '7*.8G9QH21'\n",
        "postgres_host = '142.93.121.174'\n",
        "postgres_port = '5432'\n",
        "postgres_db = 'weatherinszeged'\n",
        "\n",
        "engine = create_engine('postgresql://{}:{}@{}:{}/{}'.format(\n",
        "    postgres_user, postgres_pw, postgres_host, postgres_port, postgres_db))\n",
        "weather_df = pd.read_sql_query('select * from weatherinszeged',con=engine)\n",
        "\n",
        "# no need for an open connection, as we're only doing a single query\n",
        "engine.dispose()"
      ],
      "execution_count": 0,
      "outputs": []
    },
    {
      "cell_type": "code",
      "metadata": {
        "id": "zDeGHqFR7WLi",
        "colab_type": "code",
        "colab": {},
        "outputId": "7215af14-05c2-42d5-821a-eef9693d4f1a"
      },
      "source": [
        "weather_df.head()"
      ],
      "execution_count": 0,
      "outputs": [
        {
          "output_type": "execute_result",
          "data": {
            "text/html": [
              "<div>\n",
              "<style scoped>\n",
              "    .dataframe tbody tr th:only-of-type {\n",
              "        vertical-align: middle;\n",
              "    }\n",
              "\n",
              "    .dataframe tbody tr th {\n",
              "        vertical-align: top;\n",
              "    }\n",
              "\n",
              "    .dataframe thead th {\n",
              "        text-align: right;\n",
              "    }\n",
              "</style>\n",
              "<table border=\"1\" class=\"dataframe\">\n",
              "  <thead>\n",
              "    <tr style=\"text-align: right;\">\n",
              "      <th></th>\n",
              "      <th>date</th>\n",
              "      <th>summary</th>\n",
              "      <th>preciptype</th>\n",
              "      <th>temperature</th>\n",
              "      <th>apparenttemperature</th>\n",
              "      <th>humidity</th>\n",
              "      <th>windspeed</th>\n",
              "      <th>windbearing</th>\n",
              "      <th>visibility</th>\n",
              "      <th>loudcover</th>\n",
              "      <th>pressure</th>\n",
              "      <th>dailysummary</th>\n",
              "    </tr>\n",
              "  </thead>\n",
              "  <tbody>\n",
              "    <tr>\n",
              "      <th>0</th>\n",
              "      <td>2006-03-31 22:00:00+00:00</td>\n",
              "      <td>Partly Cloudy</td>\n",
              "      <td>rain</td>\n",
              "      <td>9.472222</td>\n",
              "      <td>7.388889</td>\n",
              "      <td>0.89</td>\n",
              "      <td>14.1197</td>\n",
              "      <td>251.0</td>\n",
              "      <td>15.8263</td>\n",
              "      <td>0.0</td>\n",
              "      <td>1015.13</td>\n",
              "      <td>Partly cloudy throughout the day.</td>\n",
              "    </tr>\n",
              "    <tr>\n",
              "      <th>1</th>\n",
              "      <td>2006-03-31 23:00:00+00:00</td>\n",
              "      <td>Partly Cloudy</td>\n",
              "      <td>rain</td>\n",
              "      <td>9.355556</td>\n",
              "      <td>7.227778</td>\n",
              "      <td>0.86</td>\n",
              "      <td>14.2646</td>\n",
              "      <td>259.0</td>\n",
              "      <td>15.8263</td>\n",
              "      <td>0.0</td>\n",
              "      <td>1015.63</td>\n",
              "      <td>Partly cloudy throughout the day.</td>\n",
              "    </tr>\n",
              "    <tr>\n",
              "      <th>2</th>\n",
              "      <td>2006-04-01 00:00:00+00:00</td>\n",
              "      <td>Mostly Cloudy</td>\n",
              "      <td>rain</td>\n",
              "      <td>9.377778</td>\n",
              "      <td>9.377778</td>\n",
              "      <td>0.89</td>\n",
              "      <td>3.9284</td>\n",
              "      <td>204.0</td>\n",
              "      <td>14.9569</td>\n",
              "      <td>0.0</td>\n",
              "      <td>1015.94</td>\n",
              "      <td>Partly cloudy throughout the day.</td>\n",
              "    </tr>\n",
              "    <tr>\n",
              "      <th>3</th>\n",
              "      <td>2006-04-01 01:00:00+00:00</td>\n",
              "      <td>Partly Cloudy</td>\n",
              "      <td>rain</td>\n",
              "      <td>8.288889</td>\n",
              "      <td>5.944444</td>\n",
              "      <td>0.83</td>\n",
              "      <td>14.1036</td>\n",
              "      <td>269.0</td>\n",
              "      <td>15.8263</td>\n",
              "      <td>0.0</td>\n",
              "      <td>1016.41</td>\n",
              "      <td>Partly cloudy throughout the day.</td>\n",
              "    </tr>\n",
              "    <tr>\n",
              "      <th>4</th>\n",
              "      <td>2006-04-01 02:00:00+00:00</td>\n",
              "      <td>Mostly Cloudy</td>\n",
              "      <td>rain</td>\n",
              "      <td>8.755556</td>\n",
              "      <td>6.977778</td>\n",
              "      <td>0.83</td>\n",
              "      <td>11.0446</td>\n",
              "      <td>259.0</td>\n",
              "      <td>15.8263</td>\n",
              "      <td>0.0</td>\n",
              "      <td>1016.51</td>\n",
              "      <td>Partly cloudy throughout the day.</td>\n",
              "    </tr>\n",
              "  </tbody>\n",
              "</table>\n",
              "</div>"
            ],
            "text/plain": [
              "                       date        summary preciptype  temperature  \\\n",
              "0 2006-03-31 22:00:00+00:00  Partly Cloudy       rain     9.472222   \n",
              "1 2006-03-31 23:00:00+00:00  Partly Cloudy       rain     9.355556   \n",
              "2 2006-04-01 00:00:00+00:00  Mostly Cloudy       rain     9.377778   \n",
              "3 2006-04-01 01:00:00+00:00  Partly Cloudy       rain     8.288889   \n",
              "4 2006-04-01 02:00:00+00:00  Mostly Cloudy       rain     8.755556   \n",
              "\n",
              "   apparenttemperature  humidity  windspeed  windbearing  visibility  \\\n",
              "0             7.388889      0.89    14.1197        251.0     15.8263   \n",
              "1             7.227778      0.86    14.2646        259.0     15.8263   \n",
              "2             9.377778      0.89     3.9284        204.0     14.9569   \n",
              "3             5.944444      0.83    14.1036        269.0     15.8263   \n",
              "4             6.977778      0.83    11.0446        259.0     15.8263   \n",
              "\n",
              "   loudcover  pressure                       dailysummary  \n",
              "0        0.0   1015.13  Partly cloudy throughout the day.  \n",
              "1        0.0   1015.63  Partly cloudy throughout the day.  \n",
              "2        0.0   1015.94  Partly cloudy throughout the day.  \n",
              "3        0.0   1016.41  Partly cloudy throughout the day.  \n",
              "4        0.0   1016.51  Partly cloudy throughout the day.  "
            ]
          },
          "metadata": {
            "tags": []
          },
          "execution_count": 2
        }
      ]
    },
    {
      "cell_type": "markdown",
      "metadata": {
        "id": "2vUP6JX77WLm",
        "colab_type": "text"
      },
      "source": [
        "# Build Regression Model"
      ]
    },
    {
      "cell_type": "markdown",
      "metadata": {
        "id": "Xn32oU2H7WLn",
        "colab_type": "text"
      },
      "source": [
        "Build a regression model where the target variable is temperature. As explanatory variables, use humidity, windspeed, windbearing, and pressure. Estimate the model using OLS."
      ]
    },
    {
      "cell_type": "code",
      "metadata": {
        "id": "kuUie1SU7WLn",
        "colab_type": "code",
        "colab": {},
        "outputId": "b3f3d82f-74ae-4293-8e5f-77b9206f150c"
      },
      "source": [
        "# Y is the target variable\n",
        "Y = weather_df['temperature']\n",
        "# X is the feature set which includes\n",
        "X = weather_df[['humidity','windspeed', 'windbearing', 'pressure']]\n",
        "\n",
        "# We create a LinearRegression model object\n",
        "# from scikit-learn's linear_model module.\n",
        "lrm = linear_model.LinearRegression()\n",
        "\n",
        "# fit method estimates the coefficients using OLS\n",
        "lrm.fit(X, Y)\n",
        "\n",
        "# Inspect the results.\n",
        "np.set_printoptions(suppress=True)\n",
        "print('\\nCoefficients: \\n', lrm.coef_)\n",
        "print('\\nIntercept: \\n', lrm.intercept_)"
      ],
      "execution_count": 0,
      "outputs": [
        {
          "output_type": "stream",
          "text": [
            "\n",
            "Coefficients: \n",
            " [-32.49624543  -0.20141374   0.00404837  -0.00069176]\n",
            "\n",
            "Intercept: \n",
            " 37.9264381852854\n"
          ],
          "name": "stdout"
        }
      ]
    },
    {
      "cell_type": "code",
      "metadata": {
        "id": "h5hvblQ17WLp",
        "colab_type": "code",
        "colab": {},
        "outputId": "ff34c785-36e2-4381-9ccc-f632f51c2a2b"
      },
      "source": [
        "# We need to manually add a constant\n",
        "# in statsmodels' sm\n",
        "X_c = sm.add_constant(X)\n",
        "\n",
        "results = sm.OLS(Y, X_c).fit()\n",
        "\n",
        "results.summary()"
      ],
      "execution_count": 0,
      "outputs": [
        {
          "output_type": "execute_result",
          "data": {
            "text/html": [
              "<table class=\"simpletable\">\n",
              "<caption>OLS Regression Results</caption>\n",
              "<tr>\n",
              "  <th>Dep. Variable:</th>       <td>temperature</td>   <th>  R-squared:         </th>  <td>   0.421</td>  \n",
              "</tr>\n",
              "<tr>\n",
              "  <th>Model:</th>                   <td>OLS</td>       <th>  Adj. R-squared:    </th>  <td>   0.421</td>  \n",
              "</tr>\n",
              "<tr>\n",
              "  <th>Method:</th>             <td>Least Squares</td>  <th>  F-statistic:       </th>  <td>1.750e+04</td> \n",
              "</tr>\n",
              "<tr>\n",
              "  <th>Date:</th>             <td>Sun, 10 Nov 2019</td> <th>  Prob (F-statistic):</th>   <td>  0.00</td>   \n",
              "</tr>\n",
              "<tr>\n",
              "  <th>Time:</th>                 <td>19:20:50</td>     <th>  Log-Likelihood:    </th> <td>-3.2821e+05</td>\n",
              "</tr>\n",
              "<tr>\n",
              "  <th>No. Observations:</th>      <td> 96453</td>      <th>  AIC:               </th>  <td>6.564e+05</td> \n",
              "</tr>\n",
              "<tr>\n",
              "  <th>Df Residuals:</th>          <td> 96448</td>      <th>  BIC:               </th>  <td>6.565e+05</td> \n",
              "</tr>\n",
              "<tr>\n",
              "  <th>Df Model:</th>              <td>     4</td>      <th>                     </th>      <td> </td>     \n",
              "</tr>\n",
              "<tr>\n",
              "  <th>Covariance Type:</th>      <td>nonrobust</td>    <th>                     </th>      <td> </td>     \n",
              "</tr>\n",
              "</table>\n",
              "<table class=\"simpletable\">\n",
              "<tr>\n",
              "       <td></td>          <th>coef</th>     <th>std err</th>      <th>t</th>      <th>P>|t|</th>  <th>[0.025</th>    <th>0.975]</th>  \n",
              "</tr>\n",
              "<tr>\n",
              "  <th>const</th>       <td>   37.9264</td> <td>    0.233</td> <td>  162.709</td> <td> 0.000</td> <td>   37.470</td> <td>   38.383</td>\n",
              "</tr>\n",
              "<tr>\n",
              "  <th>humidity</th>    <td>  -32.4962</td> <td>    0.123</td> <td> -264.288</td> <td> 0.000</td> <td>  -32.737</td> <td>  -32.255</td>\n",
              "</tr>\n",
              "<tr>\n",
              "  <th>windspeed</th>   <td>   -0.2014</td> <td>    0.003</td> <td>  -57.557</td> <td> 0.000</td> <td>   -0.208</td> <td>   -0.195</td>\n",
              "</tr>\n",
              "<tr>\n",
              "  <th>windbearing</th> <td>    0.0040</td> <td>    0.000</td> <td>   18.463</td> <td> 0.000</td> <td>    0.004</td> <td>    0.004</td>\n",
              "</tr>\n",
              "<tr>\n",
              "  <th>pressure</th>    <td>   -0.0007</td> <td>    0.000</td> <td>   -3.452</td> <td> 0.001</td> <td>   -0.001</td> <td>   -0.000</td>\n",
              "</tr>\n",
              "</table>\n",
              "<table class=\"simpletable\">\n",
              "<tr>\n",
              "  <th>Omnibus:</th>       <td>3375.432</td> <th>  Durbin-Watson:     </th> <td>   0.059</td>\n",
              "</tr>\n",
              "<tr>\n",
              "  <th>Prob(Omnibus):</th>  <td> 0.000</td>  <th>  Jarque-Bera (JB):  </th> <td>3793.297</td>\n",
              "</tr>\n",
              "<tr>\n",
              "  <th>Skew:</th>           <td>-0.455</td>  <th>  Prob(JB):          </th> <td>    0.00</td>\n",
              "</tr>\n",
              "<tr>\n",
              "  <th>Kurtosis:</th>       <td> 3.339</td>  <th>  Cond. No.          </th> <td>1.06e+04</td>\n",
              "</tr>\n",
              "</table><br/><br/>Warnings:<br/>[1] Standard Errors assume that the covariance matrix of the errors is correctly specified.<br/>[2] The condition number is large, 1.06e+04. This might indicate that there are<br/>strong multicollinearity or other numerical problems."
            ],
            "text/plain": [
              "<class 'statsmodels.iolib.summary.Summary'>\n",
              "\"\"\"\n",
              "                            OLS Regression Results                            \n",
              "==============================================================================\n",
              "Dep. Variable:            temperature   R-squared:                       0.421\n",
              "Model:                            OLS   Adj. R-squared:                  0.421\n",
              "Method:                 Least Squares   F-statistic:                 1.750e+04\n",
              "Date:                Sun, 10 Nov 2019   Prob (F-statistic):               0.00\n",
              "Time:                        19:20:50   Log-Likelihood:            -3.2821e+05\n",
              "No. Observations:               96453   AIC:                         6.564e+05\n",
              "Df Residuals:                   96448   BIC:                         6.565e+05\n",
              "Df Model:                           4                                         \n",
              "Covariance Type:            nonrobust                                         \n",
              "===============================================================================\n",
              "                  coef    std err          t      P>|t|      [0.025      0.975]\n",
              "-------------------------------------------------------------------------------\n",
              "const          37.9264      0.233    162.709      0.000      37.470      38.383\n",
              "humidity      -32.4962      0.123   -264.288      0.000     -32.737     -32.255\n",
              "windspeed      -0.2014      0.003    -57.557      0.000      -0.208      -0.195\n",
              "windbearing     0.0040      0.000     18.463      0.000       0.004       0.004\n",
              "pressure       -0.0007      0.000     -3.452      0.001      -0.001      -0.000\n",
              "==============================================================================\n",
              "Omnibus:                     3375.432   Durbin-Watson:                   0.059\n",
              "Prob(Omnibus):                  0.000   Jarque-Bera (JB):             3793.297\n",
              "Skew:                          -0.455   Prob(JB):                         0.00\n",
              "Kurtosis:                       3.339   Cond. No.                     1.06e+04\n",
              "==============================================================================\n",
              "\n",
              "Warnings:\n",
              "[1] Standard Errors assume that the covariance matrix of the errors is correctly specified.\n",
              "[2] The condition number is large, 1.06e+04. This might indicate that there are\n",
              "strong multicollinearity or other numerical problems.\n",
              "\"\"\""
            ]
          },
          "metadata": {
            "tags": []
          },
          "execution_count": 4
        }
      ]
    },
    {
      "cell_type": "markdown",
      "metadata": {
        "id": "Cis_U08a7WLs",
        "colab_type": "text"
      },
      "source": [
        "---"
      ]
    },
    {
      "cell_type": "markdown",
      "metadata": {
        "id": "U8QO24xS7WLs",
        "colab_type": "text"
      },
      "source": [
        "Now, check if your model meets the Gauss-Markov Conditions above. If some of the assumptions are not met, discuss the implications of the violations for the correctness of your model."
      ]
    },
    {
      "cell_type": "markdown",
      "metadata": {
        "id": "CeWsQ42k7WLt",
        "colab_type": "text"
      },
      "source": [
        "# 1. Linearity of the model in its coefficients\n"
      ]
    },
    {
      "cell_type": "markdown",
      "metadata": {
        "id": "TZShbpPr7WLu",
        "colab_type": "text"
      },
      "source": [
        "We are using a model that takes into account a linearity assumption, therefore we shouldn't worry about this assumption in this situation."
      ]
    },
    {
      "cell_type": "markdown",
      "metadata": {
        "id": "A43O8_o07WLu",
        "colab_type": "text"
      },
      "source": [
        "# 2. The error term should be zero on average"
      ]
    },
    {
      "cell_type": "code",
      "metadata": {
        "id": "oREMouDD7WLv",
        "colab_type": "code",
        "colab": {},
        "outputId": "3565d31d-00e6-4749-dbd4-adf0744ff6f3"
      },
      "source": [
        "predictions = lrm.predict(X)\n",
        "errors = Y - predictions\n",
        "\n",
        "print(\"Mean of the errors in the medical costs model is: {}\".format(np.mean(errors)))"
      ],
      "execution_count": 0,
      "outputs": [
        {
          "output_type": "stream",
          "text": [
            "Mean of the errors in the medical costs model is: -6.282637831541205e-15\n"
          ],
          "name": "stdout"
        }
      ]
    },
    {
      "cell_type": "markdown",
      "metadata": {
        "id": "IByu29kW7WLx",
        "colab_type": "text"
      },
      "source": [
        "The average of the error in the model is effectively zero."
      ]
    },
    {
      "cell_type": "markdown",
      "metadata": {
        "id": "9E9rrw4k7WLy",
        "colab_type": "text"
      },
      "source": [
        "# 3. Homoscedasticity"
      ]
    },
    {
      "cell_type": "code",
      "metadata": {
        "id": "2UXyn8tX7WLy",
        "colab_type": "code",
        "colab": {},
        "outputId": "b3d24494-c7d4-4daf-d793-48c288372557"
      },
      "source": [
        "plt.scatter(predictions, errors)\n",
        "plt.xlabel('Predicted')\n",
        "plt.ylabel('Residual')\n",
        "plt.axhline(y=0)\n",
        "plt.title('Residual vs. Predicted')\n",
        "plt.show()"
      ],
      "execution_count": 0,
      "outputs": [
        {
          "output_type": "display_data",
          "data": {
            "image/png": "[encoded data removed]",
            "text/plain": [
              "<Figure size 432x288 with 1 Axes>"
            ]
          },
          "metadata": {
            "tags": [],
            "needs_background": "light"
          }
        }
      ]
    },
    {
      "cell_type": "code",
      "metadata": {
        "id": "qL6xGllE7WL0",
        "colab_type": "code",
        "colab": {},
        "outputId": "6cd986ff-bcce-4a9b-cf3c-6db49da1ebfc"
      },
      "source": [
        "from scipy.stats import bartlett\n",
        "from scipy.stats import levene\n",
        "\n",
        "bart_stats = bartlett(predictions, errors)\n",
        "lev_stats = levene(predictions, errors)\n",
        "\n",
        "print(\"Bartlett test statistic value is {0:3g} and p value is {1:.3g}\".format(bart_stats[0], bart_stats[1]))\n",
        "print(\"Levene test statistic value is {0:3g} and p value is {1:.3g}\".format(lev_stats[0], lev_stats[1]))"
      ],
      "execution_count": 0,
      "outputs": [
        {
          "output_type": "stream",
          "text": [
            "Bartlett test statistic value is 2464.84 and p value is 0\n",
            "Levene test statistic value is 2321.24 and p value is 0\n"
          ],
          "name": "stdout"
        }
      ]
    },
    {
      "cell_type": "markdown",
      "metadata": {
        "id": "bD3cxOfR7WL2",
        "colab_type": "text"
      },
      "source": [
        "Based on the p values, it looks as if the errors are heteroscedastic. This could possibly be fixed by dealing with the outliers in the dataset or transforming the target variable."
      ]
    },
    {
      "cell_type": "markdown",
      "metadata": {
        "id": "BYRLr2Uc7WL3",
        "colab_type": "text"
      },
      "source": [
        "# 4. Low multicollinearity"
      ]
    },
    {
      "cell_type": "code",
      "metadata": {
        "id": "pbnooP8e7WL3",
        "colab_type": "code",
        "colab": {},
        "outputId": "ec13f11f-6a89-4327-9425-0b8354c5f1cb"
      },
      "source": [
        "weather_df.corr()"
      ],
      "execution_count": 0,
      "outputs": [
        {
          "output_type": "execute_result",
          "data": {
            "text/html": [
              "<div>\n",
              "<style scoped>\n",
              "    .dataframe tbody tr th:only-of-type {\n",
              "        vertical-align: middle;\n",
              "    }\n",
              "\n",
              "    .dataframe tbody tr th {\n",
              "        vertical-align: top;\n",
              "    }\n",
              "\n",
              "    .dataframe thead th {\n",
              "        text-align: right;\n",
              "    }\n",
              "</style>\n",
              "<table border=\"1\" class=\"dataframe\">\n",
              "  <thead>\n",
              "    <tr style=\"text-align: right;\">\n",
              "      <th></th>\n",
              "      <th>temperature</th>\n",
              "      <th>apparenttemperature</th>\n",
              "      <th>humidity</th>\n",
              "      <th>windspeed</th>\n",
              "      <th>windbearing</th>\n",
              "      <th>visibility</th>\n",
              "      <th>loudcover</th>\n",
              "      <th>pressure</th>\n",
              "    </tr>\n",
              "  </thead>\n",
              "  <tbody>\n",
              "    <tr>\n",
              "      <th>temperature</th>\n",
              "      <td>1.000000</td>\n",
              "      <td>0.992629</td>\n",
              "      <td>-0.632255</td>\n",
              "      <td>0.008957</td>\n",
              "      <td>0.029988</td>\n",
              "      <td>0.392847</td>\n",
              "      <td>NaN</td>\n",
              "      <td>-0.005447</td>\n",
              "    </tr>\n",
              "    <tr>\n",
              "      <th>apparenttemperature</th>\n",
              "      <td>0.992629</td>\n",
              "      <td>1.000000</td>\n",
              "      <td>-0.602571</td>\n",
              "      <td>-0.056650</td>\n",
              "      <td>0.029031</td>\n",
              "      <td>0.381718</td>\n",
              "      <td>NaN</td>\n",
              "      <td>-0.000219</td>\n",
              "    </tr>\n",
              "    <tr>\n",
              "      <th>humidity</th>\n",
              "      <td>-0.632255</td>\n",
              "      <td>-0.602571</td>\n",
              "      <td>1.000000</td>\n",
              "      <td>-0.224951</td>\n",
              "      <td>0.000735</td>\n",
              "      <td>-0.369173</td>\n",
              "      <td>NaN</td>\n",
              "      <td>0.005454</td>\n",
              "    </tr>\n",
              "    <tr>\n",
              "      <th>windspeed</th>\n",
              "      <td>0.008957</td>\n",
              "      <td>-0.056650</td>\n",
              "      <td>-0.224951</td>\n",
              "      <td>1.000000</td>\n",
              "      <td>0.103822</td>\n",
              "      <td>0.100749</td>\n",
              "      <td>NaN</td>\n",
              "      <td>-0.049263</td>\n",
              "    </tr>\n",
              "    <tr>\n",
              "      <th>windbearing</th>\n",
              "      <td>0.029988</td>\n",
              "      <td>0.029031</td>\n",
              "      <td>0.000735</td>\n",
              "      <td>0.103822</td>\n",
              "      <td>1.000000</td>\n",
              "      <td>0.047594</td>\n",
              "      <td>NaN</td>\n",
              "      <td>-0.011651</td>\n",
              "    </tr>\n",
              "    <tr>\n",
              "      <th>visibility</th>\n",
              "      <td>0.392847</td>\n",
              "      <td>0.381718</td>\n",
              "      <td>-0.369173</td>\n",
              "      <td>0.100749</td>\n",
              "      <td>0.047594</td>\n",
              "      <td>1.000000</td>\n",
              "      <td>NaN</td>\n",
              "      <td>0.059818</td>\n",
              "    </tr>\n",
              "    <tr>\n",
              "      <th>loudcover</th>\n",
              "      <td>NaN</td>\n",
              "      <td>NaN</td>\n",
              "      <td>NaN</td>\n",
              "      <td>NaN</td>\n",
              "      <td>NaN</td>\n",
              "      <td>NaN</td>\n",
              "      <td>NaN</td>\n",
              "      <td>NaN</td>\n",
              "    </tr>\n",
              "    <tr>\n",
              "      <th>pressure</th>\n",
              "      <td>-0.005447</td>\n",
              "      <td>-0.000219</td>\n",
              "      <td>0.005454</td>\n",
              "      <td>-0.049263</td>\n",
              "      <td>-0.011651</td>\n",
              "      <td>0.059818</td>\n",
              "      <td>NaN</td>\n",
              "      <td>1.000000</td>\n",
              "    </tr>\n",
              "  </tbody>\n",
              "</table>\n",
              "</div>"
            ],
            "text/plain": [
              "                     temperature  apparenttemperature  humidity  windspeed  \\\n",
              "temperature             1.000000             0.992629 -0.632255   0.008957   \n",
              "apparenttemperature     0.992629             1.000000 -0.602571  -0.056650   \n",
              "humidity               -0.632255            -0.602571  1.000000  -0.224951   \n",
              "windspeed               0.008957            -0.056650 -0.224951   1.000000   \n",
              "windbearing             0.029988             0.029031  0.000735   0.103822   \n",
              "visibility              0.392847             0.381718 -0.369173   0.100749   \n",
              "loudcover                    NaN                  NaN       NaN        NaN   \n",
              "pressure               -0.005447            -0.000219  0.005454  -0.049263   \n",
              "\n",
              "                     windbearing  visibility  loudcover  pressure  \n",
              "temperature             0.029988    0.392847        NaN -0.005447  \n",
              "apparenttemperature     0.029031    0.381718        NaN -0.000219  \n",
              "humidity                0.000735   -0.369173        NaN  0.005454  \n",
              "windspeed               0.103822    0.100749        NaN -0.049263  \n",
              "windbearing             1.000000    0.047594        NaN -0.011651  \n",
              "visibility              0.047594    1.000000        NaN  0.059818  \n",
              "loudcover                    NaN         NaN        NaN       NaN  \n",
              "pressure               -0.011651    0.059818        NaN  1.000000  "
            ]
          },
          "metadata": {
            "tags": []
          },
          "execution_count": 9
        }
      ]
    },
    {
      "cell_type": "code",
      "metadata": {
        "id": "M1dakUru7WL5",
        "colab_type": "code",
        "colab": {},
        "outputId": "4b5b8c4a-d14a-4105-f044-d59d4715e083"
      },
      "source": [
        "X.corr()"
      ],
      "execution_count": 0,
      "outputs": [
        {
          "output_type": "execute_result",
          "data": {
            "text/html": [
              "<div>\n",
              "<style scoped>\n",
              "    .dataframe tbody tr th:only-of-type {\n",
              "        vertical-align: middle;\n",
              "    }\n",
              "\n",
              "    .dataframe tbody tr th {\n",
              "        vertical-align: top;\n",
              "    }\n",
              "\n",
              "    .dataframe thead th {\n",
              "        text-align: right;\n",
              "    }\n",
              "</style>\n",
              "<table border=\"1\" class=\"dataframe\">\n",
              "  <thead>\n",
              "    <tr style=\"text-align: right;\">\n",
              "      <th></th>\n",
              "      <th>humidity</th>\n",
              "      <th>windspeed</th>\n",
              "      <th>windbearing</th>\n",
              "      <th>pressure</th>\n",
              "    </tr>\n",
              "  </thead>\n",
              "  <tbody>\n",
              "    <tr>\n",
              "      <th>humidity</th>\n",
              "      <td>1.000000</td>\n",
              "      <td>-0.224951</td>\n",
              "      <td>0.000735</td>\n",
              "      <td>0.005454</td>\n",
              "    </tr>\n",
              "    <tr>\n",
              "      <th>windspeed</th>\n",
              "      <td>-0.224951</td>\n",
              "      <td>1.000000</td>\n",
              "      <td>0.103822</td>\n",
              "      <td>-0.049263</td>\n",
              "    </tr>\n",
              "    <tr>\n",
              "      <th>windbearing</th>\n",
              "      <td>0.000735</td>\n",
              "      <td>0.103822</td>\n",
              "      <td>1.000000</td>\n",
              "      <td>-0.011651</td>\n",
              "    </tr>\n",
              "    <tr>\n",
              "      <th>pressure</th>\n",
              "      <td>0.005454</td>\n",
              "      <td>-0.049263</td>\n",
              "      <td>-0.011651</td>\n",
              "      <td>1.000000</td>\n",
              "    </tr>\n",
              "  </tbody>\n",
              "</table>\n",
              "</div>"
            ],
            "text/plain": [
              "             humidity  windspeed  windbearing  pressure\n",
              "humidity     1.000000  -0.224951     0.000735  0.005454\n",
              "windspeed   -0.224951   1.000000     0.103822 -0.049263\n",
              "windbearing  0.000735   0.103822     1.000000 -0.011651\n",
              "pressure     0.005454  -0.049263    -0.011651  1.000000"
            ]
          },
          "metadata": {
            "tags": []
          },
          "execution_count": 10
        }
      ]
    },
    {
      "cell_type": "markdown",
      "metadata": {
        "id": "JkPTabBO7WL7",
        "colab_type": "text"
      },
      "source": [
        "There doesn't seem to be much collinearity between our features, although the model has a warning from the start. What determines high collinearity? "
      ]
    },
    {
      "cell_type": "markdown",
      "metadata": {
        "id": "OIFEVlpu7WL8",
        "colab_type": "text"
      },
      "source": [
        "# 5. Error terms should be uncorrelated with one another"
      ]
    },
    {
      "cell_type": "code",
      "metadata": {
        "id": "rxWcv2bz7WL9",
        "colab_type": "code",
        "colab": {},
        "outputId": "877cf6f2-bc46-4136-bfaa-8af5b39fc541"
      },
      "source": [
        "plt.plot(errors)\n",
        "plt.show()"
      ],
      "execution_count": 0,
      "outputs": [
        {
          "output_type": "display_data",
          "data": {
            "image/png": "[encoded data removed]",
            "text/plain": [
              "<Figure size 432x288 with 1 Axes>"
            ]
          },
          "metadata": {
            "tags": [],
            "needs_background": "light"
          }
        }
      ]
    },
    {
      "cell_type": "code",
      "metadata": {
        "id": "LTlYwq917WL-",
        "colab_type": "code",
        "colab": {},
        "outputId": "cf124b76-6ec7-4549-d8e8-914bf87a0307"
      },
      "source": [
        "from statsmodels.tsa.stattools import acf\n",
        "\n",
        "acf_data = acf(errors)\n",
        "\n",
        "plt.plot(acf_data[1:])\n",
        "plt.show()"
      ],
      "execution_count": 0,
      "outputs": [
        {
          "output_type": "display_data",
          "data": {
            "image/png": "[encoded data removed]",
            "text/plain": [
              "<Figure size 432x288 with 1 Axes>"
            ]
          },
          "metadata": {
            "tags": [],
            "needs_background": "light"
          }
        }
      ]
    },
    {
      "cell_type": "markdown",
      "metadata": {
        "id": "7Up31nun7WMA",
        "colab_type": "text"
      },
      "source": [
        "Given the error plot above, we may have some correlation within the error terms ranging from 0.70 to 0.95. How would this be handled?"
      ]
    },
    {
      "cell_type": "markdown",
      "metadata": {
        "id": "iFrgpIF77WMB",
        "colab_type": "text"
      },
      "source": [
        "# 6. Features shouldn't be correlated with the errors"
      ]
    },
    {
      "cell_type": "code",
      "metadata": {
        "id": "QHq73Kdn7WMB",
        "colab_type": "code",
        "colab": {},
        "outputId": "d313b9c3-e9cc-4a38-fc29-4f2f03729971"
      },
      "source": [
        "# how do I test for exogeneity?\n",
        "# there doesn't seem to be correlation but how exactly should this be tested? \n",
        "\n",
        "plt.plot(X, errors)"
      ],
      "execution_count": 0,
      "outputs": [
        {
          "output_type": "execute_result",
          "data": {
            "text/plain": [
              "[<matplotlib.lines.Line2D at 0x21947858b70>,\n",
              " <matplotlib.lines.Line2D at 0x21947858c88>,\n",
              " <matplotlib.lines.Line2D at 0x21947858dd8>,\n",
              " <matplotlib.lines.Line2D at 0x21947858f28>]"
            ]
          },
          "metadata": {
            "tags": []
          },
          "execution_count": 11
        },
        {
          "output_type": "display_data",
          "data": {
            "image/png": "[encoded data removed]",
            "text/plain": [
              "<Figure size 432x288 with 1 Axes>"
            ]
          },
          "metadata": {
            "tags": [],
            "needs_background": "light"
          }
        }
      ]
    },
    {
      "cell_type": "code",
      "metadata": {
        "id": "4qDVZyQu7WMD",
        "colab_type": "code",
        "colab": {},
        "outputId": "d56150db-76f7-41e9-e807-7eb11391d4df"
      },
      "source": [
        "rand_nums = np.random.normal(np.mean(errors), np.std(errors), len(errors))\n",
        "\n",
        "plt.figure(figsize=(12,5))\n",
        "\n",
        "plt.subplot(1,2,1)\n",
        "plt.scatter(np.sort(rand_nums), np.sort(errors)) # we sort the arrays\n",
        "plt.xlabel(\"the normally distributed random variable\")\n",
        "plt.ylabel(\"errors of the model\")\n",
        "plt.title(\"QQ plot\")\n",
        "\n",
        "plt.subplot(1,2,2)\n",
        "plt.hist(errors)\n",
        "plt.xlabel(\"errors\")\n",
        "plt.title(\"Histogram of the errors\")\n",
        "\n",
        "plt.tight_layout()\n",
        "plt.show()"
      ],
      "execution_count": 0,
      "outputs": [
        {
          "output_type": "display_data",
          "data": {
            "image/png": "[encoded data removed]",
            "text/plain": [
              "<Figure size 864x360 with 2 Axes>"
            ]
          },
          "metadata": {
            "tags": [],
            "needs_background": "light"
          }
        }
      ]
    },
    {
      "cell_type": "markdown",
      "metadata": {
        "id": "q2Y0rO_L7WMF",
        "colab_type": "text"
      },
      "source": [
        "We can clearly see that our error data is not normally distributed. According to the module, more of often than not, this is because of an omitted variable. We have not omitted any variables so transforing the dependent variable could help resolve this issue."
      ]
    },
    {
      "cell_type": "code",
      "metadata": {
        "id": "5MVkdhyJ7WMG",
        "colab_type": "code",
        "colab": {}
      },
      "source": [
        "from scipy.stats import jarque_bera\n",
        "from scipy.stats import normaltest"
      ],
      "execution_count": 0,
      "outputs": []
    },
    {
      "cell_type": "code",
      "metadata": {
        "id": "E7MkYwT87WMH",
        "colab_type": "code",
        "colab": {},
        "outputId": "a9efa718-fe6a-463c-f618-2ec277f1c13c"
      },
      "source": [
        "jb_stats = jarque_bera(errors)\n",
        "norm_stats = normaltest(errors)\n",
        "\n",
        "print(\"Jarque-Bera test statistics is {0} and p value is {1}\".format(jb_stats[0], jb_stats[1]))\n",
        "print(\"Normality test statistics is {0} and p value is {1}\".format(norm_stats[0], norm_stats[1]))"
      ],
      "execution_count": 0,
      "outputs": [
        {
          "output_type": "stream",
          "text": [
            "Jarque-Bera test statistics is 3793.296735252366 and p value is 0.0\n",
            "Normality test statistics is 3375.432307699586 and p value is 0.0\n"
          ],
          "name": "stdout"
        }
      ]
    },
    {
      "cell_type": "code",
      "metadata": {
        "id": "0gATq-tZ7WMK",
        "colab_type": "code",
        "colab": {}
      },
      "source": [
        ""
      ],
      "execution_count": 0,
      "outputs": []
    }
  ]
}