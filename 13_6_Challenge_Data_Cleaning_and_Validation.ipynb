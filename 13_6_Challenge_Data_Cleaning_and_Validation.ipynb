{
  "nbformat": 4,
  "nbformat_minor": 0,
  "metadata": {
    "kernelspec": {
      "display_name": "Python 3",
      "language": "python",
      "name": "python3"
    },
    "language_info": {
      "codemirror_mode": {
        "name": "ipython",
        "version": 3
      },
      "file_extension": ".py",
      "mimetype": "text/x-python",
      "name": "python",
      "nbconvert_exporter": "python",
      "pygments_lexer": "ipython3",
      "version": "3.7.3"
    },
    "colab": {
      "name": "13.6 Challenge - Data Cleaning and Validation.ipynb",
      "provenance": [],
      "include_colab_link": true
    }
  },
  "cells": [
    {
      "cell_type": "markdown",
      "metadata": {
        "id": "view-in-github",
        "colab_type": "text"
      },
      "source": [
        "<a href=\"https://colab.research.google.com/github/kylemcq13/Projects/blob/master/13_6_Challenge_Data_Cleaning_and_Validation.ipynb\" target=\"_parent\"><img src=\"https://colab.research.google.com/assets/colab-badge.svg\" alt=\"Open In Colab\"/></a>"
      ]
    },
    {
      "cell_type": "markdown",
      "metadata": {
        "id": "LfCnpyidtpWR",
        "colab_type": "text"
      },
      "source": [
        "# Data Cleaning & Validation Challenge"
      ]
    },
    {
      "cell_type": "markdown",
      "metadata": {
        "id": "dBNTXtHGtpWS",
        "colab_type": "text"
      },
      "source": [
        "To complete this challenge, determine the five most common journals and the total articles for each. Next, calculate the mean, median, and standard deviation of the open-access cost per article for each journal."
      ]
    },
    {
      "cell_type": "code",
      "metadata": {
        "id": "JTuFFKZqtpWT",
        "colab_type": "code",
        "colab": {}
      },
      "source": [
        "import pandas as pd\n",
        "import numpy as np\n",
        "import matplotlib.pyplot as plt\n",
        "import seaborn as sns\n",
        "%matplotlib inline"
      ],
      "execution_count": 0,
      "outputs": []
    },
    {
      "cell_type": "code",
      "metadata": {
        "id": "nhXuPiIZtpWW",
        "colab_type": "code",
        "colab": {}
      },
      "source": [
        "challenge = pd.read_csv(r'C:\\Users\\kylem\\Desktop\\Thinkful Data Science Projects\\WELLCOME_APCspend2013_forThinkful.csv')"
      ],
      "execution_count": 0,
      "outputs": []
    },
    {
      "cell_type": "code",
      "metadata": {
        "id": "ZiNAMkfetpWY",
        "colab_type": "code",
        "colab": {},
        "outputId": "d065d1da-7ca2-4a66-eb1c-b08ab5a61e56"
      },
      "source": [
        "challenge.head(10)"
      ],
      "execution_count": 0,
      "outputs": [
        {
          "output_type": "execute_result",
          "data": {
            "text/html": [
              "<div>\n",
              "<style scoped>\n",
              "    .dataframe tbody tr th:only-of-type {\n",
              "        vertical-align: middle;\n",
              "    }\n",
              "\n",
              "    .dataframe tbody tr th {\n",
              "        vertical-align: top;\n",
              "    }\n",
              "\n",
              "    .dataframe thead th {\n",
              "        text-align: right;\n",
              "    }\n",
              "</style>\n",
              "<table border=\"1\" class=\"dataframe\">\n",
              "  <thead>\n",
              "    <tr style=\"text-align: right;\">\n",
              "      <th></th>\n",
              "      <th>PMID/PMCID</th>\n",
              "      <th>Publisher</th>\n",
              "      <th>Journal title</th>\n",
              "      <th>Article title</th>\n",
              "      <th>COST (£) charged to Wellcome (inc VAT when charged)</th>\n",
              "    </tr>\n",
              "  </thead>\n",
              "  <tbody>\n",
              "    <tr>\n",
              "      <th>0</th>\n",
              "      <td>NaN</td>\n",
              "      <td>CUP</td>\n",
              "      <td>Psychological Medicine</td>\n",
              "      <td>Reduced parahippocampal cortical thickness in ...</td>\n",
              "      <td>£0.00</td>\n",
              "    </tr>\n",
              "    <tr>\n",
              "      <th>1</th>\n",
              "      <td>PMC3679557</td>\n",
              "      <td>ACS</td>\n",
              "      <td>Biomacromolecules</td>\n",
              "      <td>Structural characterization of a Model Gram-ne...</td>\n",
              "      <td>£2381.04</td>\n",
              "    </tr>\n",
              "    <tr>\n",
              "      <th>2</th>\n",
              "      <td>23043264  PMC3506128</td>\n",
              "      <td>ACS</td>\n",
              "      <td>J Med Chem</td>\n",
              "      <td>Fumaroylamino-4,5-epoxymorphinans and related ...</td>\n",
              "      <td>£642.56</td>\n",
              "    </tr>\n",
              "    <tr>\n",
              "      <th>3</th>\n",
              "      <td>23438330 PMC3646402</td>\n",
              "      <td>ACS</td>\n",
              "      <td>J Med Chem</td>\n",
              "      <td>Orvinols with mixed kappa/mu opioid receptor a...</td>\n",
              "      <td>£669.64</td>\n",
              "    </tr>\n",
              "    <tr>\n",
              "      <th>4</th>\n",
              "      <td>23438216 PMC3601604</td>\n",
              "      <td>ACS</td>\n",
              "      <td>J Org Chem</td>\n",
              "      <td>Regioselective opening of myo-inositol orthoes...</td>\n",
              "      <td>£685.88</td>\n",
              "    </tr>\n",
              "    <tr>\n",
              "      <th>5</th>\n",
              "      <td>PMC3579457</td>\n",
              "      <td>ACS</td>\n",
              "      <td>Journal of Medicinal Chemistry</td>\n",
              "      <td>Comparative Structural and Functional Studies ...</td>\n",
              "      <td>£2392.20</td>\n",
              "    </tr>\n",
              "    <tr>\n",
              "      <th>6</th>\n",
              "      <td>PMC3709265</td>\n",
              "      <td>ACS</td>\n",
              "      <td>Journal of Proteome Research</td>\n",
              "      <td>Mapping Proteolytic Processing in the Secretom...</td>\n",
              "      <td>£2367.95</td>\n",
              "    </tr>\n",
              "    <tr>\n",
              "      <th>7</th>\n",
              "      <td>23057412 PMC3495574</td>\n",
              "      <td>ACS</td>\n",
              "      <td>Mol Pharm</td>\n",
              "      <td>Quantitative silencing of EGFP reporter gene b...</td>\n",
              "      <td>£649.33</td>\n",
              "    </tr>\n",
              "    <tr>\n",
              "      <th>8</th>\n",
              "      <td>PMCID: PMC3780468</td>\n",
              "      <td>ACS (Amercian Chemical Society) Publications</td>\n",
              "      <td>ACS Chemical Biology</td>\n",
              "      <td>A Novel Allosteric Inhibitor of the Uridine Di...</td>\n",
              "      <td>£1294.59</td>\n",
              "    </tr>\n",
              "    <tr>\n",
              "      <th>9</th>\n",
              "      <td>PMCID: PMC3621575</td>\n",
              "      <td>ACS (Amercian Chemical Society) Publications</td>\n",
              "      <td>ACS Chemical Biology</td>\n",
              "      <td>Chemical proteomic analysis reveals the drugab...</td>\n",
              "      <td>£1294.78</td>\n",
              "    </tr>\n",
              "  </tbody>\n",
              "</table>\n",
              "</div>"
            ],
            "text/plain": [
              "              PMID/PMCID                                     Publisher  \\\n",
              "0                    NaN                                           CUP   \n",
              "1             PMC3679557                                           ACS   \n",
              "2  23043264  PMC3506128                                            ACS   \n",
              "3    23438330 PMC3646402                                           ACS   \n",
              "4   23438216 PMC3601604                                            ACS   \n",
              "5             PMC3579457                                           ACS   \n",
              "6             PMC3709265                                           ACS   \n",
              "7   23057412 PMC3495574                                            ACS   \n",
              "8      PMCID: PMC3780468  ACS (Amercian Chemical Society) Publications   \n",
              "9      PMCID: PMC3621575  ACS (Amercian Chemical Society) Publications   \n",
              "\n",
              "                    Journal title  \\\n",
              "0          Psychological Medicine   \n",
              "1               Biomacromolecules   \n",
              "2                      J Med Chem   \n",
              "3                      J Med Chem   \n",
              "4                      J Org Chem   \n",
              "5  Journal of Medicinal Chemistry   \n",
              "6    Journal of Proteome Research   \n",
              "7                       Mol Pharm   \n",
              "8            ACS Chemical Biology   \n",
              "9            ACS Chemical Biology   \n",
              "\n",
              "                                       Article title  \\\n",
              "0  Reduced parahippocampal cortical thickness in ...   \n",
              "1  Structural characterization of a Model Gram-ne...   \n",
              "2  Fumaroylamino-4,5-epoxymorphinans and related ...   \n",
              "3  Orvinols with mixed kappa/mu opioid receptor a...   \n",
              "4  Regioselective opening of myo-inositol orthoes...   \n",
              "5  Comparative Structural and Functional Studies ...   \n",
              "6  Mapping Proteolytic Processing in the Secretom...   \n",
              "7  Quantitative silencing of EGFP reporter gene b...   \n",
              "8  A Novel Allosteric Inhibitor of the Uridine Di...   \n",
              "9  Chemical proteomic analysis reveals the drugab...   \n",
              "\n",
              "  COST (£) charged to Wellcome (inc VAT when charged)  \n",
              "0                                              £0.00   \n",
              "1                                           £2381.04   \n",
              "2                                            £642.56   \n",
              "3                                            £669.64   \n",
              "4                                            £685.88   \n",
              "5                                           £2392.20   \n",
              "6                                           £2367.95   \n",
              "7                                            £649.33   \n",
              "8                                           £1294.59   \n",
              "9                                           £1294.78   "
            ]
          },
          "metadata": {
            "tags": []
          },
          "execution_count": 3
        }
      ]
    },
    {
      "cell_type": "code",
      "metadata": {
        "id": "hIrvc0bQtpWc",
        "colab_type": "code",
        "colab": {},
        "outputId": "91040b65-a2d3-4114-dba9-dccc648bfc54"
      },
      "source": [
        "challenge['Publisher'].count()"
      ],
      "execution_count": 0,
      "outputs": [
        {
          "output_type": "execute_result",
          "data": {
            "text/plain": [
              "2127"
            ]
          },
          "metadata": {
            "tags": []
          },
          "execution_count": 4
        }
      ]
    },
    {
      "cell_type": "code",
      "metadata": {
        "id": "sNhsyWuVtpWe",
        "colab_type": "code",
        "colab": {},
        "outputId": "ffbd88d3-2165-4d59-db2d-fcb3d0390a8a"
      },
      "source": [
        "#view all publishers, strip white space and make everything lowercase\n",
        "challenge['Publisher'] = challenge['Publisher'].apply(lambda x: x.strip())\n",
        "challenge['Publisher'] = challenge['Publisher'].str.lower()\n",
        "print(challenge['Publisher'].unique())"
      ],
      "execution_count": 0,
      "outputs": [
        {
          "output_type": "stream",
          "text": [
            "['cup' 'acs' 'acs (amercian chemical society) publications'\n",
            " 'acs publications' 'aga institute' 'ambsb'\n",
            " 'american association of immunologists' 'american chemical society'\n",
            " 'american chemical society publications'\n",
            " 'american college of chest physicians' 'american physiological society'\n",
            " 'american psychiatric association' 'american psychiatric publishing'\n",
            " 'american psychological association' 'american public health association'\n",
            " 'american soc for biochemistry and molecular biology'\n",
            " 'american society for biochemistry and molecular biolgy'\n",
            " 'american society for biochemistry and molecular biology'\n",
            " 'american society for investigative pathology'\n",
            " 'american society for microbiology' 'american society for nutrition'\n",
            " 'american society of haematology' 'american society of hamatology'\n",
            " 'american society of hematology'\n",
            " 'american society of human genetics (elsevier)'\n",
            " 'american society of microbiology'\n",
            " 'american speech-language-hearing association' 'asbmb' 'asbmb cadmus'\n",
            " 'asbmb/cadmus' 'asbmb/cenveo publisher services' 'asbmc /cenveo' 'asm'\n",
            " 'asm (american society for microbiology)'\n",
            " 'association for research in vision & ophthalmology'\n",
            " 'bentham science publishers' 'benthan science publishers' 'berhahn books'\n",
            " 'biochem journal' 'biomed central' 'biomed central limited'\n",
            " 'biomed central ltd' 'biophysical society' 'bioscientifica'\n",
            " 'blackwell publishing ltd/wiley' 'bmc' 'bmj' 'bmj group' 'bmj journals'\n",
            " 'bmj publishing group' 'bmj publishing group ltd'\n",
            " 'bmj publishing group ltd & british thoracic society' 'brill'\n",
            " 'british medical journal' 'byophysical society' 'cadmus'\n",
            " 'cadmus journal service' 'cadmus journal services' 'cambridge journals'\n",
            " 'cambridge uni press' 'cambridge univ press' 'cambridge university press'\n",
            " 'camdus journal services' 'cell press' 'cenveo publisher services'\n",
            " 'cenveo publisher services/asm jv1' 'coaction' 'cold spring habour press'\n",
            " 'cold spring harbor' 'cold spring harbor laboratory press'\n",
            " 'cold spring harbor press' 'cold spring harbor publications'\n",
            " 'company of biologist' 'company of biologists'\n",
            " 'company of biologists ltd' 'copyright clearace center' 'cshlp'\n",
            " 'darmouth journal services' 'dartmouth journal services'\n",
            " 'dartmouth journals' 'elseveier science' 'elsevier'\n",
            " 'elsevier (cell press)' 'elsevier / cell science' 'elsevier b.v.'\n",
            " 'elsevier ltd' 'elsevier/cell press' 'endocrine society'\n",
            " 'european respiratory society' 'european society of endocrinolog' 'faseb'\n",
            " 'federation of american societies for experimental biology'\n",
            " 'federation of american societies for experimental biology (faseb)'\n",
            " 'federation of the american society of experimental biology'\n",
            " 'ferrata storti foundation' 'frontiers' 'frontiers media'\n",
            " 'frontiers media sa' 'frontiers research foundation' 'future medicine'\n",
            " 'future medicine ltd' 'future science' 'hindawi'\n",
            " 'hindawi publishing corporation' 'humana press (springer imprint)'\n",
            " 'impact journals' 'impact journals llc' 'informa healthcare'\n",
            " 'informa healthcare communications' 'institute of physics'\n",
            " 'international aids society'\n",
            " 'international union against tuberculosis and lung disease'\n",
            " 'international union of crystallography'\n",
            " 'international union of crystallography (iucr)' 'iop publishing'\n",
            " 'ios press' 'ivyspring international publisher' 'j med internet research'\n",
            " 'john wiley' 'john wiley & sons' 'john wiley & sons inc'\n",
            " 'john wiley & sons ltd' 'john wiley & sons, inc.' 'john wiley and sons'\n",
            " 'john wiley and sons ltd' 'johns hopkins university press'\n",
            " 'journal of the american physiological proceedings of national academy of sciences'\n",
            " 'journal of visualized experiments' 'jove' 'jscimed central' 'karger'\n",
            " 'landes bioscience' 'landes biosciences' 'lww' 'macmillan'\n",
            " 'mary ann liebert' 'mary ann liebert inc'\n",
            " 'mary ann liebert, inc. publishers' 'mdpi' 'mit press'\n",
            " 'mit press open access' 'my jove corp' 'my jove corporation'\n",
            " 'myjove corporation' 'national academy of sciences'\n",
            " 'national academy of sciences of the united states of america'\n",
            " 'national academy of sciences usa' 'national academy of sciences, usa'\n",
            " 'nature' 'nature pg' 'nature publishing' 'nature publishing group'\n",
            " 'nature publishing group ltd' 'npg' 'open access reg ltd'\n",
            " 'optical society of america' 'oup' 'oxford journals'\n",
            " 'oxford journals (oup)' 'oxford univ press' 'oxford university press'\n",
            " 'oxford university press (oup)' 'oxford univesity press'\n",
            " 'palgrave macmillan' 'pion' 'plos' 'plos (public library of science)'\n",
            " 'plos public library of science' 'pnas' 'pnas author publication'\n",
            " 'policy press' 'portland press' 'portland press ltd'\n",
            " 'proceedings of the national academy of sciences (pnas)'\n",
            " 'public library of science' 'public.service.co.uk'\n",
            " 'publisher society for endocrinology' 'pubmed' 'pubmed central'\n",
            " 'research media ltd' 'royal college of psychiatrists' 'royal society'\n",
            " 'royal society for chemistry' 'royal society of chemistry' 'rsc'\n",
            " 'rsc publishing' 'sage' 'sage publications' 'sage publications inc'\n",
            " 'sage publications ltd' 'sage publishers' 'sage publishing'\n",
            " 'sciedu press' 'scientific research publishing' 'sheridan press'\n",
            " 'society for endocrinology' 'society for general microbiology'\n",
            " 'society for genermal microbiology' 'society for leukocyte biology'\n",
            " 'society for neuroscience' 'society for neurosciences'\n",
            " 'society for publication of acta dermato-venereologica'\n",
            " 'society of general microbiology' 'society of leukocyte biology'\n",
            " 'society of neuro sciences' 'society of neuroscience' 'springer'\n",
            " 'springer - verlag gmbh' 'springer science + business media'\n",
            " 'springer verlag' 'springer-veriag gmbh' 'springer-verlag gmbh'\n",
            " 'springer-verlag gmbh & ci'\n",
            " 'springer-verlag gmbh, heidelberger platz 3, d-14197 berlin' 't&f'\n",
            " 'taylor & francis' 'taylor & francis journals' 'taylor and francis'\n",
            " 'the american chemical society petroleum research trust'\n",
            " 'the american physiological society'\n",
            " 'the american society for biochemistry and molecular biology'\n",
            " 'the american society for biochemistry and molecular biology, inc'\n",
            " 'the american society of pediatrics' 'the boulevard'\n",
            " 'the company of biolgists' 'the company of biologists'\n",
            " 'the company of biologists ltd' 'the endocrine socety'\n",
            " 'the endocrine society' 'the endrocrine society'\n",
            " 'the journal of visualized experiments'\n",
            " 'the royal college of psychiatrists' 'the royal society'\n",
            " 'the sheridan press' 'transcript verlag'\n",
            " 'university of the basque country press' 'wiley' 'wiley & son'\n",
            " 'wiley blackwell' 'wiley online library' 'wiley subscription services'\n",
            " 'wiley subscription services  inc.' 'wiley subscription services inc'\n",
            " 'wiley subscription serviices inc' 'wiley vch' 'wiley/blackwell'\n",
            " 'wiley-blackwell' 'wiley-blackwell, john wiley & sons' 'wiley-vch'\n",
            " 'wliey-blackwell' 'wolters kluwer' 'wolters kluwer health'\n",
            " 'wolters kluwer n.v./lippinott' 'wolters kluwers']\n"
          ],
          "name": "stdout"
        }
      ]
    },
    {
      "cell_type": "code",
      "metadata": {
        "id": "iXkmKkQRtpWi",
        "colab_type": "code",
        "colab": {},
        "outputId": "35e51b0c-aabf-4bca-f5b9-66e3e17e875e"
      },
      "source": [
        "print(challenge['Publisher'].value_counts())"
      ],
      "execution_count": 0,
      "outputs": [
        {
          "output_type": "stream",
          "text": [
            "elsevier                                                                             399\n",
            "public library of science                                                            278\n",
            "wiley                                                                                148\n",
            "oxford university press                                                               85\n",
            "springer                                                                              82\n",
            "biomed central                                                                        60\n",
            "wiley-blackwell                                                                       56\n",
            "oup                                                                                   56\n",
            "nature publishing group                                                               49\n",
            "asbmb                                                                                 46\n",
            "bmc                                                                                   26\n",
            "bmj                                                                                   25\n",
            "nature                                                                                25\n",
            "plos                                                                                  24\n",
            "frontiers                                                                             23\n",
            "royal society                                                                         22\n",
            "cambridge university press                                                            20\n",
            "american society for biochemistry and molecular biology                               19\n",
            "dartmouth journal services                                                            18\n",
            "company of biologists                                                                 18\n",
            "american society for microbiology                                                     18\n",
            "bmj group                                                                             16\n",
            "national academy of sciences                                                          16\n",
            "oxford journals                                                                       16\n",
            "american chemical society                                                             15\n",
            "american psychological association                                                    14\n",
            "society for general microbiology                                                      14\n",
            "landes bioscience                                                                     14\n",
            "sage                                                                                  14\n",
            "wiley subscription services  inc.                                                     13\n",
            "                                                                                    ... \n",
            "cadmus journal service                                                                 1\n",
            "cshlp                                                                                  1\n",
            "royal society for chemistry                                                            1\n",
            "cold spring harbor                                                                     1\n",
            "asbmb/cadmus                                                                           1\n",
            "oxford univesity press                                                                 1\n",
            "humana press (springer imprint)                                                        1\n",
            "elsevier/cell press                                                                    1\n",
            "the american society for biochemistry and molecular biology                            1\n",
            "cold spring harbor press                                                               1\n",
            "american society of human genetics (elsevier)                                          1\n",
            "springer verlag                                                                        1\n",
            "john wiley & sons, inc.                                                                1\n",
            "springer-veriag gmbh                                                                   1\n",
            "optical society of america                                                             1\n",
            "american society for biochemistry and molecular biolgy                                 1\n",
            "society for endocrinology                                                              1\n",
            "jove                                                                                   1\n",
            "wiley-blackwell, john wiley & sons                                                     1\n",
            "t&f                                                                                    1\n",
            "journal of the american physiological proceedings of national academy of sciences      1\n",
            "johns hopkins university press                                                         1\n",
            "elsevier / cell science                                                                1\n",
            "palgrave macmillan                                                                     1\n",
            "pubmed                                                                                 1\n",
            "j med internet research                                                                1\n",
            "association for research in vision & ophthalmology                                     1\n",
            "the boulevard                                                                          1\n",
            "ivyspring international publisher                                                      1\n",
            "federation of the american society of experimental biology                             1\n",
            "Name: Publisher, Length: 254, dtype: int64\n"
          ],
          "name": "stdout"
        }
      ]
    },
    {
      "cell_type": "code",
      "metadata": {
        "id": "_9_iqpcGtpWk",
        "colab_type": "code",
        "colab": {},
        "outputId": "5c37bd5c-3f18-41a0-cf49-b81e0d4fcc87"
      },
      "source": [
        "#are there any null values?\n",
        "challenge.isnull().any()"
      ],
      "execution_count": 0,
      "outputs": [
        {
          "output_type": "execute_result",
          "data": {
            "text/plain": [
              "PMID/PMCID                                              True\n",
              "Publisher                                              False\n",
              "Journal title                                           True\n",
              "Article title                                          False\n",
              "COST (£) charged to Wellcome (inc VAT when charged)    False\n",
              "dtype: bool"
            ]
          },
          "metadata": {
            "tags": []
          },
          "execution_count": 7
        }
      ]
    },
    {
      "cell_type": "code",
      "metadata": {
        "id": "G3fGzEK0tpWn",
        "colab_type": "code",
        "colab": {},
        "outputId": "381737dd-e226-41d6-dda5-6ea903515fb2"
      },
      "source": [
        "#how many null values?\n",
        "challenge.isnull().sum()"
      ],
      "execution_count": 0,
      "outputs": [
        {
          "output_type": "execute_result",
          "data": {
            "text/plain": [
              "PMID/PMCID                                             199\n",
              "Publisher                                                0\n",
              "Journal title                                            1\n",
              "Article title                                            0\n",
              "COST (£) charged to Wellcome (inc VAT when charged)      0\n",
              "dtype: int64"
            ]
          },
          "metadata": {
            "tags": []
          },
          "execution_count": 8
        }
      ]
    },
    {
      "cell_type": "code",
      "metadata": {
        "id": "B2oi6SuntpWp",
        "colab_type": "code",
        "colab": {},
        "outputId": "47e15f01-d450-4939-e735-6c136d9d6c2d"
      },
      "source": [
        "challenge['Publisher'].nunique()"
      ],
      "execution_count": 0,
      "outputs": [
        {
          "output_type": "execute_result",
          "data": {
            "text/plain": [
              "254"
            ]
          },
          "metadata": {
            "tags": []
          },
          "execution_count": 9
        }
      ]
    },
    {
      "cell_type": "markdown",
      "metadata": {
        "id": "skaj5gTptpWr",
        "colab_type": "text"
      },
      "source": [
        "# Dictionary approach"
      ]
    },
    {
      "cell_type": "code",
      "metadata": {
        "id": "kni3Z3vetpWs",
        "colab_type": "code",
        "colab": {},
        "outputId": "cb4286b2-84cf-46e2-efb8-30528e01153f"
      },
      "source": [
        "#build a dictionary with key words as text in raw material, and value as text needed\n",
        "\n",
        "dict = {'acs' : 'american chemical society', \n",
        "        'acs (amercian chemical society) publications' : 'american chemical society',\n",
        "        'acs publications':'american chemical society', \n",
        "        'american chemical society publications' : 'american chemical society',\n",
        "        'american society of human genetics (elsevier)':'elsevier',\n",
        "        'elseveier science':'elsevier',\n",
        "        'elsevier (cell press)':'elsevier',\n",
        "        'elsevier / cell science':'elsevier', \n",
        "        'elsevier/Cell Press':'elsevier', \n",
        "        'elseveier':'elsevier',\n",
        "        'elsevier ltd':'elsevier',\n",
        "        'elsevier b.v.':'elsevier',\n",
        "        'plos':'public library of science',\n",
        "        'plos (public library of science)':'public library of science', \n",
        "        'plos public library of science':'public library of science',\n",
        "        'wiley':'john wiley & sons', \n",
        "        'john wiley & sons inc': 'john wiley & sons', \n",
        "        'john wiley & sons ltd':'john wiley & sons',\n",
        "        'wiley subscription services':'john wiley & sons', \n",
        "        'wiley blackwell':'john wiley & sons', \n",
        "        'wiley & son':'john wiley & sons',\n",
        "        'wiley online library':'john wiley & sons', \n",
        "        'wiley subscription services inc.':'john wiley & sons', \n",
        "        'wiley-blackwell':'john wiley & sons',\n",
        "        'wiley-vch':'john wiley & sons', \n",
        "        'wiley subscription services inc':'john wiley & sons', \n",
        "        'wiley blackwell':'john wiley & sons',\n",
        "        'wliey-blackwell':'john wiley & sons', \n",
        "        'wiley':'john wiley & sons', \n",
        "        'wiley subscription services  inc.':'john wiley & sons',\n",
        "        'john wiley':'john wiley & sons',\n",
        "        'john wiley & sons, inc.': 'john wiley & sons',\n",
        "        'john wiley and sons':'john wiley & sons',\n",
        "        'john wiley and sons ltd':'john wiley & sons',\n",
        "        'wiley subscription serviices inc':'john wiley & sons',\n",
        "        'wiley vch':'john wiley & sons',\n",
        "        'wiley/blackwell':'john wiley & sons',\n",
        "        'wiley-blackwell, john wiley & sons':'john wiley & sons',\n",
        "        'blackwell publishing ltd/wiley':'john wiley & sons',\n",
        "        'oxford journals':'oxford university press',\n",
        "        'oup':'oxford university press',\n",
        "        'oxford journals (oup)':'oxford university press',\n",
        "        'oxford univ press':'oxford university press',\n",
        "        'oxford university press (oup)':'oxford university press',\n",
        "        'oxford univesity press':'oxford university press',\n",
        "        'humana press (springer imprint)':'springer',\n",
        "        'springer-verlag gmbh':'springer',\n",
        "        'springer science + business media':'springer',\n",
        "        'springer verlag':'springer',\n",
        "        'springer-veriag gmbh':'springer',\n",
        "        'springer-verlag gmbh & ci':'springer',\n",
        "        'springer-verlag gmbh, heidelberger platz 3, d-14197 berlin':'springer',\n",
        "        'biomed central limited':'biomed central',\n",
        "        'biomed central ltd':'biomed central',\n",
        "        'bmc':'biomed central',\n",
        "        'asbmb':'american society for biochemistry and molecular biology',\n",
        "        'bmj':'bmj publishing group',\n",
        "        'bmj group':'bmj publishing group',\n",
        "        'portland press ltd':'portland press',\n",
        "        'pnas':'proceedings of the national academy of sciences',\n",
        "        'pnas author publication':'proceedings of the national academy of sciences',\n",
        "        'proceedings of the national academy of sciences (pnas)':'proceedings of the national academy of sciences',\n",
        "        'cup':'cambridge university press'}\n",
        "clean_df = challenge.replace({'Publisher' : dict})\n",
        "clean_df['Publisher'].value_counts()"
      ],
      "execution_count": 0,
      "outputs": [
        {
          "output_type": "execute_result",
          "data": {
            "text/plain": [
              "elsevier                                                       408\n",
              "public library of science                                      307\n",
              "john wiley & sons                                              270\n",
              "oxford university press                                        167\n",
              "biomed central                                                  95\n",
              "springer                                                        93\n",
              "american society for biochemistry and molecular biology         65\n",
              "bmj publishing group                                            50\n",
              "nature publishing group                                         49\n",
              "american chemical society                                       30\n",
              "cambridge university press                                      28\n",
              "nature                                                          25\n",
              "frontiers                                                       23\n",
              "portland press                                                  22\n",
              "royal society                                                   22\n",
              "american society for microbiology                               18\n",
              "dartmouth journal services                                      18\n",
              "company of biologists                                           18\n",
              "national academy of sciences                                    16\n",
              "society for general microbiology                                14\n",
              "american psychological association                              14\n",
              "landes bioscience                                               14\n",
              "sage                                                            14\n",
              "society for neuroscience                                        11\n",
              "taylor & francis                                                11\n",
              "proceedings of the national academy of sciences                 11\n",
              "the endocrine society                                            8\n",
              "international union of crystallography                           8\n",
              "wolters kluwer                                                   7\n",
              "the royal society                                                7\n",
              "                                                              ... \n",
              "pion                                                             1\n",
              "aga institute                                                    1\n",
              "my jove corporation                                              1\n",
              "european society of endocrinolog                                 1\n",
              "society of leukocyte biology                                     1\n",
              "company of biologists ltd                                        1\n",
              "royal society for chemistry                                      1\n",
              "brill                                                            1\n",
              "cold spring habour press                                         1\n",
              "lww                                                              1\n",
              "the endocrine socety                                             1\n",
              "j med internet research                                          1\n",
              "european respiratory society                                     1\n",
              "scientific research publishing                                   1\n",
              "american society for investigative pathology                     1\n",
              "the boulevard                                                    1\n",
              "frontiers research foundation                                    1\n",
              "asbmb cadmus                                                     1\n",
              "darmouth journal services                                        1\n",
              "research media ltd                                               1\n",
              "sage publishing                                                  1\n",
              "future medicine ltd                                              1\n",
              "asm (american society for microbiology)                          1\n",
              "the journal of visualized experiments                            1\n",
              "university of the basque country press                           1\n",
              "the american society for biochemistry and molecular biology      1\n",
              "impact journals                                                  1\n",
              "cenveo publisher services                                        1\n",
              "society of neuro sciences                                        1\n",
              "federation of the american society of experimental biology       1\n",
              "Name: Publisher, Length: 197, dtype: int64"
            ]
          },
          "metadata": {
            "tags": []
          },
          "execution_count": 10
        }
      ]
    },
    {
      "cell_type": "markdown",
      "metadata": {
        "id": "IFd_LiuDtpWw",
        "colab_type": "text"
      },
      "source": [
        "As seen above, the top 5 publishers include: Elsevier, Public Library of Science, John Wiley & Sons, Oxford University Press, and BioMed Central."
      ]
    },
    {
      "cell_type": "code",
      "metadata": {
        "id": "vj3KD7HQtpWw",
        "colab_type": "code",
        "colab": {}
      },
      "source": [
        "#calculate the mean, median, standard deviation for the cost per article of each of the top 5 journals"
      ],
      "execution_count": 0,
      "outputs": []
    },
    {
      "cell_type": "code",
      "metadata": {
        "id": "yBML6uUntpWy",
        "colab_type": "code",
        "colab": {}
      },
      "source": [
        "#rename columns of cleaned dataframe\n",
        "clean_df.columns = ['PMID/PMCID', 'Publisher', 'Journal Title', 'Article Title', 'Cost']"
      ],
      "execution_count": 0,
      "outputs": []
    },
    {
      "cell_type": "code",
      "metadata": {
        "id": "DPfxSQwutpW0",
        "colab_type": "code",
        "colab": {},
        "outputId": "6d942448-a1e7-4422-99e8-688fff22c02a"
      },
      "source": [
        "#check for cost null values, and data types\n",
        "null_cost = clean_df[clean_df['Cost'].isnull()]\n",
        "print(null_cost)\n",
        "print(clean_df.dtypes)"
      ],
      "execution_count": 0,
      "outputs": [
        {
          "output_type": "stream",
          "text": [
            "Empty DataFrame\n",
            "Columns: [PMID/PMCID, Publisher, Journal Title, Article Title, Cost]\n",
            "Index: []\n",
            "PMID/PMCID       object\n",
            "Publisher        object\n",
            "Journal Title    object\n",
            "Article Title    object\n",
            "Cost             object\n",
            "dtype: object\n"
          ],
          "name": "stdout"
        }
      ]
    },
    {
      "cell_type": "code",
      "metadata": {
        "id": "UkiFXsQgtpW2",
        "colab_type": "code",
        "colab": {},
        "outputId": "05fc677d-33d1-4030-9996-aedfa752f8c1"
      },
      "source": [
        "#convert the cost column to a float by deleting the dollar and pound symbols\n",
        "#using the average exchange rate of dollars to pounds between years 2012 and 2013, convert the dollar values to pounds\n",
        "clean_df['Cost'] = clean_df['Cost'].apply(lambda x: x.replace('£', '') if isinstance(x, str) and '£' in x else x)\n",
        "clean_df['Cost'] = clean_df['Cost'].apply(lambda x: float(x.replace('$', ''))*0.6353 if isinstance(x, str) and '$' in x else x)\n",
        "clean_df['Cost'] = pd.to_numeric(clean_df['Cost'])\n",
        "print(clean_df.dtypes)"
      ],
      "execution_count": 0,
      "outputs": [
        {
          "output_type": "stream",
          "text": [
            "PMID/PMCID        object\n",
            "Publisher         object\n",
            "Journal Title     object\n",
            "Article Title     object\n",
            "Cost             float64\n",
            "dtype: object\n"
          ],
          "name": "stdout"
        }
      ]
    },
    {
      "cell_type": "code",
      "metadata": {
        "id": "RXSbfl0ftpW5",
        "colab_type": "code",
        "colab": {},
        "outputId": "a804478f-3a80-4bd3-95c7-142c10e89dd7"
      },
      "source": [
        "#find the mean cost of the top 5 publishers\n",
        "mean = clean_df.groupby('Publisher')['Cost'].mean()\n",
        "mean_top_5 = mean[['elsevier', 'public library of science', 'john wiley & sons', 'oxford university press', 'biomed central']]\n",
        "print(mean_top_5)"
      ],
      "execution_count": 0,
      "outputs": [
        {
          "output_type": "stream",
          "text": [
            "Publisher\n",
            "elsevier                     26880.723701\n",
            "public library of science    50551.879848\n",
            "john wiley & sons            17532.888444\n",
            "oxford university press      19775.350240\n",
            "biomed central               22329.838250\n",
            "Name: Cost, dtype: float64\n"
          ],
          "name": "stdout"
        }
      ]
    },
    {
      "cell_type": "code",
      "metadata": {
        "id": "lQr9TvwktpW7",
        "colab_type": "code",
        "colab": {},
        "outputId": "4265628f-eb53-45b3-fc6b-4dee3895e37c"
      },
      "source": [
        "#find the median cost of the top 5 publishers\n",
        "median = clean_df.groupby('Publisher')['Cost'].median()\n",
        "median_top_5 = median[['elsevier', 'public library of science', 'john wiley & sons', 'oxford university press', 'biomed central']]\n",
        "print(median_top_5)"
      ],
      "execution_count": 0,
      "outputs": [
        {
          "output_type": "stream",
          "text": [
            "Publisher\n",
            "elsevier                     2351.795\n",
            "public library of science    1023.410\n",
            "john wiley & sons            2009.945\n",
            "oxford university press      2040.000\n",
            "biomed central               1314.600\n",
            "Name: Cost, dtype: float64\n"
          ],
          "name": "stdout"
        }
      ]
    },
    {
      "cell_type": "code",
      "metadata": {
        "id": "QIUGdZRptpW9",
        "colab_type": "code",
        "colab": {},
        "outputId": "e4e8c815-d073-4c52-c3dc-1f5db6c37f46"
      },
      "source": [
        "#find the standard deviation of cost of the top 5 publishers\n",
        "std = clean_df.groupby('Publisher')['Cost'].std()\n",
        "std_top_5 = std[['elsevier', 'public library of science', 'john wiley & sons', 'oxford university press', 'biomed central']]\n",
        "print(std_top_5)"
      ],
      "execution_count": 0,
      "outputs": [
        {
          "output_type": "stream",
          "text": [
            "Publisher\n",
            "elsevier                     154440.963595\n",
            "public library of science    215820.064964\n",
            "john wiley & sons            121308.114848\n",
            "oxford university press      132975.378101\n",
            "biomed central               144133.380964\n",
            "Name: Cost, dtype: float64\n"
          ],
          "name": "stdout"
        }
      ]
    },
    {
      "cell_type": "code",
      "metadata": {
        "id": "5KBVyZjNtpW_",
        "colab_type": "code",
        "colab": {},
        "outputId": "7d377de7-f660-415a-81cf-2572db33da75"
      },
      "source": [
        "#the standard deviations and means seem astronomically high, lets look for outliers\n",
        "print(clean_df.groupby('Cost').max())"
      ],
      "execution_count": 0,
      "outputs": [
        {
          "output_type": "stream",
          "text": [
            "                                                   Publisher  \\\n",
            "Cost                                                           \n",
            "0.00                              cambridge university press   \n",
            "9.93                                          biomed central   \n",
            "45.94                         american society for nutrition   \n",
            "122.31                             public library of science   \n",
            "135.29                                          sciedu press   \n",
            "159.74                                     landes bioscience   \n",
            "159.91                                       jscimed central   \n",
            "187.03                                          sciedu press   \n",
            "206.32       proceedings of the national academy of sciences   \n",
            "214.74                             public library of science   \n",
            "238.08                                         aga institute   \n",
            "265.67                                                 ambsb   \n",
            "270.00                                        portland press   \n",
            "321.12                             american chemical society   \n",
            "321.46                                     landes bioscience   \n",
            "327.72                             public library of science   \n",
            "329.79                             public library of science   \n",
            "340.00                                        iop publishing   \n",
            "343.51                             public library of science   \n",
            "346.25                                             frontiers   \n",
            "348.33                                              elsevier   \n",
            "364.17                                              elsevier   \n",
            "378.70                             ferrata storti foundation   \n",
            "378.78                               oxford university press   \n",
            "381.04                                          asbmb cadmus   \n",
            "384.00                                        biomed central   \n",
            "389.73                             public library of science   \n",
            "395.60                          national academy of sciences   \n",
            "402.42                                     landes bioscience   \n",
            "409.78                                     landes bioscience   \n",
            "...                                                      ...   \n",
            "3975.75                                             elsevier   \n",
            "3992.37                                             elsevier   \n",
            "3995.74                           dartmouth journal services   \n",
            "3997.71                                             elsevier   \n",
            "4002.42                                             elsevier   \n",
            "4012.03                                             elsevier   \n",
            "4041.05                                             elsevier   \n",
            "4069.66                                             elsevier   \n",
            "4072.42                                             elsevier   \n",
            "4076.38                                             elsevier   \n",
            "4077.52                                             elsevier   \n",
            "4084.51                                             elsevier   \n",
            "4095.97                                             elsevier   \n",
            "4099.71                                             elsevier   \n",
            "4105.34                                             elsevier   \n",
            "4112.54                                             elsevier   \n",
            "4148.39                                             elsevier   \n",
            "4151.77                                             elsevier   \n",
            "4163.88                                             elsevier   \n",
            "4170.35                                             elsevier   \n",
            "4226.04                                  elsevier/cell press   \n",
            "4320.00                                             elsevier   \n",
            "4554.01                                             elsevier   \n",
            "4800.00                                             elsevier   \n",
            "5760.00                                             elsevier   \n",
            "6000.00                                 public.service.co.uk   \n",
            "13200.00                                           macmillan   \n",
            "192645.00                          public library of science   \n",
            "201024.00                                  john wiley & sons   \n",
            "999999.00  the american society for biochemistry and mole...   \n",
            "\n",
            "                                               Journal Title  \\\n",
            "Cost                                                           \n",
            "0.00                                  Psychological Medicine   \n",
            "9.93                                     Veterinary Research   \n",
            "45.94                         American Society for Nutrition   \n",
            "122.31                                              PLoS One   \n",
            "135.29          Journal of Biomedical Graphics and Computing   \n",
            "159.74                                              Channels   \n",
            "159.91     Journal of Neurology & Translational Neuroscience   \n",
            "187.03         International Journal of Financial Research\\n   \n",
            "206.32       Proceedings of the National Academy of Sciences   \n",
            "214.74                                              PLoS One   \n",
            "238.08                                      Gastroenterology   \n",
            "265.67                       Journal of Biological Chemistry   \n",
            "270.00                                Essays in Biochemistry   \n",
            "321.12                       Journal of Medicinal Chemistry    \n",
            "321.46                           Cell Adhesion and Migration   \n",
            "327.72                                         PLoS Medicine   \n",
            "329.79                                              PLoS One   \n",
            "340.00                     Physics in Biology and Medicine\\n   \n",
            "343.51                                          PLoS Biology   \n",
            "346.25                                 Frontiers in Genetics   \n",
            "348.33                                       Current Biology   \n",
            "364.17                                    Developmental Cell   \n",
            "378.70                 Haematologica/The Haematology Journal   \n",
            "378.78                                          J Infect Dis   \n",
            "381.04                              Jnl Biological Chemistry   \n",
            "384.00                                         Public Health   \n",
            "389.73                                              PLoS ONE   \n",
            "395.60       Proceedings of the National Academy of Sciences   \n",
            "402.42                                           RNA Biology   \n",
            "409.78                                            Epigentics   \n",
            "...                                                      ...   \n",
            "3975.75                                   Developmental Cell   \n",
            "3992.37                                      Current Biology   \n",
            "3995.74                                         Cell Reports   \n",
            "3997.71                                               Neuron   \n",
            "4002.42                                   Developmental Cell   \n",
            "4012.03                                               Neuron   \n",
            "4041.05                                         Cell Journal   \n",
            "4069.66                                             Immunity   \n",
            "4072.42                                            Structure   \n",
            "4076.38                                   Developmental Cell   \n",
            "4077.52                                      Current Biology   \n",
            "4084.51                                      Cell Metabolism   \n",
            "4095.97                                            Structure   \n",
            "4099.71                                   Developmental Cell   \n",
            "4105.34                                               Neuron   \n",
            "4112.54                                      Current Biology   \n",
            "4148.39                                       Molecular Cell   \n",
            "4151.77                                           Curr Biol.   \n",
            "4163.88                                                 Cell   \n",
            "4170.35                                               Neuron   \n",
            "4226.04                                  Cell Host & Microbe   \n",
            "4320.00                                 The Lancet Neurology   \n",
            "4554.01                                           The Lancet   \n",
            "4800.00                                           The Lancet   \n",
            "5760.00                                 The Lancet Neurology   \n",
            "6000.00                                Public Service Review   \n",
            "13200.00                                                 NaN   \n",
            "192645.00                                           PLoS One   \n",
            "201024.00                                 Movement Disorders   \n",
            "999999.00                                    Vision Research   \n",
            "\n",
            "                                               Article Title  \n",
            "Cost                                                          \n",
            "0.00       Reduced parahippocampal cortical thickness in ...  \n",
            "9.93       Understanding foot-and-mouth disease virus tra...  \n",
            "45.94      The association between breastfeeding and HIV ...  \n",
            "122.31     How  well are Malaria Maps used to design and ...  \n",
            "135.29     Functional MRI demonstrates pain perception in...  \n",
            "159.74     State-independent intracellular access of quat...  \n",
            "159.91             Parkinson's Disease: The Catabolic Theory  \n",
            "187.03     Determinants of Enrolment in Voluntary Health ...  \n",
            "206.32     Multistep molecular mechanism for Bone morphog...  \n",
            "214.74     Neighbourhood, route and workplace-related env...  \n",
            "238.08     Much of the genetic risk of colorectal cancer ...  \n",
            "265.67                   Annexin-1 interaction with FPR2/ALX  \n",
            "270.00     Cells wars: regulation of cell survival and pr...  \n",
            "321.12     A class of 5-nitro-2-furancarboxylamides with ...  \n",
            "321.46     Emerging roles for semaphorins & VEGFs in syna...  \n",
            "327.72     Associations between active travel to work and...  \n",
            "329.79     Socioeconomic inequalities in non-communicable...  \n",
            "340.00     Visualization of small lesions in rat cartilag...  \n",
            "343.51     Radar tracking and motion-sensitive cameras on...  \n",
            "346.25     The mysterious case of the C. elegans gut gran...  \n",
            "348.33     Disrupted Circadian Rhythms in a Mouse Model o...  \n",
            "364.17     Chromosome engineering allows the efficient is...  \n",
            "378.70     Production of the effector cytokine interleuki...  \n",
            "378.78     Genetic Relatedness of Infecting and Reinfecti...  \n",
            "381.04     Biochemical and immunological characterisation...  \n",
            "384.00     Walking and cycling to work despite reporting ...  \n",
            "389.73     Prolonged internal displacement and common men...  \n",
            "395.60     Systematic identification of conserved bacteri...  \n",
            "402.42     Human pentatricopeptide proteins- only a few a...  \n",
            "409.78                 On your histone mark, SET, methylate!  \n",
            "...                                                      ...  \n",
            "3975.75    Autoregulatory feedback controls sequential ac...  \n",
            "3992.37    M1 corticospinal mirror neurons and their role...  \n",
            "3995.74    c-Myc Induced Sebaceous Gland Differentiation ...  \n",
            "3997.71    Nanoscale-targeted patch clamp recordings of f...  \n",
            "4002.42    Daughter cell identity emerges from the interp...  \n",
            "4012.03    the emergence and representation of knowledge ...  \n",
            "4041.05    Exit from Pluripotency is Gated by Intracellul...  \n",
            "4069.66    Dysregulated Hematopoietic Stem and Progenitor...  \n",
            "4072.42    Structure of the Catalytic Region of DNA Ligas...  \n",
            "4076.38    Hec1-dependent cyclin B2 stabilisation regulat...  \n",
            "4077.52    Locomotion Controls Spatial Integration in Mou...  \n",
            "4084.51    Improved insulin sensitivity despite increased...  \n",
            "4095.97    The architecture of EssB, an integral membrane...  \n",
            "4099.71    Syndecan-4 phosphorylation is a control point ...  \n",
            "4105.34    Attention induced variance and noise correclat...  \n",
            "4112.54                   A fovea for pain at the fingertips  \n",
            "4148.39    Identification and Functional Characterization...  \n",
            "4151.77    Calcium flashes orchestrate the wound inflamma...  \n",
            "4163.88    Mapping the human miRNA interactome by CLASH r...  \n",
            "4170.35    Distinct contributions of rod, cone, and melan...  \n",
            "4226.04    Human cytomegalovirus UL141 targets the TRAIL ...  \n",
            "4320.00    MRI investigation of the sensorimotor cortex a...  \n",
            "4554.01    The impact on a serogroup a meningococcal conj...  \n",
            "4800.00    Global trends in antiretroviral resistance in ...  \n",
            "5760.00    Genetic risk factors for ischaemic stroke and ...  \n",
            "6000.00              Laboratory Science in Tropical Medicine  \n",
            "13200.00   Fungal Disease in Britain and the United State...  \n",
            "192645.00  Reducing stock-outs of life saving Malaria Com...  \n",
            "201024.00  Limb amputations in fixed dystonia: a form of ...  \n",
            "999999.00  piRNAs can trigger a multigenerational epigene...  \n",
            "\n",
            "[1402 rows x 3 columns]\n"
          ],
          "name": "stdout"
        }
      ]
    },
    {
      "cell_type": "code",
      "metadata": {
        "id": "_2rGA-z8tpXC",
        "colab_type": "code",
        "colab": {}
      },
      "source": [
        "clean_df.reset_index(inplace=True)"
      ],
      "execution_count": 0,
      "outputs": []
    },
    {
      "cell_type": "code",
      "metadata": {
        "id": "CPSzzpzytpXF",
        "colab_type": "code",
        "colab": {}
      },
      "source": [
        "#create variables for each publisher from clean_df\n",
        "\n",
        "elsevier = clean_df.loc[clean_df.Publisher == 'elsevier']\n",
        "plos = clean_df.loc[clean_df.Publisher == 'public library of science']\n",
        "jws = clean_df.loc[clean_df.Publisher == 'john wiley & sons']\n",
        "oup = clean_df.loc[clean_df.Publisher == 'oxford university press']\n",
        "bmc = clean_df.loc[clean_df.Publisher == 'biomed central']"
      ],
      "execution_count": 0,
      "outputs": []
    },
    {
      "cell_type": "code",
      "metadata": {
        "id": "pH3n7EHRtpXI",
        "colab_type": "code",
        "colab": {},
        "outputId": "4c5c0670-7323-4d1a-b1cc-9b8beb4a6e15"
      },
      "source": [
        "#looking for outliers\n",
        "\n",
        "plt.boxplot(elsevier['Cost'])\n",
        "plt.title('Elsevier Cost Range')\n",
        "plt.show()\n",
        "\n",
        "print(elsevier.describe())"
      ],
      "execution_count": 0,
      "outputs": [
        {
          "output_type": "display_data",
          "data": {
            "image/png": "[encoded data removed]",
            "text/plain": [
              "<Figure size 432x288 with 1 Axes>"
            ]
          },
          "metadata": {
            "tags": [],
            "needs_background": "light"
          }
        },
        {
          "output_type": "stream",
          "text": [
            "            index           Cost\n",
            "count  408.000000     408.000000\n",
            "mean   638.700980   26880.723701\n",
            "std    120.384718  154440.963595\n",
            "min    110.000000     348.330000\n",
            "25%    537.750000    2168.965000\n",
            "50%    639.500000    2351.795000\n",
            "75%    741.250000    2475.452500\n",
            "max    843.000000  999999.000000\n"
          ],
          "name": "stdout"
        }
      ]
    },
    {
      "cell_type": "code",
      "metadata": {
        "id": "YPh_xse4tpXM",
        "colab_type": "code",
        "colab": {},
        "outputId": "8aad4143-2183-4b39-97ac-bdcbd04580f5"
      },
      "source": [
        "plt.boxplot(plos['Cost'])\n",
        "plt.title('Public Library of Science Cost Range')\n",
        "plt.show()\n",
        "\n",
        "print(plos.describe())"
      ],
      "execution_count": 0,
      "outputs": [
        {
          "output_type": "display_data",
          "data": {
            "image/png": "[encoded data removed]",
            "text/plain": [
              "<Figure size 432x288 with 1 Axes>"
            ]
          },
          "metadata": {
            "tags": [],
            "needs_background": "light"
          }
        },
        {
          "output_type": "stream",
          "text": [
            "             index           Cost\n",
            "count   307.000000     307.000000\n",
            "mean   1461.788274   50551.879848\n",
            "std      94.205367  215820.064964\n",
            "min    1278.000000     122.310000\n",
            "25%    1388.500000     877.090000\n",
            "50%    1465.000000    1023.410000\n",
            "75%    1541.500000    1446.805000\n",
            "max    1618.000000  999999.000000\n"
          ],
          "name": "stdout"
        }
      ]
    },
    {
      "cell_type": "code",
      "metadata": {
        "id": "cYHa9bMstpXO",
        "colab_type": "code",
        "colab": {},
        "outputId": "639963d3-a6ee-42db-e876-3bb4fdbdaa9f"
      },
      "source": [
        "plt.boxplot(jws['Cost'])\n",
        "plt.title('John Wiley & Sons Cost Range')\n",
        "plt.show()\n",
        "\n",
        "print(jws.describe())"
      ],
      "execution_count": 0,
      "outputs": [
        {
          "output_type": "display_data",
          "data": {
            "image/png": "[encoded data removed]",
            "text/plain": [
              "<Figure size 432x288 with 1 Axes>"
            ]
          },
          "metadata": {
            "tags": [],
            "needs_background": "light"
          }
        },
        {
          "output_type": "stream",
          "text": [
            "             index           Cost\n",
            "count   270.000000     270.000000\n",
            "mean   1889.151852   17532.888444\n",
            "std     326.863527  121308.114848\n",
            "min     251.000000     612.590000\n",
            "25%    1912.250000    1835.307500\n",
            "50%    1979.500000    2009.945000\n",
            "75%    2046.750000    2310.950000\n",
            "max    2114.000000  999999.000000\n"
          ],
          "name": "stdout"
        }
      ]
    },
    {
      "cell_type": "code",
      "metadata": {
        "id": "A03QIt6ktpXQ",
        "colab_type": "code",
        "colab": {},
        "outputId": "fa9787ce-31bb-4b22-abea-097202e4c1b7"
      },
      "source": [
        "plt.boxplot(oup['Cost'])\n",
        "plt.title('Oxford University Press Cost Range')\n",
        "plt.show()\n",
        "\n",
        "print(oup.describe())"
      ],
      "execution_count": 0,
      "outputs": [
        {
          "output_type": "display_data",
          "data": {
            "image/png": "[encoded data removed]",
            "text/plain": [
              "<Figure size 432x288 with 1 Axes>"
            ]
          },
          "metadata": {
            "tags": [],
            "needs_background": "light"
          }
        },
        {
          "output_type": "stream",
          "text": [
            "            index           Cost\n",
            "count   167.00000     167.000000\n",
            "mean   1192.00000   19775.350240\n",
            "std      48.35287  132975.378101\n",
            "min    1109.00000     378.780000\n",
            "25%    1150.50000    1700.000000\n",
            "50%    1192.00000    2040.000000\n",
            "75%    1233.50000    2047.750000\n",
            "max    1275.00000  999999.000000\n"
          ],
          "name": "stdout"
        }
      ]
    },
    {
      "cell_type": "code",
      "metadata": {
        "id": "Lqcf9nQQtpXT",
        "colab_type": "code",
        "colab": {},
        "outputId": "14021d88-e29a-4988-c148-3c796333fbea"
      },
      "source": [
        "plt.boxplot(bmc['Cost'])\n",
        "plt.title('Biomed Central Cost Range')\n",
        "plt.show()\n",
        "\n",
        "print(bmc.describe())"
      ],
      "execution_count": 0,
      "outputs": [
        {
          "output_type": "display_data",
          "data": {
            "image/png": "[encoded data removed]",
            "text/plain": [
              "<Figure size 432x288 with 1 Axes>"
            ]
          },
          "metadata": {
            "tags": [],
            "needs_background": "light"
          }
        },
        {
          "output_type": "stream",
          "text": [
            "            index           Cost\n",
            "count   95.000000      95.000000\n",
            "mean   224.189474   22329.838250\n",
            "std     30.422659  144133.380964\n",
            "min    175.000000       9.930000\n",
            "25%    198.500000    1190.400000\n",
            "50%    222.000000    1314.600000\n",
            "75%    253.500000    1536.000000\n",
            "max    277.000000  999999.000000\n"
          ],
          "name": "stdout"
        }
      ]
    },
    {
      "cell_type": "code",
      "metadata": {
        "id": "yQ6xjVBatpXW",
        "colab_type": "code",
        "colab": {}
      },
      "source": [
        "#calculate the mean, median, and std without the outliers. Cutting off the calculation before the outlier value.\n",
        "elsevier_mean = elsevier.loc[elsevier['Cost']<999999, 'Cost'].mean()\n",
        "elsevier_median = elsevier.loc[elsevier['Cost']<999999, 'Cost'].median()\n",
        "elsevier_std = elsevier.loc[elsevier['Cost']<999999, 'Cost'].std()"
      ],
      "execution_count": 0,
      "outputs": []
    },
    {
      "cell_type": "code",
      "metadata": {
        "id": "_oRbzGcgtpXY",
        "colab_type": "code",
        "colab": {}
      },
      "source": [
        "plos_mean = plos.loc[plos['Cost']<100000, 'Cost'].mean()\n",
        "plos_median = plos.loc[plos['Cost']<100000, 'Cost'].median()\n",
        "plos_std = plos.loc[plos['Cost']<100000, 'Cost'].std()"
      ],
      "execution_count": 0,
      "outputs": []
    },
    {
      "cell_type": "code",
      "metadata": {
        "id": "cc5NydFntpXc",
        "colab_type": "code",
        "colab": {}
      },
      "source": [
        "jws_mean = jws.loc[jws['Cost']<100000, 'Cost'].mean()\n",
        "jws_median = jws.loc[jws['Cost']<100000, 'Cost'].median()\n",
        "jws_std = jws.loc[jws['Cost']<100000, 'Cost'].std()"
      ],
      "execution_count": 0,
      "outputs": []
    },
    {
      "cell_type": "code",
      "metadata": {
        "id": "FkylE8irtpXe",
        "colab_type": "code",
        "colab": {}
      },
      "source": [
        "oup_mean = oup.loc[oup['Cost']<100000, 'Cost'].mean()\n",
        "oup_median = oup.loc[oup['Cost']<100000, 'Cost'].median()\n",
        "oup_std = oup.loc[oup['Cost']<100000, 'Cost'].std()"
      ],
      "execution_count": 0,
      "outputs": []
    },
    {
      "cell_type": "code",
      "metadata": {
        "id": "985piJ0mtpXh",
        "colab_type": "code",
        "colab": {}
      },
      "source": [
        "bmc_mean = bmc.loc[bmc['Cost']<100000, 'Cost'].mean()\n",
        "bmc_median = bmc.loc[bmc['Cost']<100000, 'Cost'].median()\n",
        "bmc_std = bmc.loc[bmc['Cost']<100000, 'Cost'].std()"
      ],
      "execution_count": 0,
      "outputs": []
    },
    {
      "cell_type": "code",
      "metadata": {
        "id": "nsPFJeRMtpXk",
        "colab_type": "code",
        "colab": {},
        "outputId": "e8d52482-0634-47cc-9136-eb805be33a37"
      },
      "source": [
        "print('Elsevier cost mean: £', round(elsevier_mean, 2), '\\nElsevier cost median: £', round(elsevier_median, 2), '\\nElsevier cost st. dev: £', round(elsevier_std, 2))\n",
        "print('Public Library of Science mean: £', round(plos_mean, 2), '\\nPublic Library of Science cost median: £', round(plos_median, 2), '\\nPublic Library of Science cost st. dev: £', round(plos_std, 2))\n",
        "print('John Wiley & Sons cost mean: £', round(jws_mean, 2), '\\nJohn Wiley & Sons cost median: £', round(jws_median, 2), '\\nJohn Wiley & Sons cost st. dev: £', round(jws_std, 2))\n",
        "print('Oxford University Press cost mean: £', round(oup_mean, 2), '\\nOxford University Press cost median: £', round(oup_median, 2), '\\nOxford University Press cost st. dev: £', round(oup_std, 2))\n",
        "print('Biomed Central cost mean: £', round(bmc_mean, 2), '\\nBiomed Central cost median: £', round(bmc_median, 2), '\\nBiomed Central cost st. dev: £', round(bmc_std, 2))\n"
      ],
      "execution_count": 0,
      "outputs": [
        {
          "output_type": "stream",
          "text": [
            "Elsevier cost mean: £ 2430.52 \n",
            "Elsevier cost median: £ 2342.14 \n",
            "Elsevier cost st. dev: £ 789.31\n",
            "Public Library of Science mean: £ 1123.01 \n",
            "Public Library of Science cost median: £ 1013.03 \n",
            "Public Library of Science cost st. dev: £ 402.82\n",
            "John Wiley & Sons cost mean: £ 2010.79 \n",
            "John Wiley & Sons cost median: £ 2006.64 \n",
            "John Wiley & Sons cost st. dev: £ 372.68\n",
            "Oxford University Press cost mean: £ 1844.43 \n",
            "Oxford University Press cost median: £ 2040.0 \n",
            "Oxford University Press cost st. dev: £ 512.11\n",
            "Biomed Central cost mean: £ 1304.69 \n",
            "Biomed Central cost median: £ 1309.5 \n",
            "Biomed Central cost st. dev: £ 350.68\n"
          ],
          "name": "stdout"
        }
      ]
    },
    {
      "cell_type": "code",
      "metadata": {
        "id": "qDSaZHoltpXn",
        "colab_type": "code",
        "colab": {}
      },
      "source": [
        ""
      ],
      "execution_count": 0,
      "outputs": []
    },
    {
      "cell_type": "code",
      "metadata": {
        "id": "UqIjYCKitpXq",
        "colab_type": "code",
        "colab": {}
      },
      "source": [
        ""
      ],
      "execution_count": 0,
      "outputs": []
    },
    {
      "cell_type": "code",
      "metadata": {
        "id": "ImYKpqVxtpXt",
        "colab_type": "code",
        "colab": {}
      },
      "source": [
        ""
      ],
      "execution_count": 0,
      "outputs": []
    },
    {
      "cell_type": "code",
      "metadata": {
        "id": "KC_oa-6MtpXv",
        "colab_type": "code",
        "colab": {}
      },
      "source": [
        ""
      ],
      "execution_count": 0,
      "outputs": []
    },
    {
      "cell_type": "code",
      "metadata": {
        "id": "sePQgEv1tpXx",
        "colab_type": "code",
        "colab": {}
      },
      "source": [
        ""
      ],
      "execution_count": 0,
      "outputs": []
    },
    {
      "cell_type": "code",
      "metadata": {
        "id": "zkzF-AtatpXy",
        "colab_type": "code",
        "colab": {}
      },
      "source": [
        ""
      ],
      "execution_count": 0,
      "outputs": []
    },
    {
      "cell_type": "code",
      "metadata": {
        "id": "oBvdLRBytpX0",
        "colab_type": "code",
        "colab": {}
      },
      "source": [
        ""
      ],
      "execution_count": 0,
      "outputs": []
    },
    {
      "cell_type": "code",
      "metadata": {
        "id": "X0ge_NOStpX2",
        "colab_type": "code",
        "colab": {}
      },
      "source": [
        ""
      ],
      "execution_count": 0,
      "outputs": []
    },
    {
      "cell_type": "code",
      "metadata": {
        "id": "BpasBkzetpX5",
        "colab_type": "code",
        "colab": {}
      },
      "source": [
        ""
      ],
      "execution_count": 0,
      "outputs": []
    },
    {
      "cell_type": "code",
      "metadata": {
        "id": "5weNNiJbtpX6",
        "colab_type": "code",
        "colab": {}
      },
      "source": [
        ""
      ],
      "execution_count": 0,
      "outputs": []
    },
    {
      "cell_type": "code",
      "metadata": {
        "id": "LK0g2NxntpX7",
        "colab_type": "code",
        "colab": {}
      },
      "source": [
        ""
      ],
      "execution_count": 0,
      "outputs": []
    },
    {
      "cell_type": "code",
      "metadata": {
        "id": "2MBUGjtvtpX9",
        "colab_type": "code",
        "colab": {}
      },
      "source": [
        ""
      ],
      "execution_count": 0,
      "outputs": []
    },
    {
      "cell_type": "code",
      "metadata": {
        "id": "jFLVTOU4tpX-",
        "colab_type": "code",
        "colab": {}
      },
      "source": [
        ""
      ],
      "execution_count": 0,
      "outputs": []
    },
    {
      "cell_type": "code",
      "metadata": {
        "id": "1Beo20ARtpYD",
        "colab_type": "code",
        "colab": {}
      },
      "source": [
        ""
      ],
      "execution_count": 0,
      "outputs": []
    },
    {
      "cell_type": "code",
      "metadata": {
        "id": "nienfmOUtpYF",
        "colab_type": "code",
        "colab": {}
      },
      "source": [
        ""
      ],
      "execution_count": 0,
      "outputs": []
    },
    {
      "cell_type": "code",
      "metadata": {
        "id": "JMdRAbEjtpYK",
        "colab_type": "code",
        "colab": {}
      },
      "source": [
        ""
      ],
      "execution_count": 0,
      "outputs": []
    },
    {
      "cell_type": "code",
      "metadata": {
        "id": "cyVYXRFYtpYM",
        "colab_type": "code",
        "colab": {}
      },
      "source": [
        ""
      ],
      "execution_count": 0,
      "outputs": []
    },
    {
      "cell_type": "code",
      "metadata": {
        "id": "rkA4WE4VtpYN",
        "colab_type": "code",
        "colab": {}
      },
      "source": [
        ""
      ],
      "execution_count": 0,
      "outputs": []
    },
    {
      "cell_type": "code",
      "metadata": {
        "id": "68pgagXutpYP",
        "colab_type": "code",
        "colab": {}
      },
      "source": [
        ""
      ],
      "execution_count": 0,
      "outputs": []
    },
    {
      "cell_type": "code",
      "metadata": {
        "id": "x5ZmQqQQtpYR",
        "colab_type": "code",
        "colab": {}
      },
      "source": [
        ""
      ],
      "execution_count": 0,
      "outputs": []
    },
    {
      "cell_type": "code",
      "metadata": {
        "id": "tFvybWl3tpYU",
        "colab_type": "code",
        "colab": {}
      },
      "source": [
        ""
      ],
      "execution_count": 0,
      "outputs": []
    },
    {
      "cell_type": "code",
      "metadata": {
        "id": "mV9Jp8dytpYV",
        "colab_type": "code",
        "colab": {}
      },
      "source": [
        ""
      ],
      "execution_count": 0,
      "outputs": []
    },
    {
      "cell_type": "code",
      "metadata": {
        "id": "khoR8yTCtpYX",
        "colab_type": "code",
        "colab": {}
      },
      "source": [
        ""
      ],
      "execution_count": 0,
      "outputs": []
    },
    {
      "cell_type": "code",
      "metadata": {
        "id": "-lgxwUoptpYZ",
        "colab_type": "code",
        "colab": {}
      },
      "source": [
        ""
      ],
      "execution_count": 0,
      "outputs": []
    },
    {
      "cell_type": "code",
      "metadata": {
        "id": "Sg_tPZSctpYc",
        "colab_type": "code",
        "colab": {}
      },
      "source": [
        ""
      ],
      "execution_count": 0,
      "outputs": []
    },
    {
      "cell_type": "code",
      "metadata": {
        "id": "uBsA2_sjtpYe",
        "colab_type": "code",
        "colab": {}
      },
      "source": [
        ""
      ],
      "execution_count": 0,
      "outputs": []
    },
    {
      "cell_type": "code",
      "metadata": {
        "id": "OS76QfNKtpYh",
        "colab_type": "code",
        "colab": {}
      },
      "source": [
        ""
      ],
      "execution_count": 0,
      "outputs": []
    },
    {
      "cell_type": "code",
      "metadata": {
        "id": "M9um-UYCtpYi",
        "colab_type": "code",
        "colab": {}
      },
      "source": [
        ""
      ],
      "execution_count": 0,
      "outputs": []
    },
    {
      "cell_type": "code",
      "metadata": {
        "id": "R0b2-lm4tpYk",
        "colab_type": "code",
        "colab": {}
      },
      "source": [
        ""
      ],
      "execution_count": 0,
      "outputs": []
    },
    {
      "cell_type": "code",
      "metadata": {
        "id": "5j78C8sNtpYl",
        "colab_type": "code",
        "colab": {}
      },
      "source": [
        ""
      ],
      "execution_count": 0,
      "outputs": []
    }
  ]
}