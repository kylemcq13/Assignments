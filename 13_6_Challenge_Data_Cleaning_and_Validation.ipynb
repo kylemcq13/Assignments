{
  "nbformat": 4,
  "nbformat_minor": 0,
  "metadata": {
    "kernelspec": {
      "display_name": "Python 3",
      "language": "python",
      "name": "python3"
    },
    "language_info": {
      "codemirror_mode": {
        "name": "ipython",
        "version": 3
      },
      "file_extension": ".py",
      "mimetype": "text/x-python",
      "name": "python",
      "nbconvert_exporter": "python",
      "pygments_lexer": "ipython3",
      "version": "3.7.3"
    },
    "colab": {
      "name": "13.6 Challenge - Data Cleaning and Validation.ipynb",
      "provenance": [],
      "include_colab_link": true
    }
  },
  "cells": [
    {
      "cell_type": "markdown",
      "metadata": {
        "id": "view-in-github",
        "colab_type": "text"
      },
      "source": [
        "<a href=\"https://colab.research.google.com/github/kylemcq13/Projects/blob/master/13_6_Challenge_Data_Cleaning_and_Validation.ipynb\" target=\"_parent\"><img src=\"https://colab.research.google.com/assets/colab-badge.svg\" alt=\"Open In Colab\"/></a>"
      ]
    },
    {
      "cell_type": "markdown",
      "metadata": {
        "id": "N6MUGiclEy6z",
        "colab_type": "text"
      },
      "source": [
        "# Data Cleaning & Validation Challenge"
      ]
    },
    {
      "cell_type": "markdown",
      "metadata": {
        "id": "oI5Mkow7Ey66",
        "colab_type": "text"
      },
      "source": [
        "To complete this challenge, determine the five most common journals and the total articles for each. Next, calculate the mean, median, and standard deviation of the open-access cost per article for each journal."
      ]
    },
    {
      "cell_type": "code",
      "metadata": {
        "id": "Rs-TwNhWEy6_",
        "colab_type": "code",
        "colab": {}
      },
      "source": [
        "import pandas as pd\n",
        "import numpy as np\n",
        "import matplotlib.pyplot as plt\n",
        "import seaborn as sns\n",
        "%matplotlib inline"
      ],
      "execution_count": 0,
      "outputs": []
    },
    {
      "cell_type": "code",
      "metadata": {
        "id": "dlXsnCtaEy7Q",
        "colab_type": "code",
        "colab": {}
      },
      "source": [
        "challenge = pd.read_csv(r'C:\\Users\\kylem\\Desktop\\Thinkful Data Science Projects\\WELLCOME_APCspend2013_forThinkful.csv')"
      ],
      "execution_count": 0,
      "outputs": []
    },
    {
      "cell_type": "code",
      "metadata": {
        "id": "qbefPyS4Ey7b",
        "colab_type": "code",
        "colab": {},
        "outputId": "fdb5f38b-b4ad-490c-f41b-91935cce695d"
      },
      "source": [
        "challenge.head(10)"
      ],
      "execution_count": 0,
      "outputs": [
        {
          "output_type": "execute_result",
          "data": {
            "text/html": [
              "<div>\n",
              "<style scoped>\n",
              "    .dataframe tbody tr th:only-of-type {\n",
              "        vertical-align: middle;\n",
              "    }\n",
              "\n",
              "    .dataframe tbody tr th {\n",
              "        vertical-align: top;\n",
              "    }\n",
              "\n",
              "    .dataframe thead th {\n",
              "        text-align: right;\n",
              "    }\n",
              "</style>\n",
              "<table border=\"1\" class=\"dataframe\">\n",
              "  <thead>\n",
              "    <tr style=\"text-align: right;\">\n",
              "      <th></th>\n",
              "      <th>PMID/PMCID</th>\n",
              "      <th>Publisher</th>\n",
              "      <th>Journal title</th>\n",
              "      <th>Article title</th>\n",
              "      <th>COST (£) charged to Wellcome (inc VAT when charged)</th>\n",
              "    </tr>\n",
              "  </thead>\n",
              "  <tbody>\n",
              "    <tr>\n",
              "      <th>0</th>\n",
              "      <td>NaN</td>\n",
              "      <td>CUP</td>\n",
              "      <td>Psychological Medicine</td>\n",
              "      <td>Reduced parahippocampal cortical thickness in ...</td>\n",
              "      <td>£0.00</td>\n",
              "    </tr>\n",
              "    <tr>\n",
              "      <th>1</th>\n",
              "      <td>PMC3679557</td>\n",
              "      <td>ACS</td>\n",
              "      <td>Biomacromolecules</td>\n",
              "      <td>Structural characterization of a Model Gram-ne...</td>\n",
              "      <td>£2381.04</td>\n",
              "    </tr>\n",
              "    <tr>\n",
              "      <th>2</th>\n",
              "      <td>23043264  PMC3506128</td>\n",
              "      <td>ACS</td>\n",
              "      <td>J Med Chem</td>\n",
              "      <td>Fumaroylamino-4,5-epoxymorphinans and related ...</td>\n",
              "      <td>£642.56</td>\n",
              "    </tr>\n",
              "    <tr>\n",
              "      <th>3</th>\n",
              "      <td>23438330 PMC3646402</td>\n",
              "      <td>ACS</td>\n",
              "      <td>J Med Chem</td>\n",
              "      <td>Orvinols with mixed kappa/mu opioid receptor a...</td>\n",
              "      <td>£669.64</td>\n",
              "    </tr>\n",
              "    <tr>\n",
              "      <th>4</th>\n",
              "      <td>23438216 PMC3601604</td>\n",
              "      <td>ACS</td>\n",
              "      <td>J Org Chem</td>\n",
              "      <td>Regioselective opening of myo-inositol orthoes...</td>\n",
              "      <td>£685.88</td>\n",
              "    </tr>\n",
              "    <tr>\n",
              "      <th>5</th>\n",
              "      <td>PMC3579457</td>\n",
              "      <td>ACS</td>\n",
              "      <td>Journal of Medicinal Chemistry</td>\n",
              "      <td>Comparative Structural and Functional Studies ...</td>\n",
              "      <td>£2392.20</td>\n",
              "    </tr>\n",
              "    <tr>\n",
              "      <th>6</th>\n",
              "      <td>PMC3709265</td>\n",
              "      <td>ACS</td>\n",
              "      <td>Journal of Proteome Research</td>\n",
              "      <td>Mapping Proteolytic Processing in the Secretom...</td>\n",
              "      <td>£2367.95</td>\n",
              "    </tr>\n",
              "    <tr>\n",
              "      <th>7</th>\n",
              "      <td>23057412 PMC3495574</td>\n",
              "      <td>ACS</td>\n",
              "      <td>Mol Pharm</td>\n",
              "      <td>Quantitative silencing of EGFP reporter gene b...</td>\n",
              "      <td>£649.33</td>\n",
              "    </tr>\n",
              "    <tr>\n",
              "      <th>8</th>\n",
              "      <td>PMCID: PMC3780468</td>\n",
              "      <td>ACS (Amercian Chemical Society) Publications</td>\n",
              "      <td>ACS Chemical Biology</td>\n",
              "      <td>A Novel Allosteric Inhibitor of the Uridine Di...</td>\n",
              "      <td>£1294.59</td>\n",
              "    </tr>\n",
              "    <tr>\n",
              "      <th>9</th>\n",
              "      <td>PMCID: PMC3621575</td>\n",
              "      <td>ACS (Amercian Chemical Society) Publications</td>\n",
              "      <td>ACS Chemical Biology</td>\n",
              "      <td>Chemical proteomic analysis reveals the drugab...</td>\n",
              "      <td>£1294.78</td>\n",
              "    </tr>\n",
              "  </tbody>\n",
              "</table>\n",
              "</div>"
            ],
            "text/plain": [
              "              PMID/PMCID                                     Publisher  \\\n",
              "0                    NaN                                           CUP   \n",
              "1             PMC3679557                                           ACS   \n",
              "2  23043264  PMC3506128                                            ACS   \n",
              "3    23438330 PMC3646402                                           ACS   \n",
              "4   23438216 PMC3601604                                            ACS   \n",
              "5             PMC3579457                                           ACS   \n",
              "6             PMC3709265                                           ACS   \n",
              "7   23057412 PMC3495574                                            ACS   \n",
              "8      PMCID: PMC3780468  ACS (Amercian Chemical Society) Publications   \n",
              "9      PMCID: PMC3621575  ACS (Amercian Chemical Society) Publications   \n",
              "\n",
              "                    Journal title  \\\n",
              "0          Psychological Medicine   \n",
              "1               Biomacromolecules   \n",
              "2                      J Med Chem   \n",
              "3                      J Med Chem   \n",
              "4                      J Org Chem   \n",
              "5  Journal of Medicinal Chemistry   \n",
              "6    Journal of Proteome Research   \n",
              "7                       Mol Pharm   \n",
              "8            ACS Chemical Biology   \n",
              "9            ACS Chemical Biology   \n",
              "\n",
              "                                       Article title  \\\n",
              "0  Reduced parahippocampal cortical thickness in ...   \n",
              "1  Structural characterization of a Model Gram-ne...   \n",
              "2  Fumaroylamino-4,5-epoxymorphinans and related ...   \n",
              "3  Orvinols with mixed kappa/mu opioid receptor a...   \n",
              "4  Regioselective opening of myo-inositol orthoes...   \n",
              "5  Comparative Structural and Functional Studies ...   \n",
              "6  Mapping Proteolytic Processing in the Secretom...   \n",
              "7  Quantitative silencing of EGFP reporter gene b...   \n",
              "8  A Novel Allosteric Inhibitor of the Uridine Di...   \n",
              "9  Chemical proteomic analysis reveals the drugab...   \n",
              "\n",
              "  COST (£) charged to Wellcome (inc VAT when charged)  \n",
              "0                                              £0.00   \n",
              "1                                           £2381.04   \n",
              "2                                            £642.56   \n",
              "3                                            £669.64   \n",
              "4                                            £685.88   \n",
              "5                                           £2392.20   \n",
              "6                                           £2367.95   \n",
              "7                                            £649.33   \n",
              "8                                           £1294.59   \n",
              "9                                           £1294.78   "
            ]
          },
          "metadata": {
            "tags": []
          },
          "execution_count": 4
        }
      ]
    },
    {
      "cell_type": "code",
      "metadata": {
        "id": "_60l-pYyEy7u",
        "colab_type": "code",
        "colab": {},
        "outputId": "c5cb4998-fdbd-458e-d477-b4b1efb5488b"
      },
      "source": [
        "challenge['Publisher'].count()"
      ],
      "execution_count": 0,
      "outputs": [
        {
          "output_type": "execute_result",
          "data": {
            "text/plain": [
              "2127"
            ]
          },
          "metadata": {
            "tags": []
          },
          "execution_count": 5
        }
      ]
    },
    {
      "cell_type": "code",
      "metadata": {
        "id": "nzlKU540Ey7-",
        "colab_type": "code",
        "colab": {},
        "outputId": "da40ac41-cc3e-497a-83b9-3b60785f43a5"
      },
      "source": [
        "#view all publishers, strip white space and make everything lowercase\n",
        "challenge['Publisher'] = challenge['Publisher'].apply(lambda x: x.strip())\n",
        "challenge['Publisher'] = challenge['Publisher'].str.lower()\n",
        "print(challenge['Publisher'].unique())"
      ],
      "execution_count": 0,
      "outputs": [
        {
          "output_type": "stream",
          "text": [
            "['cup' 'acs' 'acs (amercian chemical society) publications'\n",
            " 'acs publications' 'aga institute' 'ambsb'\n",
            " 'american association of immunologists' 'american chemical society'\n",
            " 'american chemical society publications'\n",
            " 'american college of chest physicians' 'american physiological society'\n",
            " 'american psychiatric association' 'american psychiatric publishing'\n",
            " 'american psychological association' 'american public health association'\n",
            " 'american soc for biochemistry and molecular biology'\n",
            " 'american society for biochemistry and molecular biolgy'\n",
            " 'american society for biochemistry and molecular biology'\n",
            " 'american society for investigative pathology'\n",
            " 'american society for microbiology' 'american society for nutrition'\n",
            " 'american society of haematology' 'american society of hamatology'\n",
            " 'american society of hematology'\n",
            " 'american society of human genetics (elsevier)'\n",
            " 'american society of microbiology'\n",
            " 'american speech-language-hearing association' 'asbmb' 'asbmb cadmus'\n",
            " 'asbmb/cadmus' 'asbmb/cenveo publisher services' 'asbmc /cenveo' 'asm'\n",
            " 'asm (american society for microbiology)'\n",
            " 'association for research in vision & ophthalmology'\n",
            " 'bentham science publishers' 'benthan science publishers' 'berhahn books'\n",
            " 'biochem journal' 'biomed central' 'biomed central limited'\n",
            " 'biomed central ltd' 'biophysical society' 'bioscientifica'\n",
            " 'blackwell publishing ltd/wiley' 'bmc' 'bmj' 'bmj group' 'bmj journals'\n",
            " 'bmj publishing group' 'bmj publishing group ltd'\n",
            " 'bmj publishing group ltd & british thoracic society' 'brill'\n",
            " 'british medical journal' 'byophysical society' 'cadmus'\n",
            " 'cadmus journal service' 'cadmus journal services' 'cambridge journals'\n",
            " 'cambridge uni press' 'cambridge univ press' 'cambridge university press'\n",
            " 'camdus journal services' 'cell press' 'cenveo publisher services'\n",
            " 'cenveo publisher services/asm jv1' 'coaction' 'cold spring habour press'\n",
            " 'cold spring harbor' 'cold spring harbor laboratory press'\n",
            " 'cold spring harbor press' 'cold spring harbor publications'\n",
            " 'company of biologist' 'company of biologists'\n",
            " 'company of biologists ltd' 'copyright clearace center' 'cshlp'\n",
            " 'darmouth journal services' 'dartmouth journal services'\n",
            " 'dartmouth journals' 'elseveier science' 'elsevier'\n",
            " 'elsevier (cell press)' 'elsevier / cell science' 'elsevier b.v.'\n",
            " 'elsevier ltd' 'elsevier/cell press' 'endocrine society'\n",
            " 'european respiratory society' 'european society of endocrinolog' 'faseb'\n",
            " 'federation of american societies for experimental biology'\n",
            " 'federation of american societies for experimental biology (faseb)'\n",
            " 'federation of the american society of experimental biology'\n",
            " 'ferrata storti foundation' 'frontiers' 'frontiers media'\n",
            " 'frontiers media sa' 'frontiers research foundation' 'future medicine'\n",
            " 'future medicine ltd' 'future science' 'hindawi'\n",
            " 'hindawi publishing corporation' 'humana press (springer imprint)'\n",
            " 'impact journals' 'impact journals llc' 'informa healthcare'\n",
            " 'informa healthcare communications' 'institute of physics'\n",
            " 'international aids society'\n",
            " 'international union against tuberculosis and lung disease'\n",
            " 'international union of crystallography'\n",
            " 'international union of crystallography (iucr)' 'iop publishing'\n",
            " 'ios press' 'ivyspring international publisher' 'j med internet research'\n",
            " 'john wiley' 'john wiley & sons' 'john wiley & sons inc'\n",
            " 'john wiley & sons ltd' 'john wiley & sons, inc.' 'john wiley and sons'\n",
            " 'john wiley and sons ltd' 'johns hopkins university press'\n",
            " 'journal of the american physiological proceedings of national academy of sciences'\n",
            " 'journal of visualized experiments' 'jove' 'jscimed central' 'karger'\n",
            " 'landes bioscience' 'landes biosciences' 'lww' 'macmillan'\n",
            " 'mary ann liebert' 'mary ann liebert inc'\n",
            " 'mary ann liebert, inc. publishers' 'mdpi' 'mit press'\n",
            " 'mit press open access' 'my jove corp' 'my jove corporation'\n",
            " 'myjove corporation' 'national academy of sciences'\n",
            " 'national academy of sciences of the united states of america'\n",
            " 'national academy of sciences usa' 'national academy of sciences, usa'\n",
            " 'nature' 'nature pg' 'nature publishing' 'nature publishing group'\n",
            " 'nature publishing group ltd' 'npg' 'open access reg ltd'\n",
            " 'optical society of america' 'oup' 'oxford journals'\n",
            " 'oxford journals (oup)' 'oxford univ press' 'oxford university press'\n",
            " 'oxford university press (oup)' 'oxford univesity press'\n",
            " 'palgrave macmillan' 'pion' 'plos' 'plos (public library of science)'\n",
            " 'plos public library of science' 'pnas' 'pnas author publication'\n",
            " 'policy press' 'portland press' 'portland press ltd'\n",
            " 'proceedings of the national academy of sciences (pnas)'\n",
            " 'public library of science' 'public.service.co.uk'\n",
            " 'publisher society for endocrinology' 'pubmed' 'pubmed central'\n",
            " 'research media ltd' 'royal college of psychiatrists' 'royal society'\n",
            " 'royal society for chemistry' 'royal society of chemistry' 'rsc'\n",
            " 'rsc publishing' 'sage' 'sage publications' 'sage publications inc'\n",
            " 'sage publications ltd' 'sage publishers' 'sage publishing'\n",
            " 'sciedu press' 'scientific research publishing' 'sheridan press'\n",
            " 'society for endocrinology' 'society for general microbiology'\n",
            " 'society for genermal microbiology' 'society for leukocyte biology'\n",
            " 'society for neuroscience' 'society for neurosciences'\n",
            " 'society for publication of acta dermato-venereologica'\n",
            " 'society of general microbiology' 'society of leukocyte biology'\n",
            " 'society of neuro sciences' 'society of neuroscience' 'springer'\n",
            " 'springer - verlag gmbh' 'springer science + business media'\n",
            " 'springer verlag' 'springer-veriag gmbh' 'springer-verlag gmbh'\n",
            " 'springer-verlag gmbh & ci'\n",
            " 'springer-verlag gmbh, heidelberger platz 3, d-14197 berlin' 't&f'\n",
            " 'taylor & francis' 'taylor & francis journals' 'taylor and francis'\n",
            " 'the american chemical society petroleum research trust'\n",
            " 'the american physiological society'\n",
            " 'the american society for biochemistry and molecular biology'\n",
            " 'the american society for biochemistry and molecular biology, inc'\n",
            " 'the american society of pediatrics' 'the boulevard'\n",
            " 'the company of biolgists' 'the company of biologists'\n",
            " 'the company of biologists ltd' 'the endocrine socety'\n",
            " 'the endocrine society' 'the endrocrine society'\n",
            " 'the journal of visualized experiments'\n",
            " 'the royal college of psychiatrists' 'the royal society'\n",
            " 'the sheridan press' 'transcript verlag'\n",
            " 'university of the basque country press' 'wiley' 'wiley & son'\n",
            " 'wiley blackwell' 'wiley online library' 'wiley subscription services'\n",
            " 'wiley subscription services  inc.' 'wiley subscription services inc'\n",
            " 'wiley subscription serviices inc' 'wiley vch' 'wiley/blackwell'\n",
            " 'wiley-blackwell' 'wiley-blackwell, john wiley & sons' 'wiley-vch'\n",
            " 'wliey-blackwell' 'wolters kluwer' 'wolters kluwer health'\n",
            " 'wolters kluwer n.v./lippinott' 'wolters kluwers']\n"
          ],
          "name": "stdout"
        }
      ]
    },
    {
      "cell_type": "code",
      "metadata": {
        "id": "mL65mBMhEy8F",
        "colab_type": "code",
        "colab": {},
        "outputId": "b7f3096c-907b-473e-80a0-ef79ce8e8266"
      },
      "source": [
        "print(challenge['Publisher'].value_counts())"
      ],
      "execution_count": 0,
      "outputs": [
        {
          "output_type": "stream",
          "text": [
            "elsevier                                                                             399\n",
            "public library of science                                                            278\n",
            "wiley                                                                                148\n",
            "oxford university press                                                               85\n",
            "springer                                                                              82\n",
            "biomed central                                                                        60\n",
            "oup                                                                                   56\n",
            "wiley-blackwell                                                                       56\n",
            "nature publishing group                                                               49\n",
            "asbmb                                                                                 46\n",
            "bmc                                                                                   26\n",
            "nature                                                                                25\n",
            "bmj                                                                                   25\n",
            "plos                                                                                  24\n",
            "frontiers                                                                             23\n",
            "royal society                                                                         22\n",
            "cambridge university press                                                            20\n",
            "american society for biochemistry and molecular biology                               19\n",
            "dartmouth journal services                                                            18\n",
            "company of biologists                                                                 18\n",
            "american society for microbiology                                                     18\n",
            "national academy of sciences                                                          16\n",
            "oxford journals                                                                       16\n",
            "bmj group                                                                             16\n",
            "american chemical society                                                             15\n",
            "sage                                                                                  14\n",
            "landes bioscience                                                                     14\n",
            "society for general microbiology                                                      14\n",
            "american psychological association                                                    14\n",
            "wiley subscription services  inc.                                                     13\n",
            "                                                                                    ... \n",
            "springer verlag                                                                        1\n",
            "springer science + business media                                                      1\n",
            "cold spring habour press                                                               1\n",
            "asbmb cadmus                                                                           1\n",
            "informa healthcare communications                                                      1\n",
            "university of the basque country press                                                 1\n",
            "john wiley and sons ltd                                                                1\n",
            "cold spring harbor                                                                     1\n",
            "asbmb/cenveo publisher services                                                        1\n",
            "the endocrine socety                                                                   1\n",
            "journal of the american physiological proceedings of national academy of sciences      1\n",
            "springer-verlag gmbh & ci                                                              1\n",
            "bentham science publishers                                                             1\n",
            "the american physiological society                                                     1\n",
            "society of neuro sciences                                                              1\n",
            "sage publishing                                                                        1\n",
            "rsc publishing                                                                         1\n",
            "cenveo publisher services/asm jv1                                                      1\n",
            "wiley/blackwell                                                                        1\n",
            "american society for nutrition                                                         1\n",
            "bmj journals                                                                           1\n",
            "cenveo publisher services                                                              1\n",
            "frontiers research foundation                                                          1\n",
            "company of biologist                                                                   1\n",
            "american psychiatric association                                                       1\n",
            "american public health association                                                     1\n",
            "springer-verlag gmbh, heidelberger platz 3, d-14197 berlin                             1\n",
            "john wiley & sons, inc.                                                                1\n",
            "plos public library of science                                                         1\n",
            "cadmus journal service                                                                 1\n",
            "Name: Publisher, Length: 254, dtype: int64\n"
          ],
          "name": "stdout"
        }
      ]
    },
    {
      "cell_type": "code",
      "metadata": {
        "id": "cBBbPEnfEy8J",
        "colab_type": "code",
        "colab": {},
        "outputId": "91873485-2354-46a6-9493-48609894590e"
      },
      "source": [
        "#are there any null values?\n",
        "challenge.isnull().any()"
      ],
      "execution_count": 0,
      "outputs": [
        {
          "output_type": "execute_result",
          "data": {
            "text/plain": [
              "PMID/PMCID                                              True\n",
              "Publisher                                              False\n",
              "Journal title                                           True\n",
              "Article title                                          False\n",
              "COST (£) charged to Wellcome (inc VAT when charged)    False\n",
              "dtype: bool"
            ]
          },
          "metadata": {
            "tags": []
          },
          "execution_count": 8
        }
      ]
    },
    {
      "cell_type": "code",
      "metadata": {
        "id": "hicBPtGNEy8N",
        "colab_type": "code",
        "colab": {},
        "outputId": "ebc1e3e2-3390-40eb-9a50-86afb66cdd32"
      },
      "source": [
        "#how many null values?\n",
        "challenge.isnull().sum()"
      ],
      "execution_count": 0,
      "outputs": [
        {
          "output_type": "execute_result",
          "data": {
            "text/plain": [
              "PMID/PMCID                                             199\n",
              "Publisher                                                0\n",
              "Journal title                                            1\n",
              "Article title                                            0\n",
              "COST (£) charged to Wellcome (inc VAT when charged)      0\n",
              "dtype: int64"
            ]
          },
          "metadata": {
            "tags": []
          },
          "execution_count": 9
        }
      ]
    },
    {
      "cell_type": "code",
      "metadata": {
        "id": "6imyE4yvEy8Q",
        "colab_type": "code",
        "colab": {},
        "outputId": "d2132404-9113-44b1-c1cb-fb9b308debb0"
      },
      "source": [
        "challenge['Publisher'].nunique()"
      ],
      "execution_count": 0,
      "outputs": [
        {
          "output_type": "execute_result",
          "data": {
            "text/plain": [
              "254"
            ]
          },
          "metadata": {
            "tags": []
          },
          "execution_count": 10
        }
      ]
    },
    {
      "cell_type": "markdown",
      "metadata": {
        "id": "U-g8qhJJEy8T",
        "colab_type": "text"
      },
      "source": [
        "# Dictionary approach"
      ]
    },
    {
      "cell_type": "code",
      "metadata": {
        "id": "VKMJ-8VBEy8U",
        "colab_type": "code",
        "colab": {},
        "outputId": "fa6e322b-4fa1-4627-c875-0240747a7541"
      },
      "source": [
        "#build a dictionary with key words as text in raw material, and value as text needed\n",
        "\n",
        "dict = {'acs' : 'american chemical society', \n",
        "        'acs (amercian chemical society) publications' : 'american chemical society',\n",
        "        'acs publications':'american chemical society', \n",
        "        'american chemical society publications' : 'american chemical society',\n",
        "        'elseveier science':'elsevier',\n",
        "        'elsevier (cell press)':'elsevier',\n",
        "        'elsevier / cell science':'elsevier', \n",
        "        'elsevier/Cell Press':'elsevier', \n",
        "        'elseveier':'elsevier',\n",
        "        'elsevier ltd':'elsevier',\n",
        "        'elsevier b.v.':'elsevier',\n",
        "        'plos':'public library of science',\n",
        "        'plos (public library of science)':'public library of science', \n",
        "        'plos public library of science':'public library of science',\n",
        "        'wiley':'john wiley & sons', \n",
        "        'john wiley & sons inc': 'john wiley & sons', \n",
        "        'john wiley & sons ltd':'john wiley & sons',\n",
        "        'wiley subscription services':'john wiley & sons', \n",
        "        'wiley blackwell':'john wiley & sons', \n",
        "        'wiley & son':'john wiley & sons',\n",
        "        'wiley online library':'john wiley & sons', \n",
        "        'wiley subscription services inc.':'john wiley & sons', \n",
        "        'wiley-blackwell':'john wiley & sons',\n",
        "        'wiley-vch':'john wiley & sons', \n",
        "        'wiley subscription services inc':'john wiley & sons', \n",
        "        'wiley blackwell':'john wiley & sons',\n",
        "        'wliey-blackwell':'john wiley & sons', \n",
        "        'wiley':'john wiley & sons', \n",
        "        'wiley subscription services  inc.':'john wiley & sons',\n",
        "        'john wiley':'john wiley & sons',\n",
        "        'john wiley & sons, inc.': 'john wiley & sons',\n",
        "        'john wiley and sons':'john wiley & sons',\n",
        "        'john wiley and sons ltd':'john wiley & sons',\n",
        "        'wiley subscription serviices inc':'john wiley & sons',\n",
        "        'wiley vch':'john wiley & sons',\n",
        "        'wiley/blackwell':'john wiley & sons',\n",
        "        'wiley-blackwell, john wiley & sons':'john wiley & sons',\n",
        "        'blackwell publishing ltd/wiley':'john wiley & sons',\n",
        "        'oxford journals':'oxford university press',\n",
        "        'oup':'oxford university press',\n",
        "        'oxford journals (oup)':'oxford university press',\n",
        "        'oxford univ press':'oxford university press',\n",
        "        'oxford university press (oup)':'oxford university press',\n",
        "        'oxford univesity press':'oxford university press',\n",
        "        'humana press (springer imprint)':'springer',\n",
        "        'springer-verlag gmbh':'springer',\n",
        "        'springer science + business media':'springer',\n",
        "        'springer verlag':'springer',\n",
        "        'springer-veriag gmbh':'springer',\n",
        "        'springer-verlag gmbh & ci':'springer',\n",
        "        'springer-verlag gmbh, heidelberger platz 3, d-14197 berlin':'springer',\n",
        "        'biomed central limited':'biomed central',\n",
        "        'biomed central ltd':'biomed central',\n",
        "        'bmc':'biomed central',\n",
        "        'asbmb':'american society for biochemistry and molecular biology',\n",
        "        'bmj':'bmj publishing group',\n",
        "        'bmj group':'bmj publishing group',\n",
        "        'portland press ltd':'portland press',\n",
        "        'pnas':'proceedings of the national academy of sciences',\n",
        "        'pnas author publication':'proceedings of the national academy of sciences',\n",
        "        'proceedings of the national academy of sciences (pnas)':'proceedings of the national academy of sciences',\n",
        "        'cup':'cambridge university press'}\n",
        "clean_df = challenge.replace({'Publisher' : dict})\n",
        "clean_df['Publisher'].value_counts()"
      ],
      "execution_count": 0,
      "outputs": [
        {
          "output_type": "execute_result",
          "data": {
            "text/plain": [
              "elsevier                                                                             407\n",
              "public library of science                                                            307\n",
              "john wiley & sons                                                                    270\n",
              "oxford university press                                                              167\n",
              "biomed central                                                                        95\n",
              "springer                                                                              93\n",
              "american society for biochemistry and molecular biology                               65\n",
              "bmj publishing group                                                                  50\n",
              "nature publishing group                                                               49\n",
              "american chemical society                                                             30\n",
              "cambridge university press                                                            28\n",
              "nature                                                                                25\n",
              "frontiers                                                                             23\n",
              "portland press                                                                        22\n",
              "royal society                                                                         22\n",
              "company of biologists                                                                 18\n",
              "dartmouth journal services                                                            18\n",
              "american society for microbiology                                                     18\n",
              "national academy of sciences                                                          16\n",
              "sage                                                                                  14\n",
              "landes bioscience                                                                     14\n",
              "american psychological association                                                    14\n",
              "society for general microbiology                                                      14\n",
              "taylor & francis                                                                      11\n",
              "society for neuroscience                                                              11\n",
              "proceedings of the national academy of sciences                                       11\n",
              "international union of crystallography                                                 8\n",
              "the endocrine society                                                                  8\n",
              "wolters kluwer                                                                         7\n",
              "american physiological society                                                         7\n",
              "                                                                                    ... \n",
              "cold spring habour press                                                               1\n",
              "european society of endocrinolog                                                       1\n",
              "the american society for biochemistry and molecular biology, inc                       1\n",
              "asbmb/cadmus                                                                           1\n",
              "mit press open access                                                                  1\n",
              "royal society of chemistry                                                             1\n",
              "company of biologists ltd                                                              1\n",
              "society for neurosciences                                                              1\n",
              "journal of the american physiological proceedings of national academy of sciences      1\n",
              "cenveo publisher services                                                              1\n",
              "darmouth journal services                                                              1\n",
              "the company of biologists ltd                                                          1\n",
              "ios press                                                                              1\n",
              "american psychiatric association                                                       1\n",
              "company of biologist                                                                   1\n",
              "frontiers research foundation                                                          1\n",
              "bmj journals                                                                           1\n",
              "bentham science publishers                                                             1\n",
              "american society for nutrition                                                         1\n",
              "cenveo publisher services/asm jv1                                                      1\n",
              "rsc publishing                                                                         1\n",
              "sage publishing                                                                        1\n",
              "society of neuro sciences                                                              1\n",
              "the american physiological society                                                     1\n",
              "informa healthcare                                                                     1\n",
              "elsevier/cell press                                                                    1\n",
              "the endrocrine society                                                                 1\n",
              "asbmc /cenveo                                                                          1\n",
              "transcript verlag                                                                      1\n",
              "cadmus journal service                                                                 1\n",
              "Name: Publisher, Length: 198, dtype: int64"
            ]
          },
          "metadata": {
            "tags": []
          },
          "execution_count": 11
        }
      ]
    },
    {
      "cell_type": "markdown",
      "metadata": {
        "id": "yTY3uKf-Ey8X",
        "colab_type": "text"
      },
      "source": [
        "As seen above, the top 5 publishers include: Elsevier, Public Library of Science, John Wiley & Sons, Oxford University Press, and BioMed Central."
      ]
    },
    {
      "cell_type": "code",
      "metadata": {
        "id": "9g2RPkEWEy8Y",
        "colab_type": "code",
        "colab": {}
      },
      "source": [
        "#calculate the mean, median, standard deviation for the cost per article of each of the top 5 journals"
      ],
      "execution_count": 0,
      "outputs": []
    },
    {
      "cell_type": "code",
      "metadata": {
        "id": "ushA7a66Ey8a",
        "colab_type": "code",
        "colab": {}
      },
      "source": [
        "#rename columns of cleaned dataframe\n",
        "clean_df.columns = ['PMID/PMCID', 'Publisher', 'Journal Title', 'Article Title', 'Cost']"
      ],
      "execution_count": 0,
      "outputs": []
    },
    {
      "cell_type": "code",
      "metadata": {
        "id": "lyYcqewpEy8c",
        "colab_type": "code",
        "colab": {},
        "outputId": "43c05d9f-bbdb-48eb-8d2b-d92b947f2e2d"
      },
      "source": [
        "#check for cost null values, and data types\n",
        "null_cost = clean_df[clean_df['Cost'].isnull()]\n",
        "print(null_cost)\n",
        "print(clean_df.dtypes)"
      ],
      "execution_count": 0,
      "outputs": [
        {
          "output_type": "stream",
          "text": [
            "Empty DataFrame\n",
            "Columns: [PMID/PMCID, Publisher, Journal Title, Article Title, Cost]\n",
            "Index: []\n",
            "PMID/PMCID       object\n",
            "Publisher        object\n",
            "Journal Title    object\n",
            "Article Title    object\n",
            "Cost             object\n",
            "dtype: object\n"
          ],
          "name": "stdout"
        }
      ]
    },
    {
      "cell_type": "code",
      "metadata": {
        "id": "0hMEyZw5Ey8f",
        "colab_type": "code",
        "colab": {},
        "outputId": "79fbe88f-632b-4ebf-85c8-cb6b02537c46"
      },
      "source": [
        "#convert the cost column to a float by deleting the dollar and pound symbols\n",
        "clean_df['Cost'] = clean_df['Cost'].apply(lambda x: x.replace('£', '') if isinstance(x, str) and '£' in x else x)\n",
        "clean_df['Cost'] = clean_df['Cost'].apply(lambda x: x.replace('$', '') if isinstance(x, str) and '$' in x else x)\n",
        "clean_df['Cost'] = pd.to_numeric(clean_df['Cost'])\n",
        "print(clean_df.dtypes)"
      ],
      "execution_count": 0,
      "outputs": [
        {
          "output_type": "stream",
          "text": [
            "PMID/PMCID        object\n",
            "Publisher         object\n",
            "Journal Title     object\n",
            "Article Title     object\n",
            "Cost             float64\n",
            "dtype: object\n"
          ],
          "name": "stdout"
        }
      ]
    },
    {
      "cell_type": "code",
      "metadata": {
        "id": "_m-iCcJDEy8i",
        "colab_type": "code",
        "colab": {},
        "outputId": "5449dcbe-b3fc-4def-e728-3d0111405bba"
      },
      "source": [
        "#find the mean cost of the top 5 publishers\n",
        "mean = clean_df.groupby('Publisher')['Cost'].mean()\n",
        "mean_top_5 = mean[['elsevier', 'public library of science', 'john wiley & sons', 'oxford university press', 'biomed central']]\n",
        "print(mean_top_5)"
      ],
      "execution_count": 0,
      "outputs": [
        {
          "output_type": "stream",
          "text": [
            "Publisher\n",
            "elsevier                     26941.410762\n",
            "public library of science    50562.747362\n",
            "john wiley & sons            17532.888444\n",
            "oxford university press      19775.350240\n",
            "biomed central               22364.368737\n",
            "Name: Cost, dtype: float64\n"
          ],
          "name": "stdout"
        }
      ]
    },
    {
      "cell_type": "code",
      "metadata": {
        "id": "NRz5fjo2Ey8k",
        "colab_type": "code",
        "colab": {},
        "outputId": "50b5b4c5-2f53-4e90-c82d-6ff5b8ddfa0c"
      },
      "source": [
        "#find the median cost of the top 5 publishers\n",
        "median = clean_df.groupby('Publisher')['Cost'].median()\n",
        "median_top_5 = median[['elsevier', 'public library of science', 'john wiley & sons', 'oxford university press', 'biomed central']]\n",
        "print(median_top_5)"
      ],
      "execution_count": 0,
      "outputs": [
        {
          "output_type": "stream",
          "text": [
            "Publisher\n",
            "elsevier                     2352.530\n",
            "public library of science    1039.870\n",
            "john wiley & sons            2009.945\n",
            "oxford university press      2040.000\n",
            "biomed central               1315.800\n",
            "Name: Cost, dtype: float64\n"
          ],
          "name": "stdout"
        }
      ]
    },
    {
      "cell_type": "code",
      "metadata": {
        "id": "N1SS7hN9Ey8m",
        "colab_type": "code",
        "colab": {},
        "outputId": "cf67952b-86c1-4464-d113-05df2d169bc4"
      },
      "source": [
        "#find the standard deviation of cost of the top 5 publishers\n",
        "std = clean_df.groupby('Publisher')['Cost'].std()\n",
        "std_top_5 = std[['elsevier', 'public library of science', 'john wiley & sons', 'oxford university press', 'biomed central']]\n",
        "print(std_top_5)"
      ],
      "execution_count": 0,
      "outputs": [
        {
          "output_type": "stream",
          "text": [
            "Publisher\n",
            "elsevier                     154626.174046\n",
            "public library of science    215817.573944\n",
            "john wiley & sons            121308.114848\n",
            "oxford university press      132975.378101\n",
            "biomed central               144128.276929\n",
            "Name: Cost, dtype: float64\n"
          ],
          "name": "stdout"
        }
      ]
    },
    {
      "cell_type": "code",
      "metadata": {
        "id": "m9pQTpS0Ey8p",
        "colab_type": "code",
        "colab": {},
        "outputId": "e1c5df69-e616-4ec4-dd10-a750e5523119"
      },
      "source": [
        "#the standard deviations and means seem astronomically high, lets look for outliers\n",
        "print(clean_df.groupby('Cost').max())"
      ],
      "execution_count": 0,
      "outputs": [
        {
          "output_type": "stream",
          "text": [
            "                                                   Publisher  \\\n",
            "Cost                                                           \n",
            "0.00                              cambridge university press   \n",
            "9.93                                          biomed central   \n",
            "45.94                         american society for nutrition   \n",
            "122.31                             public library of science   \n",
            "135.29                                          sciedu press   \n",
            "159.74                                     landes bioscience   \n",
            "159.91                                       jscimed central   \n",
            "187.03                                          sciedu press   \n",
            "206.32       proceedings of the national academy of sciences   \n",
            "214.74                             public library of science   \n",
            "238.08                                         aga institute   \n",
            "265.67                                                 ambsb   \n",
            "270.00                                        portland press   \n",
            "321.12                             american chemical society   \n",
            "321.46                                     landes bioscience   \n",
            "327.72                             public library of science   \n",
            "329.79                             public library of science   \n",
            "340.00                                        iop publishing   \n",
            "343.51                             public library of science   \n",
            "346.25                                             frontiers   \n",
            "348.33                                              elsevier   \n",
            "364.17                                              elsevier   \n",
            "378.70                             ferrata storti foundation   \n",
            "378.78                               oxford university press   \n",
            "381.04                                          asbmb cadmus   \n",
            "384.00                                        biomed central   \n",
            "389.73                             public library of science   \n",
            "395.60                          national academy of sciences   \n",
            "402.42                                     landes bioscience   \n",
            "409.78                                     landes bioscience   \n",
            "...                                                      ...   \n",
            "3975.75                                             elsevier   \n",
            "3992.37                                             elsevier   \n",
            "3995.74                           dartmouth journal services   \n",
            "3997.71                                             elsevier   \n",
            "4002.42                                             elsevier   \n",
            "4012.03                                             elsevier   \n",
            "4041.05                                             elsevier   \n",
            "4069.66                                             elsevier   \n",
            "4072.42                                             elsevier   \n",
            "4076.38                                             elsevier   \n",
            "4077.52                                             elsevier   \n",
            "4084.51                                             elsevier   \n",
            "4095.97                                             elsevier   \n",
            "4099.71                                             elsevier   \n",
            "4105.34                                             elsevier   \n",
            "4112.54                                             elsevier   \n",
            "4148.39                                             elsevier   \n",
            "4151.77                                             elsevier   \n",
            "4163.88                                             elsevier   \n",
            "4170.35                                             elsevier   \n",
            "4226.04                                  elsevier/cell press   \n",
            "4320.00                                             elsevier   \n",
            "4554.01                                             elsevier   \n",
            "4800.00                                             elsevier   \n",
            "5760.00                                             elsevier   \n",
            "6000.00                                 public.service.co.uk   \n",
            "13200.00                                           macmillan   \n",
            "192645.00                          public library of science   \n",
            "201024.00                                  john wiley & sons   \n",
            "999999.00  the american society for biochemistry and mole...   \n",
            "\n",
            "                                               Journal Title  \\\n",
            "Cost                                                           \n",
            "0.00                                  Psychological Medicine   \n",
            "9.93                                     Veterinary Research   \n",
            "45.94                         American Society for Nutrition   \n",
            "122.31                                              PLoS One   \n",
            "135.29          Journal of Biomedical Graphics and Computing   \n",
            "159.74                                              Channels   \n",
            "159.91     Journal of Neurology & Translational Neuroscience   \n",
            "187.03         International Journal of Financial Research\\n   \n",
            "206.32       Proceedings of the National Academy of Sciences   \n",
            "214.74                                              PLoS One   \n",
            "238.08                                      Gastroenterology   \n",
            "265.67                       Journal of Biological Chemistry   \n",
            "270.00                                Essays in Biochemistry   \n",
            "321.12                       Journal of Medicinal Chemistry    \n",
            "321.46                           Cell Adhesion and Migration   \n",
            "327.72                                         PLoS Medicine   \n",
            "329.79                                              PLoS One   \n",
            "340.00                     Physics in Biology and Medicine\\n   \n",
            "343.51                                          PLoS Biology   \n",
            "346.25                                 Frontiers in Genetics   \n",
            "348.33                                       Current Biology   \n",
            "364.17                                    Developmental Cell   \n",
            "378.70                 Haematologica/The Haematology Journal   \n",
            "378.78                                          J Infect Dis   \n",
            "381.04                              Jnl Biological Chemistry   \n",
            "384.00                                         Public Health   \n",
            "389.73                                              PLoS ONE   \n",
            "395.60       Proceedings of the National Academy of Sciences   \n",
            "402.42                                           RNA Biology   \n",
            "409.78                                            Epigentics   \n",
            "...                                                      ...   \n",
            "3975.75                                   Developmental Cell   \n",
            "3992.37                                      Current Biology   \n",
            "3995.74                                         Cell Reports   \n",
            "3997.71                                               Neuron   \n",
            "4002.42                                   Developmental Cell   \n",
            "4012.03                                               Neuron   \n",
            "4041.05                                         Cell Journal   \n",
            "4069.66                                             Immunity   \n",
            "4072.42                                            Structure   \n",
            "4076.38                                   Developmental Cell   \n",
            "4077.52                                      Current Biology   \n",
            "4084.51                                      Cell Metabolism   \n",
            "4095.97                                            Structure   \n",
            "4099.71                                   Developmental Cell   \n",
            "4105.34                                               Neuron   \n",
            "4112.54                                      Current Biology   \n",
            "4148.39                                       Molecular Cell   \n",
            "4151.77                                           Curr Biol.   \n",
            "4163.88                                                 Cell   \n",
            "4170.35                                               Neuron   \n",
            "4226.04                                  Cell Host & Microbe   \n",
            "4320.00                                 The Lancet Neurology   \n",
            "4554.01                                           The Lancet   \n",
            "4800.00                                           The Lancet   \n",
            "5760.00                                 The Lancet Neurology   \n",
            "6000.00                                Public Service Review   \n",
            "13200.00                                                 NaN   \n",
            "192645.00                                           PLoS One   \n",
            "201024.00                                 Movement Disorders   \n",
            "999999.00                                    Vision Research   \n",
            "\n",
            "                                               Article Title  \n",
            "Cost                                                          \n",
            "0.00       Reduced parahippocampal cortical thickness in ...  \n",
            "9.93       Understanding foot-and-mouth disease virus tra...  \n",
            "45.94      The association between breastfeeding and HIV ...  \n",
            "122.31     How  well are Malaria Maps used to design and ...  \n",
            "135.29     Functional MRI demonstrates pain perception in...  \n",
            "159.74     State-independent intracellular access of quat...  \n",
            "159.91             Parkinson's Disease: The Catabolic Theory  \n",
            "187.03     Determinants of Enrolment in Voluntary Health ...  \n",
            "206.32     Multistep molecular mechanism for Bone morphog...  \n",
            "214.74     Neighbourhood, route and workplace-related env...  \n",
            "238.08     Much of the genetic risk of colorectal cancer ...  \n",
            "265.67                   Annexin-1 interaction with FPR2/ALX  \n",
            "270.00     Cells wars: regulation of cell survival and pr...  \n",
            "321.12     A class of 5-nitro-2-furancarboxylamides with ...  \n",
            "321.46     Emerging roles for semaphorins & VEGFs in syna...  \n",
            "327.72     Associations between active travel to work and...  \n",
            "329.79     Socioeconomic inequalities in non-communicable...  \n",
            "340.00     Visualization of small lesions in rat cartilag...  \n",
            "343.51     Radar tracking and motion-sensitive cameras on...  \n",
            "346.25     The mysterious case of the C. elegans gut gran...  \n",
            "348.33     Disrupted Circadian Rhythms in a Mouse Model o...  \n",
            "364.17     Chromosome engineering allows the efficient is...  \n",
            "378.70     Production of the effector cytokine interleuki...  \n",
            "378.78     Genetic Relatedness of Infecting and Reinfecti...  \n",
            "381.04     Biochemical and immunological characterisation...  \n",
            "384.00     Walking and cycling to work despite reporting ...  \n",
            "389.73     Prolonged internal displacement and common men...  \n",
            "395.60     Systematic identification of conserved bacteri...  \n",
            "402.42     Human pentatricopeptide proteins- only a few a...  \n",
            "409.78                 On your histone mark, SET, methylate!  \n",
            "...                                                      ...  \n",
            "3975.75    Autoregulatory feedback controls sequential ac...  \n",
            "3992.37    M1 corticospinal mirror neurons and their role...  \n",
            "3995.74    c-Myc Induced Sebaceous Gland Differentiation ...  \n",
            "3997.71    Nanoscale-targeted patch clamp recordings of f...  \n",
            "4002.42    Daughter cell identity emerges from the interp...  \n",
            "4012.03    the emergence and representation of knowledge ...  \n",
            "4041.05    Exit from Pluripotency is Gated by Intracellul...  \n",
            "4069.66    Dysregulated Hematopoietic Stem and Progenitor...  \n",
            "4072.42    Structure of the Catalytic Region of DNA Ligas...  \n",
            "4076.38    Hec1-dependent cyclin B2 stabilisation regulat...  \n",
            "4077.52    Locomotion Controls Spatial Integration in Mou...  \n",
            "4084.51    Improved insulin sensitivity despite increased...  \n",
            "4095.97    The architecture of EssB, an integral membrane...  \n",
            "4099.71    Syndecan-4 phosphorylation is a control point ...  \n",
            "4105.34    Attention induced variance and noise correclat...  \n",
            "4112.54                   A fovea for pain at the fingertips  \n",
            "4148.39    Identification and Functional Characterization...  \n",
            "4151.77    Calcium flashes orchestrate the wound inflamma...  \n",
            "4163.88    Mapping the human miRNA interactome by CLASH r...  \n",
            "4170.35    Distinct contributions of rod, cone, and melan...  \n",
            "4226.04    Human cytomegalovirus UL141 targets the TRAIL ...  \n",
            "4320.00    MRI investigation of the sensorimotor cortex a...  \n",
            "4554.01    The impact on a serogroup a meningococcal conj...  \n",
            "4800.00    Global trends in antiretroviral resistance in ...  \n",
            "5760.00    Genetic risk factors for ischaemic stroke and ...  \n",
            "6000.00              Laboratory Science in Tropical Medicine  \n",
            "13200.00   Fungal Disease in Britain and the United State...  \n",
            "192645.00  Reducing stock-outs of life saving Malaria Com...  \n",
            "201024.00  Limb amputations in fixed dystonia: a form of ...  \n",
            "999999.00  piRNAs can trigger a multigenerational epigene...  \n",
            "\n",
            "[1395 rows x 3 columns]\n"
          ],
          "name": "stdout"
        }
      ]
    },
    {
      "cell_type": "code",
      "metadata": {
        "id": "3epQqQyBEy8r",
        "colab_type": "code",
        "colab": {}
      },
      "source": [
        "clean_df.set_index('Publisher', inplace=True)\n",
        "top_5_publishers = clean_df.loc[['elsevier', 'public library of science', 'john wiley & sons', 'oxford university press', 'biomed central']]"
      ],
      "execution_count": 0,
      "outputs": []
    },
    {
      "cell_type": "code",
      "metadata": {
        "id": "_-UFiHtWEy8w",
        "colab_type": "code",
        "colab": {}
      },
      "source": [
        "#create variables for each publisher from clean_df\n",
        "\n",
        "elsevier = clean_df.loc[clean_df.Publisher == 'elsevier']\n",
        "plos = clean_df.loc[clean_df.Publisher == 'public library of science']\n",
        "jws = clean_df.loc[clean_df.Publisher == 'john wiley & sons']\n",
        "oup = clean_df.loc[clean_df.Publisher == 'oxford university press']\n",
        "bmc = clean_df.loc[clean_df.Publisher == 'biomed central']"
      ],
      "execution_count": 0,
      "outputs": []
    },
    {
      "cell_type": "code",
      "metadata": {
        "id": "hmAdT-IhEy80",
        "colab_type": "code",
        "colab": {},
        "outputId": "6010420a-0c14-4eff-c872-59f65bd055c1"
      },
      "source": [
        "#looking for outliers\n",
        "\n",
        "plt.boxplot(elsevier['Cost'])\n",
        "plt.title('Elsevier Cost Range')\n",
        "plt.show()\n",
        "\n",
        "print(elsevier.describe())"
      ],
      "execution_count": 0,
      "outputs": [
        {
          "output_type": "display_data",
          "data": {
            "image/png": "[encoded data removed]",
            "text/plain": [
              "<Figure size 432x288 with 1 Axes>"
            ]
          },
          "metadata": {
            "tags": [],
            "needs_background": "light"
          }
        },
        {
          "output_type": "stream",
          "text": [
            "                Cost\n",
            "count     407.000000\n",
            "mean    26941.410762\n",
            "std    154626.174046\n",
            "min       348.330000\n",
            "25%      2167.950000\n",
            "50%      2352.530000\n",
            "75%      2475.775000\n",
            "max    999999.000000\n"
          ],
          "name": "stdout"
        }
      ]
    },
    {
      "cell_type": "code",
      "metadata": {
        "id": "HkPtkcb5Ey84",
        "colab_type": "code",
        "colab": {},
        "outputId": "03ebe04e-4eef-423e-e00c-005c6cde6e71"
      },
      "source": [
        "plt.boxplot(plos['Cost'])\n",
        "plt.title('Public Library of Science Cost Range')\n",
        "plt.show()\n",
        "\n",
        "print(plos.describe())"
      ],
      "execution_count": 0,
      "outputs": [
        {
          "output_type": "display_data",
          "data": {
            "image/png": "[encoded data removed]",
            "text/plain": [
              "<Figure size 432x288 with 1 Axes>"
            ]
          },
          "metadata": {
            "tags": [],
            "needs_background": "light"
          }
        },
        {
          "output_type": "stream",
          "text": [
            "                Cost\n",
            "count     307.000000\n",
            "mean    50562.747362\n",
            "std    215817.573944\n",
            "min       122.310000\n",
            "25%       877.090000\n",
            "50%      1039.870000\n",
            "75%      1461.060000\n",
            "max    999999.000000\n"
          ],
          "name": "stdout"
        }
      ]
    },
    {
      "cell_type": "code",
      "metadata": {
        "id": "btm_ynSvEy87",
        "colab_type": "code",
        "colab": {},
        "outputId": "53e86eea-87a2-4bb8-ac69-f13117f8e050"
      },
      "source": [
        "plt.boxplot(jws['Cost'])\n",
        "plt.title('John Wiley & Sons Cost Range')\n",
        "plt.show()\n",
        "\n",
        "print(jws.describe())"
      ],
      "execution_count": 0,
      "outputs": [
        {
          "output_type": "display_data",
          "data": {
            "image/png": "[encoded data removed]",
            "text/plain": [
              "<Figure size 432x288 with 1 Axes>"
            ]
          },
          "metadata": {
            "tags": [],
            "needs_background": "light"
          }
        },
        {
          "output_type": "stream",
          "text": [
            "                Cost\n",
            "count     270.000000\n",
            "mean    17532.888444\n",
            "std    121308.114848\n",
            "min       612.590000\n",
            "25%      1835.307500\n",
            "50%      2009.945000\n",
            "75%      2310.950000\n",
            "max    999999.000000\n"
          ],
          "name": "stdout"
        }
      ]
    },
    {
      "cell_type": "code",
      "metadata": {
        "id": "mVJQpCP_Ey8_",
        "colab_type": "code",
        "colab": {},
        "outputId": "ddea862b-d5ac-4bf6-f9e0-5ea4dc2f6a56"
      },
      "source": [
        "plt.boxplot(oup['Cost'])\n",
        "plt.title('Oxford University Press Cost Range')\n",
        "plt.show()\n",
        "\n",
        "print(oup.describe())"
      ],
      "execution_count": 0,
      "outputs": [
        {
          "output_type": "display_data",
          "data": {
            "image/png": "[encoded data removed]",
            "text/plain": [
              "<Figure size 432x288 with 1 Axes>"
            ]
          },
          "metadata": {
            "tags": [],
            "needs_background": "light"
          }
        },
        {
          "output_type": "stream",
          "text": [
            "                Cost\n",
            "count     167.000000\n",
            "mean    19775.350240\n",
            "std    132975.378101\n",
            "min       378.780000\n",
            "25%      1700.000000\n",
            "50%      2040.000000\n",
            "75%      2047.750000\n",
            "max    999999.000000\n"
          ],
          "name": "stdout"
        }
      ]
    },
    {
      "cell_type": "code",
      "metadata": {
        "id": "gkXl34eoEy9C",
        "colab_type": "code",
        "colab": {},
        "outputId": "d6a99942-233b-4d9c-b33c-4b7bb3ed3b8a"
      },
      "source": [
        "plt.boxplot(bmc['Cost'])\n",
        "plt.title('Biomed Central Cost Range')\n",
        "plt.show()\n",
        "\n",
        "print(bmc.describe())"
      ],
      "execution_count": 0,
      "outputs": [
        {
          "output_type": "display_data",
          "data": {
            "image/png": "[encoded data removed]",
            "text/plain": [
              "<Figure size 432x288 with 1 Axes>"
            ]
          },
          "metadata": {
            "tags": [],
            "needs_background": "light"
          }
        },
        {
          "output_type": "stream",
          "text": [
            "                Cost\n",
            "count      95.000000\n",
            "mean    22364.368737\n",
            "std    144128.276929\n",
            "min         9.930000\n",
            "25%      1235.000000\n",
            "50%      1315.800000\n",
            "75%      1536.000000\n",
            "max    999999.000000\n"
          ],
          "name": "stdout"
        }
      ]
    },
    {
      "cell_type": "code",
      "metadata": {
        "id": "J4c8V5vrEy9F",
        "colab_type": "code",
        "colab": {}
      },
      "source": [
        "#calculate the mean, median, and std without the outliers. Cutting off the calculation before the outlier value.\n",
        "elsevier_mean = elsevier.loc[elsevier['Cost']<999999, 'Cost'].mean()\n",
        "elsevier_median = elsevier.loc[elsevier['Cost']<999999, 'Cost'].median()\n",
        "elsevier_std = elsevier.loc[elsevier['Cost']<999999, 'Cost'].std()"
      ],
      "execution_count": 0,
      "outputs": []
    },
    {
      "cell_type": "code",
      "metadata": {
        "id": "64p9m2qHEy9H",
        "colab_type": "code",
        "colab": {}
      },
      "source": [
        "plos_mean = plos.loc[plos['Cost']<100000, 'Cost'].mean()\n",
        "plos_median = plos.loc[plos['Cost']<100000, 'Cost'].median()\n",
        "plos_std = plos.loc[plos['Cost']<100000, 'Cost'].std()"
      ],
      "execution_count": 0,
      "outputs": []
    },
    {
      "cell_type": "code",
      "metadata": {
        "id": "n7B0Eb5mEy9L",
        "colab_type": "code",
        "colab": {}
      },
      "source": [
        "jws_mean = jws.loc[jws['Cost']<100000, 'Cost'].mean()\n",
        "jws_median = jws.loc[jws['Cost']<100000, 'Cost'].median()\n",
        "jws_std = jws.loc[jws['Cost']<100000, 'Cost'].std()"
      ],
      "execution_count": 0,
      "outputs": []
    },
    {
      "cell_type": "code",
      "metadata": {
        "id": "KohZWlqZEy9O",
        "colab_type": "code",
        "colab": {}
      },
      "source": [
        "oup_mean = oup.loc[oup['Cost']<100000, 'Cost'].mean()\n",
        "oup_median = oup.loc[oup['Cost']<100000, 'Cost'].median()\n",
        "oup_std = oup.loc[oup['Cost']<100000, 'Cost'].std()"
      ],
      "execution_count": 0,
      "outputs": []
    },
    {
      "cell_type": "code",
      "metadata": {
        "id": "UD6DTs17Ey9S",
        "colab_type": "code",
        "colab": {}
      },
      "source": [
        "bmc_mean = bmc.loc[bmc['Cost']<100000, 'Cost'].mean()\n",
        "bmc_median = bmc.loc[bmc['Cost']<100000, 'Cost'].median()\n",
        "bmc_std = bmc.loc[bmc['Cost']<100000, 'Cost'].std()"
      ],
      "execution_count": 0,
      "outputs": []
    },
    {
      "cell_type": "code",
      "metadata": {
        "id": "WMPmXiQaEy9W",
        "colab_type": "code",
        "colab": {},
        "outputId": "cb2f2a53-6f0a-4452-f1a1-4f7e8f93000a"
      },
      "source": [
        "print('Elsevier cost mean: £', round(elsevier_mean, 2), '\\nElsevier cost median: £', round(elsevier_median, 2), '\\nElsevier cost st. dev: £', round(elsevier_std, 2))\n",
        "print('Public Library of Science mean: £', round(plos_mean, 2), '\\nPublic Library of Science cost median: £', round(plos_median, 2), '\\nPublic Library of Science cost st. dev: £', round(plos_std, 2))\n",
        "print('John Wiley & Sons cost mean: £', round(jws_mean, 2), '\\nJohn Wiley & Sons cost median: £', round(jws_median, 2), '\\nJohn Wiley & Sons cost st. dev: £', round(jws_std, 2))\n",
        "print('Oxford University Press cost mean: £', round(oup_mean, 2), '\\nOxford University Press cost median: £', round(oup_median, 2), '\\nOxford University Press cost st. dev: £', round(oup_std, 2))\n",
        "print('Biomed Central cost mean: £', round(bmc_mean, 2), '\\nBiomed Central cost median: £', round(bmc_median, 2), '\\nBiomed Central cost st. dev: £', round(bmc_std, 2))\n"
      ],
      "execution_count": 0,
      "outputs": [
        {
          "output_type": "stream",
          "text": [
            "Elsevier cost mean: £ 2431.14 \n",
            "Elsevier cost median: £ 2343.65 \n",
            "Elsevier cost st. dev: £ 790.21\n",
            "Public Library of Science mean: £ 1134.48 \n",
            "Public Library of Science cost median: £ 1019.76 \n",
            "Public Library of Science cost st. dev: £ 406.24\n",
            "John Wiley & Sons cost mean: £ 2010.79 \n",
            "John Wiley & Sons cost median: £ 2006.64 \n",
            "John Wiley & Sons cost st. dev: £ 372.68\n",
            "Oxford University Press cost mean: £ 1844.43 \n",
            "Oxford University Press cost median: £ 2040.0 \n",
            "Oxford University Press cost st. dev: £ 512.11\n",
            "Biomed Central cost mean: £ 1339.97 \n",
            "Biomed Central cost median: £ 1315.8 \n",
            "Biomed Central cost st. dev: £ 345.01\n"
          ],
          "name": "stdout"
        }
      ]
    },
    {
      "cell_type": "code",
      "metadata": {
        "id": "RmaHW2RuEy9a",
        "colab_type": "code",
        "colab": {}
      },
      "source": [
        ""
      ],
      "execution_count": 0,
      "outputs": []
    },
    {
      "cell_type": "code",
      "metadata": {
        "id": "ETXGf17cEy9c",
        "colab_type": "code",
        "colab": {}
      },
      "source": [
        ""
      ],
      "execution_count": 0,
      "outputs": []
    },
    {
      "cell_type": "code",
      "metadata": {
        "id": "H5iFitqbEy9f",
        "colab_type": "code",
        "colab": {}
      },
      "source": [
        ""
      ],
      "execution_count": 0,
      "outputs": []
    },
    {
      "cell_type": "code",
      "metadata": {
        "id": "1TJJf3hgEy9h",
        "colab_type": "code",
        "colab": {}
      },
      "source": [
        ""
      ],
      "execution_count": 0,
      "outputs": []
    },
    {
      "cell_type": "code",
      "metadata": {
        "id": "2am2ZY3jEy9j",
        "colab_type": "code",
        "colab": {}
      },
      "source": [
        ""
      ],
      "execution_count": 0,
      "outputs": []
    },
    {
      "cell_type": "code",
      "metadata": {
        "id": "B6AiZKUvEy9k",
        "colab_type": "code",
        "colab": {}
      },
      "source": [
        ""
      ],
      "execution_count": 0,
      "outputs": []
    },
    {
      "cell_type": "code",
      "metadata": {
        "id": "-LzCLn7SEy9n",
        "colab_type": "code",
        "colab": {}
      },
      "source": [
        ""
      ],
      "execution_count": 0,
      "outputs": []
    },
    {
      "cell_type": "code",
      "metadata": {
        "id": "fqbVcpRkEy9p",
        "colab_type": "code",
        "colab": {}
      },
      "source": [
        ""
      ],
      "execution_count": 0,
      "outputs": []
    },
    {
      "cell_type": "code",
      "metadata": {
        "id": "EdzESwaUEy9s",
        "colab_type": "code",
        "colab": {}
      },
      "source": [
        ""
      ],
      "execution_count": 0,
      "outputs": []
    },
    {
      "cell_type": "code",
      "metadata": {
        "id": "UM1CjA3BEy9u",
        "colab_type": "code",
        "colab": {}
      },
      "source": [
        ""
      ],
      "execution_count": 0,
      "outputs": []
    },
    {
      "cell_type": "code",
      "metadata": {
        "id": "rOGqn330Ey9v",
        "colab_type": "code",
        "colab": {}
      },
      "source": [
        ""
      ],
      "execution_count": 0,
      "outputs": []
    },
    {
      "cell_type": "code",
      "metadata": {
        "id": "tpC-vJGkEy9y",
        "colab_type": "code",
        "colab": {}
      },
      "source": [
        ""
      ],
      "execution_count": 0,
      "outputs": []
    },
    {
      "cell_type": "code",
      "metadata": {
        "id": "ShkxSkCREy92",
        "colab_type": "code",
        "colab": {}
      },
      "source": [
        ""
      ],
      "execution_count": 0,
      "outputs": []
    },
    {
      "cell_type": "code",
      "metadata": {
        "id": "fLj_kzu_Ey99",
        "colab_type": "code",
        "colab": {}
      },
      "source": [
        ""
      ],
      "execution_count": 0,
      "outputs": []
    },
    {
      "cell_type": "code",
      "metadata": {
        "id": "TSH9cUMXEy-A",
        "colab_type": "code",
        "colab": {}
      },
      "source": [
        ""
      ],
      "execution_count": 0,
      "outputs": []
    },
    {
      "cell_type": "code",
      "metadata": {
        "id": "NLz6yYbeEy-J",
        "colab_type": "code",
        "colab": {}
      },
      "source": [
        ""
      ],
      "execution_count": 0,
      "outputs": []
    },
    {
      "cell_type": "code",
      "metadata": {
        "id": "9M1NKEnEEy-L",
        "colab_type": "code",
        "colab": {}
      },
      "source": [
        ""
      ],
      "execution_count": 0,
      "outputs": []
    },
    {
      "cell_type": "code",
      "metadata": {
        "id": "Wt1D1oIKEy-Q",
        "colab_type": "code",
        "colab": {}
      },
      "source": [
        ""
      ],
      "execution_count": 0,
      "outputs": []
    },
    {
      "cell_type": "code",
      "metadata": {
        "id": "MMSuC3iTEy-S",
        "colab_type": "code",
        "colab": {}
      },
      "source": [
        ""
      ],
      "execution_count": 0,
      "outputs": []
    },
    {
      "cell_type": "code",
      "metadata": {
        "id": "DzrGkHI5Ey-W",
        "colab_type": "code",
        "colab": {}
      },
      "source": [
        ""
      ],
      "execution_count": 0,
      "outputs": []
    },
    {
      "cell_type": "code",
      "metadata": {
        "id": "rVbweQhaEy-Z",
        "colab_type": "code",
        "colab": {}
      },
      "source": [
        ""
      ],
      "execution_count": 0,
      "outputs": []
    },
    {
      "cell_type": "code",
      "metadata": {
        "id": "yIh_OwlwEy-c",
        "colab_type": "code",
        "colab": {}
      },
      "source": [
        ""
      ],
      "execution_count": 0,
      "outputs": []
    },
    {
      "cell_type": "code",
      "metadata": {
        "id": "0wCMKkP7Ey-f",
        "colab_type": "code",
        "colab": {}
      },
      "source": [
        ""
      ],
      "execution_count": 0,
      "outputs": []
    },
    {
      "cell_type": "code",
      "metadata": {
        "id": "mlnpU1NBEy-h",
        "colab_type": "code",
        "colab": {}
      },
      "source": [
        ""
      ],
      "execution_count": 0,
      "outputs": []
    },
    {
      "cell_type": "code",
      "metadata": {
        "id": "se8FPZrEEy-k",
        "colab_type": "code",
        "colab": {}
      },
      "source": [
        ""
      ],
      "execution_count": 0,
      "outputs": []
    },
    {
      "cell_type": "code",
      "metadata": {
        "id": "LIu5uDcbEy-m",
        "colab_type": "code",
        "colab": {}
      },
      "source": [
        ""
      ],
      "execution_count": 0,
      "outputs": []
    },
    {
      "cell_type": "code",
      "metadata": {
        "id": "hZw0gH5VEy-r",
        "colab_type": "code",
        "colab": {}
      },
      "source": [
        ""
      ],
      "execution_count": 0,
      "outputs": []
    },
    {
      "cell_type": "code",
      "metadata": {
        "id": "y8Y93vaBEy-u",
        "colab_type": "code",
        "colab": {}
      },
      "source": [
        ""
      ],
      "execution_count": 0,
      "outputs": []
    },
    {
      "cell_type": "code",
      "metadata": {
        "id": "H6BOyil6Ey-x",
        "colab_type": "code",
        "colab": {}
      },
      "source": [
        ""
      ],
      "execution_count": 0,
      "outputs": []
    },
    {
      "cell_type": "code",
      "metadata": {
        "id": "zM5YXltbEy-2",
        "colab_type": "code",
        "colab": {}
      },
      "source": [
        ""
      ],
      "execution_count": 0,
      "outputs": []
    }
  ]
}