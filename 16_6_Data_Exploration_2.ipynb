{
  "nbformat": 4,
  "nbformat_minor": 0,
  "metadata": {
    "kernelspec": {
      "display_name": "Python 3",
      "language": "python",
      "name": "python3"
    },
    "language_info": {
      "codemirror_mode": {
        "name": "ipython",
        "version": 3
      },
      "file_extension": ".py",
      "mimetype": "text/x-python",
      "name": "python",
      "nbconvert_exporter": "python",
      "pygments_lexer": "ipython3",
      "version": "3.7.1"
    },
    "colab": {
      "name": "16.6 Data Exploration 2.ipynb",
      "provenance": [],
      "include_colab_link": true
    }
  },
  "cells": [
    {
      "cell_type": "markdown",
      "metadata": {
        "id": "view-in-github",
        "colab_type": "text"
      },
      "source": [
        "<a href=\"https://colab.research.google.com/github/kylemcq13/Projects/blob/master/16_6_Data_Exploration_2.ipynb\" target=\"_parent\"><img src=\"https://colab.research.google.com/assets/colab-badge.svg\" alt=\"Open In Colab\"/></a>"
      ]
    },
    {
      "cell_type": "markdown",
      "metadata": {
        "id": "DKFZ6vsE61OH",
        "colab_type": "text"
      },
      "source": [
        "# 16.6 Data Exploration 2"
      ]
    },
    {
      "cell_type": "markdown",
      "metadata": {
        "id": "EqK4iKrh61OK",
        "colab_type": "text"
      },
      "source": [
        "To complete this assignment, submit a link to a Jupyter notebook containing your solutions to the following tasks:\n",
        "\n",
        "1. Are there any differences between the genders, ethnicities, and parental level of education with respect to their performances in exams?\n",
        "2. Are there any differences between the lunch types with respect to their performances in exams? If there are, how do you explain this?\n",
        "3. Does the test preparation course seem to have an effect on the exam performances?\n",
        "4. Which 2 exam scores are most correlated with each other?\n"
      ]
    },
    {
      "cell_type": "code",
      "metadata": {
        "id": "ijnGdfRi61OL",
        "colab_type": "code",
        "colab": {}
      },
      "source": [
        "import matplotlib.pyplot as plt\n",
        "import seaborn as sns\n",
        "import numpy as np\n",
        "import pandas as pd\n",
        "import seaborn as sns\n",
        "import scipy.stats as stats\n",
        "from scipy.stats.stats import ttest_ind\n",
        "from scipy.stats.mstats import winsorize\n",
        "from sqlalchemy import create_engine\n",
        "import warnings"
      ],
      "execution_count": 0,
      "outputs": []
    },
    {
      "cell_type": "code",
      "metadata": {
        "id": "1NAGBjjX61OO",
        "colab_type": "code",
        "colab": {}
      },
      "source": [
        "#upload the data from SQL\n",
        "postgres_user = 'dsbc_student'\n",
        "postgres_pw = '7*.8G9QH21'\n",
        "postgres_host = '142.93.121.174'\n",
        "postgres_port = '5432'\n",
        "postgres_db = 'studentsperformance'\n",
        "\n",
        "engine2 = create_engine('postgresql://{}:{}@{}:{}/{}'.format(\n",
        "    postgres_user, postgres_pw, postgres_host, postgres_port, postgres_db))\n",
        "\n",
        "student_df = pd.read_sql_query('select * from studentsperformance',con=engine2)\n",
        "\n",
        "engine2.dispose()"
      ],
      "execution_count": 0,
      "outputs": []
    },
    {
      "cell_type": "code",
      "metadata": {
        "id": "TDi5LVEx61OQ",
        "colab_type": "code",
        "colab": {},
        "outputId": "ba8d8915-15bb-407c-c565-263f0e54ec99"
      },
      "source": [
        "#preview the dataset\n",
        "student_df.head()"
      ],
      "execution_count": 0,
      "outputs": [
        {
          "output_type": "execute_result",
          "data": {
            "text/html": [
              "<div>\n",
              "<style scoped>\n",
              "    .dataframe tbody tr th:only-of-type {\n",
              "        vertical-align: middle;\n",
              "    }\n",
              "\n",
              "    .dataframe tbody tr th {\n",
              "        vertical-align: top;\n",
              "    }\n",
              "\n",
              "    .dataframe thead th {\n",
              "        text-align: right;\n",
              "    }\n",
              "</style>\n",
              "<table border=\"1\" class=\"dataframe\">\n",
              "  <thead>\n",
              "    <tr style=\"text-align: right;\">\n",
              "      <th></th>\n",
              "      <th>gender</th>\n",
              "      <th>race/ethnicity</th>\n",
              "      <th>parental level of education</th>\n",
              "      <th>lunch</th>\n",
              "      <th>test preparation course</th>\n",
              "      <th>math score</th>\n",
              "      <th>reading score</th>\n",
              "      <th>writing score</th>\n",
              "    </tr>\n",
              "  </thead>\n",
              "  <tbody>\n",
              "    <tr>\n",
              "      <th>0</th>\n",
              "      <td>female</td>\n",
              "      <td>group B</td>\n",
              "      <td>bachelor's degree</td>\n",
              "      <td>standard</td>\n",
              "      <td>none</td>\n",
              "      <td>72</td>\n",
              "      <td>72</td>\n",
              "      <td>74</td>\n",
              "    </tr>\n",
              "    <tr>\n",
              "      <th>1</th>\n",
              "      <td>female</td>\n",
              "      <td>group C</td>\n",
              "      <td>some college</td>\n",
              "      <td>standard</td>\n",
              "      <td>completed</td>\n",
              "      <td>69</td>\n",
              "      <td>90</td>\n",
              "      <td>88</td>\n",
              "    </tr>\n",
              "    <tr>\n",
              "      <th>2</th>\n",
              "      <td>female</td>\n",
              "      <td>group B</td>\n",
              "      <td>master's degree</td>\n",
              "      <td>standard</td>\n",
              "      <td>none</td>\n",
              "      <td>90</td>\n",
              "      <td>95</td>\n",
              "      <td>93</td>\n",
              "    </tr>\n",
              "    <tr>\n",
              "      <th>3</th>\n",
              "      <td>male</td>\n",
              "      <td>group A</td>\n",
              "      <td>associate's degree</td>\n",
              "      <td>free/reduced</td>\n",
              "      <td>none</td>\n",
              "      <td>47</td>\n",
              "      <td>57</td>\n",
              "      <td>44</td>\n",
              "    </tr>\n",
              "    <tr>\n",
              "      <th>4</th>\n",
              "      <td>male</td>\n",
              "      <td>group C</td>\n",
              "      <td>some college</td>\n",
              "      <td>standard</td>\n",
              "      <td>none</td>\n",
              "      <td>76</td>\n",
              "      <td>78</td>\n",
              "      <td>75</td>\n",
              "    </tr>\n",
              "  </tbody>\n",
              "</table>\n",
              "</div>"
            ],
            "text/plain": [
              "   gender race/ethnicity parental level of education         lunch  \\\n",
              "0  female        group B           bachelor's degree      standard   \n",
              "1  female        group C                some college      standard   \n",
              "2  female        group B             master's degree      standard   \n",
              "3    male        group A          associate's degree  free/reduced   \n",
              "4    male        group C                some college      standard   \n",
              "\n",
              "  test preparation course  math score  reading score  writing score  \n",
              "0                    none          72             72             74  \n",
              "1               completed          69             90             88  \n",
              "2                    none          90             95             93  \n",
              "3                    none          47             57             44  \n",
              "4                    none          76             78             75  "
            ]
          },
          "metadata": {
            "tags": []
          },
          "execution_count": 3
        }
      ]
    },
    {
      "cell_type": "markdown",
      "metadata": {
        "id": "3EJnEEub61OT",
        "colab_type": "text"
      },
      "source": [
        "# 1. Are there any differences between the genders, ethnicities, and parental level of education with respect to their performances in exams?"
      ]
    },
    {
      "cell_type": "code",
      "metadata": {
        "id": "IKUtlRhr61OU",
        "colab_type": "code",
        "colab": {},
        "outputId": "e1e43e45-932b-4da5-fa5e-0bfe944b2fa3"
      },
      "source": [
        "#male vs female scores\n",
        "student_dfgender = student_df.groupby('gender').mean()[['math score', 'reading score', 'writing score']].reset_index()\n",
        "student_dfgender"
      ],
      "execution_count": 0,
      "outputs": [
        {
          "output_type": "execute_result",
          "data": {
            "text/html": [
              "<div>\n",
              "<style scoped>\n",
              "    .dataframe tbody tr th:only-of-type {\n",
              "        vertical-align: middle;\n",
              "    }\n",
              "\n",
              "    .dataframe tbody tr th {\n",
              "        vertical-align: top;\n",
              "    }\n",
              "\n",
              "    .dataframe thead th {\n",
              "        text-align: right;\n",
              "    }\n",
              "</style>\n",
              "<table border=\"1\" class=\"dataframe\">\n",
              "  <thead>\n",
              "    <tr style=\"text-align: right;\">\n",
              "      <th></th>\n",
              "      <th>gender</th>\n",
              "      <th>math score</th>\n",
              "      <th>reading score</th>\n",
              "      <th>writing score</th>\n",
              "    </tr>\n",
              "  </thead>\n",
              "  <tbody>\n",
              "    <tr>\n",
              "      <th>0</th>\n",
              "      <td>female</td>\n",
              "      <td>63.633205</td>\n",
              "      <td>72.608108</td>\n",
              "      <td>72.467181</td>\n",
              "    </tr>\n",
              "    <tr>\n",
              "      <th>1</th>\n",
              "      <td>male</td>\n",
              "      <td>68.728216</td>\n",
              "      <td>65.473029</td>\n",
              "      <td>63.311203</td>\n",
              "    </tr>\n",
              "  </tbody>\n",
              "</table>\n",
              "</div>"
            ],
            "text/plain": [
              "   gender  math score  reading score  writing score\n",
              "0  female   63.633205      72.608108      72.467181\n",
              "1    male   68.728216      65.473029      63.311203"
            ]
          },
          "metadata": {
            "tags": []
          },
          "execution_count": 4
        }
      ]
    },
    {
      "cell_type": "code",
      "metadata": {
        "id": "A84naZ3w61OX",
        "colab_type": "code",
        "colab": {},
        "outputId": "fae121a9-1bac-4291-d493-d64922457c08"
      },
      "source": [
        "#graph the male vs female data\n",
        "student_dfgender2 = student_dfgender.melt('gender', var_name='cols', value_name='vals')\n",
        "\n",
        "plt.figure(figsize=(15,10))\n",
        "ax = sns.barplot(x='gender', y='vals', hue='cols', palette='deep', data=student_dfgender2)\n",
        "ax.set(title='Average Test Scores by Gender', ylabel='Test Score')\n",
        "handles, labels = ax.get_legend_handles_labels()\n",
        "ax.legend(handles=handles[1:], labels=labels[1:])\n",
        "ax.legend(handles=handles[0:], labels=labels[0:])"
      ],
      "execution_count": 0,
      "outputs": [
        {
          "output_type": "execute_result",
          "data": {
            "text/plain": [
              "<matplotlib.legend.Legend at 0x2785bd288d0>"
            ]
          },
          "metadata": {
            "tags": []
          },
          "execution_count": 5
        },
        {
          "output_type": "display_data",
          "data": {
            "image/png": "[encoded data removed]",
            "text/plain": [
              "<Figure size 1080x720 with 1 Axes>"
            ]
          },
          "metadata": {
            "tags": [],
            "needs_background": "light"
          }
        }
      ]
    },
    {
      "cell_type": "code",
      "metadata": {
        "id": "_OTzDdtu61Oa",
        "colab_type": "code",
        "colab": {},
        "outputId": "98ede827-95ba-4705-fcc0-c831e6617475"
      },
      "source": [
        "#male vs female statistical significance\n",
        "ttest_ind(student_df[student_df.gender == 'female'][['math score', 'reading score', 'writing score']],\n",
        "         student_df[student_df.gender == 'male'][['math score', 'reading score', 'writing score']])"
      ],
      "execution_count": 0,
      "outputs": [
        {
          "output_type": "execute_result",
          "data": {
            "text/plain": [
              "Ttest_indResult(statistic=array([-5.38324587,  7.95930801,  9.97955791]), pvalue=array([9.12018555e-08, 4.68053874e-15, 2.01987771e-22]))"
            ]
          },
          "metadata": {
            "tags": []
          },
          "execution_count": 6
        }
      ]
    },
    {
      "cell_type": "markdown",
      "metadata": {
        "id": "MvwjAHZQ61Oc",
        "colab_type": "text"
      },
      "source": [
        "Females seem to do better in reading and writing and males perform better."
      ]
    },
    {
      "cell_type": "code",
      "metadata": {
        "id": "xCi3nXEl61Od",
        "colab_type": "code",
        "colab": {},
        "outputId": "cb166c9b-30d5-4ed7-9cf5-5cc4fce0c9b0"
      },
      "source": [
        "#race/ethnicity vs test scores\n",
        "\n",
        "student_df2 = student_df.groupby('race/ethnicity').mean()[['math score', 'reading score', 'writing score']].reset_index()\n",
        "student_df2 = student_df2.rename(columns= {'race/ethnicity':'race'})\n",
        "student_df2"
      ],
      "execution_count": 0,
      "outputs": [
        {
          "output_type": "execute_result",
          "data": {
            "text/html": [
              "<div>\n",
              "<style scoped>\n",
              "    .dataframe tbody tr th:only-of-type {\n",
              "        vertical-align: middle;\n",
              "    }\n",
              "\n",
              "    .dataframe tbody tr th {\n",
              "        vertical-align: top;\n",
              "    }\n",
              "\n",
              "    .dataframe thead th {\n",
              "        text-align: right;\n",
              "    }\n",
              "</style>\n",
              "<table border=\"1\" class=\"dataframe\">\n",
              "  <thead>\n",
              "    <tr style=\"text-align: right;\">\n",
              "      <th></th>\n",
              "      <th>race</th>\n",
              "      <th>math score</th>\n",
              "      <th>reading score</th>\n",
              "      <th>writing score</th>\n",
              "    </tr>\n",
              "  </thead>\n",
              "  <tbody>\n",
              "    <tr>\n",
              "      <th>0</th>\n",
              "      <td>group A</td>\n",
              "      <td>61.629213</td>\n",
              "      <td>64.674157</td>\n",
              "      <td>62.674157</td>\n",
              "    </tr>\n",
              "    <tr>\n",
              "      <th>1</th>\n",
              "      <td>group B</td>\n",
              "      <td>63.452632</td>\n",
              "      <td>67.352632</td>\n",
              "      <td>65.600000</td>\n",
              "    </tr>\n",
              "    <tr>\n",
              "      <th>2</th>\n",
              "      <td>group C</td>\n",
              "      <td>64.463950</td>\n",
              "      <td>69.103448</td>\n",
              "      <td>67.827586</td>\n",
              "    </tr>\n",
              "    <tr>\n",
              "      <th>3</th>\n",
              "      <td>group D</td>\n",
              "      <td>67.362595</td>\n",
              "      <td>70.030534</td>\n",
              "      <td>70.145038</td>\n",
              "    </tr>\n",
              "    <tr>\n",
              "      <th>4</th>\n",
              "      <td>group E</td>\n",
              "      <td>73.821429</td>\n",
              "      <td>73.028571</td>\n",
              "      <td>71.407143</td>\n",
              "    </tr>\n",
              "  </tbody>\n",
              "</table>\n",
              "</div>"
            ],
            "text/plain": [
              "      race  math score  reading score  writing score\n",
              "0  group A   61.629213      64.674157      62.674157\n",
              "1  group B   63.452632      67.352632      65.600000\n",
              "2  group C   64.463950      69.103448      67.827586\n",
              "3  group D   67.362595      70.030534      70.145038\n",
              "4  group E   73.821429      73.028571      71.407143"
            ]
          },
          "metadata": {
            "tags": []
          },
          "execution_count": 7
        }
      ]
    },
    {
      "cell_type": "code",
      "metadata": {
        "id": "NNdpMq0s61Oh",
        "colab_type": "code",
        "colab": {},
        "outputId": "b7775246-e9bf-45d1-86eb-98b1160fb2ad"
      },
      "source": [
        "#graph the race/ethnicity vs test scores\n",
        "\n",
        "student_dfrace = student_df2.melt('race', var_name='cols', value_name='vals')\n",
        "\n",
        "plt.figure(figsize=(15,10))\n",
        "ax = sns.barplot(x='race', y='vals', hue='cols', palette='deep', data=student_dfrace)\n",
        "ax.set(title='Average Test Scores by Race/Ethnicity', ylabel='Test Score')\n",
        "handles, labels = ax.get_legend_handles_labels()\n",
        "ax.legend(handles=handles[1:], labels=labels[1:])\n",
        "ax.legend(handles=handles[0:], labels=labels[0:])"
      ],
      "execution_count": 0,
      "outputs": [
        {
          "output_type": "execute_result",
          "data": {
            "text/plain": [
              "<matplotlib.legend.Legend at 0x2785bd94f60>"
            ]
          },
          "metadata": {
            "tags": []
          },
          "execution_count": 8
        },
        {
          "output_type": "display_data",
          "data": {
            "image/png": "[encoded data removed]",
            "text/plain": [
              "<Figure size 1080x720 with 1 Axes>"
            ]
          },
          "metadata": {
            "tags": [],
            "needs_background": "light"
          }
        }
      ]
    },
    {
      "cell_type": "code",
      "metadata": {
        "id": "XH1JoD6e61Oj",
        "colab_type": "code",
        "colab": {},
        "outputId": "523ecf43-5ab2-4829-bd57-16ee730258ed"
      },
      "source": [
        "#using pandas method\n",
        "\n",
        "group_A = student_df.loc[student_df['race/ethnicity']=='group A'][['math score', 'reading score', 'writing score']]\n",
        "group_B = student_df.loc[student_df['race/ethnicity']=='group B'][['math score', 'reading score', 'writing score']]\n",
        "group_C = student_df.loc[student_df['race/ethnicity']=='group C'][['math score', 'reading score', 'writing score']]\n",
        "group_D = student_df.loc[student_df['race/ethnicity']=='group D'][['math score', 'reading score', 'writing score']]\n",
        "group_E = student_df.loc[student_df['race/ethnicity']=='group E'][['math score', 'reading score', 'writing score']]\n",
        "\n",
        "print('Ttest for group A vs group B(math score, reading score, writing score): ',ttest_ind(group_A, group_B))\n",
        "print('Ttest for group B vs group C(math score, reading score, writing score): ',ttest_ind(group_B, group_C))\n",
        "print('Ttest for group B vs group E(math score, reading score, writing score): ',ttest_ind(group_B, group_E))\n",
        "print('Ttest for group A vs group C(math score, reading score, writing score): ',ttest_ind(group_A, group_C))\n",
        "print('Ttest for group C vs group D(math score, reading score, writing score): ',ttest_ind(group_C, group_D))\n",
        "print('Ttest for group C vs group E(math score, reading score, writing score): ',ttest_ind(group_C, group_E))\n",
        "print('Ttest for group A vs group D(math score, reading score, writing score): ',ttest_ind(group_A, group_D))\n",
        "print('Ttest for group A vs group E(math score, reading score, writing score): ',ttest_ind(group_A, group_E))\n",
        "print('Ttest for group D vs group E(math score, reading score, writing score): ',ttest_ind(group_D, group_E))"
      ],
      "execution_count": 0,
      "outputs": [
        {
          "output_type": "stream",
          "text": [
            "Ttest for group A vs group B(math score, reading score, writing score):  Ttest_indResult(statistic=array([-0.93550763, -1.36336823, -1.46244206]), pvalue=array([0.3503416 , 0.17387355, 0.14475374]))\n",
            "Ttest for group B vs group C(math score, reading score, writing score):  Ttest_indResult(statistic=array([-0.73156699, -1.32231562, -1.59649634]), pvalue=array([0.46477089, 0.18665928, 0.1110011 ]))\n",
            "Ttest for group B vs group E(math score, reading score, writing score):  Ttest_indResult(statistic=array([-6.00739705, -3.38606695, -3.38319783]), pvalue=array([5.00794605e-09, 7.95161850e-04, 8.03230049e-04]))\n",
            "Ttest for group A vs group C(math score, reading score, writing score):  Ttest_indResult(statistic=array([-1.59972203, -2.57543222, -2.8488724 ]), pvalue=array([0.11043811, 0.0103644 , 0.00461069]))\n",
            "Ttest for group C vs group D(math score, reading score, writing score):  Ttest_indResult(statistic=array([-2.41858625, -0.79701093, -1.88966315]), pvalue=array([0.01588835, 0.42577138, 0.05930233]))\n",
            "Ttest for group C vs group E(math score, reading score, writing score):  Ttest_indResult(statistic=array([-6.12764252, -2.71330186, -2.35028119]), pvalue=array([1.92723885e-09, 6.91328428e-03, 1.91835390e-02]))\n",
            "Ttest for group A vs group D(math score, reading score, writing score):  Ttest_indResult(statistic=array([-3.34669824, -3.04685486, -4.15563164]), pvalue=array([9.06863605e-04, 2.48865446e-03, 4.08480573e-05]))\n",
            "Ttest for group A vs group E(math score, reading score, writing score):  Ttest_indResult(statistic=array([-5.93614103, -4.07110623, -4.22347366]), pvalue=array([1.08355912e-08, 6.46339593e-05, 3.48327806e-05]))\n",
            "Ttest for group D vs group E(math score, reading score, writing score):  Ttest_indResult(statistic=array([-4.28228721, -2.01064794, -0.82397366]), pvalue=array([2.31876403e-05, 4.50333064e-02, 4.10445552e-01]))\n"
          ],
          "name": "stdout"
        }
      ]
    },
    {
      "cell_type": "code",
      "metadata": {
        "id": "jJ33qmoo61Om",
        "colab_type": "code",
        "colab": {},
        "outputId": "49273861-df7d-4c3a-f553-df5f7a8d04d0"
      },
      "source": [
        "#using the for loop\n",
        "\n",
        "race = student_df[\"race/ethnicity\"].unique()\n",
        "grouped_df = student_df.groupby(\"race/ethnicity\")\n",
        "for var in [\"math score\", \"reading score\", \"writing score\"]:\n",
        "    print(\"------------------------------------------------\")\n",
        "    print(\"Comparisons for variable: {}\".format(var))\n",
        "    print(\"------------------------------------------------\")\n",
        "    for i in range(0, len(race)):\n",
        "        for j in range(i+1, len(race)):\n",
        "            print(\"t-test between groups {0} and {1}:\".format(race[i], race[j]))\n",
        "            print(stats.ttest_ind(\n",
        "                student_df[student_df[\"race/ethnicity\"]== race[i]][var], \n",
        "                student_df[student_df[\"race/ethnicity\"]== race[j]][var]\n",
        "            ))"
      ],
      "execution_count": 0,
      "outputs": [
        {
          "output_type": "stream",
          "text": [
            "------------------------------------------------\n",
            "Comparisons for variable: math score\n",
            "------------------------------------------------\n",
            "t-test between groups group B and group C:\n",
            "Ttest_indResult(statistic=-0.7315669893534263, pvalue=0.4647708939167453)\n",
            "t-test between groups group B and group A:\n",
            "Ttest_indResult(statistic=0.9355076279747488, pvalue=0.3503415961659957)\n",
            "t-test between groups group B and group D:\n",
            "Ttest_indResult(statistic=-2.82845539712675, pvalue=0.004886197137104194)\n",
            "t-test between groups group B and group E:\n",
            "Ttest_indResult(statistic=-6.007397050552227, pvalue=5.007946047497971e-09)\n",
            "t-test between groups group C and group A:\n",
            "Ttest_indResult(statistic=1.5997220303217299, pvalue=0.11043810745588042)\n",
            "t-test between groups group C and group D:\n",
            "Ttest_indResult(statistic=-2.41858624746011, pvalue=0.015888349556016285)\n",
            "t-test between groups group C and group E:\n",
            "Ttest_indResult(statistic=-6.127642520822135, pvalue=1.927238849552764e-09)\n",
            "t-test between groups group A and group D:\n",
            "Ttest_indResult(statistic=-3.3466982429712298, pvalue=0.0009068636053543751)\n",
            "t-test between groups group A and group E:\n",
            "Ttest_indResult(statistic=-5.936141025544798, pvalue=1.083559122656415e-08)\n",
            "t-test between groups group D and group E:\n",
            "Ttest_indResult(statistic=-4.282287214674715, pvalue=2.3187640326715042e-05)\n",
            "------------------------------------------------\n",
            "Comparisons for variable: reading score\n",
            "------------------------------------------------\n",
            "t-test between groups group B and group C:\n",
            "Ttest_indResult(statistic=-1.3223156212901772, pvalue=0.1866592809035069)\n",
            "t-test between groups group B and group A:\n",
            "Ttest_indResult(statistic=1.3633682262027682, pvalue=0.1738735513443721)\n",
            "t-test between groups group B and group D:\n",
            "Ttest_indResult(statistic=-1.9451563636864795, pvalue=0.0523786206559701)\n",
            "t-test between groups group B and group E:\n",
            "Ttest_indResult(statistic=-3.386066945409153, pvalue=0.0007951618495240944)\n",
            "t-test between groups group C and group A:\n",
            "Ttest_indResult(statistic=2.575432218066352, pvalue=0.010364398025471079)\n",
            "t-test between groups group C and group D:\n",
            "Ttest_indResult(statistic=-0.7970109316408917, pvalue=0.425771382113019)\n",
            "t-test between groups group C and group E:\n",
            "Ttest_indResult(statistic=-2.7133018645371685, pvalue=0.0069132842804986595)\n",
            "t-test between groups group A and group D:\n",
            "Ttest_indResult(statistic=-3.0468548573461187, pvalue=0.002488654464332207)\n",
            "t-test between groups group A and group E:\n",
            "Ttest_indResult(statistic=-4.071106227981414, pvalue=6.463395931833847e-05)\n",
            "t-test between groups group D and group E:\n",
            "Ttest_indResult(statistic=-2.0106479406031794, pvalue=0.045033306431345586)\n",
            "------------------------------------------------\n",
            "Comparisons for variable: writing score\n",
            "------------------------------------------------\n",
            "t-test between groups group B and group C:\n",
            "Ttest_indResult(statistic=-1.5964963433740407, pvalue=0.1110010959814519)\n",
            "t-test between groups group B and group A:\n",
            "Ttest_indResult(statistic=1.4624420577998105, pvalue=0.14475374198993884)\n",
            "t-test between groups group B and group D:\n",
            "Ttest_indResult(statistic=-3.19929333232526, pvalue=0.0014749978881319053)\n",
            "t-test between groups group B and group E:\n",
            "Ttest_indResult(statistic=-3.3831978345244518, pvalue=0.0008032300486353951)\n",
            "t-test between groups group C and group A:\n",
            "Ttest_indResult(statistic=2.848872404992454, pvalue=0.004610690740740428)\n",
            "t-test between groups group C and group D:\n",
            "Ttest_indResult(statistic=-1.8896631516726248, pvalue=0.05930232918708209)\n",
            "t-test between groups group C and group E:\n",
            "Ttest_indResult(statistic=-2.3502811868359177, pvalue=0.019183539018898285)\n",
            "t-test between groups group A and group D:\n",
            "Ttest_indResult(statistic=-4.1556316361449195, pvalue=4.084805733969806e-05)\n",
            "t-test between groups group A and group E:\n",
            "Ttest_indResult(statistic=-4.2234736631970105, pvalue=3.483278064499439e-05)\n",
            "t-test between groups group D and group E:\n",
            "Ttest_indResult(statistic=-0.8239736571520918, pvalue=0.4104455517392258)\n"
          ],
          "name": "stdout"
        }
      ]
    },
    {
      "cell_type": "markdown",
      "metadata": {
        "id": "WU3jqP3I61Oo",
        "colab_type": "text"
      },
      "source": [
        "There seem to be some ethnicity group statistical difference in test scores. Some groups, however, don't have statistical significance."
      ]
    },
    {
      "cell_type": "code",
      "metadata": {
        "id": "RJojP3OU61Op",
        "colab_type": "code",
        "colab": {},
        "outputId": "0ad2e001-adfb-48bd-9f9e-4339e73a1cae"
      },
      "source": [
        "#parental level of education vs average test scores\n",
        "student_df3 = student_df.groupby('parental level of education').mean()[['math score', 'reading score', 'writing score']].reset_index()\n",
        "student_df3"
      ],
      "execution_count": 0,
      "outputs": [
        {
          "output_type": "execute_result",
          "data": {
            "text/html": [
              "<div>\n",
              "<style scoped>\n",
              "    .dataframe tbody tr th:only-of-type {\n",
              "        vertical-align: middle;\n",
              "    }\n",
              "\n",
              "    .dataframe tbody tr th {\n",
              "        vertical-align: top;\n",
              "    }\n",
              "\n",
              "    .dataframe thead th {\n",
              "        text-align: right;\n",
              "    }\n",
              "</style>\n",
              "<table border=\"1\" class=\"dataframe\">\n",
              "  <thead>\n",
              "    <tr style=\"text-align: right;\">\n",
              "      <th></th>\n",
              "      <th>parental level of education</th>\n",
              "      <th>math score</th>\n",
              "      <th>reading score</th>\n",
              "      <th>writing score</th>\n",
              "    </tr>\n",
              "  </thead>\n",
              "  <tbody>\n",
              "    <tr>\n",
              "      <th>0</th>\n",
              "      <td>associate's degree</td>\n",
              "      <td>67.882883</td>\n",
              "      <td>70.927928</td>\n",
              "      <td>69.896396</td>\n",
              "    </tr>\n",
              "    <tr>\n",
              "      <th>1</th>\n",
              "      <td>bachelor's degree</td>\n",
              "      <td>69.389831</td>\n",
              "      <td>73.000000</td>\n",
              "      <td>73.381356</td>\n",
              "    </tr>\n",
              "    <tr>\n",
              "      <th>2</th>\n",
              "      <td>high school</td>\n",
              "      <td>62.137755</td>\n",
              "      <td>64.704082</td>\n",
              "      <td>62.448980</td>\n",
              "    </tr>\n",
              "    <tr>\n",
              "      <th>3</th>\n",
              "      <td>master's degree</td>\n",
              "      <td>69.745763</td>\n",
              "      <td>75.372881</td>\n",
              "      <td>75.677966</td>\n",
              "    </tr>\n",
              "    <tr>\n",
              "      <th>4</th>\n",
              "      <td>some college</td>\n",
              "      <td>67.128319</td>\n",
              "      <td>69.460177</td>\n",
              "      <td>68.840708</td>\n",
              "    </tr>\n",
              "    <tr>\n",
              "      <th>5</th>\n",
              "      <td>some high school</td>\n",
              "      <td>63.497207</td>\n",
              "      <td>66.938547</td>\n",
              "      <td>64.888268</td>\n",
              "    </tr>\n",
              "  </tbody>\n",
              "</table>\n",
              "</div>"
            ],
            "text/plain": [
              "  parental level of education  math score  reading score  writing score\n",
              "0          associate's degree   67.882883      70.927928      69.896396\n",
              "1           bachelor's degree   69.389831      73.000000      73.381356\n",
              "2                 high school   62.137755      64.704082      62.448980\n",
              "3             master's degree   69.745763      75.372881      75.677966\n",
              "4                some college   67.128319      69.460177      68.840708\n",
              "5            some high school   63.497207      66.938547      64.888268"
            ]
          },
          "metadata": {
            "tags": []
          },
          "execution_count": 16
        }
      ]
    },
    {
      "cell_type": "code",
      "metadata": {
        "id": "YtHCMbI061Or",
        "colab_type": "code",
        "colab": {},
        "outputId": "a463bfbc-e50f-4d71-98e3-21afdaf429d3"
      },
      "source": [
        "#graph the parental level of education vs average test scores\n",
        "\n",
        "student_df4 = student_df3.melt('parental level of education', var_name='cols', value_name='vals')\n",
        "\n",
        "plt.figure(figsize=(15,10))\n",
        "ax = sns.barplot(x='parental level of education', y='vals', hue='cols', palette='deep', data=student_df4)\n",
        "ax.set(title='Average Test Scores by Parental Level of Education', ylabel='Test Score')\n",
        "handles, labels = ax.get_legend_handles_labels()\n",
        "ax.legend(handles=handles[1:], labels=labels[1:])\n",
        "ax.legend(handles=handles[0:], labels=labels[0:])\n",
        "\n"
      ],
      "execution_count": 0,
      "outputs": [
        {
          "output_type": "execute_result",
          "data": {
            "text/plain": [
              "<matplotlib.legend.Legend at 0x13ac28c3470>"
            ]
          },
          "metadata": {
            "tags": []
          },
          "execution_count": 28
        },
        {
          "output_type": "display_data",
          "data": {
            "image/png": "[encoded data removed]",
            "text/plain": [
              "<Figure size 1080x720 with 1 Axes>"
            ]
          },
          "metadata": {
            "tags": [],
            "needs_background": "light"
          }
        }
      ]
    },
    {
      "cell_type": "markdown",
      "metadata": {
        "id": "SYoh3lFg61Ot",
        "colab_type": "text"
      },
      "source": [
        "There certainly seems to be some differences here but lets check the statistics."
      ]
    },
    {
      "cell_type": "code",
      "metadata": {
        "id": "dkw83lGy61Ou",
        "colab_type": "code",
        "colab": {},
        "outputId": "3fa7b3a6-5a41-4125-f392-f862f29071a5"
      },
      "source": [
        "#using pandas method\n",
        "\n",
        "some_high_school = student_df.loc[student_df['parental level of education']=='some high school'][['math score', 'reading score', 'writing score']]\n",
        "high_school = student_df.loc[student_df['parental level of education']=='high school'][['math score', 'reading score', 'writing score']]\n",
        "some_college = student_df.loc[student_df['parental level of education']=='some college'][['math score', 'reading score', 'writing score']]\n",
        "associates = student_df.loc[student_df['parental level of education']==\"associate's degree\"][['math score', 'reading score', 'writing score']]\n",
        "bachelors = student_df.loc[student_df['parental level of education']==\"bachelor's degree\"][['math score', 'reading score', 'writing score']]\n",
        "masters = student_df.loc[student_df['parental level of education']==\"master's degree\"][['math score', 'reading score', 'writing score']]\n",
        "\n",
        "print('Ttest for high school vs some high school(math score, reading score, writing score): ',ttest_ind(high_school, some_high_school))\n",
        "print('Ttest for associates vs some high school(math score, reading score, writing score): ',ttest_ind(associates, some_high_school))\n",
        "print('Ttest for associates vs high school(math score, reading score, writing score): ',ttest_ind(associates, high_school))\n",
        "print('Ttest for bachelors vs some high school(math score, reading score, writing score): ',ttest_ind(bachelors, some_high_school))\n",
        "print('Ttest for masters vs some high school(math score, reading score, writing score): ',ttest_ind(masters, some_high_school))\n",
        "print('Ttest for masters vs high school(math score, reading score, writing score): ',ttest_ind(masters, high_school))\n",
        "print('Ttest for masters vs associates(math score, reading score, writing score): ',ttest_ind(masters, associates))\n",
        "print('Ttest for some college vs some high school(math score, reading score, writing score): ',ttest_ind(some_college, some_high_school))\n",
        "print('Ttest for some college vs high school(math score, reading score, writing score): ',ttest_ind(some_college, high_school))\n",
        "print('Ttest for some college vs associates(math score, reading score, writing score): ',ttest_ind(some_college, associates))\n",
        "print('Ttest for some college vs masters(math score, reading score, writing score): ',ttest_ind(some_college, masters))\n",
        "print('Ttest for bachelors vs associates(math score, reading score, writing score): ',ttest_ind(bachelors, associates))\n",
        "print('Ttest for bachelors vs high school(math score, reading score, writing score): ',ttest_ind(bachelors, high_school))\n",
        "print('Ttest for bachelors vs masters(math score, reading score, writing score): ',ttest_ind(bachelors, masters))\n",
        "print('Ttest for bachelors vs some college(math score, reading score, writing score): ',ttest_ind(bachelors, some_college))"
      ],
      "execution_count": 0,
      "outputs": [
        {
          "output_type": "stream",
          "text": [
            "Ttest for high school vs some high school(math score, reading score, writing score):  Ttest_indResult(statistic=array([-0.86406295, -1.46128476, -1.58388853]), pvalue=array([0.38810861, 0.1447792 , 0.11406654]))\n",
            "Ttest for associates vs some high school(math score, reading score, writing score):  Ttest_indResult(statistic=array([2.82005398, 2.71836022, 3.33172235]), pvalue=array([0.00504108, 0.00684677, 0.0009436 ]))\n",
            "Ttest for associates vs high school(math score, reading score, writing score):  Ttest_indResult(statistic=array([3.94813253, 4.53802142, 5.34872564]), pvalue=array([9.24731427e-05, 7.44216780e-06, 1.46505455e-07]))\n",
            "Ttest for bachelors vs some high school(math score, reading score, writing score):  Ttest_indResult(statistic=array([3.1967186 , 3.40392707, 4.6677331 ]), pvalue=array([1.54091929e-03, 7.56197172e-04, 4.62819853e-06]))\n",
            "Ttest for masters vs some high school(math score, reading score, writing score):  Ttest_indResult(statistic=array([2.64425721, 3.72615741, 4.70758382]), pvalue=array([8.73622879e-03, 2.43345526e-04, 4.27546515e-06]))\n",
            "Ttest for masters vs high school(math score, reading score, writing score):  Ttest_indResult(statistic=array([3.48937593, 5.11315873, 6.36090488]), pvalue=array([5.70929230e-04, 6.25755812e-07, 9.32693030e-10]))\n",
            "Ttest for masters vs associates(math score, reading score, writing score):  Ttest_indResult(statistic=array([0.84112297, 2.19120158, 2.78124155]), pvalue=array([0.40099936, 0.02926415, 0.00578403]))\n",
            "Ttest for some college vs some high school(math score, reading score, writing score):  Ttest_indResult(statistic=array([2.41170462, 1.71416197, 2.57572114]), pvalue=array([0.01632436, 0.08726787, 0.01035853]))\n",
            "Ttest for some college vs high school(math score, reading score, writing score):  Ttest_indResult(statistic=array([3.54610795, 3.45784277, 4.48852088]), pvalue=array([4.34980042e-04, 6.00104848e-04, 9.27501780e-06]))\n",
            "Ttest for some college vs associates(math score, reading score, writing score):  Ttest_indResult(statistic=array([-0.54268427, -1.11231882, -0.76159686]), pvalue=array([0.58761828, 0.26660029, 0.44670317]))\n",
            "Ttest for some college vs masters(math score, reading score, writing score):  Ttest_indResult(statistic=array([-1.23563342, -2.88884337, -3.16876906]), pvalue=array([0.21761957, 0.00416544, 0.00169859]))\n",
            "Ttest for bachelors vs associates(math score, reading score, writing score):  Ttest_indResult(statistic=array([0.87866419, 1.29779699, 2.11592966]), pvalue=array([0.38020758, 0.19524206, 0.03508162]))\n",
            "Ttest for bachelors vs high school(math score, reading score, writing score):  Ttest_indResult(statistic=array([4.23614362, 5.0175779 , 6.54738094]), pvalue=array([2.99653459e-05, 8.80425031e-07, 2.40762538e-10]))\n",
            "Ttest for bachelors vs masters(math score, reading score, writing score):  Ttest_indResult(statistic=array([-0.14868197, -1.05408589, -0.99987413]), pvalue=array([0.88197578, 0.29329675, 0.31875196]))\n",
            "Ttest for bachelors vs some college(math score, reading score, writing score):  Ttest_indResult(statistic=array([1.37023528, 2.20488212, 2.68033147]), pvalue=array([0.17151224, 0.02812756, 0.00771101]))\n"
          ],
          "name": "stdout"
        }
      ]
    },
    {
      "cell_type": "code",
      "metadata": {
        "id": "Bog1WWST61Ow",
        "colab_type": "code",
        "colab": {},
        "outputId": "e7e6ee54-d3f5-4237-a47c-ba0b92c1e07d"
      },
      "source": [
        "#using the for loop\n",
        "\n",
        "parent = student_df[\"parental level of education\"].unique()\n",
        "grouped_df = student_df.groupby(\"parental level of education\")\n",
        "for var in [\"math score\", \"reading score\", \"writing score\"]:\n",
        "    print(\"------------------------------------------------\")\n",
        "    print(\"Comparisons for variable: {}\".format(var))\n",
        "    print(\"------------------------------------------------\")\n",
        "    for i in range(0, len(parent)):\n",
        "        for j in range(i+1, len(parent)):\n",
        "            print(\"t-test between groups {0} and {1}:\".format(parent[i], parent[j]))\n",
        "            print(stats.ttest_ind(\n",
        "                student_df[student_df[\"parental level of education\"]== parent[i]][var], \n",
        "                student_df[student_df[\"parental level of education\"]== parent[j]][var]\n",
        "            ))"
      ],
      "execution_count": 0,
      "outputs": [
        {
          "output_type": "stream",
          "text": [
            "------------------------------------------------\n",
            "Comparisons for variable: math score\n",
            "------------------------------------------------\n",
            "t-test between groups bachelor's degree and some college:\n",
            "Ttest_indResult(statistic=1.3702352829617477, pvalue=0.17151224218471559)\n",
            "t-test between groups bachelor's degree and master's degree:\n",
            "Ttest_indResult(statistic=-0.14868196568849312, pvalue=0.8819757824867702)\n",
            "t-test between groups bachelor's degree and associate's degree:\n",
            "Ttest_indResult(statistic=0.8786641889793243, pvalue=0.38020757818036177)\n",
            "t-test between groups bachelor's degree and high school:\n",
            "Ttest_indResult(statistic=4.236143622484822, pvalue=2.9965345853843376e-05)\n",
            "t-test between groups bachelor's degree and some high school:\n",
            "Ttest_indResult(statistic=3.196718602676573, pvalue=0.0015409192922812146)\n",
            "t-test between groups some college and master's degree:\n",
            "Ttest_indResult(statistic=-1.2356334215824571, pvalue=0.21761956810347416)\n",
            "t-test between groups some college and associate's degree:\n",
            "Ttest_indResult(statistic=-0.5426842696247527, pvalue=0.5876182809234072)\n",
            "t-test between groups some college and high school:\n",
            "Ttest_indResult(statistic=3.5461079495681163, pvalue=0.00043498004192453146)\n",
            "t-test between groups some college and some high school:\n",
            "Ttest_indResult(statistic=2.4117046231407633, pvalue=0.016324361572645503)\n",
            "t-test between groups master's degree and associate's degree:\n",
            "Ttest_indResult(statistic=0.8411229688563471, pvalue=0.4009993636124658)\n",
            "t-test between groups master's degree and high school:\n",
            "Ttest_indResult(statistic=3.4893759321890823, pvalue=0.000570929230228812)\n",
            "t-test between groups master's degree and some high school:\n",
            "Ttest_indResult(statistic=2.6442572081925526, pvalue=0.008736228790471057)\n",
            "t-test between groups associate's degree and high school:\n",
            "Ttest_indResult(statistic=3.9481325318265013, pvalue=9.247314274963044e-05)\n",
            "t-test between groups associate's degree and some high school:\n",
            "Ttest_indResult(statistic=2.820053979930256, pvalue=0.005041081492906143)\n",
            "t-test between groups high school and some high school:\n",
            "Ttest_indResult(statistic=-0.8640629490772553, pvalue=0.388108610360687)\n",
            "------------------------------------------------\n",
            "Comparisons for variable: reading score\n",
            "------------------------------------------------\n",
            "t-test between groups bachelor's degree and some college:\n",
            "Ttest_indResult(statistic=2.2048821209085077, pvalue=0.028127555314401052)\n",
            "t-test between groups bachelor's degree and master's degree:\n",
            "Ttest_indResult(statistic=-1.0540858949475984, pvalue=0.293296751317879)\n",
            "t-test between groups bachelor's degree and associate's degree:\n",
            "Ttest_indResult(statistic=1.2977969850452833, pvalue=0.19524206483091092)\n",
            "t-test between groups bachelor's degree and high school:\n",
            "Ttest_indResult(statistic=5.017577900835298, pvalue=8.804250310784477e-07)\n",
            "t-test between groups bachelor's degree and some high school:\n",
            "Ttest_indResult(statistic=3.4039270673798745, pvalue=0.0007561971719730451)\n",
            "t-test between groups some college and master's degree:\n",
            "Ttest_indResult(statistic=-2.888843374950649, pvalue=0.004165440800640354)\n",
            "t-test between groups some college and associate's degree:\n",
            "Ttest_indResult(statistic=-1.11231882169149, pvalue=0.26660028539980146)\n",
            "t-test between groups some college and high school:\n",
            "Ttest_indResult(statistic=3.4578427683620334, pvalue=0.0006001048481252139)\n",
            "t-test between groups some college and some high school:\n",
            "Ttest_indResult(statistic=1.714161972758909, pvalue=0.08726786856243877)\n",
            "t-test between groups master's degree and associate's degree:\n",
            "Ttest_indResult(statistic=2.1912015759838686, pvalue=0.02926414570972208)\n",
            "t-test between groups master's degree and high school:\n",
            "Ttest_indResult(statistic=5.113158728723477, pvalue=6.257558119816884e-07)\n",
            "t-test between groups master's degree and some high school:\n",
            "Ttest_indResult(statistic=3.7261574122231513, pvalue=0.00024334552617191513)\n",
            "t-test between groups associate's degree and high school:\n",
            "Ttest_indResult(statistic=4.538021419898997, pvalue=7.442167797135797e-06)\n",
            "t-test between groups associate's degree and some high school:\n",
            "Ttest_indResult(statistic=2.7183602204037927, pvalue=0.006846770119677965)\n",
            "t-test between groups high school and some high school:\n",
            "Ttest_indResult(statistic=-1.461284757591555, pvalue=0.1447791955248275)\n",
            "------------------------------------------------\n",
            "Comparisons for variable: writing score\n",
            "------------------------------------------------\n",
            "t-test between groups bachelor's degree and some college:\n",
            "Ttest_indResult(statistic=2.6803314684632196, pvalue=0.00771101202367254)\n",
            "t-test between groups bachelor's degree and master's degree:\n",
            "Ttest_indResult(statistic=-0.9998741306804844, pvalue=0.3187519641464658)\n",
            "t-test between groups bachelor's degree and associate's degree:\n",
            "Ttest_indResult(statistic=2.1159296639133762, pvalue=0.03508162451719667)\n",
            "t-test between groups bachelor's degree and high school:\n",
            "Ttest_indResult(statistic=6.547380937127048, pvalue=2.4076253789515874e-10)\n",
            "t-test between groups bachelor's degree and some high school:\n",
            "Ttest_indResult(statistic=4.667733097498242, pvalue=4.628198526834338e-06)\n",
            "t-test between groups some college and master's degree:\n",
            "Ttest_indResult(statistic=-3.1687690632394907, pvalue=0.0016985933135959495)\n",
            "t-test between groups some college and associate's degree:\n",
            "Ttest_indResult(statistic=-0.7615968643953912, pvalue=0.44670316603036575)\n",
            "t-test between groups some college and high school:\n",
            "Ttest_indResult(statistic=4.488520877492127, pvalue=9.275017802620877e-06)\n",
            "t-test between groups some college and some high school:\n",
            "Ttest_indResult(statistic=2.5757211403792417, pvalue=0.01035852908608136)\n",
            "t-test between groups master's degree and associate's degree:\n",
            "Ttest_indResult(statistic=2.78124154906855, pvalue=0.00578403270525775)\n",
            "t-test between groups master's degree and high school:\n",
            "Ttest_indResult(statistic=6.360904883721531, pvalue=9.326930296880332e-10)\n",
            "t-test between groups master's degree and some high school:\n",
            "Ttest_indResult(statistic=4.707583817143559, pvalue=4.275465153074631e-06)\n",
            "t-test between groups associate's degree and high school:\n",
            "Ttest_indResult(statistic=5.348725635626432, pvalue=1.4650545536741998e-07)\n",
            "t-test between groups associate's degree and some high school:\n",
            "Ttest_indResult(statistic=3.3317223453475715, pvalue=0.0009435990258795855)\n",
            "t-test between groups high school and some high school:\n",
            "Ttest_indResult(statistic=-1.5838885273076473, pvalue=0.11406653932963291)\n"
          ],
          "name": "stdout"
        }
      ]
    },
    {
      "cell_type": "markdown",
      "metadata": {
        "id": "OaoWRCPt61Oy",
        "colab_type": "text"
      },
      "source": [
        "Again, we have some tests with statistical significane and some without. "
      ]
    },
    {
      "cell_type": "markdown",
      "metadata": {
        "id": "yIx3kHix61Oz",
        "colab_type": "text"
      },
      "source": [
        "# 2. Are there any differences between the lunch types with respect to their performances in exams? If there are, how do you explain this?"
      ]
    },
    {
      "cell_type": "code",
      "metadata": {
        "id": "PLhGojZm61Oz",
        "colab_type": "code",
        "colab": {},
        "outputId": "fcd2304f-94ab-4151-aa28-979ab199ec82"
      },
      "source": [
        "#lunch type vs average test scores\n",
        "student_df5 = student_df.groupby('lunch').mean()[['math score', 'reading score', 'writing score']].reset_index()\n",
        "student_df5"
      ],
      "execution_count": 0,
      "outputs": [
        {
          "output_type": "execute_result",
          "data": {
            "text/html": [
              "<div>\n",
              "<style scoped>\n",
              "    .dataframe tbody tr th:only-of-type {\n",
              "        vertical-align: middle;\n",
              "    }\n",
              "\n",
              "    .dataframe tbody tr th {\n",
              "        vertical-align: top;\n",
              "    }\n",
              "\n",
              "    .dataframe thead th {\n",
              "        text-align: right;\n",
              "    }\n",
              "</style>\n",
              "<table border=\"1\" class=\"dataframe\">\n",
              "  <thead>\n",
              "    <tr style=\"text-align: right;\">\n",
              "      <th></th>\n",
              "      <th>lunch</th>\n",
              "      <th>math score</th>\n",
              "      <th>reading score</th>\n",
              "      <th>writing score</th>\n",
              "    </tr>\n",
              "  </thead>\n",
              "  <tbody>\n",
              "    <tr>\n",
              "      <th>0</th>\n",
              "      <td>free/reduced</td>\n",
              "      <td>58.921127</td>\n",
              "      <td>64.653521</td>\n",
              "      <td>63.022535</td>\n",
              "    </tr>\n",
              "    <tr>\n",
              "      <th>1</th>\n",
              "      <td>standard</td>\n",
              "      <td>70.034109</td>\n",
              "      <td>71.654264</td>\n",
              "      <td>70.823256</td>\n",
              "    </tr>\n",
              "  </tbody>\n",
              "</table>\n",
              "</div>"
            ],
            "text/plain": [
              "          lunch  math score  reading score  writing score\n",
              "0  free/reduced   58.921127      64.653521      63.022535\n",
              "1      standard   70.034109      71.654264      70.823256"
            ]
          },
          "metadata": {
            "tags": []
          },
          "execution_count": 29
        }
      ]
    },
    {
      "cell_type": "code",
      "metadata": {
        "id": "zSMGaBt461O2",
        "colab_type": "code",
        "colab": {},
        "outputId": "cc83387a-3ffe-4a17-9a6a-da079902e982"
      },
      "source": [
        "#graph the lunch type vs average test scores\n",
        "\n",
        "student_df6 = student_df5.melt('lunch', var_name='cols', value_name='vals')\n",
        "\n",
        "plt.figure(figsize=(10,5))\n",
        "ax = sns.barplot(x='lunch', y='vals', hue='cols', palette='deep', data=student_df6)\n",
        "ax.set(title='Average Test Scores by Lunch Type', ylabel='Test Score')\n",
        "handles, labels = ax.get_legend_handles_labels()\n",
        "ax.legend(handles=handles[1:], labels=labels[1:])\n",
        "ax.legend(handles=handles[0:], labels=labels[0:])"
      ],
      "execution_count": 0,
      "outputs": [
        {
          "output_type": "execute_result",
          "data": {
            "text/plain": [
              "<matplotlib.legend.Legend at 0x13ac332f908>"
            ]
          },
          "metadata": {
            "tags": []
          },
          "execution_count": 33
        },
        {
          "output_type": "display_data",
          "data": {
            "image/png": "[encoded data removed]",
            "text/plain": [
              "<Figure size 720x360 with 1 Axes>"
            ]
          },
          "metadata": {
            "tags": [],
            "needs_background": "light"
          }
        }
      ]
    },
    {
      "cell_type": "code",
      "metadata": {
        "id": "sT0xnMcE61O5",
        "colab_type": "code",
        "colab": {},
        "outputId": "972fc085-341c-42d5-b670-5e0cdc6de5f7"
      },
      "source": [
        "#run the ttest of lunch type vs average test scores\n",
        "ttest_ind(student_df[student_df.lunch == 'free/reduced'][['math score', 'reading score', 'writing score']],\n",
        "         student_df[student_df.lunch == 'standard'][['math score', 'reading score', 'writing score']])"
      ],
      "execution_count": 0,
      "outputs": [
        {
          "output_type": "execute_result",
          "data": {
            "text/plain": [
              "Ttest_indResult(statistic=array([-11.83718047,  -7.45105647,  -8.0097842 ]), pvalue=array([2.41319560e-30, 2.00279665e-13, 3.18618958e-15]))"
            ]
          },
          "metadata": {
            "tags": []
          },
          "execution_count": 30
        }
      ]
    },
    {
      "cell_type": "markdown",
      "metadata": {
        "id": "JgYCDNNh61O8",
        "colab_type": "text"
      },
      "source": [
        "There is certainly a difference between the lunch types with respect to their performances on the exams. Food is brainpower, the human brain literally feeds off of food, specifically sugars. Without food, or less food, it makes sense that students' scores would suffer."
      ]
    },
    {
      "cell_type": "markdown",
      "metadata": {
        "id": "Gkf0XPSb61O9",
        "colab_type": "text"
      },
      "source": [
        "# 3. Does the test preparation course seem to have an effect on the exam performances?"
      ]
    },
    {
      "cell_type": "code",
      "metadata": {
        "id": "t6h-yR6T61O-",
        "colab_type": "code",
        "colab": {},
        "outputId": "b087fa12-22ab-4f1f-9563-a3fba828c417"
      },
      "source": [
        "#test preparation course vs average test scores\n",
        "student_df7 = student_df.groupby('test preparation course').mean()[['math score', 'reading score', 'writing score']].reset_index()\n",
        "student_df8 = student_df.rename(columns = {'test preparation course':'test_prep'})\n",
        "student_df7"
      ],
      "execution_count": 0,
      "outputs": [
        {
          "output_type": "execute_result",
          "data": {
            "text/html": [
              "<div>\n",
              "<style scoped>\n",
              "    .dataframe tbody tr th:only-of-type {\n",
              "        vertical-align: middle;\n",
              "    }\n",
              "\n",
              "    .dataframe tbody tr th {\n",
              "        vertical-align: top;\n",
              "    }\n",
              "\n",
              "    .dataframe thead th {\n",
              "        text-align: right;\n",
              "    }\n",
              "</style>\n",
              "<table border=\"1\" class=\"dataframe\">\n",
              "  <thead>\n",
              "    <tr style=\"text-align: right;\">\n",
              "      <th></th>\n",
              "      <th>test preparation course</th>\n",
              "      <th>math score</th>\n",
              "      <th>reading score</th>\n",
              "      <th>writing score</th>\n",
              "    </tr>\n",
              "  </thead>\n",
              "  <tbody>\n",
              "    <tr>\n",
              "      <th>0</th>\n",
              "      <td>completed</td>\n",
              "      <td>69.695531</td>\n",
              "      <td>73.893855</td>\n",
              "      <td>74.418994</td>\n",
              "    </tr>\n",
              "    <tr>\n",
              "      <th>1</th>\n",
              "      <td>none</td>\n",
              "      <td>64.077882</td>\n",
              "      <td>66.534268</td>\n",
              "      <td>64.504673</td>\n",
              "    </tr>\n",
              "  </tbody>\n",
              "</table>\n",
              "</div>"
            ],
            "text/plain": [
              "  test preparation course  math score  reading score  writing score\n",
              "0               completed   69.695531      73.893855      74.418994\n",
              "1                    none   64.077882      66.534268      64.504673"
            ]
          },
          "metadata": {
            "tags": []
          },
          "execution_count": 53
        }
      ]
    },
    {
      "cell_type": "code",
      "metadata": {
        "id": "YCSq9Fz761PC",
        "colab_type": "code",
        "colab": {},
        "outputId": "e3008010-692d-478d-eaae-76a049cb4ec1"
      },
      "source": [
        "#graph test preparation course vs average test scores\n",
        "student_df9 = student_df7.melt('test preparation course', var_name='cols', value_name='vals')\n",
        "\n",
        "plt.figure(figsize=(10,5))\n",
        "ax = sns.barplot(x='test preparation course', y='vals', hue='cols', palette='deep', data=student_df9)\n",
        "ax.set(title='Average Test Scores by Test Preparation Course', ylabel='Test Score')\n",
        "handles, labels = ax.get_legend_handles_labels()\n",
        "ax.legend(handles=handles[1:], labels=labels[1:])\n",
        "ax.legend(handles=handles[0:], labels=labels[0:])"
      ],
      "execution_count": 0,
      "outputs": [
        {
          "output_type": "execute_result",
          "data": {
            "text/plain": [
              "<matplotlib.legend.Legend at 0x13ac34a1e48>"
            ]
          },
          "metadata": {
            "tags": []
          },
          "execution_count": 54
        },
        {
          "output_type": "display_data",
          "data": {
            "image/png": "[encoded data removed]",
            "text/plain": [
              "<Figure size 720x360 with 1 Axes>"
            ]
          },
          "metadata": {
            "tags": [],
            "needs_background": "light"
          }
        }
      ]
    },
    {
      "cell_type": "code",
      "metadata": {
        "id": "1xKKpK4W61PH",
        "colab_type": "code",
        "colab": {},
        "outputId": "e88c4517-40a7-432c-b0c3-fcebe2d996f0"
      },
      "source": [
        "#run the ttest\n",
        "ttest_ind(student_df8[student_df8.test_prep == 'completed'][['math score', 'reading score', 'writing score']],\n",
        "         student_df8[student_df8.test_prep == 'none'][['math score', 'reading score', 'writing score']])"
      ],
      "execution_count": 0,
      "outputs": [
        {
          "output_type": "execute_result",
          "data": {
            "text/plain": [
              "Ttest_indResult(statistic=array([ 5.70461642,  7.87166354, 10.40917344]), pvalue=array([1.53591346e-08, 9.08178334e-15, 3.68529174e-24]))"
            ]
          },
          "metadata": {
            "tags": []
          },
          "execution_count": 48
        }
      ]
    },
    {
      "cell_type": "markdown",
      "metadata": {
        "id": "NBvoikXm61PJ",
        "colab_type": "text"
      },
      "source": [
        "Students who take the test prep course seem to do better on their exam scores, as can be seen from the bar chart and statistic significance."
      ]
    },
    {
      "cell_type": "markdown",
      "metadata": {
        "id": "qqtTN0lu61PK",
        "colab_type": "text"
      },
      "source": [
        "# 4. Which 2 exam scores are most correlated with each other?"
      ]
    },
    {
      "cell_type": "code",
      "metadata": {
        "id": "HREI7AlP61PK",
        "colab_type": "code",
        "colab": {},
        "outputId": "0d9be43d-b9c8-4a3f-a616-a2a7ac235370"
      },
      "source": [
        "#run the correlation function for the dataset\n",
        "student_df.corr()"
      ],
      "execution_count": 0,
      "outputs": [
        {
          "output_type": "execute_result",
          "data": {
            "text/html": [
              "<div>\n",
              "<style scoped>\n",
              "    .dataframe tbody tr th:only-of-type {\n",
              "        vertical-align: middle;\n",
              "    }\n",
              "\n",
              "    .dataframe tbody tr th {\n",
              "        vertical-align: top;\n",
              "    }\n",
              "\n",
              "    .dataframe thead th {\n",
              "        text-align: right;\n",
              "    }\n",
              "</style>\n",
              "<table border=\"1\" class=\"dataframe\">\n",
              "  <thead>\n",
              "    <tr style=\"text-align: right;\">\n",
              "      <th></th>\n",
              "      <th>math score</th>\n",
              "      <th>reading score</th>\n",
              "      <th>writing score</th>\n",
              "    </tr>\n",
              "  </thead>\n",
              "  <tbody>\n",
              "    <tr>\n",
              "      <th>math score</th>\n",
              "      <td>1.000000</td>\n",
              "      <td>0.817580</td>\n",
              "      <td>0.802642</td>\n",
              "    </tr>\n",
              "    <tr>\n",
              "      <th>reading score</th>\n",
              "      <td>0.817580</td>\n",
              "      <td>1.000000</td>\n",
              "      <td>0.954598</td>\n",
              "    </tr>\n",
              "    <tr>\n",
              "      <th>writing score</th>\n",
              "      <td>0.802642</td>\n",
              "      <td>0.954598</td>\n",
              "      <td>1.000000</td>\n",
              "    </tr>\n",
              "  </tbody>\n",
              "</table>\n",
              "</div>"
            ],
            "text/plain": [
              "               math score  reading score  writing score\n",
              "math score       1.000000       0.817580       0.802642\n",
              "reading score    0.817580       1.000000       0.954598\n",
              "writing score    0.802642       0.954598       1.000000"
            ]
          },
          "metadata": {
            "tags": []
          },
          "execution_count": 55
        }
      ]
    },
    {
      "cell_type": "markdown",
      "metadata": {
        "id": "zDkWmjpu61PN",
        "colab_type": "text"
      },
      "source": [
        "Reading and writing scores are more correlated than any other combination."
      ]
    }
  ]
}