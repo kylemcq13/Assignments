{
 "cells": [
  {
   "cell_type": "markdown",
   "metadata": {},
   "source": [
    "# 18.7 - Overfitting and Regularization"
   ]
  },
  {
   "cell_type": "markdown",
   "metadata": {},
   "source": [
    "* Load the **houseprices** data from Thinkful's database.\n",
    "* Reimplement your model from the previous checkpoint.\n",
    "* Try OLS, Lasso, Ridge, and ElasticNet regression using the same model specification. This time, you need to do **k-fold cross-validation** to choose the best hyperparameter values for your models. Scikit-learn has RidgeCV, LassoCV, and ElasticNetCV that you can utilize to do this. Which model is the best? Why?"
   ]
  },
  {
   "cell_type": "code",
   "execution_count": 8,
   "metadata": {},
   "outputs": [],
   "source": [
    "import numpy as np\n",
    "import pandas as pd\n",
    "import matplotlib.pyplot as plt\n",
    "from sqlalchemy import create_engine\n",
    "from sklearn.model_selection import train_test_split, cross_val_score\n",
    "from sklearn.metrics import mean_absolute_error\n",
    "from statsmodels.tools.eval_measures import mse, rmse\n",
    "from sklearn.linear_model import LinearRegression, LassoCV, RidgeCV, ElasticNetCV\n",
    "import statsmodels.api as sm\n",
    "\n",
    "import warnings\n",
    "warnings.filterwarnings('ignore')\n",
    "\n",
    "postgres_user = 'dsbc_student'\n",
    "postgres_pw = '7*.8G9QH21'\n",
    "postgres_host = '142.93.121.174'\n",
    "postgres_port = '5432'\n",
    "postgres_db = 'houseprices'"
   ]
  },
  {
   "cell_type": "code",
   "execution_count": 9,
   "metadata": {},
   "outputs": [],
   "source": [
    "engine = create_engine('postgresql://{}:{}@{}:{}/{}'.format(\n",
    "    postgres_user, postgres_pw, postgres_host, postgres_port, postgres_db))\n",
    "houses_df = pd.read_sql_query('select * from houseprices',con=engine)\n",
    "\n",
    "engine.dispose()"
   ]
  },
  {
   "cell_type": "code",
   "execution_count": 10,
   "metadata": {},
   "outputs": [],
   "source": [
    "houses_df = pd.concat([houses_df,pd.get_dummies(houses_df.mszoning, prefix=\"mszoning\", drop_first=True)], axis=1)\n",
    "houses_df = pd.concat([houses_df,pd.get_dummies(houses_df.street, prefix=\"street\", drop_first=True)], axis=1)\n",
    "houses_df = pd.concat([houses_df,pd.get_dummies(houses_df.street, prefix=\"kitchenqual\", drop_first=True)], axis=1)\n",
    "\n",
    "cat_column_names = list(pd.get_dummies(houses_df.mszoning, prefix=\"mszoning\", drop_first=True).columns)\n",
    "cat_column_names = cat_column_names + list(pd.get_dummies(houses_df.street, prefix=\"street\", drop_first=True).columns)\n",
    "cat_column_names2 = cat_column_names + list(pd.get_dummies(houses_df.street, prefix=\"kitchenqual\", drop_first=True).columns)"
   ]
  },
  {
   "cell_type": "code",
   "execution_count": 11,
   "metadata": {},
   "outputs": [
    {
     "data": {
      "text/html": [
       "<table class=\"simpletable\">\n",
       "<caption>OLS Regression Results</caption>\n",
       "<tr>\n",
       "  <th>Dep. Variable:</th>        <td>saleprice</td>    <th>  R-squared:         </th> <td>   0.831</td>\n",
       "</tr>\n",
       "<tr>\n",
       "  <th>Model:</th>                   <td>OLS</td>       <th>  Adj. R-squared:    </th> <td>   0.830</td>\n",
       "</tr>\n",
       "<tr>\n",
       "  <th>Method:</th>             <td>Least Squares</td>  <th>  F-statistic:       </th> <td>   517.9</td>\n",
       "</tr>\n",
       "<tr>\n",
       "  <th>Date:</th>             <td>Wed, 13 Nov 2019</td> <th>  Prob (F-statistic):</th>  <td>  0.00</td> \n",
       "</tr>\n",
       "<tr>\n",
       "  <th>Time:</th>                 <td>13:03:04</td>     <th>  Log-Likelihood:    </th> <td>  461.17</td>\n",
       "</tr>\n",
       "<tr>\n",
       "  <th>No. Observations:</th>      <td>  1168</td>      <th>  AIC:               </th> <td>  -898.3</td>\n",
       "</tr>\n",
       "<tr>\n",
       "  <th>Df Residuals:</th>          <td>  1156</td>      <th>  BIC:               </th> <td>  -837.6</td>\n",
       "</tr>\n",
       "<tr>\n",
       "  <th>Df Model:</th>              <td>    11</td>      <th>                     </th>     <td> </td>   \n",
       "</tr>\n",
       "<tr>\n",
       "  <th>Covariance Type:</th>      <td>nonrobust</td>    <th>                     </th>     <td> </td>   \n",
       "</tr>\n",
       "</table>\n",
       "<table class=\"simpletable\">\n",
       "<tr>\n",
       "          <td></td>            <th>coef</th>     <th>std err</th>      <th>t</th>      <th>P>|t|</th>  <th>[0.025</th>    <th>0.975]</th>  \n",
       "</tr>\n",
       "<tr>\n",
       "  <th>const</th>            <td>    9.9990</td> <td>    0.098</td> <td>  102.358</td> <td> 0.000</td> <td>    9.807</td> <td>   10.191</td>\n",
       "</tr>\n",
       "<tr>\n",
       "  <th>overallqual</th>      <td>    0.1727</td> <td>    0.008</td> <td>   21.682</td> <td> 0.000</td> <td>    0.157</td> <td>    0.188</td>\n",
       "</tr>\n",
       "<tr>\n",
       "  <th>grlivarea</th>        <td>    0.0002</td> <td> 1.19e-05</td> <td>   17.786</td> <td> 0.000</td> <td>    0.000</td> <td>    0.000</td>\n",
       "</tr>\n",
       "<tr>\n",
       "  <th>garagecars</th>       <td>    0.0841</td> <td>    0.015</td> <td>    5.672</td> <td> 0.000</td> <td>    0.055</td> <td>    0.113</td>\n",
       "</tr>\n",
       "<tr>\n",
       "  <th>garagearea</th>       <td> 9.612e-05</td> <td> 5.04e-05</td> <td>    1.908</td> <td> 0.057</td> <td>-2.71e-06</td> <td>    0.000</td>\n",
       "</tr>\n",
       "<tr>\n",
       "  <th>totalbsmtsf</th>      <td>    0.0004</td> <td> 4.06e-05</td> <td>   10.262</td> <td> 0.000</td> <td>    0.000</td> <td>    0.000</td>\n",
       "</tr>\n",
       "<tr>\n",
       "  <th>int_term</th>         <td>-4.622e-05</td> <td> 5.56e-06</td> <td>   -8.310</td> <td> 0.000</td> <td>-5.71e-05</td> <td>-3.53e-05</td>\n",
       "</tr>\n",
       "<tr>\n",
       "  <th>mszoning_FV</th>      <td>    0.4105</td> <td>    0.065</td> <td>    6.350</td> <td> 0.000</td> <td>    0.284</td> <td>    0.537</td>\n",
       "</tr>\n",
       "<tr>\n",
       "  <th>mszoning_RH</th>      <td>    0.2906</td> <td>    0.074</td> <td>    3.938</td> <td> 0.000</td> <td>    0.146</td> <td>    0.435</td>\n",
       "</tr>\n",
       "<tr>\n",
       "  <th>mszoning_RL</th>      <td>    0.4060</td> <td>    0.060</td> <td>    6.780</td> <td> 0.000</td> <td>    0.289</td> <td>    0.524</td>\n",
       "</tr>\n",
       "<tr>\n",
       "  <th>mszoning_RM</th>      <td>    0.2318</td> <td>    0.061</td> <td>    3.818</td> <td> 0.000</td> <td>    0.113</td> <td>    0.351</td>\n",
       "</tr>\n",
       "<tr>\n",
       "  <th>street_Pave</th>      <td>   -0.0235</td> <td>    0.037</td> <td>   -0.628</td> <td> 0.530</td> <td>   -0.097</td> <td>    0.050</td>\n",
       "</tr>\n",
       "<tr>\n",
       "  <th>kitchenqual_Pave</th> <td>   -0.0235</td> <td>    0.037</td> <td>   -0.628</td> <td> 0.530</td> <td>   -0.097</td> <td>    0.050</td>\n",
       "</tr>\n",
       "</table>\n",
       "<table class=\"simpletable\">\n",
       "<tr>\n",
       "  <th>Omnibus:</th>       <td>356.207</td> <th>  Durbin-Watson:     </th> <td>   1.878</td>\n",
       "</tr>\n",
       "<tr>\n",
       "  <th>Prob(Omnibus):</th> <td> 0.000</td>  <th>  Jarque-Bera (JB):  </th> <td>2810.085</td>\n",
       "</tr>\n",
       "<tr>\n",
       "  <th>Skew:</th>          <td>-1.183</td>  <th>  Prob(JB):          </th> <td>    0.00</td>\n",
       "</tr>\n",
       "<tr>\n",
       "  <th>Kurtosis:</th>      <td>10.221</td>  <th>  Cond. No.          </th> <td>2.24e+21</td>\n",
       "</tr>\n",
       "</table><br/><br/>Warnings:<br/>[1] Standard Errors assume that the covariance matrix of the errors is correctly specified.<br/>[2] The smallest eigenvalue is 1.56e-32. This might indicate that there are<br/>strong multicollinearity problems or that the design matrix is singular."
      ],
      "text/plain": [
       "<class 'statsmodels.iolib.summary.Summary'>\n",
       "\"\"\"\n",
       "                            OLS Regression Results                            \n",
       "==============================================================================\n",
       "Dep. Variable:              saleprice   R-squared:                       0.831\n",
       "Model:                            OLS   Adj. R-squared:                  0.830\n",
       "Method:                 Least Squares   F-statistic:                     517.9\n",
       "Date:                Wed, 13 Nov 2019   Prob (F-statistic):               0.00\n",
       "Time:                        13:03:04   Log-Likelihood:                 461.17\n",
       "No. Observations:                1168   AIC:                            -898.3\n",
       "Df Residuals:                    1156   BIC:                            -837.6\n",
       "Df Model:                          11                                         \n",
       "Covariance Type:            nonrobust                                         \n",
       "====================================================================================\n",
       "                       coef    std err          t      P>|t|      [0.025      0.975]\n",
       "------------------------------------------------------------------------------------\n",
       "const                9.9990      0.098    102.358      0.000       9.807      10.191\n",
       "overallqual          0.1727      0.008     21.682      0.000       0.157       0.188\n",
       "grlivarea            0.0002   1.19e-05     17.786      0.000       0.000       0.000\n",
       "garagecars           0.0841      0.015      5.672      0.000       0.055       0.113\n",
       "garagearea        9.612e-05   5.04e-05      1.908      0.057   -2.71e-06       0.000\n",
       "totalbsmtsf          0.0004   4.06e-05     10.262      0.000       0.000       0.000\n",
       "int_term         -4.622e-05   5.56e-06     -8.310      0.000   -5.71e-05   -3.53e-05\n",
       "mszoning_FV          0.4105      0.065      6.350      0.000       0.284       0.537\n",
       "mszoning_RH          0.2906      0.074      3.938      0.000       0.146       0.435\n",
       "mszoning_RL          0.4060      0.060      6.780      0.000       0.289       0.524\n",
       "mszoning_RM          0.2318      0.061      3.818      0.000       0.113       0.351\n",
       "street_Pave         -0.0235      0.037     -0.628      0.530      -0.097       0.050\n",
       "kitchenqual_Pave    -0.0235      0.037     -0.628      0.530      -0.097       0.050\n",
       "==============================================================================\n",
       "Omnibus:                      356.207   Durbin-Watson:                   1.878\n",
       "Prob(Omnibus):                  0.000   Jarque-Bera (JB):             2810.085\n",
       "Skew:                          -1.183   Prob(JB):                         0.00\n",
       "Kurtosis:                      10.221   Cond. No.                     2.24e+21\n",
       "==============================================================================\n",
       "\n",
       "Warnings:\n",
       "[1] Standard Errors assume that the covariance matrix of the errors is correctly specified.\n",
       "[2] The smallest eigenvalue is 1.56e-32. This might indicate that there are\n",
       "strong multicollinearity problems or that the design matrix is singular.\n",
       "\"\"\""
      ]
     },
     "execution_count": 11,
     "metadata": {},
     "output_type": "execute_result"
    }
   ],
   "source": [
    "# create interaction term\n",
    "houses_df['int_term'] = houses_df['overallqual'] * houses_df['totalbsmtsf']\n",
    "\n",
    "# Y is the target variable\n",
    "Y = np.log1p(houses_df['saleprice'])\n",
    "# X is the feature set which includes\n",
    "X = houses_df[['overallqual', 'grlivarea', 'garagecars', 'garagearea', 'totalbsmtsf', 'int_term']  + cat_column_names2]\n",
    "\n",
    "X = sm.add_constant(X)\n",
    "\n",
    "X_train, X_test, y_train, y_test = train_test_split(X, Y, test_size = 0.2, random_state = 465)\n",
    "\n",
    "results = sm.OLS(y_train, X_train).fit()\n",
    "\n",
    "results.summary()"
   ]
  },
  {
   "cell_type": "code",
   "execution_count": 12,
   "metadata": {},
   "outputs": [
    {
     "name": "stdout",
     "output_type": "stream",
     "text": [
      "R-squared of the model in training set is: 0.8313186827438339\n",
      "-----Test set statistics-----\n",
      "R-squared of the model in test set is: 0.829949415218692\n",
      "Mean absolute error of the prediction is: 0.12334422039102903\n",
      "Mean squared error of the prediction is: 0.02835519509105203\n",
      "Root mean squared error of the prediction is: 0.16839000888132297\n",
      "Mean absolute percentage error of the prediction is: 1.0303957002998065\n"
     ]
    }
   ],
   "source": [
    "lrm = LinearRegression()\n",
    "\n",
    "lrm.fit(X_train, y_train)\n",
    "\n",
    "# We are making predictions here\n",
    "y_preds_train = lrm.predict(X_train)\n",
    "y_preds_test = lrm.predict(X_test)\n",
    "\n",
    "print(\"R-squared of the model in training set is: {}\".format(lrm.score(X_train, y_train)))\n",
    "print(\"-----Test set statistics-----\")\n",
    "print(\"R-squared of the model in test set is: {}\".format(lrm.score(X_test, y_test)))\n",
    "print(\"Mean absolute error of the prediction is: {}\".format(mean_absolute_error(y_test, y_preds_test)))\n",
    "print(\"Mean squared error of the prediction is: {}\".format(mse(y_test, y_preds_test)))\n",
    "print(\"Root mean squared error of the prediction is: {}\".format(rmse(y_test, y_preds_test)))\n",
    "print(\"Mean absolute percentage error of the prediction is: {}\".format(np.mean(np.abs((y_test - y_preds_test) / y_test)) * 100))"
   ]
  },
  {
   "cell_type": "code",
   "execution_count": 13,
   "metadata": {},
   "outputs": [
    {
     "data": {
      "text/plain": [
       "array([0.83662294, 0.86691217, 0.84618998, 0.796952  , 0.81784156,\n",
       "       0.8501804 , 0.85966703, 0.83665493, 0.62721508, 0.82338322])"
      ]
     },
     "execution_count": 13,
     "metadata": {},
     "output_type": "execute_result"
    }
   ],
   "source": [
    "lrm = LinearRegression()\n",
    "y_pred = lrm.fit(X, Y).predict(X)\n",
    "\n",
    "from sklearn.model_selection import cross_val_score\n",
    "cross_val_score(lrm, X, Y, cv=10)"
   ]
  },
  {
   "cell_type": "code",
   "execution_count": 14,
   "metadata": {},
   "outputs": [],
   "source": [
    "#choose the range in which our CV models scan for alpha\n",
    "#how is this range determined?\n",
    "\n",
    "alpha = [np.power(10.0,p) for p in np.arange(-5,10,1)]"
   ]
  },
  {
   "cell_type": "code",
   "execution_count": 16,
   "metadata": {},
   "outputs": [
    {
     "name": "stdout",
     "output_type": "stream",
     "text": [
      "Best alpha value is: 0.0001\n",
      "R-squared of the model in training set is: 0.8311261667899961\n",
      "-----Test set statistics-----\n",
      "R-squared of the model in test set is: 0.8277677487203086\n",
      "Mean absolute error of the prediction is: 0.12383843115794951\n",
      "Mean squared error of the prediction is: 0.028718978486827074\n",
      "Root mean squared error of the prediction is: 0.1694667474368558\n",
      "Mean absolute percentage error of the prediction is: 1.0348885851180014\n"
     ]
    }
   ],
   "source": [
    "lasso_cv = LassoCV(alphas=alpha, cv=10)\n",
    "\n",
    "lasso_cv.fit(X_train, y_train)\n",
    "\n",
    "# We are making predictions here\n",
    "y_preds_train = lasso_cv.predict(X_train)\n",
    "y_preds_test = lasso_cv.predict(X_test)\n",
    "\n",
    "print(\"Best alpha value is: {}\".format(lasso_cv.alpha_))\n",
    "print(\"R-squared of the model in training set is: {}\".format(lasso_cv.score(X_train, y_train)))\n",
    "print(\"-----Test set statistics-----\")\n",
    "print(\"R-squared of the model in test set is: {}\".format(lasso_cv.score(X_test, y_test)))\n",
    "print(\"Mean absolute error of the prediction is: {}\".format(mean_absolute_error(y_test, y_preds_test)))\n",
    "print(\"Mean squared error of the prediction is: {}\".format(mse(y_test, y_preds_test)))\n",
    "print(\"Root mean squared error of the prediction is: {}\".format(rmse(y_test, y_preds_test)))\n",
    "print(\"Mean absolute percentage error of the prediction is: {}\".format(np.mean(np.abs((y_test - y_preds_test) / y_test)) * 100))"
   ]
  },
  {
   "cell_type": "code",
   "execution_count": 24,
   "metadata": {},
   "outputs": [
    {
     "name": "stdout",
     "output_type": "stream",
     "text": [
      "Best alpha value is: 1.0\n",
      "R-squared of the model in training set is: 0.8311132374013046\n",
      "-----Test set statistics-----\n",
      "R-squared of the model in test set is: 0.8271453692807561\n",
      "Mean absolute error of the prediction is: 0.12397217385936399\n",
      "Mean squared error of the prediction is: 0.028822757550285554\n",
      "Root mean squared error of the prediction is: 0.16977266431992388\n",
      "Mean absolute percentage error of the prediction is: 1.0360989833436018\n"
     ]
    }
   ],
   "source": [
    "ridge_cv = RidgeCV(alphas=alpha, cv=5)\n",
    "\n",
    "ridge_cv.fit(X_train, y_train)\n",
    "\n",
    "# We are making predictions here\n",
    "y_preds_train = ridge_cv.predict(X_train)\n",
    "y_preds_test = ridge_cv.predict(X_test)\n",
    "\n",
    "print(\"Best alpha value is: {}\".format(ridge_cv.alpha_))\n",
    "print(\"R-squared of the model in training set is: {}\".format(ridge_cv.score(X_train, y_train)))\n",
    "print(\"-----Test set statistics-----\")\n",
    "print(\"R-squared of the model in test set is: {}\".format(ridge_cv.score(X_test, y_test)))\n",
    "print(\"Mean absolute error of the prediction is: {}\".format(mean_absolute_error(y_test, y_preds_test)))\n",
    "print(\"Mean squared error of the prediction is: {}\".format(mse(y_test, y_preds_test)))\n",
    "print(\"Root mean squared error of the prediction is: {}\".format(rmse(y_test, y_preds_test)))\n",
    "print(\"Mean absolute percentage error of the prediction is: {}\".format(np.mean(np.abs((y_test - y_preds_test) / y_test)) * 100))"
   ]
  },
  {
   "cell_type": "code",
   "execution_count": 25,
   "metadata": {},
   "outputs": [
    {
     "name": "stdout",
     "output_type": "stream",
     "text": [
      "Best alpha value is: 0.0001\n",
      "R-squared of the model in training set is: 0.831260924106127\n",
      "-----Test set statistics-----\n",
      "R-squared of the model in test set is: 0.8287539757640325\n",
      "Mean absolute error of the prediction is: 0.12362133561119794\n",
      "Mean squared error of the prediction is: 0.028554529418540545\n",
      "Root mean squared error of the prediction is: 0.1689808551834809\n",
      "Mean absolute percentage error of the prediction is: 1.0329145335827639\n"
     ]
    }
   ],
   "source": [
    "elasticnet_cv = ElasticNetCV(alphas=alpha, cv=5)\n",
    "\n",
    "elasticnet_cv.fit(X_train, y_train)\n",
    "\n",
    "# We are making predictions here\n",
    "y_preds_train = elasticnet_cv.predict(X_train)\n",
    "y_preds_test = elasticnet_cv.predict(X_test)\n",
    "\n",
    "print(\"Best alpha value is: {}\".format(elasticnet_cv.alpha_))\n",
    "print(\"R-squared of the model in training set is: {}\".format(elasticnet_cv.score(X_train, y_train)))\n",
    "print(\"-----Test set statistics-----\")\n",
    "print(\"R-squared of the model in test set is: {}\".format(elasticnet_cv.score(X_test, y_test)))\n",
    "print(\"Mean absolute error of the prediction is: {}\".format(mean_absolute_error(y_test, y_preds_test)))\n",
    "print(\"Mean squared error of the prediction is: {}\".format(mse(y_test, y_preds_test)))\n",
    "print(\"Root mean squared error of the prediction is: {}\".format(rmse(y_test, y_preds_test)))\n",
    "print(\"Mean absolute percentage error of the prediction is: {}\".format(np.mean(np.abs((y_test - y_preds_test) / y_test)) * 100))"
   ]
  },
  {
   "cell_type": "code",
   "execution_count": null,
   "metadata": {},
   "outputs": [],
   "source": []
  }
 ],
 "metadata": {
  "kernelspec": {
   "display_name": "Python 3",
   "language": "python",
   "name": "python3"
  },
  "language_info": {
   "codemirror_mode": {
    "name": "ipython",
    "version": 3
   },
   "file_extension": ".py",
   "mimetype": "text/x-python",
   "name": "python",
   "nbconvert_exporter": "python",
   "pygments_lexer": "ipython3",
   "version": "3.7.1"
  }
 },
 "nbformat": 4,
 "nbformat_minor": 2
}
