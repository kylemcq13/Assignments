{
  "nbformat": 4,
  "nbformat_minor": 0,
  "metadata": {
    "kernelspec": {
      "display_name": "Python 3",
      "language": "python",
      "name": "python3"
    },
    "language_info": {
      "codemirror_mode": {
        "name": "ipython",
        "version": 3
      },
      "file_extension": ".py",
      "mimetype": "text/x-python",
      "name": "python",
      "nbconvert_exporter": "python",
      "pygments_lexer": "ipython3",
      "version": "3.7.1"
    },
    "colab": {
      "name": "18.1 Regression Models.ipynb",
      "provenance": [],
      "include_colab_link": true
    }
  },
  "cells": [
    {
      "cell_type": "markdown",
      "metadata": {
        "id": "view-in-github",
        "colab_type": "text"
      },
      "source": [
        "<a href=\"https://colab.research.google.com/github/kylemcq13/Projects/blob/master/18_1_Regression_Models.ipynb\" target=\"_parent\"><img src=\"https://colab.research.google.com/assets/colab-badge.svg\" alt=\"Open In Colab\"/></a>"
      ]
    },
    {
      "cell_type": "markdown",
      "metadata": {
        "id": "I2XKdIyYJJNt",
        "colab_type": "text"
      },
      "source": [
        "# 18.1 Regression Models"
      ]
    },
    {
      "cell_type": "markdown",
      "metadata": {
        "id": "vETvv8ZcJJNx",
        "colab_type": "text"
      },
      "source": [
        "1. Let's assume that you have World Bank data on financial, economic and social indicators for several countries. You want to measure the factors that affect the level of development in these countries. To this end, you decide to use per capita income as a proxy for the development level, which is defined as the national income divided by the population. You want to use some features in your dataset to predict per capita income. Is this task a classification or a regression task? Why? \n",
        "2. Which of the following arguments are false and why?\n",
        "  * OLS is a special type of linear regression models \n",
        "  * Regression models become useless if they don’t meet the assumptions of linear regression. \n",
        "  * Estimation and prediction are the same thing in the context of linear regression models.\n",
        "  * Linear regression is only one kind of regression model. Regression problems can also be solved with other kind of models like Support Vector Machines or Random Forests.\n",
        "3. Assume that your project manager wants you to discover which free services your company offers make your customers buy more of your paid services. Formulate this task as a regression problem and write down the potential outcome and features that you’d like to work on."
      ]
    },
    {
      "cell_type": "markdown",
      "metadata": {
        "id": "ypRKtfc-JJNy",
        "colab_type": "text"
      },
      "source": [
        "1. Regression because per capita income is a continuous variable. "
      ]
    },
    {
      "cell_type": "markdown",
      "metadata": {
        "id": "vhp1fT_BJJN0",
        "colab_type": "text"
      },
      "source": [
        "2.  * OLS is a special type of linear regression models - False, OLS is a simple alorithm, not a model.\n",
        "  * Regression models become useless if they don’t meet the assumptions of linear regression. - False, models can be fixed if they don't meet linear regression parameters.\n",
        "  * Estimation and prediction are the same thing in the context of linear regression models. - False, predictions are the outcome values for the observations that have not been previously observed. Estimation is the process of determining the coefficients of the features in the training phase.\n",
        "  * Linear regression is only one kind of regression model. Regression problems can also be solved with other kind of models like Support Vector Machines or Random Forests. This is True."
      ]
    },
    {
      "cell_type": "markdown",
      "metadata": {
        "id": "j4zzx1pMJJN1",
        "colab_type": "text"
      },
      "source": [
        "3. Our target variable would be total expenditure of customers and our features would be the various free services the company offers. In its simplest form our model could be expressed as below:\n",
        "\n",
        "$$ y = \\alpha + \\beta x + \\theta z $$\n",
        "\n",
        "$$ customer expenditure = \\alpha + \\beta * free service 1 + \\theta * free service 2 $$\n",
        "\n"
      ]
    },
    {
      "cell_type": "code",
      "metadata": {
        "id": "gzh2FX8ZJJN3",
        "colab_type": "code",
        "colab": {}
      },
      "source": [
        ""
      ],
      "execution_count": 0,
      "outputs": []
    }
  ]
}