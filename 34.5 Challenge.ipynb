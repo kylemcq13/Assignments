{
 "cells": [
  {
   "cell_type": "markdown",
   "metadata": {},
   "source": [
    "Using selected questions from the 2012 and 2014 editions of the European Social Survey, address the following questions. Keep track of your code and results in a Jupyter notebook or other source that you can share with your mentor. For each question, explain why you chose the approach you did.\n",
    "\n",
    "Here is the data file. And here is the codebook, with information about the variable coding and content.\n",
    "\n",
    "In this dataset, the same participants answered questions in 2012 and again 2014.\n",
    "\n",
    "- Did people become less trusting from 2012 to 2014? Compute results for each country in the sample.\n",
    "- Did people become happier from 2012 to 2014? Compute results for each country in the sample.\n",
    "- Who reported watching more TV in 2012, men or women?\n",
    "- Who was more likely to believe people were fair in 2012, people living with a partner or people living alone?\n",
    "- Pick three or four of the countries in the sample and compare how often people met socially in 2014. Are there differences, and if so, which countries stand out?\n",
    "- Pick three or four of the countries in the sample and compare how often people took part in social activities, relative to others their age, in 2014. Are there differences, and if so, which countries stand out?"
   ]
  },
  {
   "cell_type": "code",
   "execution_count": 50,
   "metadata": {},
   "outputs": [],
   "source": [
    "import pandas as pd\n",
    "import numpy as np\n",
    "import matplotlib.pyplot as plt\n",
    "import seaborn as sns\n",
    "import scipy.stats as stats\n",
    "from scipy.stats import kruskal\n",
    "from statsmodels.stats.multicomp import pairwise_tukeyhsd\n",
    "%matplotlib inline"
   ]
  },
  {
   "cell_type": "code",
   "execution_count": 2,
   "metadata": {},
   "outputs": [],
   "source": [
    "df = pd.read_csv(r'https://raw.githubusercontent.com/Thinkful-Ed/data-201-resources/master/ESS_practice_data/ESSdata_Thinkful.csv')"
   ]
  },
  {
   "cell_type": "code",
   "execution_count": 3,
   "metadata": {},
   "outputs": [
    {
     "data": {
      "text/html": [
       "<div>\n",
       "<style scoped>\n",
       "    .dataframe tbody tr th:only-of-type {\n",
       "        vertical-align: middle;\n",
       "    }\n",
       "\n",
       "    .dataframe tbody tr th {\n",
       "        vertical-align: top;\n",
       "    }\n",
       "\n",
       "    .dataframe thead th {\n",
       "        text-align: right;\n",
       "    }\n",
       "</style>\n",
       "<table border=\"1\" class=\"dataframe\">\n",
       "  <thead>\n",
       "    <tr style=\"text-align: right;\">\n",
       "      <th></th>\n",
       "      <th>cntry</th>\n",
       "      <th>idno</th>\n",
       "      <th>year</th>\n",
       "      <th>tvtot</th>\n",
       "      <th>ppltrst</th>\n",
       "      <th>pplfair</th>\n",
       "      <th>pplhlp</th>\n",
       "      <th>happy</th>\n",
       "      <th>sclmeet</th>\n",
       "      <th>sclact</th>\n",
       "      <th>gndr</th>\n",
       "      <th>agea</th>\n",
       "      <th>partner</th>\n",
       "    </tr>\n",
       "  </thead>\n",
       "  <tbody>\n",
       "    <tr>\n",
       "      <th>0</th>\n",
       "      <td>CH</td>\n",
       "      <td>5.0</td>\n",
       "      <td>6</td>\n",
       "      <td>3.0</td>\n",
       "      <td>3.0</td>\n",
       "      <td>10.0</td>\n",
       "      <td>5.0</td>\n",
       "      <td>8.0</td>\n",
       "      <td>5.0</td>\n",
       "      <td>4.0</td>\n",
       "      <td>2.0</td>\n",
       "      <td>60.0</td>\n",
       "      <td>1.0</td>\n",
       "    </tr>\n",
       "    <tr>\n",
       "      <th>1</th>\n",
       "      <td>CH</td>\n",
       "      <td>25.0</td>\n",
       "      <td>6</td>\n",
       "      <td>6.0</td>\n",
       "      <td>5.0</td>\n",
       "      <td>7.0</td>\n",
       "      <td>5.0</td>\n",
       "      <td>9.0</td>\n",
       "      <td>3.0</td>\n",
       "      <td>2.0</td>\n",
       "      <td>2.0</td>\n",
       "      <td>59.0</td>\n",
       "      <td>1.0</td>\n",
       "    </tr>\n",
       "    <tr>\n",
       "      <th>2</th>\n",
       "      <td>CH</td>\n",
       "      <td>26.0</td>\n",
       "      <td>6</td>\n",
       "      <td>1.0</td>\n",
       "      <td>8.0</td>\n",
       "      <td>8.0</td>\n",
       "      <td>8.0</td>\n",
       "      <td>7.0</td>\n",
       "      <td>6.0</td>\n",
       "      <td>3.0</td>\n",
       "      <td>1.0</td>\n",
       "      <td>24.0</td>\n",
       "      <td>2.0</td>\n",
       "    </tr>\n",
       "    <tr>\n",
       "      <th>3</th>\n",
       "      <td>CH</td>\n",
       "      <td>28.0</td>\n",
       "      <td>6</td>\n",
       "      <td>4.0</td>\n",
       "      <td>6.0</td>\n",
       "      <td>6.0</td>\n",
       "      <td>7.0</td>\n",
       "      <td>10.0</td>\n",
       "      <td>6.0</td>\n",
       "      <td>2.0</td>\n",
       "      <td>2.0</td>\n",
       "      <td>64.0</td>\n",
       "      <td>1.0</td>\n",
       "    </tr>\n",
       "    <tr>\n",
       "      <th>4</th>\n",
       "      <td>CH</td>\n",
       "      <td>29.0</td>\n",
       "      <td>6</td>\n",
       "      <td>5.0</td>\n",
       "      <td>6.0</td>\n",
       "      <td>7.0</td>\n",
       "      <td>5.0</td>\n",
       "      <td>8.0</td>\n",
       "      <td>7.0</td>\n",
       "      <td>2.0</td>\n",
       "      <td>2.0</td>\n",
       "      <td>55.0</td>\n",
       "      <td>1.0</td>\n",
       "    </tr>\n",
       "  </tbody>\n",
       "</table>\n",
       "</div>"
      ],
      "text/plain": [
       "  cntry  idno  year  tvtot  ppltrst  pplfair  pplhlp  happy  sclmeet  sclact  \\\n",
       "0    CH   5.0     6    3.0      3.0     10.0     5.0    8.0      5.0     4.0   \n",
       "1    CH  25.0     6    6.0      5.0      7.0     5.0    9.0      3.0     2.0   \n",
       "2    CH  26.0     6    1.0      8.0      8.0     8.0    7.0      6.0     3.0   \n",
       "3    CH  28.0     6    4.0      6.0      6.0     7.0   10.0      6.0     2.0   \n",
       "4    CH  29.0     6    5.0      6.0      7.0     5.0    8.0      7.0     2.0   \n",
       "\n",
       "   gndr  agea  partner  \n",
       "0   2.0  60.0      1.0  \n",
       "1   2.0  59.0      1.0  \n",
       "2   1.0  24.0      2.0  \n",
       "3   2.0  64.0      1.0  \n",
       "4   2.0  55.0      1.0  "
      ]
     },
     "execution_count": 3,
     "metadata": {},
     "output_type": "execute_result"
    }
   ],
   "source": [
    "df.head()"
   ]
  },
  {
   "cell_type": "code",
   "execution_count": 4,
   "metadata": {},
   "outputs": [
    {
     "name": "stdout",
     "output_type": "stream",
     "text": [
      "<class 'pandas.core.frame.DataFrame'>\n",
      "RangeIndex: 8594 entries, 0 to 8593\n",
      "Data columns (total 13 columns):\n",
      "cntry      8594 non-null object\n",
      "idno       8594 non-null float64\n",
      "year       8594 non-null int64\n",
      "tvtot      8586 non-null float64\n",
      "ppltrst    8580 non-null float64\n",
      "pplfair    8555 non-null float64\n",
      "pplhlp     8569 non-null float64\n",
      "happy      8563 non-null float64\n",
      "sclmeet    8579 non-null float64\n",
      "sclact     8500 non-null float64\n",
      "gndr       8584 non-null float64\n",
      "agea       8355 non-null float64\n",
      "partner    8577 non-null float64\n",
      "dtypes: float64(11), int64(1), object(1)\n",
      "memory usage: 872.9+ KB\n"
     ]
    }
   ],
   "source": [
    "df.info()"
   ]
  },
  {
   "cell_type": "code",
   "execution_count": 5,
   "metadata": {},
   "outputs": [
    {
     "data": {
      "text/plain": [
       "cntry        0\n",
       "idno         0\n",
       "year         0\n",
       "tvtot        8\n",
       "ppltrst     14\n",
       "pplfair     39\n",
       "pplhlp      25\n",
       "happy       31\n",
       "sclmeet     15\n",
       "sclact      94\n",
       "gndr        10\n",
       "agea       239\n",
       "partner     17\n",
       "dtype: int64"
      ]
     },
     "execution_count": 5,
     "metadata": {},
     "output_type": "execute_result"
    }
   ],
   "source": [
    "df.isnull().sum()"
   ]
  },
  {
   "cell_type": "code",
   "execution_count": 6,
   "metadata": {},
   "outputs": [],
   "source": [
    "#drop the nulls\n",
    "\n",
    "df = df.dropna()"
   ]
  },
  {
   "cell_type": "markdown",
   "metadata": {},
   "source": [
    "Some of the data here is really confusing. Let's clean it up to make it easier to interpret."
   ]
  },
  {
   "cell_type": "code",
   "execution_count": 7,
   "metadata": {},
   "outputs": [],
   "source": [
    "#categories are numeric, change to names\n",
    "\n",
    "df['partner'] = df['partner'].map({1: 'yes', 2: 'no'})"
   ]
  },
  {
   "cell_type": "code",
   "execution_count": 8,
   "metadata": {},
   "outputs": [],
   "source": [
    "df['year'] = df['year'].map({6: 2012, 7: 2014})"
   ]
  },
  {
   "cell_type": "code",
   "execution_count": 9,
   "metadata": {},
   "outputs": [],
   "source": [
    "df['gndr'] = df['gndr'].map({1: 'male', 2: 'female'})"
   ]
  },
  {
   "cell_type": "code",
   "execution_count": 10,
   "metadata": {},
   "outputs": [
    {
     "data": {
      "text/html": [
       "<div>\n",
       "<style scoped>\n",
       "    .dataframe tbody tr th:only-of-type {\n",
       "        vertical-align: middle;\n",
       "    }\n",
       "\n",
       "    .dataframe tbody tr th {\n",
       "        vertical-align: top;\n",
       "    }\n",
       "\n",
       "    .dataframe thead th {\n",
       "        text-align: right;\n",
       "    }\n",
       "</style>\n",
       "<table border=\"1\" class=\"dataframe\">\n",
       "  <thead>\n",
       "    <tr style=\"text-align: right;\">\n",
       "      <th></th>\n",
       "      <th>cntry</th>\n",
       "      <th>idno</th>\n",
       "      <th>year</th>\n",
       "      <th>tvtot</th>\n",
       "      <th>ppltrst</th>\n",
       "      <th>pplfair</th>\n",
       "      <th>pplhlp</th>\n",
       "      <th>happy</th>\n",
       "      <th>sclmeet</th>\n",
       "      <th>sclact</th>\n",
       "      <th>gndr</th>\n",
       "      <th>agea</th>\n",
       "      <th>partner</th>\n",
       "    </tr>\n",
       "  </thead>\n",
       "  <tbody>\n",
       "    <tr>\n",
       "      <th>0</th>\n",
       "      <td>CH</td>\n",
       "      <td>5.0</td>\n",
       "      <td>2012</td>\n",
       "      <td>3.0</td>\n",
       "      <td>3.0</td>\n",
       "      <td>10.0</td>\n",
       "      <td>5.0</td>\n",
       "      <td>8.0</td>\n",
       "      <td>5.0</td>\n",
       "      <td>4.0</td>\n",
       "      <td>female</td>\n",
       "      <td>60.0</td>\n",
       "      <td>yes</td>\n",
       "    </tr>\n",
       "    <tr>\n",
       "      <th>1</th>\n",
       "      <td>CH</td>\n",
       "      <td>25.0</td>\n",
       "      <td>2012</td>\n",
       "      <td>6.0</td>\n",
       "      <td>5.0</td>\n",
       "      <td>7.0</td>\n",
       "      <td>5.0</td>\n",
       "      <td>9.0</td>\n",
       "      <td>3.0</td>\n",
       "      <td>2.0</td>\n",
       "      <td>female</td>\n",
       "      <td>59.0</td>\n",
       "      <td>yes</td>\n",
       "    </tr>\n",
       "    <tr>\n",
       "      <th>2</th>\n",
       "      <td>CH</td>\n",
       "      <td>26.0</td>\n",
       "      <td>2012</td>\n",
       "      <td>1.0</td>\n",
       "      <td>8.0</td>\n",
       "      <td>8.0</td>\n",
       "      <td>8.0</td>\n",
       "      <td>7.0</td>\n",
       "      <td>6.0</td>\n",
       "      <td>3.0</td>\n",
       "      <td>male</td>\n",
       "      <td>24.0</td>\n",
       "      <td>no</td>\n",
       "    </tr>\n",
       "    <tr>\n",
       "      <th>3</th>\n",
       "      <td>CH</td>\n",
       "      <td>28.0</td>\n",
       "      <td>2012</td>\n",
       "      <td>4.0</td>\n",
       "      <td>6.0</td>\n",
       "      <td>6.0</td>\n",
       "      <td>7.0</td>\n",
       "      <td>10.0</td>\n",
       "      <td>6.0</td>\n",
       "      <td>2.0</td>\n",
       "      <td>female</td>\n",
       "      <td>64.0</td>\n",
       "      <td>yes</td>\n",
       "    </tr>\n",
       "    <tr>\n",
       "      <th>4</th>\n",
       "      <td>CH</td>\n",
       "      <td>29.0</td>\n",
       "      <td>2012</td>\n",
       "      <td>5.0</td>\n",
       "      <td>6.0</td>\n",
       "      <td>7.0</td>\n",
       "      <td>5.0</td>\n",
       "      <td>8.0</td>\n",
       "      <td>7.0</td>\n",
       "      <td>2.0</td>\n",
       "      <td>female</td>\n",
       "      <td>55.0</td>\n",
       "      <td>yes</td>\n",
       "    </tr>\n",
       "  </tbody>\n",
       "</table>\n",
       "</div>"
      ],
      "text/plain": [
       "  cntry  idno  year  tvtot  ppltrst  pplfair  pplhlp  happy  sclmeet  sclact  \\\n",
       "0    CH   5.0  2012    3.0      3.0     10.0     5.0    8.0      5.0     4.0   \n",
       "1    CH  25.0  2012    6.0      5.0      7.0     5.0    9.0      3.0     2.0   \n",
       "2    CH  26.0  2012    1.0      8.0      8.0     8.0    7.0      6.0     3.0   \n",
       "3    CH  28.0  2012    4.0      6.0      6.0     7.0   10.0      6.0     2.0   \n",
       "4    CH  29.0  2012    5.0      6.0      7.0     5.0    8.0      7.0     2.0   \n",
       "\n",
       "     gndr  agea partner  \n",
       "0  female  60.0     yes  \n",
       "1  female  59.0     yes  \n",
       "2    male  24.0      no  \n",
       "3  female  64.0     yes  \n",
       "4  female  55.0     yes  "
      ]
     },
     "execution_count": 10,
     "metadata": {},
     "output_type": "execute_result"
    }
   ],
   "source": [
    "df.head()"
   ]
  },
  {
   "cell_type": "markdown",
   "metadata": {},
   "source": [
    "... that's better"
   ]
  },
  {
   "cell_type": "code",
   "execution_count": 11,
   "metadata": {},
   "outputs": [
    {
     "data": {
      "text/plain": [
       "array(['CH', 'CZ', 'DE', 'ES', 'NO', 'SE'], dtype=object)"
      ]
     },
     "execution_count": 11,
     "metadata": {},
     "output_type": "execute_result"
    }
   ],
   "source": [
    "#what countries are represented here?\n",
    "\n",
    "df['cntry'].unique()"
   ]
  },
  {
   "cell_type": "markdown",
   "metadata": {},
   "source": [
    "- CH = Switzerland\n",
    "- CZ = Czech Republic\n",
    "- DE = Denmark\n",
    "- ES = Spain\n",
    "- NO = Norway\n",
    "- SE = Sweden"
   ]
  },
  {
   "cell_type": "markdown",
   "metadata": {},
   "source": [
    "## 1. Did people become less trusting from 2012 to 2014? Compute results for each country in the sample."
   ]
  },
  {
   "cell_type": "markdown",
   "metadata": {},
   "source": [
    "The ppltrst variable is measured on a scale of 0 to 10. 0 representing 'you can't be too careful' to 10 'most people can be trusted'."
   ]
  },
  {
   "cell_type": "code",
   "execution_count": 12,
   "metadata": {},
   "outputs": [
    {
     "data": {
      "image/png": "[encoded data removed]",
      "text/plain": [
       "<Figure size 1296x432 with 12 Axes>"
      ]
     },
     "metadata": {
      "needs_background": "light"
     },
     "output_type": "display_data"
    }
   ],
   "source": [
    "#histograms of trust for each country for each year\n",
    "trust = sns.FacetGrid(df, row='year', col='cntry', palette='pastel', dropna=True, sharey=False)\n",
    "trust = trust.map(plt.hist, 'ppltrst', alpha=0.8)\n",
    "plt.tight_layout()\n",
    "plt.show()"
   ]
  },
  {
   "cell_type": "code",
   "execution_count": 13,
   "metadata": {},
   "outputs": [],
   "source": [
    "#test for normality"
   ]
  },
  {
   "cell_type": "code",
   "execution_count": 14,
   "metadata": {},
   "outputs": [
    {
     "data": {
      "text/plain": [
       "<matplotlib.axes._subplots.AxesSubplot at 0x2a3f057a828>"
      ]
     },
     "execution_count": 14,
     "metadata": {},
     "output_type": "execute_result"
    },
    {
     "data": {
      "image/png": "[encoded data removed]",
      "text/plain": [
       "<Figure size 432x288 with 1 Axes>"
      ]
     },
     "metadata": {
      "needs_background": "light"
     },
     "output_type": "display_data"
    }
   ],
   "source": [
    "sns.barplot(x='cntry', y='ppltrst', hue='year', data=df)"
   ]
  },
  {
   "cell_type": "code",
   "execution_count": 15,
   "metadata": {},
   "outputs": [
    {
     "data": {
      "text/plain": [
       "<matplotlib.axes._subplots.AxesSubplot at 0x2a3f0a1d9b0>"
      ]
     },
     "execution_count": 15,
     "metadata": {},
     "output_type": "execute_result"
    },
    {
     "data": {
      "image/png": "[encoded data removed]",
      "text/plain": [
       "<Figure size 432x288 with 1 Axes>"
      ]
     },
     "metadata": {
      "needs_background": "light"
     },
     "output_type": "display_data"
    }
   ],
   "source": [
    "sns.boxplot(x='cntry', y='ppltrst', hue='year', data=df)"
   ]
  },
  {
   "cell_type": "markdown",
   "metadata": {},
   "source": [
    "People became more trusting in CH, DE and SE from 2012 to 2014. People became less trusting in CZ, ES and NO in the same years."
   ]
  },
  {
   "cell_type": "code",
   "execution_count": 16,
   "metadata": {},
   "outputs": [
    {
     "name": "stdout",
     "output_type": "stream",
     "text": [
      "CH\n",
      "Ttest_indResult(statistic=nan, pvalue=nan)\n",
      "---------------\n",
      "CZ\n",
      "Ttest_indResult(statistic=nan, pvalue=nan)\n",
      "---------------\n",
      "DE\n",
      "Ttest_indResult(statistic=nan, pvalue=nan)\n",
      "---------------\n",
      "ES\n",
      "Ttest_indResult(statistic=nan, pvalue=nan)\n",
      "---------------\n",
      "NO\n",
      "Ttest_indResult(statistic=nan, pvalue=nan)\n",
      "---------------\n",
      "SE\n",
      "Ttest_indResult(statistic=nan, pvalue=nan)\n",
      "---------------\n"
     ]
    },
    {
     "name": "stderr",
     "output_type": "stream",
     "text": [
      "C:\\Users\\kylem\\Anaconda3\\lib\\site-packages\\pandas\\core\\ops.py:1649: FutureWarning: elementwise comparison failed; returning scalar instead, but in the future will perform elementwise comparison\n",
      "  result = method(y)\n"
     ]
    }
   ],
   "source": [
    "countries = ['CH', 'CZ', 'DE', 'ES', 'NO', 'SE']\n",
    "\n",
    "for country in countries:\n",
    "    ppltrst_2012 = df[(df['year']=='2012') & (df['cntry']==country)]['ppltrst']\n",
    "    ppltrst_2014 = df[(df['year']=='2014') & (df['cntry']==country)]['ppltrst']\n",
    "    \n",
    "    print(country)\n",
    "    print(stats.ttest_ind(ppltrst_2012, ppltrst_2014))\n",
    "    print('---------------')\n",
    "\n",
    "    "
   ]
  },
  {
   "cell_type": "markdown",
   "metadata": {},
   "source": [
    "As can be seen from the t test, there are significant changes in ES and SE from 2012 to 2014. The visuals above show ES became less trusting and SE more trusting."
   ]
  },
  {
   "cell_type": "markdown",
   "metadata": {},
   "source": [
    "## 2. Did people become happier from 2012 to 2014? Compute results for each country in the sample."
   ]
  },
  {
   "cell_type": "code",
   "execution_count": 17,
   "metadata": {},
   "outputs": [
    {
     "data": {
      "image/png": "[encoded data removed]",
      "text/plain": [
       "<Figure size 1296x432 with 12 Axes>"
      ]
     },
     "metadata": {
      "needs_background": "light"
     },
     "output_type": "display_data"
    }
   ],
   "source": [
    "#histograms of happiness for each country for each year\n",
    "happy = sns.FacetGrid(df, row='year', col='cntry', sharey=False)\n",
    "happy = happy.map(plt.hist, 'happy', alpha=0.8)\n",
    "plt.tight_layout()\n",
    "plt.show()"
   ]
  },
  {
   "cell_type": "code",
   "execution_count": 18,
   "metadata": {},
   "outputs": [],
   "source": [
    "#test for normality "
   ]
  },
  {
   "cell_type": "code",
   "execution_count": 19,
   "metadata": {},
   "outputs": [
    {
     "data": {
      "text/plain": [
       "<matplotlib.axes._subplots.AxesSubplot at 0x2a3f10fb748>"
      ]
     },
     "execution_count": 19,
     "metadata": {},
     "output_type": "execute_result"
    },
    {
     "data": {
      "image/png": "[encoded data removed]",
      "text/plain": [
       "<Figure size 432x288 with 1 Axes>"
      ]
     },
     "metadata": {
      "needs_background": "light"
     },
     "output_type": "display_data"
    }
   ],
   "source": [
    "sns.barplot(x='cntry', y='happy', hue='year', data=df)"
   ]
  },
  {
   "cell_type": "markdown",
   "metadata": {},
   "source": [
    "People became happier in CH, CZ, DE, and SE from 2012 to 2014. People seemed to become less happy in ES and NO."
   ]
  },
  {
   "cell_type": "code",
   "execution_count": 20,
   "metadata": {},
   "outputs": [
    {
     "data": {
      "text/plain": [
       "<matplotlib.axes._subplots.AxesSubplot at 0x2a3f15764e0>"
      ]
     },
     "execution_count": 20,
     "metadata": {},
     "output_type": "execute_result"
    },
    {
     "data": {
      "image/png": "[encoded data removed]",
      "text/plain": [
       "<Figure size 432x288 with 1 Axes>"
      ]
     },
     "metadata": {
      "needs_background": "light"
     },
     "output_type": "display_data"
    }
   ],
   "source": [
    "sns.boxplot(x='cntry', y='happy', hue='year', data=df)"
   ]
  },
  {
   "cell_type": "code",
   "execution_count": 21,
   "metadata": {},
   "outputs": [
    {
     "name": "stdout",
     "output_type": "stream",
     "text": [
      "CH\n",
      "Ttest_indResult(statistic=nan, pvalue=nan)\n",
      "---------------\n",
      "CZ\n",
      "Ttest_indResult(statistic=nan, pvalue=nan)\n",
      "---------------\n",
      "DE\n",
      "Ttest_indResult(statistic=nan, pvalue=nan)\n",
      "---------------\n",
      "ES\n",
      "Ttest_indResult(statistic=nan, pvalue=nan)\n",
      "---------------\n",
      "NO\n",
      "Ttest_indResult(statistic=nan, pvalue=nan)\n",
      "---------------\n",
      "SE\n",
      "Ttest_indResult(statistic=nan, pvalue=nan)\n",
      "---------------\n"
     ]
    }
   ],
   "source": [
    "countries = ['CH', 'CZ', 'DE', 'ES', 'NO', 'SE']\n",
    "\n",
    "for country in countries:\n",
    "    ppltrst_2012 = df[(df['year']=='2012') & (df['cntry']==country)]['happy']\n",
    "    ppltrst_2014 = df[(df['year']=='2014') & (df['cntry']==country)]['happy']\n",
    "    \n",
    "    print(country)\n",
    "    print(stats.ttest_ind(ppltrst_2012, ppltrst_2014))\n",
    "    print('---------------')"
   ]
  },
  {
   "cell_type": "markdown",
   "metadata": {},
   "source": [
    "The only country with significant change is NO, which became less happy over the course of these two years."
   ]
  },
  {
   "cell_type": "markdown",
   "metadata": {},
   "source": [
    "## 3. Who reported watching more TV in 2012, men or women?"
   ]
  },
  {
   "cell_type": "code",
   "execution_count": 24,
   "metadata": {},
   "outputs": [],
   "source": [
    "df2012 = df[(df['year']==2012)]"
   ]
  },
  {
   "cell_type": "code",
   "execution_count": 25,
   "metadata": {},
   "outputs": [
    {
     "data": {
      "image/png": "[encoded data removed]",
      "text/plain": [
       "<Figure size 432x216 with 2 Axes>"
      ]
     },
     "metadata": {
      "needs_background": "light"
     },
     "output_type": "display_data"
    }
   ],
   "source": [
    "#histograms of happiness for each country for each year\n",
    "tv = sns.FacetGrid(df2012, row='year', col='gndr', sharey=False)\n",
    "tv = tv.map(plt.hist, 'tvtot', alpha=0.8)\n",
    "plt.tight_layout()\n",
    "plt.show()"
   ]
  },
  {
   "cell_type": "code",
   "execution_count": null,
   "metadata": {},
   "outputs": [],
   "source": [
    "df2012.groupby(['cntry', 'gndr'])['tvtot'].mean().plot.bar()"
   ]
  },
  {
   "cell_type": "code",
   "execution_count": 26,
   "metadata": {},
   "outputs": [
    {
     "data": {
      "text/plain": [
       "<matplotlib.axes._subplots.AxesSubplot at 0x2a3f29667f0>"
      ]
     },
     "execution_count": 26,
     "metadata": {},
     "output_type": "execute_result"
    },
    {
     "data": {
      "image/png": "[encoded data removed]",
      "text/plain": [
       "<Figure size 432x288 with 1 Axes>"
      ]
     },
     "metadata": {
      "needs_background": "light"
     },
     "output_type": "display_data"
    }
   ],
   "source": [
    "sns.barplot(x='gndr', y='tvtot', data=df2012)"
   ]
  },
  {
   "cell_type": "code",
   "execution_count": 33,
   "metadata": {},
   "outputs": [],
   "source": [
    "men = df2012[(df2012['gndr']=='male')]\n",
    "women = df2012[(df2012['gndr']=='female')]"
   ]
  },
  {
   "cell_type": "code",
   "execution_count": 34,
   "metadata": {},
   "outputs": [
    {
     "name": "stdout",
     "output_type": "stream",
     "text": [
      "Ttest_indResult(statistic=-0.7323552192640558, pvalue=0.4639939646110154)\n"
     ]
    }
   ],
   "source": [
    "print(stats.ttest_ind(men['tvtot'], women['tvtot']))"
   ]
  },
  {
   "cell_type": "markdown",
   "metadata": {},
   "source": [
    "No significant difference in tv viewing between women and men."
   ]
  },
  {
   "cell_type": "markdown",
   "metadata": {},
   "source": [
    "## 4. Who was more likely to believe people were fair in 2012, people living with a partner or people living alone?"
   ]
  },
  {
   "cell_type": "code",
   "execution_count": 35,
   "metadata": {},
   "outputs": [
    {
     "data": {
      "image/png": "[encoded data removed]",
      "text/plain": [
       "<Figure size 432x216 with 2 Axes>"
      ]
     },
     "metadata": {
      "needs_background": "light"
     },
     "output_type": "display_data"
    }
   ],
   "source": [
    "#histograms of happiness for each country for each year\n",
    "fairness = sns.FacetGrid(df2012, row='year', col='gndr', sharey=False)\n",
    "fairness = fairness.map(plt.hist, 'pplfair', alpha=0.8)\n",
    "plt.tight_layout()\n",
    "plt.show()"
   ]
  },
  {
   "cell_type": "code",
   "execution_count": 38,
   "metadata": {},
   "outputs": [
    {
     "data": {
      "text/plain": [
       "<matplotlib.axes._subplots.AxesSubplot at 0x2a3f2c6db00>"
      ]
     },
     "execution_count": 38,
     "metadata": {},
     "output_type": "execute_result"
    },
    {
     "data": {
      "image/png": "[encoded data removed]",
      "text/plain": [
       "<Figure size 432x288 with 1 Axes>"
      ]
     },
     "metadata": {
      "needs_background": "light"
     },
     "output_type": "display_data"
    }
   ],
   "source": [
    "sns.barplot(x='partner', y='pplfair', data=df2012)"
   ]
  },
  {
   "cell_type": "code",
   "execution_count": 39,
   "metadata": {},
   "outputs": [],
   "source": [
    "single = df2012[(df2012['partner']=='no')]\n",
    "partner = df2012[(df2012['partner']=='yes')]"
   ]
  },
  {
   "cell_type": "code",
   "execution_count": 40,
   "metadata": {},
   "outputs": [
    {
     "name": "stdout",
     "output_type": "stream",
     "text": [
      "Ttest_indResult(statistic=-3.0430439318464235, pvalue=0.002356936676939248)\n"
     ]
    }
   ],
   "source": [
    "print(stats.ttest_ind(single['pplfair'], partner['pplfair']))"
   ]
  },
  {
   "cell_type": "markdown",
   "metadata": {},
   "source": [
    "People who live with their partners are more likely to believe other people were fair in 2012."
   ]
  },
  {
   "cell_type": "markdown",
   "metadata": {},
   "source": [
    "## 5. Pick three or four of the countries in the sample and compare how often people met socially in 2014. Are there differences, and if so, which countries stand out?"
   ]
  },
  {
   "cell_type": "code",
   "execution_count": 45,
   "metadata": {},
   "outputs": [],
   "source": [
    "df_2014 = df[(df['year']==2014)]\n",
    "\n",
    "countries = df_2014[df_2014['cntry'].isin(['CH', 'DE', 'NO', 'CZ'])]"
   ]
  },
  {
   "cell_type": "code",
   "execution_count": 46,
   "metadata": {},
   "outputs": [
    {
     "data": {
      "image/png": "[encoded data removed]",
      "text/plain": [
       "<Figure size 864x216 with 4 Axes>"
      ]
     },
     "metadata": {
      "needs_background": "light"
     },
     "output_type": "display_data"
    }
   ],
   "source": [
    "social = sns.FacetGrid(countries, row='year', col='cntry',sharey=False)\n",
    "social = social.map(plt.hist, 'sclmeet', alpha=0.8)"
   ]
  },
  {
   "cell_type": "code",
   "execution_count": 47,
   "metadata": {},
   "outputs": [
    {
     "data": {
      "text/plain": [
       "<matplotlib.axes._subplots.AxesSubplot at 0x2a3f2e4fb00>"
      ]
     },
     "execution_count": 47,
     "metadata": {},
     "output_type": "execute_result"
    },
    {
     "data": {
      "image/png": "[encoded data removed]",
      "text/plain": [
       "<Figure size 432x288 with 1 Axes>"
      ]
     },
     "metadata": {
      "needs_background": "light"
     },
     "output_type": "display_data"
    }
   ],
   "source": [
    "sns.barplot(x='cntry', y='sclmeet', data=countries)"
   ]
  },
  {
   "cell_type": "code",
   "execution_count": 48,
   "metadata": {},
   "outputs": [],
   "source": [
    "ch = countries[countries['cntry'] == 'CH'].sclmeet\n",
    "cz = countries[countries['cntry'] == 'CZ'].sclmeet\n",
    "de = countries[countries['cntry'] == 'DE'].sclmeet\n",
    "no = countries[countries['cntry'] == 'NO'].sclmeet"
   ]
  },
  {
   "cell_type": "code",
   "execution_count": 51,
   "metadata": {},
   "outputs": [
    {
     "name": "stdout",
     "output_type": "stream",
     "text": [
      "KruskalResult(statistic=123.89201139064286, pvalue=1.1197400327056421e-26)\n"
     ]
    }
   ],
   "source": [
    "print(kruskal(ch, cz, de, no))"
   ]
  },
  {
   "cell_type": "markdown",
   "metadata": {},
   "source": [
    "The Kruskal test is showing that our groups differ significantly."
   ]
  },
  {
   "cell_type": "code",
   "execution_count": 57,
   "metadata": {},
   "outputs": [
    {
     "name": "stdout",
     "output_type": "stream",
     "text": [
      "Switzerland vs Czech Republic\n",
      "Ttest_indResult(statistic=8.998568888102158, pvalue=7.58694000913212e-19)\n",
      "Switzerland vs Denmark\n",
      "Ttest_indResult(statistic=2.137774079859156, pvalue=0.032855611686425916)\n",
      "Switzerland vs Norway\n",
      "Ttest_indResult(statistic=-1.9524600649137105, pvalue=0.05107541004946689)\n",
      "Czech Republic vs Denmark\n",
      "Ttest_indResult(statistic=0.16846066305094798, pvalue=0.8662760053993819)\n",
      "Czech Republic vs Norway\n",
      "Ttest_indResult(statistic=-10.507796823715257, pvalue=7.427021134307074e-25)\n",
      "Denmark vs Norway\n",
      "Ttest_indResult(statistic=-2.4461487954484564, pvalue=0.014676088277028506)\n"
     ]
    }
   ],
   "source": [
    "print('Switzerland vs Czech Republic')\n",
    "print(stats.ttest_ind(ch, cz))\n",
    "print('Switzerland vs Denmark')\n",
    "print(stats.ttest_ind(ch, de))\n",
    "print('Switzerland vs Norway')\n",
    "print(stats.ttest_ind(ch, no))\n",
    "\n",
    "print('Czech Republic vs Denmark')\n",
    "print(stats.ttest_ind(cz, de))\n",
    "print('Czech Republic vs Norway')\n",
    "print(stats.ttest_ind(cz, no))\n",
    "\n",
    "print('Denmark vs Norway')\n",
    "print(stats.ttest_ind(de, no))\n"
   ]
  },
  {
   "cell_type": "code",
   "execution_count": 58,
   "metadata": {},
   "outputs": [],
   "source": [
    "#summarize"
   ]
  },
  {
   "cell_type": "markdown",
   "metadata": {},
   "source": [
    "## 6. Pick three or four of the countries in the sample and compare how often people took part in social activities, relative to others their age, in 2014. Are there differences, and if so, which countries stand out?"
   ]
  },
  {
   "cell_type": "code",
   "execution_count": 59,
   "metadata": {},
   "outputs": [
    {
     "data": {
      "text/plain": [
       "count    2075.000000\n",
       "mean       46.070361\n",
       "std        17.952521\n",
       "min        15.000000\n",
       "25%        32.000000\n",
       "50%        46.000000\n",
       "75%        60.000000\n",
       "max        94.000000\n",
       "Name: agea, dtype: float64"
      ]
     },
     "execution_count": 59,
     "metadata": {},
     "output_type": "execute_result"
    }
   ],
   "source": [
    "countries['agea'].describe()"
   ]
  },
  {
   "cell_type": "code",
   "execution_count": 60,
   "metadata": {},
   "outputs": [
    {
     "data": {
      "text/plain": [
       "<matplotlib.axes._subplots.AxesSubplot at 0x2a3f2eef860>"
      ]
     },
     "execution_count": 60,
     "metadata": {},
     "output_type": "execute_result"
    },
    {
     "data": {
      "image/png": "[encoded data removed]",
      "text/plain": [
       "<Figure size 432x288 with 1 Axes>"
      ]
     },
     "metadata": {
      "needs_background": "light"
     },
     "output_type": "display_data"
    }
   ],
   "source": [
    "sns.boxplot(countries['agea'])"
   ]
  },
  {
   "cell_type": "code",
   "execution_count": 64,
   "metadata": {},
   "outputs": [
    {
     "name": "stderr",
     "output_type": "stream",
     "text": [
      "C:\\Users\\kylem\\Anaconda3\\lib\\site-packages\\ipykernel_launcher.py:5: SettingWithCopyWarning: \n",
      "A value is trying to be set on a copy of a slice from a DataFrame.\n",
      "Try using .loc[row_indexer,col_indexer] = value instead\n",
      "\n",
      "See the caveats in the documentation: http://pandas.pydata.org/pandas-docs/stable/indexing.html#indexing-view-versus-copy\n",
      "  \"\"\"\n"
     ]
    }
   ],
   "source": [
    "age_bins= [15,34,53,71,90,(countries['agea'].max()+1)]\n",
    "\n",
    "\n",
    "age_labels = ['15-33', '34-52', '53-70', '71-89', '90+']\n",
    "countries['age_groups'] = pd.cut(countries['agea'], bins=age_bins, labels=age_labels, right=False)"
   ]
  },
  {
   "cell_type": "code",
   "execution_count": 65,
   "metadata": {},
   "outputs": [
    {
     "data": {
      "text/html": [
       "<div>\n",
       "<style scoped>\n",
       "    .dataframe tbody tr th:only-of-type {\n",
       "        vertical-align: middle;\n",
       "    }\n",
       "\n",
       "    .dataframe tbody tr th {\n",
       "        vertical-align: top;\n",
       "    }\n",
       "\n",
       "    .dataframe thead th {\n",
       "        text-align: right;\n",
       "    }\n",
       "</style>\n",
       "<table border=\"1\" class=\"dataframe\">\n",
       "  <thead>\n",
       "    <tr style=\"text-align: right;\">\n",
       "      <th></th>\n",
       "      <th>cntry</th>\n",
       "      <th>idno</th>\n",
       "      <th>year</th>\n",
       "      <th>tvtot</th>\n",
       "      <th>ppltrst</th>\n",
       "      <th>pplfair</th>\n",
       "      <th>pplhlp</th>\n",
       "      <th>happy</th>\n",
       "      <th>sclmeet</th>\n",
       "      <th>sclact</th>\n",
       "      <th>gndr</th>\n",
       "      <th>agea</th>\n",
       "      <th>partner</th>\n",
       "      <th>age_groups</th>\n",
       "    </tr>\n",
       "  </thead>\n",
       "  <tbody>\n",
       "    <tr>\n",
       "      <th>773</th>\n",
       "      <td>CH</td>\n",
       "      <td>5.0</td>\n",
       "      <td>2014</td>\n",
       "      <td>2.0</td>\n",
       "      <td>8.0</td>\n",
       "      <td>9.0</td>\n",
       "      <td>7.0</td>\n",
       "      <td>9.0</td>\n",
       "      <td>6.0</td>\n",
       "      <td>4.0</td>\n",
       "      <td>male</td>\n",
       "      <td>69.0</td>\n",
       "      <td>yes</td>\n",
       "      <td>53-70</td>\n",
       "    </tr>\n",
       "    <tr>\n",
       "      <th>774</th>\n",
       "      <td>CH</td>\n",
       "      <td>25.0</td>\n",
       "      <td>2014</td>\n",
       "      <td>4.0</td>\n",
       "      <td>4.0</td>\n",
       "      <td>2.0</td>\n",
       "      <td>5.0</td>\n",
       "      <td>6.0</td>\n",
       "      <td>5.0</td>\n",
       "      <td>3.0</td>\n",
       "      <td>male</td>\n",
       "      <td>30.0</td>\n",
       "      <td>yes</td>\n",
       "      <td>15-33</td>\n",
       "    </tr>\n",
       "    <tr>\n",
       "      <th>775</th>\n",
       "      <td>CH</td>\n",
       "      <td>26.0</td>\n",
       "      <td>2014</td>\n",
       "      <td>3.0</td>\n",
       "      <td>8.0</td>\n",
       "      <td>8.0</td>\n",
       "      <td>6.0</td>\n",
       "      <td>8.0</td>\n",
       "      <td>7.0</td>\n",
       "      <td>5.0</td>\n",
       "      <td>female</td>\n",
       "      <td>49.0</td>\n",
       "      <td>no</td>\n",
       "      <td>34-52</td>\n",
       "    </tr>\n",
       "    <tr>\n",
       "      <th>776</th>\n",
       "      <td>CH</td>\n",
       "      <td>28.0</td>\n",
       "      <td>2014</td>\n",
       "      <td>2.0</td>\n",
       "      <td>7.0</td>\n",
       "      <td>7.0</td>\n",
       "      <td>5.0</td>\n",
       "      <td>9.0</td>\n",
       "      <td>6.0</td>\n",
       "      <td>2.0</td>\n",
       "      <td>male</td>\n",
       "      <td>51.0</td>\n",
       "      <td>yes</td>\n",
       "      <td>34-52</td>\n",
       "    </tr>\n",
       "    <tr>\n",
       "      <th>777</th>\n",
       "      <td>CH</td>\n",
       "      <td>29.0</td>\n",
       "      <td>2014</td>\n",
       "      <td>2.0</td>\n",
       "      <td>4.0</td>\n",
       "      <td>7.0</td>\n",
       "      <td>0.0</td>\n",
       "      <td>8.0</td>\n",
       "      <td>6.0</td>\n",
       "      <td>2.0</td>\n",
       "      <td>female</td>\n",
       "      <td>32.0</td>\n",
       "      <td>no</td>\n",
       "      <td>15-33</td>\n",
       "    </tr>\n",
       "  </tbody>\n",
       "</table>\n",
       "</div>"
      ],
      "text/plain": [
       "    cntry  idno  year  tvtot  ppltrst  pplfair  pplhlp  happy  sclmeet  \\\n",
       "773    CH   5.0  2014    2.0      8.0      9.0     7.0    9.0      6.0   \n",
       "774    CH  25.0  2014    4.0      4.0      2.0     5.0    6.0      5.0   \n",
       "775    CH  26.0  2014    3.0      8.0      8.0     6.0    8.0      7.0   \n",
       "776    CH  28.0  2014    2.0      7.0      7.0     5.0    9.0      6.0   \n",
       "777    CH  29.0  2014    2.0      4.0      7.0     0.0    8.0      6.0   \n",
       "\n",
       "     sclact    gndr  agea partner age_groups  \n",
       "773     4.0    male  69.0     yes      53-70  \n",
       "774     3.0    male  30.0     yes      15-33  \n",
       "775     5.0  female  49.0      no      34-52  \n",
       "776     2.0    male  51.0     yes      34-52  \n",
       "777     2.0  female  32.0      no      15-33  "
      ]
     },
     "execution_count": 65,
     "metadata": {},
     "output_type": "execute_result"
    }
   ],
   "source": [
    "countries.head()"
   ]
  },
  {
   "cell_type": "code",
   "execution_count": 69,
   "metadata": {},
   "outputs": [
    {
     "data": {
      "image/png": "[encoded data removed]",
      "text/plain": [
       "<Figure size 864x1080 with 20 Axes>"
      ]
     },
     "metadata": {
      "needs_background": "light"
     },
     "output_type": "display_data"
    }
   ],
   "source": [
    "activities = sns.FacetGrid(countries, row='age_groups', col='cntry',sharey=False)\n",
    "activities = activities.map(plt.hist, 'sclact', alpha=0.8, bins=5)"
   ]
  },
  {
   "cell_type": "code",
   "execution_count": 76,
   "metadata": {},
   "outputs": [
    {
     "name": "stdout",
     "output_type": "stream",
     "text": [
      "Age Group 15-33:\n",
      "CZ vs CH: Ttest_indResult(statistic=0.882282558371881, pvalue=0.3782031063929464)\n",
      "CZ vs NO: Ttest_indResult(statistic=-0.5428545680998248, pvalue=0.5875804612729371)\n",
      "CZ vs DE: Ttest_indResult(statistic=nan, pvalue=nan)\n",
      "\n",
      "\n",
      "CH vs DE: Ttest_indResult(statistic=nan, pvalue=nan)\n",
      "CH vs NO: Ttest_indResult(statistic=-1.5074881768862323, pvalue=0.1324690544443235)\n",
      "\n",
      "\n",
      "NO vs DE: Ttest_indResult(statistic=nan, pvalue=nan)\n",
      "\n",
      "\n",
      "Age Group 34-52:\n",
      "CZ vs CH: Ttest_indResult(statistic=-2.3475186797017704, pvalue=0.019298318715364346)\n",
      "CZ vs NO: Ttest_indResult(statistic=-2.4183328533542117, pvalue=0.015969305522966583)\n",
      "CZ vs DE: Ttest_indResult(statistic=-1.0288567846219665, pvalue=0.3046047606753274)\n",
      "\n",
      "\n",
      "CH vs DE: Ttest_indResult(statistic=-0.5232778442468491, pvalue=0.6012265965352216)\n",
      "CH vs NO: Ttest_indResult(statistic=-0.06147150938749058, pvalue=0.9510084155463124)\n",
      "\n",
      "\n",
      "NO vs DE: Ttest_indResult(statistic=-0.5285003053563753, pvalue=0.5976305464319029)\n",
      "\n",
      "\n",
      "Age Group 53-70:\n",
      "CZ vs CH: Ttest_indResult(statistic=0.3762319167344417, pvalue=0.7069624840177409)\n",
      "CZ vs NO: Ttest_indResult(statistic=-0.7099497011615866, pvalue=0.4781639873021454)\n",
      "CZ vs DE: Ttest_indResult(statistic=-0.1719814179367256, pvalue=0.8636361474585176)\n",
      "\n",
      "\n",
      "CH vs DE: Ttest_indResult(statistic=-0.247454194281783, pvalue=0.8048282194372636)\n",
      "CH vs NO: Ttest_indResult(statistic=-1.0707844753627764, pvalue=0.2849389021792862)\n",
      "\n",
      "\n",
      "NO vs DE: Ttest_indResult(statistic=-0.002509343370859334, pvalue=0.9980002523817322)\n",
      "\n",
      "\n",
      "Age Group 71-89:\n",
      "CZ vs CH: Ttest_indResult(statistic=-1.7045026157639749, pvalue=0.09089679867227146)\n",
      "CZ vs NO: Ttest_indResult(statistic=-2.5080164135441816, pvalue=0.013702008957002382)\n",
      "CZ vs DE: Ttest_indResult(statistic=0.7873176079406918, pvalue=0.4363953476323128)\n",
      "\n",
      "\n",
      "CH vs DE: Ttest_indResult(statistic=1.3814788850453672, pvalue=0.17062932608949927)\n",
      "CH vs NO: Ttest_indResult(statistic=-0.9220962867244895, pvalue=0.3579022395323601)\n",
      "\n",
      "\n",
      "NO vs DE: Ttest_indResult(statistic=1.7969325991279892, pvalue=0.07654015962451971)\n",
      "\n",
      "\n"
     ]
    }
   ],
   "source": [
    "bin_one = countries[countries['age_groups'] == '15-33']\n",
    "bin_two = countries[countries['age_groups'] == '34-52']\n",
    "bin_three = countries[countries['age_groups'] == '53-70']\n",
    "bin_four = countries[countries['age_groups'] == '71-89']\n",
    "bin_five = countries[countries['age_groups'] == '90+']\n",
    "\n",
    "print(\"Age Group 15-33:\")\n",
    "print('CZ vs CH:', stats.ttest_ind(bin_one[bin_one.cntry == 'CZ'].sclact,\n",
    "                             bin_one[bin_one.cntry=='CH'].sclact))\n",
    "print('CZ vs NO:', stats.ttest_ind(bin_one[bin_one.cntry == 'CZ'].sclact,\n",
    "                             bin_one[bin_one.cntry=='NO'].sclact))\n",
    "print('CZ vs DE:', stats.ttest_ind(bin_one[bin_one.cntry == 'CZ'].sclact,\n",
    "                             bin_one[bin_one.cntry=='DE'].sclact))\n",
    "print('\\n')\n",
    "print('CH vs DE:', stats.ttest_ind(bin_one[bin_one.cntry == 'CH'].sclact,\n",
    "                             bin_one[bin_one.cntry=='DE'].sclact))\n",
    "print('CH vs NO:', stats.ttest_ind(bin_one[bin_one.cntry == 'CH'].sclact,\n",
    "                             bin_one[bin_one.cntry=='NO'].sclact))\n",
    "print('\\n')\n",
    "print('NO vs DE:', stats.ttest_ind(bin_one[bin_one.cntry == 'NO'].sclact,\n",
    "                             bin_one[bin_one.cntry=='DE'].sclact))\n",
    "print('\\n')\n",
    "print(\"Age Group 34-52:\")\n",
    "print('CZ vs CH:', stats.ttest_ind(bin_two[bin_two.cntry == 'CZ'].sclact,\n",
    "                             bin_two[bin_two.cntry=='CH'].sclact))\n",
    "print('CZ vs NO:', stats.ttest_ind(bin_two[bin_two.cntry == 'CZ'].sclact,\n",
    "                             bin_two[bin_two.cntry=='NO'].sclact))\n",
    "print('CZ vs DE:', stats.ttest_ind(bin_two[bin_two.cntry == 'CZ'].sclact,\n",
    "                             bin_two[bin_two.cntry=='DE'].sclact))\n",
    "print('\\n')\n",
    "print('CH vs DE:', stats.ttest_ind(bin_two[bin_two.cntry == 'CH'].sclact,\n",
    "                             bin_two[bin_two.cntry=='DE'].sclact))\n",
    "print('CH vs NO:', stats.ttest_ind(bin_two[bin_two.cntry == 'CH'].sclact,\n",
    "                             bin_two[bin_two.cntry=='NO'].sclact))\n",
    "print('\\n')\n",
    "print('NO vs DE:', stats.ttest_ind(bin_two[bin_two.cntry == 'NO'].sclact,\n",
    "                             bin_two[bin_two.cntry=='DE'].sclact))\n",
    "\n",
    "print('\\n')\n",
    "print('Age Group 53-70:')\n",
    "print('CZ vs CH:', stats.ttest_ind(bin_three[bin_three.cntry == 'CZ'].sclact,\n",
    "                             bin_three[bin_three.cntry=='CH'].sclact))\n",
    "print('CZ vs NO:', stats.ttest_ind(bin_three[bin_three.cntry == 'CZ'].sclact,\n",
    "                             bin_three[bin_three.cntry=='NO'].sclact))\n",
    "print('CZ vs DE:', stats.ttest_ind(bin_three[bin_three.cntry == 'CZ'].sclact,\n",
    "                             bin_three[bin_three.cntry=='DE'].sclact))\n",
    "print('\\n')\n",
    "print('CH vs DE:', stats.ttest_ind(bin_three[bin_three.cntry == 'CH'].sclact,\n",
    "                             bin_three[bin_three.cntry=='DE'].sclact))\n",
    "print('CH vs NO:', stats.ttest_ind(bin_three[bin_three.cntry == 'CH'].sclact,\n",
    "                             bin_three[bin_three.cntry=='NO'].sclact))\n",
    "print('\\n')\n",
    "print('NO vs DE:', stats.ttest_ind(bin_three[bin_three.cntry == 'NO'].sclact,\n",
    "                             bin_three[bin_three.cntry=='DE'].sclact))\n",
    "print('\\n')\n",
    "print('Age Group 71-89:')\n",
    "print('CZ vs CH:', stats.ttest_ind(bin_four[bin_four.cntry == 'CZ'].sclact,\n",
    "                             bin_four[bin_four.cntry=='CH'].sclact))\n",
    "print('CZ vs NO:', stats.ttest_ind(bin_four[bin_four.cntry == 'CZ'].sclact,\n",
    "                             bin_four[bin_four.cntry=='NO'].sclact))\n",
    "print('CZ vs DE:', stats.ttest_ind(bin_four[bin_four.cntry == 'CZ'].sclact,\n",
    "                             bin_four[bin_four.cntry=='DE'].sclact))\n",
    "print('\\n')\n",
    "print('CH vs DE:', stats.ttest_ind(bin_four[bin_four.cntry == 'CH'].sclact,\n",
    "                             bin_four[bin_four.cntry=='DE'].sclact))\n",
    "print('CH vs NO:', stats.ttest_ind(bin_four[bin_four.cntry == 'CH'].sclact,\n",
    "                             bin_four[bin_four.cntry=='NO'].sclact))\n",
    "print('\\n')\n",
    "print('NO vs DE:', stats.ttest_ind(bin_four[bin_four.cntry == 'NO'].sclact,\n",
    "                             bin_four[bin_four.cntry=='DE'].sclact))\n",
    "print('\\n')"
   ]
  },
  {
   "cell_type": "markdown",
   "metadata": {},
   "source": [
    "Age Groups:\n",
    "\n",
    "- 15-33 - No significant differences\n",
    "- 34-52 - Czech Republic and Norway, and Czech Republic and Switzerland show significant differences.\n",
    "- 53-70 - No significant differences\n",
    "- 71-89 - Significant differences between Czech Republic and Switzerland, and Czech Republic and Norway. Norway vs Denmark shows some strong difference as well."
   ]
  },
  {
   "cell_type": "code",
   "execution_count": null,
   "metadata": {},
   "outputs": [],
   "source": []
  }
 ],
 "metadata": {
  "kernelspec": {
   "display_name": "Python 3",
   "language": "python",
   "name": "python3"
  },
  "language_info": {
   "codemirror_mode": {
    "name": "ipython",
    "version": 3
   },
   "file_extension": ".py",
   "mimetype": "text/x-python",
   "name": "python",
   "nbconvert_exporter": "python",
   "pygments_lexer": "ipython3",
   "version": "3.7.1"
  }
 },
 "nbformat": 4,
 "nbformat_minor": 2
}
