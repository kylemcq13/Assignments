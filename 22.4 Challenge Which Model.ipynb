{
 "cells": [
  {
   "cell_type": "markdown",
   "metadata": {},
   "source": [
    "### Predict the running times of prospective Olympic sprinters using data from the last 20 Olympics.\n",
    "    Linear regression\n",
    "\n",
    "### You have more features (columns) than rows in your dataset.\n",
    "    SVM or random forest could work. Could use lasso to reduce the number of features here.\n",
    "\n",
    "### Identify the most important characteristic predicting likelihood of being jailed before age 20.\n",
    "    A binary classifier \n",
    "\n",
    "### Implement a filter to “highlight” emails that might be important to the recipient\n",
    "    Naive Bayes\n",
    "\n",
    "### You have 1000+ features.\n",
    "    Random Forest\n",
    "\n",
    "### Predict whether someone who adds items to their cart on a website will purchase the items.\n",
    "    Decision Tree (?)\n",
    "\n",
    "### Your dataset dimensions are 982400 x 500\n",
    "    Random Forest(?), possibly ensemble modeling?\n",
    "\n",
    "### Identify faces in an image.\n",
    "    No idea (?). According to Google, PCA is a useful method but I'm unfamiliar with this.\n",
    "\n",
    "### Predict which of three flavors of ice cream will be most popular with boys vs girls.\n",
    "    A multinomial classifier could work here.\n"
   ]
  },
  {
   "cell_type": "code",
   "execution_count": null,
   "metadata": {},
   "outputs": [],
   "source": []
  }
 ],
 "metadata": {
  "kernelspec": {
   "display_name": "Python 3",
   "language": "python",
   "name": "python3"
  },
  "language_info": {
   "codemirror_mode": {
    "name": "ipython",
    "version": 3
   },
   "file_extension": ".py",
   "mimetype": "text/x-python",
   "name": "python",
   "nbconvert_exporter": "python",
   "pygments_lexer": "ipython3",
   "version": "3.7.1"
  }
 },
 "nbformat": 4,
 "nbformat_minor": 2
}
