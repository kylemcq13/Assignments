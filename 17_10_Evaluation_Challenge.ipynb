{
  "nbformat": 4,
  "nbformat_minor": 0,
  "metadata": {
    "kernelspec": {
      "display_name": "Python 3",
      "language": "python",
      "name": "python3"
    },
    "language_info": {
      "codemirror_mode": {
        "name": "ipython",
        "version": 3
      },
      "file_extension": ".py",
      "mimetype": "text/x-python",
      "name": "python",
      "nbconvert_exporter": "python",
      "pygments_lexer": "ipython3",
      "version": "3.7.1"
    },
    "colab": {
      "name": "17.10 Evaluation Challenge.ipynb",
      "provenance": [],
      "include_colab_link": true
    }
  },
  "cells": [
    {
      "cell_type": "markdown",
      "metadata": {
        "id": "view-in-github",
        "colab_type": "text"
      },
      "source": [
        "<a href=\"https://colab.research.google.com/github/kylemcq13/Projects/blob/master/17_10_Evaluation_Challenge.ipynb\" target=\"_parent\"><img src=\"https://colab.research.google.com/assets/colab-badge.svg\" alt=\"Open In Colab\"/></a>"
      ]
    },
    {
      "cell_type": "markdown",
      "metadata": {
        "id": "9V_wVaAH85MM",
        "colab_type": "text"
      },
      "source": [
        "# 17.10 Challenge"
      ]
    },
    {
      "cell_type": "markdown",
      "metadata": {
        "id": "tnilMjp385MO",
        "colab_type": "text"
      },
      "source": [
        "It's time to revisit your classifier from the previous assignment. Using the evaluation techniques we've covered here, look at your classifier's performance in more detail. Then go back and iterate by engineering new features, removing poor features, or tuning parameters. Repeat this process until you have five different versions of your classifier. Once you've iterated, answer these questions to compare the performance of each:\n",
        "\n",
        "- Do any of your classifiers seem to overfit?\n",
        "- Which seem to perform the best? Why?\n",
        "- Which features seemed to be most impactful to performance?\n",
        "\n",
        "Write up your iterations and answers to the above questions in a few pages. Submit a link below and go over it with your mentor to see if they have any other ideas on how you could improve your classifier's performance"
      ]
    },
    {
      "cell_type": "code",
      "metadata": {
        "id": "3ICz3-f985MP",
        "colab_type": "code",
        "colab": {}
      },
      "source": [
        "import numpy as np\n",
        "import pandas as pd\n",
        "import scipy\n",
        "import sklearn\n",
        "import matplotlib.pyplot as plt\n",
        "import seaborn as sns"
      ],
      "execution_count": 0,
      "outputs": []
    },
    {
      "cell_type": "code",
      "metadata": {
        "id": "28xUkjy285MS",
        "colab_type": "code",
        "colab": {}
      },
      "source": [
        "amazon = pd.read_csv('amazon_cells_labelled.txt', delimiter = '\\t', header=None)\n",
        "amazon.columns = ['review', 'score']"
      ],
      "execution_count": 0,
      "outputs": []
    },
    {
      "cell_type": "markdown",
      "metadata": {
        "id": "P1_TMBBG85MU",
        "colab_type": "text"
      },
      "source": [
        "# Previous Classifier"
      ]
    },
    {
      "cell_type": "code",
      "metadata": {
        "id": "f_T1IyYh85MU",
        "colab_type": "code",
        "colab": {}
      },
      "source": [
        "#create positive keywords list and add to the dataframe\n",
        "\n",
        "positive = ['great', 'good', 'love', 'like', 'nice', 'beautiful', 'happy', 'awesome', 'easy', 'helpful', 'useful', 'simple',\n",
        "            'excellent', 'recommend', 'well', 'works', 'best', 'nice', 'must', 'price']\n"
      ],
      "execution_count": 0,
      "outputs": []
    },
    {
      "cell_type": "code",
      "metadata": {
        "id": "92mS5iwl85MW",
        "colab_type": "code",
        "colab": {}
      },
      "source": [
        "amazon['review'] = amazon['review'].str.lower()"
      ],
      "execution_count": 0,
      "outputs": []
    },
    {
      "cell_type": "code",
      "metadata": {
        "id": "R1LTTgQl85MZ",
        "colab_type": "code",
        "colab": {},
        "outputId": "94f6a2c8-bb04-41ef-ae64-024ac7335e63"
      },
      "source": [
        "#since part of the challenge is to create five different classifiers, create a separate df\n",
        "amazon_1 = amazon\n",
        "amazon_1.head()"
      ],
      "execution_count": 0,
      "outputs": [
        {
          "output_type": "execute_result",
          "data": {
            "text/html": [
              "<div>\n",
              "<style scoped>\n",
              "    .dataframe tbody tr th:only-of-type {\n",
              "        vertical-align: middle;\n",
              "    }\n",
              "\n",
              "    .dataframe tbody tr th {\n",
              "        vertical-align: top;\n",
              "    }\n",
              "\n",
              "    .dataframe thead th {\n",
              "        text-align: right;\n",
              "    }\n",
              "</style>\n",
              "<table border=\"1\" class=\"dataframe\">\n",
              "  <thead>\n",
              "    <tr style=\"text-align: right;\">\n",
              "      <th></th>\n",
              "      <th>review</th>\n",
              "      <th>score</th>\n",
              "    </tr>\n",
              "  </thead>\n",
              "  <tbody>\n",
              "    <tr>\n",
              "      <th>0</th>\n",
              "      <td>so there is no way for me to plug it in here i...</td>\n",
              "      <td>0</td>\n",
              "    </tr>\n",
              "    <tr>\n",
              "      <th>1</th>\n",
              "      <td>good case, excellent value.</td>\n",
              "      <td>1</td>\n",
              "    </tr>\n",
              "    <tr>\n",
              "      <th>2</th>\n",
              "      <td>great for the jawbone.</td>\n",
              "      <td>1</td>\n",
              "    </tr>\n",
              "    <tr>\n",
              "      <th>3</th>\n",
              "      <td>tied to charger for conversations lasting more...</td>\n",
              "      <td>0</td>\n",
              "    </tr>\n",
              "    <tr>\n",
              "      <th>4</th>\n",
              "      <td>the mic is great.</td>\n",
              "      <td>1</td>\n",
              "    </tr>\n",
              "  </tbody>\n",
              "</table>\n",
              "</div>"
            ],
            "text/plain": [
              "                                              review  score\n",
              "0  so there is no way for me to plug it in here i...      0\n",
              "1                        good case, excellent value.      1\n",
              "2                             great for the jawbone.      1\n",
              "3  tied to charger for conversations lasting more...      0\n",
              "4                                  the mic is great.      1"
            ]
          },
          "metadata": {
            "tags": []
          },
          "execution_count": 5
        }
      ]
    },
    {
      "cell_type": "code",
      "metadata": {
        "id": "InNCu4nv85Mc",
        "colab_type": "code",
        "colab": {}
      },
      "source": [
        "#create our features\n",
        "\n",
        "for p in positive:\n",
        "    \n",
        "    amazon_1[str(p)] = amazon_1.review.str.contains(\n",
        "        str(p),\n",
        "        case=False\n",
        "    )"
      ],
      "execution_count": 0,
      "outputs": []
    },
    {
      "cell_type": "code",
      "metadata": {
        "id": "S4rnmVCF85Me",
        "colab_type": "code",
        "colab": {},
        "outputId": "146d253e-90cf-43ce-d25d-bc7e40ce0e7d"
      },
      "source": [
        "# create a heatmap to view correlation\n",
        "plt.figure(figsize=(15,10))\n",
        "sns.heatmap(amazon_1.corr())"
      ],
      "execution_count": 0,
      "outputs": [
        {
          "output_type": "execute_result",
          "data": {
            "text/plain": [
              "<matplotlib.axes._subplots.AxesSubplot at 0x1ed44a74f28>"
            ]
          },
          "metadata": {
            "tags": []
          },
          "execution_count": 7
        },
        {
          "output_type": "display_data",
          "data": {
            "image/png": "[encoded data removed]",
            "text/plain": [
              "<Figure size 1080x720 with 2 Axes>"
            ]
          },
          "metadata": {
            "tags": [],
            "needs_background": "light"
          }
        }
      ]
    },
    {
      "cell_type": "code",
      "metadata": {
        "id": "s0ZwWmQr85Mi",
        "colab_type": "code",
        "colab": {}
      },
      "source": [
        "data = amazon_1.iloc[:,2:]\n",
        "target = amazon_1['score']"
      ],
      "execution_count": 0,
      "outputs": []
    },
    {
      "cell_type": "code",
      "metadata": {
        "id": "oUdsB6xM85Ml",
        "colab_type": "code",
        "colab": {},
        "outputId": "2b9f8110-7d87-4ac4-c319-10325d83e5f0"
      },
      "source": [
        "# Our data is binary / boolean, so we're importing the Bernoulli classifier.\n",
        "from sklearn.naive_bayes import BernoulliNB\n",
        "\n",
        "# instantiate our model and store it in a new variable\n",
        "bnb = BernoulliNB()\n",
        "\n",
        "# fit our model to the data\n",
        "bnb.fit(data, target)\n",
        "\n",
        "# classify, storing the result in a new variable\n",
        "y_pred = bnb.predict(data)\n",
        "\n",
        "# display our results\n",
        "print('Number of mislabeled points out of a total {} points: {}'.format(\n",
        "    data.shape[0],\n",
        "    (target != y_pred).sum()\n",
        "    ))"
      ],
      "execution_count": 0,
      "outputs": [
        {
          "output_type": "stream",
          "text": [
            "Number of mislabeled points out of a total 1000 points: 224\n"
          ],
          "name": "stdout"
        }
      ]
    },
    {
      "cell_type": "code",
      "metadata": {
        "id": "1CeECSlP85Mo",
        "colab_type": "code",
        "colab": {},
        "outputId": "c67fa508-39b1-4c52-fcf0-c84f73e6f389"
      },
      "source": [
        "#plot a confusion matrix\n",
        "from sklearn.metrics import confusion_matrix\n",
        "cm1 = confusion_matrix(target, y_pred)\n",
        "print(cm1)"
      ],
      "execution_count": 0,
      "outputs": [
        {
          "output_type": "stream",
          "text": [
            "[[454  46]\n",
            " [178 322]]\n"
          ],
          "name": "stdout"
        }
      ]
    },
    {
      "cell_type": "code",
      "metadata": {
        "id": "yYT961WO85Mr",
        "colab_type": "code",
        "colab": {},
        "outputId": "cf20ce15-86be-441f-d7e2-b3703a7077c1"
      },
      "source": [
        "print('{} false positives'\n",
        "      .format(cm1[1,0]))\n",
        "print('{} false negatives'\n",
        "      .format(cm1[0,1]))\n",
        "print()\n",
        "\n",
        "sen = (cm1[1,1]/cm1[1].sum()*100)\n",
        "print('Sensitivity:', sen, '%')\n",
        "print('{} of total {} positives correctly identified'\n",
        "      .format(cm1[1,1], cm1[1].sum() ))\n",
        "print()\n",
        "\n",
        "spe = (cm1[0,0]/cm1[0].sum()*100)\n",
        "print('Specificity:', spe, '%')\n",
        "print('{} of total {} negatives correctly identified'\n",
        "      .format(cm1[0,0], cm1[0].sum() ))"
      ],
      "execution_count": 0,
      "outputs": [
        {
          "output_type": "stream",
          "text": [
            "178 false positives\n",
            "46 false negatives\n",
            "\n",
            "Sensitivity: 64.4 %\n",
            "322 of total 500 positives correctly identified\n",
            "\n",
            "Specificity: 90.8 %\n",
            "454 of total 500 negatives correctly identified\n"
          ],
          "name": "stdout"
        }
      ]
    },
    {
      "cell_type": "code",
      "metadata": {
        "id": "WqDAj4fG85Mt",
        "colab_type": "code",
        "colab": {},
        "outputId": "c0a260a8-073d-4e5b-d0dc-39d6966448c1"
      },
      "source": [
        "#is the model overfitting?\n",
        "\n",
        "from sklearn.model_selection import train_test_split\n",
        "X_train, X_test, y_train, y_test = train_test_split(data, target, test_size=0.2, random_state=20)\n",
        "print('With 20% Holdout: ' + str(bnb.fit(X_train, y_train).score(X_test, y_test)))\n",
        "print('Testing on Sample: ' + str(bnb.fit(data, target).score(data, target)))"
      ],
      "execution_count": 0,
      "outputs": [
        {
          "output_type": "stream",
          "text": [
            "With 20% Holdout: 0.755\n",
            "Testing on Sample: 0.776\n"
          ],
          "name": "stdout"
        }
      ]
    },
    {
      "cell_type": "code",
      "metadata": {
        "id": "D0ArszEt85Mv",
        "colab_type": "code",
        "colab": {},
        "outputId": "dfd435a4-7982-4fe6-883e-a2f80d6521f0"
      },
      "source": [
        "from sklearn.model_selection import cross_val_score\n",
        "cvs1 = cross_val_score(bnb, data, target, cv=10)\n",
        "print(cvs1)\n",
        "print(cvs1.std()*100)"
      ],
      "execution_count": 0,
      "outputs": [
        {
          "output_type": "stream",
          "text": [
            "[0.85 0.77 0.8  0.74 0.8  0.69 0.74 0.76 0.82 0.71]\n",
            "4.749736834815168\n"
          ],
          "name": "stdout"
        }
      ]
    },
    {
      "cell_type": "markdown",
      "metadata": {
        "id": "xxn9bvf385My",
        "colab_type": "text"
      },
      "source": [
        "# Create New Classifiers"
      ]
    },
    {
      "cell_type": "markdown",
      "metadata": {
        "id": "M5nsswPP85My",
        "colab_type": "text"
      },
      "source": [
        "# Amazon_2 - Negative Keywords"
      ]
    },
    {
      "cell_type": "code",
      "metadata": {
        "id": "B-ns4AF_85Mz",
        "colab_type": "code",
        "colab": {}
      },
      "source": [
        "amazon_2 = amazon"
      ],
      "execution_count": 0,
      "outputs": []
    },
    {
      "cell_type": "code",
      "metadata": {
        "id": "FTGDRZOz85M2",
        "colab_type": "code",
        "colab": {}
      },
      "source": [
        "#let's create a model that captures only negative reviews\n",
        "negative = ['horrible', 'bad', 'worst', 'not', 'disappointed', 'sucks', 'terrible', 'awful', 'cheap', 'poor', 'junk', 'waste',\n",
        "           'useless', 'beware', 'dying', 'fail']"
      ],
      "execution_count": 0,
      "outputs": []
    },
    {
      "cell_type": "code",
      "metadata": {
        "id": "3ITweLty85M4",
        "colab_type": "code",
        "colab": {}
      },
      "source": [
        "for n in negative:\n",
        "    \n",
        "    amazon_2[str(n)] = amazon_2.review.str.contains(\n",
        "        str(n),\n",
        "        case=False\n",
        "    )"
      ],
      "execution_count": 0,
      "outputs": []
    },
    {
      "cell_type": "code",
      "metadata": {
        "id": "CtQzJfWv85M7",
        "colab_type": "code",
        "colab": {},
        "outputId": "fc5a57b6-ca34-40a4-ab56-cd335693e4d5"
      },
      "source": [
        "plt.figure(figsize=(15,10))\n",
        "sns.heatmap(amazon_2.corr())"
      ],
      "execution_count": 0,
      "outputs": [
        {
          "output_type": "execute_result",
          "data": {
            "text/plain": [
              "<matplotlib.axes._subplots.AxesSubplot at 0x1d3c1ced940>"
            ]
          },
          "metadata": {
            "tags": []
          },
          "execution_count": 7
        },
        {
          "output_type": "display_data",
          "data": {
            "image/png": "[encoded data removed]",
            "text/plain": [
              "<Figure size 1080x720 with 2 Axes>"
            ]
          },
          "metadata": {
            "tags": [],
            "needs_background": "light"
          }
        }
      ]
    },
    {
      "cell_type": "code",
      "metadata": {
        "id": "U6QFdlgK85M9",
        "colab_type": "code",
        "colab": {}
      },
      "source": [
        "data = amazon_2.iloc[:,2:]\n",
        "target = amazon_2['score']"
      ],
      "execution_count": 0,
      "outputs": []
    },
    {
      "cell_type": "code",
      "metadata": {
        "id": "OzTFxNi_85M_",
        "colab_type": "code",
        "colab": {},
        "outputId": "1ae90ee8-1022-4f77-ff10-122d7bb1c788"
      },
      "source": [
        "# Our data is binary / boolean, so we're importing the Bernoulli classifier.\n",
        "from sklearn.naive_bayes import BernoulliNB\n",
        "\n",
        "# instantiate our model and store it in a new variable\n",
        "bnb = BernoulliNB()\n",
        "\n",
        "# fit our model to the data\n",
        "bnb.fit(data, target)\n",
        "\n",
        "# classify, storing the result in a new variable\n",
        "y_pred = bnb.predict(data)\n",
        "\n",
        "# display our results\n",
        "print('Number of mislabeled points out of a total {} points: {}'.format(\n",
        "    data.shape[0],\n",
        "    (target != y_pred).sum()\n",
        "    ))"
      ],
      "execution_count": 0,
      "outputs": [
        {
          "output_type": "stream",
          "text": [
            "Number of mislabeled points out of a total 1000 points: 299\n"
          ],
          "name": "stdout"
        }
      ]
    },
    {
      "cell_type": "code",
      "metadata": {
        "id": "AJrY3oQj85ND",
        "colab_type": "code",
        "colab": {},
        "outputId": "d893084c-1505-4e38-9fc2-951d80e9737c"
      },
      "source": [
        "#plot a confusion matrix\n",
        "from sklearn.metrics import confusion_matrix\n",
        "cm2 = confusion_matrix(target, y_pred)\n",
        "print(cm2)"
      ],
      "execution_count": 0,
      "outputs": [
        {
          "output_type": "stream",
          "text": [
            "[[220 280]\n",
            " [ 19 481]]\n"
          ],
          "name": "stdout"
        }
      ]
    },
    {
      "cell_type": "code",
      "metadata": {
        "id": "o5ZVgGB185NH",
        "colab_type": "code",
        "colab": {},
        "outputId": "2eb749b6-119d-4aaa-ed38-ea2d2151d2cf"
      },
      "source": [
        "print('{} false positives'\n",
        "      .format(cm2[1,0]))\n",
        "print('{} false negatives'\n",
        "      .format(cm2[0,1]))\n",
        "print()\n",
        "\n",
        "sen = (cm2[1,1]/cm2[1].sum()*100)\n",
        "print('Sensitivity:', sen, '%')\n",
        "print('{} of total {} positives correctly identified'\n",
        "      .format(cm2[1,1], cm2[1].sum() ))\n",
        "print()\n",
        "\n",
        "spe = (cm2[0,0]/cm2[0].sum()*100)\n",
        "print('Specificity:', spe, '%')\n",
        "print('{} of total {} negatives correctly identified'\n",
        "      .format(cm2[0,0], cm2[0].sum() ))"
      ],
      "execution_count": 0,
      "outputs": [
        {
          "output_type": "stream",
          "text": [
            "19 false positives\n",
            "280 false negatives\n",
            "\n",
            "Sensitivity: 96.2 %\n",
            "481 of total 500 positives correctly identified\n",
            "\n",
            "Specificity: 44.0 %\n",
            "220 of total 500 negatives correctly identified\n"
          ],
          "name": "stdout"
        }
      ]
    },
    {
      "cell_type": "code",
      "metadata": {
        "id": "3IHgfkyB85NK",
        "colab_type": "code",
        "colab": {},
        "outputId": "9b3fac67-a197-4664-c5ad-81e6c642b7d5"
      },
      "source": [
        "#is the model overfitting?\n",
        "\n",
        "from sklearn.model_selection import train_test_split\n",
        "X_train, X_test, y_train, y_test = train_test_split(data, target, test_size=0.2, random_state=20)\n",
        "print('With 20% Holdout: ' + str(bnb.fit(X_train, y_train).score(X_test, y_test)))\n",
        "print('Testing on Sample: ' + str(bnb.fit(data, target).score(data, target)))"
      ],
      "execution_count": 0,
      "outputs": [
        {
          "output_type": "stream",
          "text": [
            "With 20% Holdout: 0.715\n",
            "Testing on Sample: 0.701\n"
          ],
          "name": "stdout"
        }
      ]
    },
    {
      "cell_type": "code",
      "metadata": {
        "id": "pnx4voSG85NN",
        "colab_type": "code",
        "colab": {},
        "outputId": "67c8bf19-ca55-4929-a4ab-26cf3bc33073"
      },
      "source": [
        "from sklearn.model_selection import cross_val_score\n",
        "cvs2 = cross_val_score(bnb, data, target, cv=10)\n",
        "print(cvs2)\n",
        "print(cvs2.std()*100)"
      ],
      "execution_count": 0,
      "outputs": [
        {
          "output_type": "stream",
          "text": [
            "[0.68 0.73 0.73 0.72 0.74 0.66 0.67 0.64 0.72 0.69]\n",
            "3.2802438933713427\n"
          ],
          "name": "stdout"
        }
      ]
    },
    {
      "cell_type": "markdown",
      "metadata": {
        "id": "wLWawMyD85NP",
        "colab_type": "text"
      },
      "source": [
        "# Amazon_3 - Combo of Amazon_1 and Amazon_2"
      ]
    },
    {
      "cell_type": "code",
      "metadata": {
        "id": "P1wqvN4e85NQ",
        "colab_type": "code",
        "colab": {}
      },
      "source": [
        "amazon_3 = amazon"
      ],
      "execution_count": 0,
      "outputs": []
    },
    {
      "cell_type": "code",
      "metadata": {
        "id": "slFNfTl885NS",
        "colab_type": "code",
        "colab": {}
      },
      "source": [
        "for p in positive:\n",
        "    \n",
        "    amazon_3[str(p)] = amazon_3.review.str.contains(\n",
        "        str(p),\n",
        "        case=False\n",
        "    )\n",
        "    \n",
        "for n in negative:\n",
        "    \n",
        "    amazon_3[str(n)] = amazon_3.review.str.contains(\n",
        "        str(n),\n",
        "        case=False\n",
        "    )"
      ],
      "execution_count": 0,
      "outputs": []
    },
    {
      "cell_type": "code",
      "metadata": {
        "id": "Hflbi7HP85NT",
        "colab_type": "code",
        "colab": {},
        "outputId": "4918ada5-d3bb-494e-cf46-d61b0025973f"
      },
      "source": [
        "plt.figure(figsize=(15,10))\n",
        "sns.heatmap(amazon_3.corr())"
      ],
      "execution_count": 0,
      "outputs": [
        {
          "output_type": "execute_result",
          "data": {
            "text/plain": [
              "<matplotlib.axes._subplots.AxesSubplot at 0x1b3e261c278>"
            ]
          },
          "metadata": {
            "tags": []
          },
          "execution_count": 10
        },
        {
          "output_type": "display_data",
          "data": {
            "image/png": "[encoded data removed]",
            "text/plain": [
              "<Figure size 1080x720 with 2 Axes>"
            ]
          },
          "metadata": {
            "tags": [],
            "needs_background": "light"
          }
        }
      ]
    },
    {
      "cell_type": "code",
      "metadata": {
        "id": "zpWy4cDl85NV",
        "colab_type": "code",
        "colab": {}
      },
      "source": [
        "data = amazon_3.iloc[:,2:]\n",
        "target = amazon_3['score']"
      ],
      "execution_count": 0,
      "outputs": []
    },
    {
      "cell_type": "code",
      "metadata": {
        "id": "vGbQAEl485NX",
        "colab_type": "code",
        "colab": {},
        "outputId": "ef751cb3-d0df-4900-de84-8f9baa73bc1c"
      },
      "source": [
        "# Our data is binary / boolean, so we're importing the Bernoulli classifier.\n",
        "from sklearn.naive_bayes import BernoulliNB\n",
        "\n",
        "# instantiate our model and store it in a new variable\n",
        "bnb = BernoulliNB()\n",
        "\n",
        "# fit our model to the data\n",
        "bnb.fit(data, target)\n",
        "\n",
        "# classify, storing the result in a new variable\n",
        "y_pred = bnb.predict(data)\n",
        "\n",
        "# display our results\n",
        "print('Number of mislabeled points out of a total {} points: {}'.format(\n",
        "    data.shape[0],\n",
        "    (target != y_pred).sum()\n",
        "    ))"
      ],
      "execution_count": 0,
      "outputs": [
        {
          "output_type": "stream",
          "text": [
            "Number of mislabeled points out of a total 1000 points: 207\n"
          ],
          "name": "stdout"
        }
      ]
    },
    {
      "cell_type": "code",
      "metadata": {
        "id": "Mm-TpbMj85NY",
        "colab_type": "code",
        "colab": {},
        "outputId": "4fc0eb54-85d3-4fc6-e853-897b18ceab9a"
      },
      "source": [
        "#plot a confusion matrix\n",
        "from sklearn.metrics import confusion_matrix\n",
        "cm3 = confusion_matrix(target, y_pred)\n",
        "print(cm3)"
      ],
      "execution_count": 0,
      "outputs": [
        {
          "output_type": "stream",
          "text": [
            "[[460  40]\n",
            " [167 333]]\n"
          ],
          "name": "stdout"
        }
      ]
    },
    {
      "cell_type": "code",
      "metadata": {
        "id": "hW9NjoSM85Nc",
        "colab_type": "code",
        "colab": {},
        "outputId": "cfc58307-6878-4c9a-b7c4-5b47216bf03a"
      },
      "source": [
        "print('{} false positives'\n",
        "      .format(cm3[1,0]))\n",
        "print('{} false negatives'\n",
        "      .format(cm3[0,1]))\n",
        "print()\n",
        "\n",
        "sen = (cm3[1,1]/cm3[1].sum()*100)\n",
        "print('Sensitivity:', sen, '%')\n",
        "print('{} of total {} positives correctly identified'\n",
        "      .format(cm3[1,1], cm3[1].sum() ))\n",
        "print()\n",
        "\n",
        "spe = (cm3[0,0]/cm3[0].sum()*100)\n",
        "print('Specificity:', spe, '%')\n",
        "print('{} of total {} negatives correctly identified'\n",
        "      .format(cm3[0,0], cm3[0].sum() ))"
      ],
      "execution_count": 0,
      "outputs": [
        {
          "output_type": "stream",
          "text": [
            "167 false positives\n",
            "40 false negatives\n",
            "\n",
            "Sensitivity: 66.60000000000001 %\n",
            "333 of total 500 positives correctly identified\n",
            "\n",
            "Specificity: 92.0 %\n",
            "460 of total 500 negatives correctly identified\n"
          ],
          "name": "stdout"
        }
      ]
    },
    {
      "cell_type": "code",
      "metadata": {
        "id": "o5ZMaYMc85Ng",
        "colab_type": "code",
        "colab": {},
        "outputId": "873f66b2-9b02-4195-cc25-484ef683697d"
      },
      "source": [
        "#is the model overfitting?\n",
        "\n",
        "from sklearn.model_selection import train_test_split\n",
        "X_train, X_test, y_train, y_test = train_test_split(data, target, test_size=0.2, random_state=20)\n",
        "print('With 20% Holdout: ' + str(bnb.fit(X_train, y_train).score(X_test, y_test)))\n",
        "print('Testing on Sample: ' + str(bnb.fit(data, target).score(data, target)))"
      ],
      "execution_count": 0,
      "outputs": [
        {
          "output_type": "stream",
          "text": [
            "With 20% Holdout: 0.75\n",
            "Testing on Sample: 0.793\n"
          ],
          "name": "stdout"
        }
      ]
    },
    {
      "cell_type": "code",
      "metadata": {
        "id": "Kdcyd70a85Nh",
        "colab_type": "code",
        "colab": {},
        "outputId": "1b504301-a7ee-45f7-e0e7-b13a84fcde50"
      },
      "source": [
        "from sklearn.model_selection import cross_val_score\n",
        "cvs3 = cross_val_score(bnb, data, target, cv=10)\n",
        "print(cvs3)\n",
        "print(cvs3.std()*100)"
      ],
      "execution_count": 0,
      "outputs": [
        {
          "output_type": "stream",
          "text": [
            "[0.87 0.77 0.79 0.78 0.85 0.72 0.76 0.76 0.81 0.75]\n",
            "4.363484845854286\n"
          ],
          "name": "stdout"
        }
      ]
    },
    {
      "cell_type": "markdown",
      "metadata": {
        "id": "nSAdDB3r85Nj",
        "colab_type": "text"
      },
      "source": [
        "# Amazon_4 - Different Bayes Classifier"
      ]
    },
    {
      "cell_type": "code",
      "metadata": {
        "id": "7LrOAEoX85Nk",
        "colab_type": "code",
        "colab": {}
      },
      "source": [
        "amazon_4 = amazon_3"
      ],
      "execution_count": 0,
      "outputs": []
    },
    {
      "cell_type": "code",
      "metadata": {
        "id": "fhsr9IRL85Nl",
        "colab_type": "code",
        "colab": {}
      },
      "source": [
        "data = amazon_4.iloc[:,2:]\n",
        "target = amazon_4['score']"
      ],
      "execution_count": 0,
      "outputs": []
    },
    {
      "cell_type": "code",
      "metadata": {
        "id": "eEswUhSm85Nm",
        "colab_type": "code",
        "colab": {},
        "outputId": "b8e62c3f-0ea0-45c3-f40a-daf848e84499"
      },
      "source": [
        "\n",
        "from sklearn.naive_bayes import ComplementNB\n",
        "\n",
        "# Instantiate our model and store it in a new variable.\n",
        "clf = ComplementNB()\n",
        "\n",
        "# Fit our model to the data.\n",
        "clf.fit(data, target)\n",
        "\n",
        "# Classify, storing the result in a new variable.\n",
        "y_pred = clf.predict(data)\n",
        "\n",
        "# Display our results.\n",
        "print(\"Number of mislabeled points out of a total {} points : {}\".format(\n",
        "    data.shape[0],\n",
        "    (target != y_pred).sum()\n",
        "))"
      ],
      "execution_count": 0,
      "outputs": [
        {
          "output_type": "stream",
          "text": [
            "Number of mislabeled points out of a total 1000 points : 209\n"
          ],
          "name": "stdout"
        }
      ]
    },
    {
      "cell_type": "code",
      "metadata": {
        "id": "51bbLn_Y85Np",
        "colab_type": "code",
        "colab": {},
        "outputId": "9a3cc1e2-b7b6-4d42-c48c-23151a592b64"
      },
      "source": [
        "#plot a confusion matrix\n",
        "from sklearn.metrics import confusion_matrix\n",
        "cm4 = confusion_matrix(target, y_pred)\n",
        "print(cm4)"
      ],
      "execution_count": 0,
      "outputs": [
        {
          "output_type": "stream",
          "text": [
            "[[473  27]\n",
            " [182 318]]\n"
          ],
          "name": "stdout"
        }
      ]
    },
    {
      "cell_type": "code",
      "metadata": {
        "id": "KXghNptA85Nr",
        "colab_type": "code",
        "colab": {},
        "outputId": "36fe16d8-dd1f-43d4-c0de-02d45fd9ca57"
      },
      "source": [
        "print('{} false positives'\n",
        "      .format(cm4[1,0]))\n",
        "print('{} false negatives'\n",
        "      .format(cm4[0,1]))\n",
        "print()\n",
        "\n",
        "sen = (cm4[1,1]/cm4[1].sum()*100)\n",
        "print('Sensitivity:', sen, '%')\n",
        "print('{} of total {} positives correctly identified'\n",
        "      .format(cm4[1,1], cm4[1].sum() ))\n",
        "print()\n",
        "\n",
        "spe = (cm4[0,0]/cm4[0].sum()*100)\n",
        "print('Specificity:', spe, '%')\n",
        "print('{} of total {} negatives correctly identified'\n",
        "      .format(cm4[0,0], cm4[0].sum() ))"
      ],
      "execution_count": 0,
      "outputs": [
        {
          "output_type": "stream",
          "text": [
            "182 false positives\n",
            "27 false negatives\n",
            "\n",
            "Sensitivity: 63.6 %\n",
            "318 of total 500 positives correctly identified\n",
            "\n",
            "Specificity: 94.6 %\n",
            "473 of total 500 negatives correctly identified\n"
          ],
          "name": "stdout"
        }
      ]
    },
    {
      "cell_type": "code",
      "metadata": {
        "id": "fyQyi7LY85Nt",
        "colab_type": "code",
        "colab": {},
        "outputId": "9219a6b7-14b4-4f94-b953-ee48d245171a"
      },
      "source": [
        "#is the model overfitting?\n",
        "\n",
        "from sklearn.model_selection import train_test_split\n",
        "X_train, X_test, y_train, y_test = train_test_split(data, target, test_size=0.2, random_state=20)\n",
        "print('With 20% Holdout: ' + str(clf.fit(X_train, y_train).score(X_test, y_test)))\n",
        "print('Testing on Sample: ' + str(clf.fit(data, target).score(data, target)))"
      ],
      "execution_count": 0,
      "outputs": [
        {
          "output_type": "stream",
          "text": [
            "With 20% Holdout: 0.745\n",
            "Testing on Sample: 0.791\n"
          ],
          "name": "stdout"
        }
      ]
    },
    {
      "cell_type": "code",
      "metadata": {
        "id": "EOCyOR8l85Nv",
        "colab_type": "code",
        "colab": {},
        "outputId": "78e48505-068b-4a8a-c8bd-9d236594a073"
      },
      "source": [
        "from sklearn.model_selection import cross_val_score\n",
        "cvs4 = cross_val_score(clf, data, target, cv=10)\n",
        "print(cvs4)\n",
        "print(cvs4.std()*100)"
      ],
      "execution_count": 0,
      "outputs": [
        {
          "output_type": "stream",
          "text": [
            "[0.87 0.77 0.79 0.78 0.84 0.71 0.73 0.77 0.81 0.74]\n",
            "4.678675026115835\n"
          ],
          "name": "stdout"
        }
      ]
    },
    {
      "cell_type": "markdown",
      "metadata": {
        "id": "Q3Gy8azQ85N0",
        "colab_type": "text"
      },
      "source": [
        "# Amazon_5 - Additional Keywords"
      ]
    },
    {
      "cell_type": "code",
      "metadata": {
        "id": "Ydh7Bfpg85N1",
        "colab_type": "code",
        "colab": {}
      },
      "source": [
        "amazon_5 = amazon"
      ],
      "execution_count": 0,
      "outputs": []
    },
    {
      "cell_type": "code",
      "metadata": {
        "id": "mUB2Z5_285N2",
        "colab_type": "code",
        "colab": {}
      },
      "source": [
        "#lets try adding more features in our keyword search\n",
        "\n",
        "positive = ['great', 'good', 'love', 'like', 'nice', 'beautiful', 'happy', 'awesome', 'easy', 'helpful', 'useful', 'simple',\n",
        "            'excellent', 'recommend', 'well', 'works', 'best', 'nice', 'must', 'price', 'glad', 'incredible', 'highly', 'pleased']\n",
        "\n",
        "negative = ['horrible', 'bad', 'worst', 'not', 'disappointed', 'sucks', 'terrible', 'awful', 'cheap', 'poor', 'junk', 'waste',\n",
        "           'useless', 'beware', 'dying', 'fail', 'problem', 'return', 'returned', 'do not', 'unhappy', 'slow', 'mistake']"
      ],
      "execution_count": 0,
      "outputs": []
    },
    {
      "cell_type": "code",
      "metadata": {
        "id": "flvIpDer85N4",
        "colab_type": "code",
        "colab": {}
      },
      "source": [
        "for p in positive:\n",
        "    \n",
        "    amazon_5[str(p)] = amazon_5.review.str.contains(\n",
        "        str(p),\n",
        "        case=False\n",
        "    )\n",
        "    \n",
        "for n in negative:\n",
        "    \n",
        "    amazon_5[str(n)] = amazon_5.review.str.contains(\n",
        "        str(n),\n",
        "        case=False\n",
        "    )"
      ],
      "execution_count": 0,
      "outputs": []
    },
    {
      "cell_type": "code",
      "metadata": {
        "id": "0l0itIS-85N7",
        "colab_type": "code",
        "colab": {},
        "outputId": "ef413337-b4a9-4db4-f9ec-ac1d6d4a72bc"
      },
      "source": [
        "plt.figure(figsize=(15,10))\n",
        "sns.heatmap(amazon_5.corr())"
      ],
      "execution_count": 0,
      "outputs": [
        {
          "output_type": "execute_result",
          "data": {
            "text/plain": [
              "<matplotlib.axes._subplots.AxesSubplot at 0x2c7e3432588>"
            ]
          },
          "metadata": {
            "tags": []
          },
          "execution_count": 7
        },
        {
          "output_type": "display_data",
          "data": {
            "image/png": "[encoded data removed]",
            "text/plain": [
              "<Figure size 1080x720 with 2 Axes>"
            ]
          },
          "metadata": {
            "tags": [],
            "needs_background": "light"
          }
        }
      ]
    },
    {
      "cell_type": "code",
      "metadata": {
        "id": "w487RlTl85N-",
        "colab_type": "code",
        "colab": {}
      },
      "source": [
        "data = amazon_5.iloc[:,2:]\n",
        "target = amazon_5['score']"
      ],
      "execution_count": 0,
      "outputs": []
    },
    {
      "cell_type": "code",
      "metadata": {
        "id": "u97UWOYN85N_",
        "colab_type": "code",
        "colab": {},
        "outputId": "03525c93-fc22-4c0a-c631-ff1c39fda86e"
      },
      "source": [
        "# Our data is binary / boolean, so we're importing the Bernoulli classifier.\n",
        "from sklearn.naive_bayes import BernoulliNB\n",
        "\n",
        "# instantiate our model and store it in a new variable\n",
        "bnb = BernoulliNB()\n",
        "\n",
        "# fit our model to the data\n",
        "bnb.fit(data, target)\n",
        "\n",
        "# classify, storing the result in a new variable\n",
        "y_pred = bnb.predict(data)\n",
        "\n",
        "# display our results\n",
        "print('Number of mislabeled points out of a total {} points: {}'.format(\n",
        "    data.shape[0],\n",
        "    (target != y_pred).sum()\n",
        "    ))"
      ],
      "execution_count": 0,
      "outputs": [
        {
          "output_type": "stream",
          "text": [
            "Number of mislabeled points out of a total 1000 points: 197\n"
          ],
          "name": "stdout"
        }
      ]
    },
    {
      "cell_type": "code",
      "metadata": {
        "id": "OsHyRCRr85OD",
        "colab_type": "code",
        "colab": {},
        "outputId": "4caaf238-bd1e-4313-ecab-5b43bf54de07"
      },
      "source": [
        "#plot a confusion matrix\n",
        "from sklearn.metrics import confusion_matrix\n",
        "cm5 = confusion_matrix(target, y_pred)\n",
        "print(cm5)"
      ],
      "execution_count": 0,
      "outputs": [
        {
          "output_type": "stream",
          "text": [
            "[[462  38]\n",
            " [159 341]]\n"
          ],
          "name": "stdout"
        }
      ]
    },
    {
      "cell_type": "code",
      "metadata": {
        "id": "h0JwNvKP85OF",
        "colab_type": "code",
        "colab": {},
        "outputId": "2d4a271c-1109-4393-b5b6-8f66c8ec6ee7"
      },
      "source": [
        "print('{} false positives'\n",
        "      .format(cm5[1,0]))\n",
        "print('{} false negatives'\n",
        "      .format(cm5[0,1]))\n",
        "print()\n",
        "\n",
        "sen = (cm5[1,1]/cm5[1].sum()*100)\n",
        "print('Sensitivity:', sen, '%')\n",
        "print('{} of total {} positives correctly identified'\n",
        "      .format(cm5[1,1], cm5[1].sum() ))\n",
        "print()\n",
        "\n",
        "spe = (cm5[0,0]/cm5[0].sum()*100)\n",
        "print('Specificity:', spe, '%')\n",
        "print('{} of total {} negatives correctly identified'\n",
        "      .format(cm5[0,0], cm5[0].sum() ))"
      ],
      "execution_count": 0,
      "outputs": [
        {
          "output_type": "stream",
          "text": [
            "159 false positives\n",
            "38 false negatives\n",
            "\n",
            "Sensitivity: 68.2 %\n",
            "341 of total 500 positives correctly identified\n",
            "\n",
            "Specificity: 92.4 %\n",
            "462 of total 500 negatives correctly identified\n"
          ],
          "name": "stdout"
        }
      ]
    },
    {
      "cell_type": "code",
      "metadata": {
        "id": "i5E-h6Rp85OG",
        "colab_type": "code",
        "colab": {},
        "outputId": "7b05dea2-be02-4d51-9997-db314f71051d"
      },
      "source": [
        "#is the model overfitting?\n",
        "\n",
        "from sklearn.model_selection import train_test_split\n",
        "X_train, X_test, y_train, y_test = train_test_split(data, target, test_size=0.2, random_state=20)\n",
        "print('With 20% Holdout: ' + str(bnb.fit(X_train, y_train).score(X_test, y_test)))\n",
        "print('Testing on Sample: ' + str(bnb.fit(data, target).score(data, target)))"
      ],
      "execution_count": 0,
      "outputs": [
        {
          "output_type": "stream",
          "text": [
            "With 20% Holdout: 0.755\n",
            "Testing on Sample: 0.803\n"
          ],
          "name": "stdout"
        }
      ]
    },
    {
      "cell_type": "code",
      "metadata": {
        "id": "F3XW2r-b85OJ",
        "colab_type": "code",
        "colab": {},
        "outputId": "49614b81-648b-492c-f254-4db14e936fb2"
      },
      "source": [
        "from sklearn.model_selection import cross_val_score\n",
        "cvs5 = cross_val_score(bnb, data, target, cv=10)\n",
        "print(cvs5)\n",
        "print(cvs5.std()*100)"
      ],
      "execution_count": 0,
      "outputs": [
        {
          "output_type": "stream",
          "text": [
            "[0.87 0.81 0.8  0.77 0.86 0.71 0.77 0.76 0.82 0.76]\n",
            "4.648655719667785\n"
          ],
          "name": "stdout"
        }
      ]
    },
    {
      "cell_type": "markdown",
      "metadata": {
        "id": "6sB9CHtT85ON",
        "colab_type": "text"
      },
      "source": [
        "# Do any of your classifiers seem to overfit?"
      ]
    },
    {
      "cell_type": "markdown",
      "metadata": {
        "id": "MlHh5SD285ON",
        "colab_type": "text"
      },
      "source": [
        "They don't seem to be as each model had a variance of 3.28% to 4.75% when evaluating using cross validation. "
      ]
    },
    {
      "cell_type": "markdown",
      "metadata": {
        "id": "6fz-qXZ-85OO",
        "colab_type": "text"
      },
      "source": [
        "# Which seem to perform the best? Why?"
      ]
    },
    {
      "cell_type": "markdown",
      "metadata": {
        "id": "B2f_pSRW85OO",
        "colab_type": "text"
      },
      "source": [
        "The best performing model seemed to be Amazon_5. It was a combined model of positive and negative features whilst adding some more keywords after taking a look through the data manually. "
      ]
    },
    {
      "cell_type": "markdown",
      "metadata": {
        "id": "SNj_gwW085OP",
        "colab_type": "text"
      },
      "source": [
        "# Which features seemed to be most impactful to performance?"
      ]
    },
    {
      "cell_type": "markdown",
      "metadata": {
        "id": "430e_4PI85OP",
        "colab_type": "text"
      },
      "source": [
        "Combining the positive and negative features of Amazon_1 and Amazon_2 seemed to have a big impact when creating Amazon_3. Amazon_5 improved upon Amazon_3 by adding some more keywords to our postive and negative lists. Amazon_4 was an experiment to see if a different Naive Bayes classifier could help us and it did have an impact on our specificity. "
      ]
    },
    {
      "cell_type": "code",
      "metadata": {
        "id": "_wV02UwS85OP",
        "colab_type": "code",
        "colab": {}
      },
      "source": [
        ""
      ],
      "execution_count": 0,
      "outputs": []
    }
  ]
}